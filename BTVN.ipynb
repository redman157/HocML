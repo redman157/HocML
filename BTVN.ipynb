{
  "nbformat": 4,
  "nbformat_minor": 0,
  "metadata": {
    "colab": {
      "name": "Untitled39.ipynb",
      "version": "0.3.2",
      "provenance": [],
      "include_colab_link": true
    },
    "kernelspec": {
      "name": "python3",
      "display_name": "Python 3"
    }
  },
  "cells": [
    {
      "cell_type": "markdown",
      "metadata": {
        "id": "view-in-github",
        "colab_type": "text"
      },
      "source": [
        "<a href=\"https://colab.research.google.com/github/redman157/HocML/blob/master/BTVN.ipynb\" target=\"_parent\"><img src=\"https://colab.research.google.com/assets/colab-badge.svg\" alt=\"Open In Colab\"/></a>"
      ]
    },
    {
      "metadata": {
        "id": "f-eAtCiURMIW",
        "colab_type": "code",
        "colab": {}
      },
      "cell_type": "code",
      "source": [
        "class thongTinSV():\n",
        "  def __init__(self, danhSach):\n",
        "    self.data = danhSach\n",
        "    self.next = None\n",
        "  def getData(self):\n",
        "    print(\"MSSV: \",self.data[0])\n",
        "    print(\"Họ Và Tên: \",self.data[1])\n",
        "    print(\"Ngày Sinh: \",self.data[2])\n",
        "    print(\"Điểm Số Của Sinh Viên: \",self.data[3])\n",
        "  def getNext(self):\n",
        "    return self.next\n",
        "  def setDanhSach(self, MSSV, hoTen, ngaySinh, Diem):\n",
        "    self.data = [\n",
        "        MSSV, hoTen, ngaySinh, Diem\n",
        "    ]\n",
        "  def setNext(self, newNext):\n",
        "    self.next = newNext"
      ],
      "execution_count": 0,
      "outputs": []
    },
    {
      "metadata": {
        "id": "Mu0Q6VodSNWP",
        "colab_type": "code",
        "colab": {
          "base_uri": "https://localhost:8080/",
          "height": 107
        },
        "outputId": "bc6cc1b1-6c80-42ae-cd42-3b82140cdf6f"
      },
      "cell_type": "code",
      "source": [
        "print(\"danh sách sinh viên lần lượt là : \")\n",
        "danhSach1 =  thongTinSV(['N14DCDT251', 'PHẠM NGUYỄN NGỌC SƠN', '28/9/1996', 9])\n",
        "danhSach1.getData()"
      ],
      "execution_count": 93,
      "outputs": [
        {
          "output_type": "stream",
          "text": [
            "danh sách sinh viên lần lượt là : \n",
            "MSSV:  N14DCDT251\n",
            "Họ Và Tên:  PHẠM NGUYỄN NGỌC SƠN\n",
            "Ngày Sinh:  28/9/1996\n",
            "Điểm Số Của Sinh Viên:  9\n"
          ],
          "name": "stdout"
        }
      ]
    },
    {
      "metadata": {
        "id": "Ze3girePVG4q",
        "colab_type": "code",
        "colab": {}
      },
      "cell_type": "code",
      "source": [
        "class danhSachSV():\n",
        "  def __init__(self):\n",
        "    self.head =  None\n",
        "  def isEmpty(self):\n",
        "    return self.head == None\n",
        "  def size(self):\n",
        "    current = self.head\n",
        "    count = 0\n",
        "    while( current != None):\n",
        "      count = count + 1\n",
        "      current = current.getNext()\n",
        "    print(\"Tổng Số Danh Sách SV là: \",count)  \n",
        "    #return count\n",
        "  def add(self, data):\n",
        "    temp = thongTinSV(data)\n",
        "    temp.setNext(self.head)\n",
        "    self.head = temp\n",
        "    print(temp.getData())\n",
        "    print(\"-\"*15)\n",
        "#   def totalDS(self):\n",
        "#     print(myList.add)\n",
        "    \n",
        "    "
      ],
      "execution_count": 0,
      "outputs": []
    },
    {
      "metadata": {
        "id": "AKK7qBlVdNN5",
        "colab_type": "code",
        "colab": {}
      },
      "cell_type": "code",
      "source": [
        "myList =  danhSachSV()"
      ],
      "execution_count": 0,
      "outputs": []
    },
    {
      "metadata": {
        "id": "NxzRiz3Rfewr",
        "colab_type": "code",
        "colab": {
          "base_uri": "https://localhost:8080/",
          "height": 341
        },
        "outputId": "4da9e330-78b0-4226-9c63-5955de608372"
      },
      "cell_type": "code",
      "source": [
        "myList.add(['N14DCDT210', 'PHẠM THẾ DUY', '28/12/1996', 7])\n",
        "myList.add(['N14DCDT220', 'NGUYỄN TRỌNG HUÂN', '18/1/1996', 6])\n",
        "myList.add(['N14DCDT213', 'PHẠM XUÂN MINH', '21/2/1996', 2])"
      ],
      "execution_count": 126,
      "outputs": [
        {
          "output_type": "stream",
          "text": [
            "MSSV:  N14DCDT210\n",
            "Họ Và Tên:  PHẠM THẾ DUY\n",
            "Ngày Sinh:  28/12/1996\n",
            "Điểm Số Của Sinh Viên:  7\n",
            "None\n",
            "---------------\n",
            "MSSV:  N14DCDT220\n",
            "Họ Và Tên:  NGUYỄN TRỌNG HUÂN\n",
            "Ngày Sinh:  18/1/1996\n",
            "Điểm Số Của Sinh Viên:  6\n",
            "None\n",
            "---------------\n",
            "MSSV:  N14DCDT213\n",
            "Họ Và Tên:  PHẠM XUÂN MINH\n",
            "Ngày Sinh:  21/2/1996\n",
            "Điểm Số Của Sinh Viên:  2\n",
            "None\n",
            "---------------\n"
          ],
          "name": "stdout"
        }
      ]
    },
    {
      "metadata": {
        "id": "_8BHH59_fw9D",
        "colab_type": "code",
        "colab": {
          "base_uri": "https://localhost:8080/",
          "height": 35
        },
        "outputId": "69b6f65a-844b-4793-975b-6bae1e217cd6"
      },
      "cell_type": "code",
      "source": [
        "myList.size()"
      ],
      "execution_count": 102,
      "outputs": [
        {
          "output_type": "stream",
          "text": [
            "Tổng Số Danh Sách SV là:  3\n"
          ],
          "name": "stdout"
        }
      ]
    },
    {
      "metadata": {
        "id": "1o-YThvygdU6",
        "colab_type": "code",
        "colab": {}
      },
      "cell_type": "code",
      "source": [
        ""
      ],
      "execution_count": 0,
      "outputs": []
    }
  ]
}