{
  "nbformat": 4,
  "nbformat_minor": 0,
  "metadata": {
    "colab": {
      "name": "Untitled58.ipynb",
      "version": "0.3.2",
      "provenance": [],
      "toc_visible": true,
      "include_colab_link": true
    },
    "kernelspec": {
      "name": "python3",
      "display_name": "Python 3"
    }
  },
  "cells": [
    {
      "cell_type": "markdown",
      "metadata": {
        "id": "view-in-github",
        "colab_type": "text"
      },
      "source": [
        "<a href=\"https://colab.research.google.com/github/redman157/HocML/blob/master/HocPytorch_ver1.ipynb\" target=\"_parent\"><img src=\"https://colab.research.google.com/assets/colab-badge.svg\" alt=\"Open In Colab\"/></a>"
      ]
    },
    {
      "cell_type": "code",
      "metadata": {
        "id": "8qSK_tBWcquP",
        "colab_type": "code",
        "outputId": "e8bd10ac-13ee-46aa-e432-ba3a61ded8dd",
        "colab": {
          "base_uri": "https://localhost:8080/",
          "height": 146
        }
      },
      "source": [
        "import torch\n",
        "import torch.nn as nn\n",
        "import torch.nn.functional as F\n",
        "from torch import optim\n",
        "\n",
        "class Net(nn.Module):\n",
        "    def __init__(self):\n",
        "        super(Net, self).__init__()\n",
        "        # 1 input image channel, 6 output channels, 5x5 square convolution\n",
        "        # kernel\n",
        "        self.conv1 = nn.Conv2d(1, 16, 5)\n",
        "        self.conv2 = nn.Conv2d(16, 64, 5)\n",
        "        # an affine operation: y = Wx + b\n",
        "        self.fc1 = nn.Linear(64 * 5 * 5, 120)\n",
        "        self.fc2 = nn.Linear(120, 84)\n",
        "        self.fc3 = nn.Linear(84, 10)\n",
        "\n",
        "    def forward(self, x):\n",
        "        # Max pooling over a (2, 2) window\n",
        "        x = F.max_pool2d(F.relu(self.conv1(x)), (2, 2))\n",
        "        # If the size is a square you can only specify a single number\n",
        "        x = F.max_pool2d(F.relu(self.conv2(x)), 2)\n",
        "        x = x.view(-1, self.num_flat_features(x))\n",
        "        x = F.relu(self.fc1(x))\n",
        "        x = F.relu(self.fc2(x))\n",
        "        x = self.fc3(x)\n",
        "        return x\n",
        "\n",
        "    def num_flat_features(self, x):\n",
        "        size = x.size()[1:]  # all dimensions except the batch dimension\n",
        "        num_features = 1\n",
        "        for s in size:\n",
        "            num_features *= s\n",
        "        return num_features\n",
        "\n",
        "\n",
        "net = Net()\n",
        "print(net)"
      ],
      "execution_count": 0,
      "outputs": [
        {
          "output_type": "stream",
          "text": [
            "Net(\n",
            "  (conv1): Conv2d(1, 16, kernel_size=(5, 5), stride=(1, 1))\n",
            "  (conv2): Conv2d(16, 64, kernel_size=(5, 5), stride=(1, 1))\n",
            "  (fc1): Linear(in_features=1600, out_features=120, bias=True)\n",
            "  (fc2): Linear(in_features=120, out_features=84, bias=True)\n",
            "  (fc3): Linear(in_features=84, out_features=10, bias=True)\n",
            ")\n"
          ],
          "name": "stdout"
        }
      ]
    },
    {
      "cell_type": "code",
      "metadata": {
        "id": "r1l04vkAcraM",
        "colab_type": "code",
        "outputId": "21e9cf36-47fa-46e4-e1e6-25b09b111b8d",
        "colab": {
          "base_uri": "https://localhost:8080/",
          "height": 201
        }
      },
      "source": [
        "input = torch.randn(1, 1, 32, 32)\n",
        "print(input,\"\\n\",input.shape)\n",
        "out = net(input)\n",
        "print(out)"
      ],
      "execution_count": 0,
      "outputs": [
        {
          "output_type": "stream",
          "text": [
            "tensor([[[[ 0.4544, -2.0360, -1.5386,  ...,  1.1923, -1.1327,  0.9374],\n",
            "          [-0.3144,  1.1026, -0.7764,  ...,  0.0459,  0.5495, -0.8841],\n",
            "          [-0.2516,  0.2515,  1.6496,  ..., -2.3972,  0.5674,  0.4191],\n",
            "          ...,\n",
            "          [ 0.9154,  0.7332, -0.4131,  ...,  1.6089, -0.6840,  0.5532],\n",
            "          [-0.0228, -0.8514, -0.2071,  ...,  1.0957,  0.2592, -1.3767],\n",
            "          [-1.3392,  1.2281, -0.8379,  ..., -0.5214,  0.1245, -1.7043]]]]) \n",
            " torch.Size([1, 1, 32, 32])\n",
            "tensor([[-0.0983,  0.0565,  0.0349, -0.0510, -0.0171, -0.0057, -0.1004,  0.0375,\n",
            "         -0.0377,  0.0543]], grad_fn=<AddmmBackward>)\n"
          ],
          "name": "stdout"
        }
      ]
    },
    {
      "cell_type": "code",
      "metadata": {
        "id": "ysH8QenXcyMa",
        "colab_type": "code",
        "colab": {}
      },
      "source": [
        "net.zero_grad()\n",
        "out.backward(torch.randn(1,10))\n"
      ],
      "execution_count": 0,
      "outputs": []
    },
    {
      "cell_type": "code",
      "metadata": {
        "id": "Dw5mu-jle-QI",
        "colab_type": "code",
        "outputId": "62826203-5098-44d7-a012-4dbb8af7368a",
        "colab": {
          "base_uri": "https://localhost:8080/",
          "height": 35
        }
      },
      "source": [
        "output = net(input)\n",
        "target = torch.randn(10)\n",
        "target = target.view(1,-1)\n",
        "\n",
        "criterion = nn.MSELoss()\n",
        "\n",
        "loss = criterion(output, target)\n",
        "print(loss)"
      ],
      "execution_count": 0,
      "outputs": [
        {
          "output_type": "stream",
          "text": [
            "tensor(0.7205, grad_fn=<MseLossBackward>)\n"
          ],
          "name": "stdout"
        }
      ]
    },
    {
      "cell_type": "code",
      "metadata": {
        "id": "T6ID20wfkHNS",
        "colab_type": "code",
        "outputId": "d6038dd9-75e9-4398-9d77-44a051c23456",
        "colab": {
          "base_uri": "https://localhost:8080/",
          "height": 72
        }
      },
      "source": [
        "print(loss.grad_fn)  # MSELoss\n",
        "print(loss.grad_fn.next_functions[0][0])  # Linear\n",
        "print(loss.grad_fn.next_functions[0][0].next_functions[0][0])  # ReLU"
      ],
      "execution_count": 0,
      "outputs": [
        {
          "output_type": "stream",
          "text": [
            "<MseLossBackward object at 0x7f466640fba8>\n",
            "<AddmmBackward object at 0x7f4665b1efd0>\n",
            "<AccumulateGrad object at 0x7f466f00de80>\n"
          ],
          "name": "stdout"
        }
      ]
    },
    {
      "cell_type": "code",
      "metadata": {
        "id": "8t-JvqvLk28S",
        "colab_type": "code",
        "outputId": "4ad5475a-8aa1-48e3-c328-0e8e9554c0ec",
        "colab": {
          "base_uri": "https://localhost:8080/",
          "height": 109
        }
      },
      "source": [
        "net.zero_grad()\n",
        "print('conv1.bias.grad before backward')\n",
        "print(net.conv1.bias.grad)\n",
        "\n",
        "loss.backward()\n",
        "print('conv1.bias.grad after backward')\n",
        "print(net.conv1.bias.grad)"
      ],
      "execution_count": 0,
      "outputs": [
        {
          "output_type": "stream",
          "text": [
            "conv1.bias.grad before backward\n",
            "tensor([0., 0., 0., 0., 0., 0., 0., 0., 0., 0., 0., 0., 0., 0., 0., 0.])\n",
            "conv1.bias.grad after backward\n",
            "tensor([ 0.0030,  0.0105, -0.0017,  0.0042,  0.0062, -0.0015,  0.0025, -0.0044,\n",
            "        -0.0039, -0.0051, -0.0036, -0.0140, -0.0099,  0.0036,  0.0045, -0.0094])\n"
          ],
          "name": "stdout"
        }
      ]
    },
    {
      "cell_type": "code",
      "metadata": {
        "id": "JhygTBIho1Kb",
        "colab_type": "code",
        "colab": {}
      },
      "source": [
        "optimizer = optim.Adam(net.parameters(), lr = 0.001)\n",
        "optimizer.zero_grad()\n",
        "output = net(input)\n",
        "criterion = nn.MSELoss()\n",
        "loss = criterion(output, target)\n",
        "loss.backward()\n",
        "optimizer.step()"
      ],
      "execution_count": 0,
      "outputs": []
    },
    {
      "cell_type": "code",
      "metadata": {
        "id": "3nRshY0DOMxf",
        "colab_type": "code",
        "outputId": "3d1b5c58-6f0c-41fe-d0d7-6fa4ee413191",
        "colab": {
          "base_uri": "https://localhost:8080/",
          "height": 54
        }
      },
      "source": [
        "x = torch.rand_like(x , dtype = torch.float)\n",
        "x"
      ],
      "execution_count": 0,
      "outputs": [
        {
          "output_type": "execute_result",
          "data": {
            "text/plain": [
              "tensor([0.9548, 0.9448, 0.6419, 0.1192, 0.9732, 0.9429, 0.7299, 0.5083, 0.0518,\n",
              "        0.3888])"
            ]
          },
          "metadata": {
            "tags": []
          },
          "execution_count": 15
        }
      ]
    },
    {
      "cell_type": "code",
      "metadata": {
        "id": "0FoS458Ltwb1",
        "colab_type": "code",
        "colab": {}
      },
      "source": [
        "from torch.nn.parameter import Parameter\n",
        "import torch.nn.functional as F\n",
        "import torch.nn.init as init\n",
        "from torch.autograd import Variable \n",
        "import math\n",
        "class LinearRG(nn.Module):\n",
        "  __constants__ = ['bias']\n",
        "  def __init__(self, in_features, out_features, bias=True):\n",
        "    super(LinearRG, self).__init__()\n",
        "    self.in_feature = in_features\n",
        "    self.out_features = out_features\n",
        "    self.weight = Parameter(torch.Tensor(out_features, in_features))\n",
        "    if bias:\n",
        "      bias = torch.Tensor(out_features)\n",
        "    else:\n",
        "      self.register_parameter(\"bias\", None)\n",
        "    self.reset_parameters()\n",
        "  def reset_parameters(self):\n",
        "    init.kaiming_uniform_(self.weight, a=math.sqrt(5))\n",
        "    if self.bias is not None:\n",
        "      fan_in, _ = init._calculate_fan_in_and_fan_out(self.weight)\n",
        "      bound = 1 / math.sqrt(fan_in)\n",
        "      init.uniform_(self.bias, -bound, bound)\n",
        "  def forward(self , input):\n",
        "    return F.linear(input, self.weight, self.bias)\n",
        "  def extra_repr(self):\n",
        "    return 'in_features={}, out_features={}, bias={}'.format(self.in_features, self.out_features, self.bias is not None)"
      ],
      "execution_count": 0,
      "outputs": []
    },
    {
      "cell_type": "code",
      "metadata": {
        "id": "qzsFMbPVW6Ha",
        "colab_type": "code",
        "colab": {}
      },
      "source": [
        ""
      ],
      "execution_count": 0,
      "outputs": []
    },
    {
      "cell_type": "code",
      "metadata": {
        "id": "77IL0IXYYPup",
        "colab_type": "code",
        "outputId": "982ab4b6-6269-4327-9b7e-83bd41d50ace",
        "colab": {
          "base_uri": "https://localhost:8080/",
          "height": 302
        }
      },
      "source": [
        "import torch \n",
        "from torch.autograd import Variable \n",
        "x_data = Variable(torch.Tensor([[1.0], [2.0], [3.0]])) \n",
        "y_data = Variable(torch.Tensor([[2.0], [4.0], [6.0]]))\n",
        "class LinearRegressionModel(torch.nn.Module): \n",
        "  def __init__(self): \n",
        "    super(LinearRegressionModel, self).__init__() \n",
        "    self.linear = torch.nn.Linear(1, 1)  # One in and one out \n",
        "    \n",
        "    def forward(self, x): \n",
        "      y_pred = self.linear(x) \n",
        "      return y_pred \n",
        "our_model = LinearRegressionModel()\n",
        "criterion = nn.MSELoss(size_average=False)\n",
        "optimizer = optim.Adam(our_model.parameters() ,lr= 0.001)\n",
        "\n",
        "for epoch in range(500):\n",
        "  pred_y = our_model(x_data)\n",
        "  loss = criterion(pred_y, y_data)\n",
        "  optimizer.zero_grad()\n",
        "  loss.backward(create_graph=True,retain_graph=True)\n",
        "  optimizer.step(closure=True)\n",
        "  print('epoch {}, loss {}'.format(epoch, loss.data[0])) "
      ],
      "execution_count": 0,
      "outputs": [
        {
          "output_type": "stream",
          "text": [
            "/usr/local/lib/python3.6/dist-packages/torch/nn/_reduction.py:46: UserWarning: size_average and reduce args will be deprecated, please use reduction='sum' instead.\n",
            "  warnings.warn(warning.format(ret))\n"
          ],
          "name": "stderr"
        },
        {
          "output_type": "error",
          "ename": "NameError",
          "evalue": "ignored",
          "traceback": [
            "\u001b[0;31m---------------------------------------------------------------------------\u001b[0m",
            "\u001b[0;31mNameError\u001b[0m                                 Traceback (most recent call last)",
            "\u001b[0;32m<ipython-input-9-1e10743d03c4>\u001b[0m in \u001b[0;36m<module>\u001b[0;34m()\u001b[0m\n\u001b[1;32m     13\u001b[0m \u001b[0mour_model\u001b[0m \u001b[0;34m=\u001b[0m \u001b[0mLinearRegressionModel\u001b[0m\u001b[0;34m(\u001b[0m\u001b[0;34m)\u001b[0m\u001b[0;34m\u001b[0m\u001b[0;34m\u001b[0m\u001b[0m\n\u001b[1;32m     14\u001b[0m \u001b[0mcriterion\u001b[0m \u001b[0;34m=\u001b[0m \u001b[0mnn\u001b[0m\u001b[0;34m.\u001b[0m\u001b[0mMSELoss\u001b[0m\u001b[0;34m(\u001b[0m\u001b[0msize_average\u001b[0m\u001b[0;34m=\u001b[0m\u001b[0;32mFalse\u001b[0m\u001b[0;34m)\u001b[0m\u001b[0;34m\u001b[0m\u001b[0;34m\u001b[0m\u001b[0m\n\u001b[0;32m---> 15\u001b[0;31m \u001b[0moptimizer\u001b[0m \u001b[0;34m=\u001b[0m \u001b[0moptim\u001b[0m\u001b[0;34m.\u001b[0m\u001b[0mAdam\u001b[0m\u001b[0;34m(\u001b[0m\u001b[0mour_model\u001b[0m\u001b[0;34m.\u001b[0m\u001b[0mparameters\u001b[0m\u001b[0;34m(\u001b[0m\u001b[0;34m)\u001b[0m \u001b[0;34m,\u001b[0m\u001b[0mlr\u001b[0m\u001b[0;34m=\u001b[0m \u001b[0;36m0.001\u001b[0m\u001b[0;34m)\u001b[0m\u001b[0;34m\u001b[0m\u001b[0;34m\u001b[0m\u001b[0m\n\u001b[0m\u001b[1;32m     16\u001b[0m \u001b[0;34m\u001b[0m\u001b[0m\n\u001b[1;32m     17\u001b[0m \u001b[0;32mfor\u001b[0m \u001b[0mepoch\u001b[0m \u001b[0;32min\u001b[0m \u001b[0mrange\u001b[0m\u001b[0;34m(\u001b[0m\u001b[0;36m500\u001b[0m\u001b[0;34m)\u001b[0m\u001b[0;34m:\u001b[0m\u001b[0;34m\u001b[0m\u001b[0;34m\u001b[0m\u001b[0m\n",
            "\u001b[0;31mNameError\u001b[0m: name 'optim' is not defined"
          ]
        }
      ]
    },
    {
      "cell_type": "code",
      "metadata": {
        "id": "UPDprKMlcgT2",
        "colab_type": "code",
        "outputId": "9d159eac-00ea-46a2-c201-2d534121619f",
        "colab": {
          "base_uri": "https://localhost:8080/",
          "height": 135
        }
      },
      "source": [
        "import torch \n",
        "from torch.autograd import Variable \n",
        "\n",
        "x_data = Variable(torch.Tensor([[1.0], [2.0], [3.0]])) \n",
        "y_data = Variable(torch.Tensor([[2.0], [4.0], [6.0]])) \n",
        "\n",
        "\n",
        "class LinearRegressionModel(torch.nn.Module): \n",
        "\n",
        "\tdef __init__(self): \n",
        "\t\tsuper(LinearRegressionModel, self).__init__() \n",
        "\t\tself.linear = torch.nn.Linear(1, 1) # One in and one out \n",
        "\n",
        "\tdef forward(self, x): \n",
        "\t\ty_pred = self.linear(x) \n",
        "\t\treturn y_pred \n",
        "\n",
        "# our model \n",
        "our_model = LinearRegressionModel() \n",
        "\n",
        "criterion = torch.nn.MSELoss(size_average = False) \n",
        "optimizer = torch.optim.SGD(our_model.parameters(), lr = 0.01) \n",
        "\n",
        "for epoch in range(500): \n",
        "\t# Forward pass: Compute predicted y by passing \n",
        "\t# x to the model \n",
        "  epoch +=1 \n",
        "\tpred_y = our_model(x_data) \n",
        "\n",
        "\t# Compute and print loss \n",
        "\tloss = criterion(pred_y, y_data) \n",
        "\n",
        "\t# Zero gradients, perform a backward pass, \n",
        "\t# and update the weights. \n",
        "\toptimizer.zero_grad() \n",
        "\tloss.backward() \n",
        "\toptimizer.step() \n",
        "\n",
        "new_var = Variable(torch.Tensor([[4.0]])) \n",
        "pred_y = our_model(new_var) \n",
        "print(\"predict (after training)\", 4, our_model(new_var).data[0][0]) \n"
      ],
      "execution_count": 0,
      "outputs": [
        {
          "output_type": "error",
          "ename": "TabError",
          "evalue": "ignored",
          "traceback": [
            "\u001b[0;36m  File \u001b[0;32m\"<ipython-input-10-20c9b8167902>\"\u001b[0;36m, line \u001b[0;32m28\u001b[0m\n\u001b[0;31m    pred_y = our_model(x_data)\u001b[0m\n\u001b[0m                               ^\u001b[0m\n\u001b[0;31mTabError\u001b[0m\u001b[0;31m:\u001b[0m inconsistent use of tabs and spaces in indentation\n"
          ]
        }
      ]
    },
    {
      "cell_type": "code",
      "metadata": {
        "id": "TidhLhXbgwzk",
        "colab_type": "code",
        "colab": {}
      },
      "source": [
        "import torch\n",
        "import torch.nn as nn\n",
        "from torch.autograd import Variable\n",
        "import numpy as np\n",
        "import matplotlib.pyplot as plt\n",
        "\n",
        "np.random.seed(42)\n",
        "pts = 20\n",
        "\n",
        "x_vals = np.random.rand(20)\n",
        "x_train = np.asarray(x_vals,dtype=np.float32).reshape(-1,1)\n",
        "m = 1\n",
        "alpha = np.random.rand(1)\n",
        "beta = np.random.rand(1)\n",
        "y_correct = np.asarray([2*i+m for i in x_vals], dtype=np.float32).reshape(-1,1)"
      ],
      "execution_count": 0,
      "outputs": []
    },
    {
      "cell_type": "code",
      "metadata": {
        "id": "VL9ou0tpdDBu",
        "colab_type": "code",
        "colab": {}
      },
      "source": [
        "class LinearRegressionModel(nn.Module):\n",
        "\n",
        "    def __init__(self, input_dim, output_dim):\n",
        "\n",
        "        super(LinearRegressionModel, self).__init__() \n",
        "        # Calling Super Class's constructor\n",
        "        self.linear = nn.Linear(input_dim, output_dim)\n",
        "        # nn.linear is defined in nn.Module\n",
        "\n",
        "    def forward(self, x):\n",
        "        # Here the forward pass is simply a linear function\n",
        "\n",
        "        out = self.linear(x)\n",
        "        return out\n",
        "\n",
        "input_dim = 1\n",
        "output_dim = 1"
      ],
      "execution_count": 0,
      "outputs": []
    },
    {
      "cell_type": "code",
      "metadata": {
        "id": "epEC18C8fXUZ",
        "colab_type": "code",
        "colab": {}
      },
      "source": [
        "model = LinearRegressionModel(input_dim,output_dim)\n",
        "\n",
        "criterion = nn.MSELoss()# Mean Squared Loss\n",
        "l_rate = 0.01\n",
        "optimiser = torch.optim.Adam(model.parameters(), lr = l_rate) #Stochastic Gradient Descent\n",
        "\n",
        "epochs = 1000"
      ],
      "execution_count": 0,
      "outputs": []
    },
    {
      "cell_type": "code",
      "metadata": {
        "id": "GdIPoz99fXzv",
        "colab_type": "code",
        "colab": {}
      },
      "source": [
        "for epoch in range(epochs):\n",
        "\n",
        "    epoch +=1\n",
        "    #increase the number of epochs by 1 every time\n",
        "    inputs = Variable(torch.from_numpy(x_train))\n",
        "    labels = Variable(torch.from_numpy(y_correct))\n",
        "\n",
        "    #clear grads as discussed in prev post\n",
        "    optimiser.zero_grad()\n",
        "    #forward to get predicted values\n",
        "    outputs = model.forward(inputs)\n",
        "    loss = criterion(outputs, labels)\n",
        "    loss.backward()# back props\n",
        "    optimiser.step()# update the parameters\n",
        "    print('epoch {}, loss {}'.format(epoch,loss.item()))"
      ],
      "execution_count": 0,
      "outputs": []
    },
    {
      "cell_type": "code",
      "metadata": {
        "id": "bbhbqlAYfZQ0",
        "colab_type": "code",
        "outputId": "2bca280a-b5f4-47b8-96bd-08a240b2ac38",
        "colab": {
          "base_uri": "https://localhost:8080/",
          "height": 287
        }
      },
      "source": [
        "predicted =model.forward(Variable(torch.from_numpy(x_train))).data.numpy()\n",
        "\n",
        "plt.plot(x_train, y_correct, 'go', label = 'from data', alpha = .5)\n",
        "plt.plot(x_train, predicted, label = 'prediction', alpha = 0.5)\n",
        "plt.legend()\n",
        "plt.show()\n",
        "print(model.state_dict())"
      ],
      "execution_count": 0,
      "outputs": [
        {
          "output_type": "display_data",
          "data": {
            "image/png": "[encoded data removed]",
            "text/plain": [
              "<Figure size 432x288 with 1 Axes>"
            ]
          },
          "metadata": {
            "tags": []
          }
        },
        {
          "output_type": "stream",
          "text": [
            "OrderedDict([('linear.weight', tensor([[2.0877]])), ('linear.bias', tensor([0.9542]))])\n"
          ],
          "name": "stdout"
        }
      ]
    },
    {
      "cell_type": "markdown",
      "metadata": {
        "id": "LaEFUUIfxklS",
        "colab_type": "text"
      },
      "source": [
        "# CNN training classifer CIFAR10"
      ]
    },
    {
      "cell_type": "code",
      "metadata": {
        "id": "bXHGcQCNfb3a",
        "colab_type": "code",
        "colab": {}
      },
      "source": [
        "import torch\n",
        "from torch.utils.data import DataLoader, Dataset\n",
        "import torchvision\n",
        "import torchvision.transforms as transforms\n",
        "from torchvision.datasets import CIFAR10\n",
        "\n",
        "transforms = transforms.Compose([\n",
        "    transforms.ToTensor(),\n",
        "    transforms.Normalize((0.5, 0.5, 0.5), (0.5, 0.5, 0.5))\n",
        "])"
      ],
      "execution_count": 0,
      "outputs": []
    },
    {
      "cell_type": "code",
      "metadata": {
        "id": "mkE4VFvvmgYt",
        "colab_type": "code",
        "colab": {
          "base_uri": "https://localhost:8080/",
          "height": 54
        },
        "outputId": "eb6d0688-bcfe-4388-f028-15db5176ac79"
      },
      "source": [
        "df_train = CIFAR10(root='/content', train = True, download= True, transform=transforms)\n",
        "trainloader = DataLoader(df_train, batch_size = 4,\n",
        "                        shuffle = True, num_workers = 2)\n",
        "df_test = CIFAR10(root='/content', train = False, download= True, transform=transforms)\n",
        "testloader = torch.utils.data.DataLoader(df_test, batch_size=4,\n",
        "                                         shuffle=False, num_workers=2)\n",
        "classes = ('plane', 'car', 'bird', 'cat',\n",
        "           'deer', 'dog', 'frog', 'horse', 'ship', 'truck')\n"
      ],
      "execution_count": 35,
      "outputs": [
        {
          "output_type": "stream",
          "text": [
            "Files already downloaded and verified\n",
            "Files already downloaded and verified\n"
          ],
          "name": "stdout"
        }
      ]
    },
    {
      "cell_type": "code",
      "metadata": {
        "id": "uZcDmwb_rPJ-",
        "colab_type": "code",
        "colab": {
          "base_uri": "https://localhost:8080/",
          "height": 157
        },
        "outputId": "a75ce065-994d-40e8-9b93-8acabca93b0f"
      },
      "source": [
        "import matplotlib.pyplot as plt\n",
        "import numpy as np\n",
        "import seaborn as sns\n",
        "\n",
        "def imshow(img):\n",
        "  img = img/2 + 0.5\n",
        "  npimg = img.numpy()\n",
        "  plt.imshow(np.transpose(npimg, (1,2,0)))\n",
        "  plt.show()\n",
        "\n",
        "dataiter = iter(trainloader)\n",
        "images , labels = dataiter.next()\n",
        "# show images lần lượt của dataset trước khi train\n",
        "imshow(torchvision.utils.make_grid(images))\n",
        "\n",
        "print(' '.join('\\t%5s' % classes[labels[j]] for j in range(4)))\n"
      ],
      "execution_count": 43,
      "outputs": [
        {
          "output_type": "display_data",
          "data": {
            "image/png": "[encoded data removed]",
            "text/plain": [
              "<Figure size 432x288 with 1 Axes>"
            ]
          },
          "metadata": {
            "tags": []
          }
        },
        {
          "output_type": "stream",
          "text": [
            "\t ship \t  car \t frog \t  dog\n"
          ],
          "name": "stdout"
        }
      ]
    },
    {
      "cell_type": "code",
      "metadata": {
        "id": "qOkcGTIDuo9c",
        "colab_type": "code",
        "colab": {}
      },
      "source": [
        ""
      ],
      "execution_count": 0,
      "outputs": []
    },
    {
      "cell_type": "code",
      "metadata": {
        "id": "3tEw_5mi3I4g",
        "colab_type": "code",
        "colab": {
          "base_uri": "https://localhost:8080/",
          "height": 35
        },
        "outputId": "72cea6d2-25ba-4671-fc77-ba075b9b3863"
      },
      "source": [
        "\n",
        "vowels = ['a', 'e', 'i', 'o', 'u']\n",
        "vowelsIter = iter(vowels)# prints 'a'\n",
        "print(next(vowelsIter))\n",
        "\n",
        "\n"
      ],
      "execution_count": 30,
      "outputs": [
        {
          "output_type": "stream",
          "text": [
            "a\n"
          ],
          "name": "stdout"
        }
      ]
    },
    {
      "cell_type": "code",
      "metadata": {
        "id": "M9t32FIs6-uA",
        "colab_type": "code",
        "colab": {
          "base_uri": "https://localhost:8080/",
          "height": 54
        },
        "outputId": "5aea474d-04b3-4e00-daf3-25b3dffcaf63"
      },
      "source": [
        "# list of vowels\n",
        "vowels = ['a', 'e', 'i', 'o', 'u']\n",
        "vowelsIter = iter(vowels)# prints 'a'\n",
        "\n",
        "print(next(vowelsIter))\n",
        "\n",
        "# prints 'e'\n",
        "print(next(vowelsIter))\n",
        "\n"
      ],
      "execution_count": 31,
      "outputs": [
        {
          "output_type": "stream",
          "text": [
            "a\n",
            "e\n"
          ],
          "name": "stdout"
        }
      ]
    },
    {
      "cell_type": "code",
      "metadata": {
        "id": "jssNPc0k7E8S",
        "colab_type": "code",
        "colab": {}
      },
      "source": [
        ""
      ],
      "execution_count": 0,
      "outputs": []
    }
  ]
}