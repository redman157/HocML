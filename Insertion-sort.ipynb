{
  "nbformat": 4,
  "nbformat_minor": 0,
  "metadata": {
    "colab": {
      "name": "Untitled17.ipynb",
      "version": "0.3.2",
      "provenance": [],
      "include_colab_link": true
    },
    "kernelspec": {
      "name": "python3",
      "display_name": "Python 3"
    }
  },
  "cells": [
    {
      "cell_type": "markdown",
      "metadata": {
        "id": "view-in-github",
        "colab_type": "text"
      },
      "source": [
        "<a href=\"https://colab.research.google.com/github/redman157/HocML/blob/master/Insertion-sort.ipynb\" target=\"_parent\"><img src=\"https://colab.research.google.com/assets/colab-badge.svg\" alt=\"Open In Colab\"/></a>"
      ]
    },
    {
      "metadata": {
        "id": "8asm2BzGTqkL",
        "colab_type": "code",
        "colab": {}
      },
      "cell_type": "code",
      "source": [
        "import numpy as np\n",
        "\n",
        "class Insertion_Sort():\n",
        "  def __init__(self,X):\n",
        "    self.X = X\n",
        "  def swap(self,a,b,temp):\n",
        "    temp = a\n",
        "    a = b\n",
        "    b = temp\n",
        "  def Sort(self,X,swap,array):\n",
        "    array = np.array([])\n",
        "    for i in range(X):\n",
        "      for j in range(i):\n",
        "        if j[0] > i[0]:\n",
        "          a = swap(j,i)\n",
        "    return array.append(a)\n",
        "\n",
        "          "
      ],
      "execution_count": 0,
      "outputs": []
    },
    {
      "metadata": {
        "id": "iJkEhTvPem1b",
        "colab_type": "code",
        "colab": {
          "base_uri": "https://localhost:8080/",
          "height": 34
        },
        "outputId": "2c61af66-dc47-4289-f5a8-070876d0a3a2"
      },
      "cell_type": "code",
      "source": [
        "X = np.array([3,4,2,1,5,9,6,7,0,8])\n",
        "Insertion_Sort(X)\n"
      ],
      "execution_count": 12,
      "outputs": [
        {
          "output_type": "execute_result",
          "data": {
            "text/plain": [
              "<__main__.Insertion_Sort at 0x7f0dec407e80>"
            ]
          },
          "metadata": {
            "tags": []
          },
          "execution_count": 12
        }
      ]
    },
    {
      "metadata": {
        "id": "RIdZ8YUdgAZe",
        "colab_type": "code",
        "colab": {}
      },
      "cell_type": "code",
      "source": [
        ""
      ],
      "execution_count": 0,
      "outputs": []
    }
  ]
}