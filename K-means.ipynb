{
  "nbformat": 4,
  "nbformat_minor": 0,
  "metadata": {
    "colab": {
      "name": "Hello, Colaboratory",
      "version": "0.3.2",
      "provenance": [],
      "collapsed_sections": [],
      "include_colab_link": true
    },
    "kernelspec": {
      "display_name": "Python 3",
      "name": "python3"
    }
  },
  "cells": [
    {
      "cell_type": "markdown",
      "metadata": {
        "id": "view-in-github",
        "colab_type": "text"
      },
      "source": [
        "<a href=\"https://colab.research.google.com/github/redman157/HocML/blob/master/K-means.ipynb\" target=\"_parent\"><img src=\"https://colab.research.google.com/assets/colab-badge.svg\" alt=\"Open In Colab\"/></a>"
      ]
    },
    {
      "metadata": {
        "id": "j6DvYpglGx5f",
        "colab_type": "code",
        "colab": {}
      },
      "cell_type": "code",
      "source": [
        "import numpy as np\n",
        "import matplotlib.pyplot as plt\n",
        "import matplotlib.animation as animation\n",
        "K = 3\n",
        "X = np.random.rand(41,2)\n",
        "c = np.random.rand(1,K)\n",
        "n = X.shape[0]\n",
        "def euclidian(a,b):\n",
        "  return np.linalg.norm(a,b)\n",
        "# plt.figure(figsize = (8,8))\n",
        "# plt.scatter(x = X,y = c, markers = ('x','o'))\n",
        "# plt.xlabels('Labels_X')\n",
        "# plt.ylabels('Labels_y')\n",
        "# plt.show()\n",
        "history_centroids = []\n",
        "def k_means(K,epsilon = 0,distance = 'euclidian'):\n",
        "  if distance == 'euclidian':\n",
        "    dis_method = euclidian\n",
        "# set up gia tri row = num_instances va col = num_features\n",
        "  num_instances, num_features = X.shape\n",
        "# lay gia tri t\n",
        "  prototypes = X[np.random.randint(0, num_instances - 1, size = K)]\n",
        "# add no vao giai doan hoi tu\n",
        "  history_centroids.append(prototypes)\n",
        "# khi update prototypes moi thi can xoa bo nho cua prototypes cu\n",
        "  prototypes_old = np.zeros(prototypes.shape)\n",
        "# luu tru clusters\n",
        "  belongs_to = np.zeros((num_instances,1))\n",
        "  norm = dist_method(prototypes, prototypes_old)\n",
        "  iteration = 0\n",
        "  while norm > epsilon:\n",
        "    iteration += 1\n",
        "    norm = dist_method(prototypes,prototypes_old)\n",
        "    # voi moi dong cua instances trong X\n",
        "    for index_instances, instances in enumerate(X):\n",
        "      # xac dinh khoang cach vector toi K"
      ],
      "execution_count": 0,
      "outputs": []
    },
    {
      "metadata": {
        "id": "py1gshfI5MWH",
        "colab_type": "code",
        "colab": {}
      },
      "cell_type": "code",
      "source": [
        "import numpy as np\n",
        "\n",
        "def kMeans(X, K, maxIters = 10, plot_progress = None):\n",
        "\n",
        "    centroids = X[np.random.choice(np.arange(len(X)), K), :]\n",
        "    for i in range(maxIters):\n",
        "        # Cluster Assignment step\n",
        "        C = np.array([np.argmin([np.dot(x_i-y_k, x_i-y_k) for y_k in centroids]) for x_i in X])\n",
        "        # Move centroids step\n",
        "        centroids = [X[C == k].mean(axis = 0) for k in range(K)]\n",
        "        if plot_progress != None: plot_progress(X, C, np.array(centroids))\n",
        "    return np.array(centroids) , C"
      ],
      "execution_count": 0,
      "outputs": []
    },
    {
      "metadata": {
        "id": "Tibozr005SE5",
        "colab_type": "code",
        "colab": {}
      },
      "cell_type": "code",
      "source": [
        "import numpy as np\n",
        "import matplotlib.pyplot as plt\n",
        "def k_means(X, K,  plot_progress = None):\n",
        "  # tao ra ma tran voi 4 diem K tuong ung nam trong X\n",
        "  rand_K = np.random.choice(len(X),K)\n",
        "  Centroids = X[rand_K,:]\n",
        "  for step in range(10):\n",
        "    # so step chay \n",
        "    for X_i in X:\n",
        "      for C_j in Centroids:\n",
        "        # tim ra C bang cach tim khoang cach nho nhat tu 1 diem X_j toi C_j\n",
        "        C = np.array([np.argmin([np.dot(X_i - C_j, X_i - C_j)])])\n",
        "        print(C)\n",
        "    for k in range(K):\n",
        "        # sau do dich chug lai\n",
        "      Centroids = [X[C == k].mean(axis = 0 )]\n",
        "    if plot_progress != None: plot_progress(X, C, np.array(centroids))      \n",
        "  return np.array(Centroids), C  "
      ],
      "execution_count": 0,
      "outputs": []
    },
    {
      "metadata": {
        "id": "-vIKsIpxG0HD",
        "colab_type": "code",
        "outputId": "e76c911f-0a19-46ab-bed7-28f1a494bbd3",
        "colab": {
          "base_uri": "https://localhost:8080/",
          "height": 35
        }
      },
      "cell_type": "code",
      "source": [
        "X = np.random.rand(40,2)\n",
        "K = 3\n",
        "k_means(X,K)"
      ],
      "execution_count": 0,
      "outputs": [
        {
          "output_type": "stream",
          "text": [
            "(41, 2)\n"
          ],
          "name": "stdout"
        }
      ]
    },
    {
      "metadata": {
        "id": "8l5Okx70KuUq",
        "colab_type": "code",
        "colab": {}
      },
      "cell_type": "code",
      "source": [
        " "
      ],
      "execution_count": 0,
      "outputs": []
    }
  ]
}