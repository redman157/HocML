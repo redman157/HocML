{
  "nbformat": 4,
  "nbformat_minor": 0,
  "metadata": {
    "colab": {
      "name": "Hello, Colaboratory",
      "version": "0.3.2",
      "provenance": [],
      "collapsed_sections": [],
      "include_colab_link": true
    },
    "kernelspec": {
      "display_name": "Python 3",
      "name": "python3"
    }
  },
  "cells": [
    {
      "cell_type": "markdown",
      "metadata": {
        "id": "view-in-github",
        "colab_type": "text"
      },
      "source": [
        "<a href=\"https://colab.research.google.com/github/redman157/HocML/blob/master/K-means.ipynb\" target=\"_parent\"><img src=\"https://colab.research.google.com/assets/colab-badge.svg\" alt=\"Open In Colab\"/></a>"
      ]
    },
    {
      "metadata": {
        "id": "j6DvYpglGx5f",
        "colab_type": "code",
        "colab": {}
      },
      "cell_type": "code",
      "source": [
        "import numpy as np\n",
        "import matplotlib.pyplot as plt\n",
        "import matplotlib.animation as animation\n",
        "K = 3\n",
        "X = np.random.rand(41,2)\n",
        "c = np.random.rand(1,K)\n",
        "n = X.shape[0]\n",
        "def euclidian(a,b):\n",
        "  return np.linalg.norm(a,b)\n",
        "# plt.figure(figsize = (8,8))\n",
        "# plt.scatter(x = X,y = c, markers = ('x','o'))\n",
        "# plt.xlabels('Labels_X')\n",
        "# plt.ylabels('Labels_y')\n",
        "# plt.show()\n",
        "history_centroids = []\n",
        "def k_means(K,epsilon = 0,distance = 'euclidian'):\n",
        "  if distance == 'euclidian':\n",
        "    dis_method = euclidian\n",
        "# set up gia tri row = num_instances va col = num_features\n",
        "  num_instances, num_features = X.shape\n",
        "# lay gia tri t\n",
        "  prototypes = X[np.random.randint(0, num_instances - 1, size = K)]\n",
        "# add no vao giai doan hoi tu\n",
        "  history_centroids.append(prototypes)\n",
        "# khi update prototypes moi thi can xoa bo nho cua prototypes cu\n",
        "  prototypes_old = np.zeros(prototypes.shape)\n",
        "# luu tru clusters\n",
        "  belongs_to = np.zeros((num_instances,1))\n",
        "  norm = dist_method(prototypes, prototypes_old)\n",
        "  iteration = 0\n",
        "  while norm > epsilon:\n",
        "    iteration += 1\n",
        "    norm = dist_method(prototypes,prototypes_old)\n",
        "    # voi moi dong cua instances trong X\n",
        "    for index_instances, instances in enumerate(X):\n",
        "      # xac dinh khoang cach vector toi K"
      ],
      "execution_count": 0,
      "outputs": []
    },
    {
      "metadata": {
        "id": "py1gshfI5MWH",
        "colab_type": "code",
        "colab": {}
      },
      "cell_type": "code",
      "source": [
        "import numpy as np\n",
        "\n",
        "def kMeans(X, K, maxIters = 10, plot_progress = None):\n",
        "\n",
        "    centroids = X[np.random.choice(np.arange(len(X)), K), :]\n",
        "    for i in range(maxIters):\n",
        "        # Cluster Assignment step\n",
        "        C = np.array([np.argmin([np.dot(x_i-y_k, x_i-y_k) for y_k in centroids]) for x_i in X])\n",
        "        # Move centroids step\n",
        "        centroids = [X[C == k].mean(axis = 0) for k in range(K)]\n",
        "        if plot_progress != None: plot_progress(X, C, np.array(centroids))\n",
        "    return np.array(centroids) , C"
      ],
      "execution_count": 0,
      "outputs": []
    },
    {
      "metadata": {
        "id": "gKpcyimSEMUC",
        "colab_type": "code",
        "outputId": "8973daf5-dfd3-4744-d716-4f45e9dae134",
        "colab": {
          "base_uri": "https://localhost:8080/",
          "height": 102
        }
      },
      "cell_type": "code",
      "source": [
        "X = np.random.rand(40,2)\n",
        "K = 3\n",
        "kMeans(X,K)"
      ],
      "execution_count": 0,
      "outputs": [
        {
          "output_type": "execute_result",
          "data": {
            "text/plain": [
              "(array([[0.77536086, 0.11534011],\n",
              "        [0.70360512, 0.58273258],\n",
              "        [0.23291576, 0.58476612]]),\n",
              " array([2, 2, 1, 2, 0, 1, 1, 0, 0, 1, 2, 1, 1, 2, 2, 2, 1, 2, 2, 0, 0, 2,\n",
              "        1, 0, 1, 2, 1, 2, 1, 1, 2, 2, 0, 1, 0, 0, 0, 1, 2, 2]))"
            ]
          },
          "metadata": {
            "tags": []
          },
          "execution_count": 103
        }
      ]
    },
    {
      "metadata": {
        "id": "Tibozr005SE5",
        "colab_type": "code",
        "colab": {}
      },
      "cell_type": "code",
      "source": [
        "import numpy as np\n",
        "import matplotlib.pyplot as plt\n",
        "import random\n",
        "from random import randint\n",
        "def k_means(X, K):\n",
        "  # tao ra ma tran voi 4 diem K tuong ung nam trong X\n",
        "  rand_K = np.random.choice(len(X),K)\n",
        "  centroids = X[rand_K,:]\n",
        "  for i in range(10):\n",
        "    C = []\n",
        "    for x_i in X:\n",
        "      dot = []\n",
        "      for y_k in centroids:\n",
        "        dot.append(np.dot(x_i-y_k, x_i-y_k))\n",
        "      C.append(np.argmin(dot))\n",
        "    C = np.array(C)\n",
        "    for k in range(K):\n",
        "      centroids.append[X[C == K].mean(axis = 0)]\n",
        "    if plot_progress != None: plot_progress(X, C, np.array(centroids))\n",
        "  return np.array(centroids) , C"
      ],
      "execution_count": 0,
      "outputs": []
    },
    {
      "metadata": {
        "id": "-vIKsIpxG0HD",
        "colab_type": "code",
        "colab": {}
      },
      "cell_type": "code",
      "source": [
        "X = np.random.rand(40,2)\n",
        "K = 3\n",
        "k_means(X,K)"
      ],
      "execution_count": 0,
      "outputs": []
    },
    {
      "metadata": {
        "id": "8l5Okx70KuUq",
        "colab_type": "code",
        "outputId": "8e8b7d40-18d0-4f9b-aec7-e9fd6d720bcf",
        "colab": {
          "base_uri": "https://localhost:8080/",
          "height": 102
        }
      },
      "cell_type": "code",
      "source": [
        "X = np.random.rand(40,2)\n",
        "K = 3\n",
        "kMeans(X,K)"
      ],
      "execution_count": 0,
      "outputs": [
        {
          "output_type": "execute_result",
          "data": {
            "text/plain": [
              "(array([[0.71739723, 0.62754881],\n",
              "        [0.20655343, 0.78184577],\n",
              "        [0.242293  , 0.21288915]]),\n",
              " array([2, 0, 2, 2, 0, 2, 2, 0, 1, 1, 1, 1, 2, 2, 1, 1, 0, 2, 2, 0, 0, 0,\n",
              "        2, 0, 0, 0, 1, 2, 2, 2, 2, 1, 2, 2, 0, 1, 2, 0, 2, 2]))"
            ]
          },
          "metadata": {
            "tags": []
          },
          "execution_count": 111
        }
      ]
    },
    {
      "metadata": {
        "id": "CwGiuznt_vsb",
        "colab_type": "code",
        "colab": {}
      },
      "cell_type": "code",
      "source": [
        "import numpy as np\n",
        "\n",
        "def euclidean(point, centroids):\n",
        "  return np.sqrt(np.sum((point, centroids) ** 2))\n",
        "\n",
        "def assign_label_cluster(distance,data_point, centroids):\n",
        "  #gan nhan cho cac label phan cum\n",
        "  index_of_minimum = min(distance, key=distance.get)\n",
        "  return [index_of_minimum, data_point, centroids[index_of_minimum]]\n",
        "\n",
        "def computed_new_centroids(cluster_label, centroids):\n",
        "  return np.array(cluster_label + centroids) / 2\n",
        "\n",
        "def terate_k_means(data_points, centroids, total_iteration):\n",
        "  label = []\n",
        "  cluster_label = []\n",
        "  total_points = len(data_points)\n",
        "  k = len(centroids)\n",
        "  for interation in range(0, total_iteration):\n",
        "    for index_point in range(0, total_points):\n",
        "      distance = {}\n",
        "      for k in range(0, len(centroids)):\n",
        "        "
      ],
      "execution_count": 0,
      "outputs": []
    },
    {
      "metadata": {
        "id": "cBEnZXNItyvw",
        "colab_type": "code",
        "colab": {}
      },
      "cell_type": "code",
      "source": [
        ""
      ],
      "execution_count": 0,
      "outputs": []
    }
  ]
}