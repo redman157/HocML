{
  "nbformat": 4,
  "nbformat_minor": 0,
  "metadata": {
    "colab": {
      "name": "Untitled12.ipynb",
      "version": "0.3.2",
      "provenance": [],
      "include_colab_link": true
    },
    "kernelspec": {
      "name": "python3",
      "display_name": "Python 3"
    },
    "accelerator": "GPU"
  },
  "cells": [
    {
      "cell_type": "markdown",
      "metadata": {
        "id": "view-in-github",
        "colab_type": "text"
      },
      "source": [
        "<a href=\"https://colab.research.google.com/github/redman157/phamson/blob/master/Linear-Iris.ipynb\" target=\"_parent\"><img src=\"https://colab.research.google.com/assets/colab-badge.svg\" alt=\"Open In Colab\"/></a>"
      ]
    },
    {
      "metadata": {
        "id": "eyXZ3pCTwJWD",
        "colab_type": "code",
        "outputId": "a943abdf-328b-4bce-8d29-f552ac96e602",
        "colab": {
          "base_uri": "https://localhost:8080/",
          "height": 210
        }
      },
      "cell_type": "code",
      "source": [
        "!pip install -U seaborn"
      ],
      "execution_count": 1,
      "outputs": [
        {
          "output_type": "stream",
          "text": [
            "Requirement already up-to-date: seaborn in /usr/local/lib/python3.6/dist-packages (0.9.0)\n",
            "Requirement already satisfied, skipping upgrade: numpy>=1.9.3 in /usr/local/lib/python3.6/dist-packages (from seaborn) (1.14.6)\n",
            "Requirement already satisfied, skipping upgrade: pandas>=0.15.2 in /usr/local/lib/python3.6/dist-packages (from seaborn) (0.22.0)\n",
            "Requirement already satisfied, skipping upgrade: matplotlib>=1.4.3 in /usr/local/lib/python3.6/dist-packages (from seaborn) (2.1.2)\n",
            "Requirement already satisfied, skipping upgrade: scipy>=0.14.0 in /usr/local/lib/python3.6/dist-packages (from seaborn) (1.1.0)\n",
            "Requirement already satisfied, skipping upgrade: python-dateutil>=2 in /usr/local/lib/python3.6/dist-packages (from pandas>=0.15.2->seaborn) (2.5.3)\n",
            "Requirement already satisfied, skipping upgrade: pytz>=2011k in /usr/local/lib/python3.6/dist-packages (from pandas>=0.15.2->seaborn) (2018.7)\n",
            "Requirement already satisfied, skipping upgrade: cycler>=0.10 in /usr/local/lib/python3.6/dist-packages (from matplotlib>=1.4.3->seaborn) (0.10.0)\n",
            "Requirement already satisfied, skipping upgrade: pyparsing!=2.0.4,!=2.1.2,!=2.1.6,>=2.0.1 in /usr/local/lib/python3.6/dist-packages (from matplotlib>=1.4.3->seaborn) (2.3.0)\n",
            "Requirement already satisfied, skipping upgrade: six>=1.10 in /usr/local/lib/python3.6/dist-packages (from matplotlib>=1.4.3->seaborn) (1.11.0)\n"
          ],
          "name": "stdout"
        }
      ]
    },
    {
      "metadata": {
        "id": "qKR1LdXKrXN3",
        "colab_type": "code",
        "outputId": "549620e8-c157-4bbb-c425-65bdda841c61",
        "colab": {
          "base_uri": "https://localhost:8080/",
          "height": 89
        }
      },
      "cell_type": "code",
      "source": [
        "from __future__ import division, print_function\n",
        "import pandas as pd\n",
        "import os \n",
        "import numpy as np\n",
        "import requests\n",
        "data = \"https://archive.ics.uci.edu/ml/machine-learning-databases/iris/iris.data\"\n",
        "name = ['sepal-length','sepal-width','petal-length','petal-width','variety']\n",
        "def download_data(path):\n",
        "  filename = (path.split('/')[-1])\n",
        "  dir = os.path.join(os.path.abspath(os.path.dirname(filename)))\n",
        "  r = requests.get(path,allow_redirects=True, stream = True,verify = False)\n",
        "  if r.status_code == 200:    \n",
        "    with open(dir + '/' + filename ,'wb') as f:\n",
        "      f.write(r.content)\n",
        "download_data(data)\n",
        "print(os.path.join(data + '.csv'))\n",
        "data = pd.read_csv(data,names = name)\n",
        "#gradient descent : theta + 1 = theta_ 0 + (lr*loss_function ) * x(i)"
      ],
      "execution_count": 83,
      "outputs": [
        {
          "output_type": "stream",
          "text": [
            "/usr/local/lib/python3.6/dist-packages/urllib3/connectionpool.py:858: InsecureRequestWarning: Unverified HTTPS request is being made. Adding certificate verification is strongly advised. See: https://urllib3.readthedocs.io/en/latest/advanced-usage.html#ssl-warnings\n",
            "  InsecureRequestWarning)\n"
          ],
          "name": "stderr"
        },
        {
          "output_type": "stream",
          "text": [
            "https://archive.ics.uci.edu/ml/machine-learning-databases/iris/iris.data.csv\n"
          ],
          "name": "stdout"
        }
      ]
    },
    {
      "metadata": {
        "id": "7WaC1mVvITLq",
        "colab_type": "code",
        "colab": {}
      },
      "cell_type": "code",
      "source": [
        "# chia data\n",
        "y = data.variety\n",
        "X = data.drop('variety',axis = 1)\n",
        "X = X.values"
      ],
      "execution_count": 0,
      "outputs": []
    },
    {
      "metadata": {
        "id": "qJxmfsSvIV1m",
        "colab_type": "code",
        "colab": {}
      },
      "cell_type": "code",
      "source": [
        "# ma hoa data thanh cac con so\n",
        "def chuanhoa(datasets):\n",
        "  s = y.unique()\n",
        "  label = pd.factorize(s)\n",
        "  datasets = datasets.replace(label[1],label[0])\n",
        "  return datasets\n",
        "y = chuanhoa(y)\n",
        "y = y.values"
      ],
      "execution_count": 0,
      "outputs": []
    },
    {
      "metadata": {
        "id": "KuPUC9pNZ9wa",
        "colab_type": "code",
        "colab": {}
      },
      "cell_type": "code",
      "source": [
        "import matplotlib.pyplot as plt\n",
        "import seaborn as sns\n",
        "sns.set(style=\"darkgrid\")\n",
        "# ax = sns.relplot(x=\"sepal-length\", y=\"sepal-width\",hue = 'variety',style = 'variety',\n",
        "#                      kind ='line', data=data,col='variety')\n",
        "# ax.fig.autofmt_xdate()\n"
      ],
      "execution_count": 0,
      "outputs": []
    },
    {
      "metadata": {
        "id": "AI4O9eFJaJWT",
        "colab_type": "code",
        "outputId": "60733dcc-ee05-4706-95a4-2771421c8d59",
        "colab": {
          "base_uri": "https://localhost:8080/",
          "height": 365
        }
      },
      "cell_type": "code",
      "source": [
        "from __future__ import print_function\n",
        "from scipy import stats\n",
        "from scipy.stats import norm\n",
        "g = sns.lmplot(x='sepal-length',y='sepal-width',hue='variety',\n",
        "               col='variety',\n",
        "               markers=['o','x','^'],data=data)\n"
      ],
      "execution_count": 87,
      "outputs": [
        {
          "output_type": "display_data",
          "data": {
            "image/png": "[encoded data removed]",
            "text/plain": [
              "<matplotlib.figure.Figure at 0x7fc70a1f7d30>"
            ]
          },
          "metadata": {
            "tags": []
          }
        }
      ]
    },
    {
      "metadata": {
        "id": "mHScccjOr0bu",
        "colab_type": "code",
        "colab": {
          "base_uri": "https://localhost:8080/",
          "height": 102
        },
        "outputId": "0b3e7f1e-d654-4918-e052-19bfc6c554cf"
      },
      "cell_type": "code",
      "source": [
        "import sklearn\n",
        "from sklearn import svm\n",
        "from sklearn.model_selection import train_test_split, cross_val_score\n",
        "from sklearn.metrics import mean_squared_error, accuracy_score, confusion_matrix\n",
        "from sklearn.linear_model import LinearRegression\n",
        "X_train,X_test,y_train,y_test = train_test_split(X,y, random_state = 0)\n",
        "print('w',w)\n",
        "print('X_train',X_train.shape)\n",
        "print('X_test',X_test.shape)\n",
        "print('y_train',y_train.shape)\n",
        "print('y_test',y_test.shape)"
      ],
      "execution_count": 93,
      "outputs": [
        {
          "output_type": "stream",
          "text": [
            "w [-0.10355176 -0.00451914  0.25713403  0.5567036 ]\n",
            "X_train (112, 4)\n",
            "X_test (38, 4)\n",
            "y_train (112,)\n",
            "y_test (38,)\n"
          ],
          "name": "stdout"
        }
      ]
    },
    {
      "metadata": {
        "id": "2Fjt5ixvuWxk",
        "colab_type": "code",
        "colab": {
          "base_uri": "https://localhost:8080/",
          "height": 1751
        },
        "outputId": "51ad1cd6-ce71-4d2e-e98a-44ea75e390e0"
      },
      "cell_type": "code",
      "source": [
        "A = np.dot(X_train.T,X_train)\n",
        "b = np.dot(X_train.T,y_train)\n",
        "w = np.dot(np.linalg.pinv(A),b)\n",
        "X_train.shape[1]\n",
        "def compute_mse(X,y,w):\n",
        "  summands = np.power(X * w.T - y,2)\n",
        "  return np.sum(summands)/(2 * len(X))\n",
        "def gradient_descent(X,y,lr,epochs):\n",
        "  num_parame = X.shape[1]\n",
        "  theta = np.matrix([0.0 for i in range(num_parame)])\n",
        "  cost = [0.0 for i in range(epochs)]\n",
        "  \n",
        "  for it in range(epochs):\n",
        "    error = np.repeat((X * theta.T)- y,num_parame,axis = 1)\n",
        "    error_der = np.sum(np.matmul(error.T,X),axis = 0)\n",
        "    theta = theta - ( lr / len(y)) * error_der\n",
        "    # cap nhap trong so\n",
        "    cost[it] = compute_mse(X, y, theta)\n",
        "  return theta,cost\n",
        "gradient_descent(X_train,y_train,0.001,100)\n"
      ],
      "execution_count": 137,
      "outputs": [
        {
          "output_type": "execute_result",
          "data": {
            "text/plain": [
              "(matrix([[-1.19432457e+142, -5.98483209e+141, -8.19599642e+141,\n",
              "          -2.71018235e+141]]),\n",
              " [41897.71801554218,\n",
              "  30454412.946870364,\n",
              "  22157355081.253338,\n",
              "  16120784165634.84,\n",
              "  1.1728822398842322e+16,\n",
              "  8.533410871983011e+18,\n",
              "  6.208560299904039e+21,\n",
              "  4.5170942282997325e+24,\n",
              "  3.286452781598042e+27,\n",
              "  2.3910884608087923e+30,\n",
              "  1.7396580469453624e+33,\n",
              "  1.2657039544567986e+36,\n",
              "  9.208743655918754e+38,\n",
              "  6.6999047780345875e+41,\n",
              "  4.874576349606485e+44,\n",
              "  3.546542133859018e+47,\n",
              "  2.580318822630123e+50,\n",
              "  1.877334309059653e+53,\n",
              "  1.3658715648092498e+56,\n",
              "  9.937522169340737e+58,\n",
              "  7.23013418029031e+61,\n",
              "  5.2603495493353654e+64,\n",
              "  3.827214916235726e+67,\n",
              "  2.7845248452943975e+70,\n",
              "  2.025906248737079e+73,\n",
              "  1.4739664239692015e+76,\n",
              "  1.0723976098809579e+79,\n",
              "  7.802325853403653e+81,\n",
              "  5.676652778949155e+84,\n",
              "  4.130100098125699e+87,\n",
              "  3.0048917002275513e+90,\n",
              "  2.186236148173273e+93,\n",
              "  1.5906158931510117e+96,\n",
              "  1.1572669867610675e+99,\n",
              "  8.419800684839945e+101,\n",
              "  6.125902180174195e+104,\n",
              "  4.45695556530573e+107,\n",
              "  3.242698353133791e+110,\n",
              "  2.3592545304398924e+113,\n",
              "  1.7164969828358894e+116,\n",
              "  1.2488529126763491e+119,\n",
              "  9.086142376571328e+121,\n",
              "  6.610705107809731e+124,\n",
              "  4.809678322354479e+127,\n",
              "  3.499324986860748e+130,\n",
              "  2.545965560057146e+133,\n",
              "  1.8523402820073994e+136,\n",
              "  1.3476869342530255e+139,\n",
              "  9.805218244177152e+141,\n",
              "  7.133875262301405e+144,\n",
              "  5.190315502492567e+147,\n",
              "  3.776261011707679e+150,\n",
              "  2.747452870966198e+153,\n",
              "  1.9989341983452487e+156,\n",
              "  1.4543426646328594e+159,\n",
              "  1.0581201661977354e+162,\n",
              "  7.69844901990129e+164,\n",
              "  5.601076248738956e+167,\n",
              "  4.075113709668951e+170,\n",
              "  2.9648858557265196e+173,\n",
              "  2.157129533988201e+176,\n",
              "  1.5694391126109547e+179,\n",
              "  1.1418596284475767e+182,\n",
              "  8.307703055197478e+184,\n",
              "  6.044344535340992e+187,\n",
              "  4.397617562781161e+190,\n",
              "  3.1995264524394883e+193,\n",
              "  2.327844423421329e+196,\n",
              "  1.6936442752402257e+199,\n",
              "  1.2322262184678686e+202,\n",
              "  8.965173358285369e+204,\n",
              "  6.522693003890667e+207,\n",
              "  4.7456443197146644e+210,\n",
              "  3.452736468787781e+213,\n",
              "  2.5120696621473495e+216,\n",
              "  1.8276790147545115e+219,\n",
              "  1.329744406100031e+222,\n",
              "  9.674675756956349e+224,\n",
              "  7.038897894427301e+227,\n",
              "  5.121213859032713e+230,\n",
              "  3.7259854856982714e+233,\n",
              "  2.7108744570680337e+236,\n",
              "  1.972321242310659e+239,\n",
              "  1.434980167645642e+242,\n",
              "  1.0440328063008194e+245,\n",
              "  7.595955158186781e+247,\n",
              "  5.526505912167631e+250,\n",
              "  4.0208593864994506e+253,\n",
              "  2.925412631949805e+256,\n",
              "  2.1284104328309336e+259,\n",
              "  1.5485442706809547e+262,\n",
              "  1.1266573971211348e+265,\n",
              "  8.197097845511346e+267,\n",
              "  5.963872714152359e+270,\n",
              "  4.339069561074961e+273,\n",
              "  3.156929323989332e+276,\n",
              "  2.296852497150234e+279,\n",
              "  1.6710958188315634e+282,\n",
              "  1.2158208849637215e+285,\n",
              "  8.845814869835084e+287])"
            ]
          },
          "metadata": {
            "tags": []
          },
          "execution_count": 137
        }
      ]
    },
    {
      "metadata": {
        "id": "xeTOMZcLznTa",
        "colab_type": "code",
        "colab": {
          "base_uri": "https://localhost:8080/",
          "height": 35
        },
        "outputId": "1e2e3096-1b74-4156-bdc1-0abe2c500ba2"
      },
      "cell_type": "code",
      "source": [
        "model = LinearRegression()\n",
        "model.fit(X_train,y_train)\n",
        "\n",
        "pred = model.predict(X_test)\n",
        "class_pred = pred/len(pred)\n",
        "\n",
        "error_rate = 1- class_pred \n",
        "\n",
        "y_test = 1.0*y_test\n",
        "\n",
        "optimizer = mean_squared_error(pred,y_test)\n",
        "print(optimizer)\n",
        "#accuracy_score(y_test,pred)\n",
        "\n",
        "score = model.score(X_test,y_test)\n",
        "\n",
        "\n",
        "#cross_val_score(X_test,y_test)\n",
        "#cnf_matrix = confusion_matrix(y_test, pred)\n",
        "#np.set_printoptions(precision=2)"
      ],
      "execution_count": 127,
      "outputs": [
        {
          "output_type": "stream",
          "text": [
            "0.0631199608911289\n"
          ],
          "name": "stdout"
        }
      ]
    },
    {
      "metadata": {
        "id": "bKTCcV63Llu1",
        "colab_type": "code",
        "colab": {
          "base_uri": "https://localhost:8080/",
          "height": 35
        },
        "outputId": "8d46e381-00f0-4a5f-d3f8-ec15fbfc2db9"
      },
      "cell_type": "code",
      "source": [
        "X_train.shape[0]"
      ],
      "execution_count": 117,
      "outputs": [
        {
          "output_type": "execute_result",
          "data": {
            "text/plain": [
              "112"
            ]
          },
          "metadata": {
            "tags": []
          },
          "execution_count": 117
        }
      ]
    },
    {
      "metadata": {
        "id": "asa2DXwoG_VF",
        "colab_type": "code",
        "colab": {}
      },
      "cell_type": "code",
      "source": [
        ""
      ],
      "execution_count": 0,
      "outputs": []
    }
  ]
}