{
  "nbformat": 4,
  "nbformat_minor": 0,
  "metadata": {
    "colab": {
      "name": "Untitled12.ipynb",
      "version": "0.3.2",
      "provenance": [],
      "include_colab_link": true
    },
    "kernelspec": {
      "name": "python3",
      "display_name": "Python 3"
    },
    "accelerator": "GPU"
  },
  "cells": [
    {
      "cell_type": "markdown",
      "metadata": {
        "id": "view-in-github",
        "colab_type": "text"
      },
      "source": [
        "<a href=\"https://colab.research.google.com/github/redman157/phamson/blob/master/Linear-Iris.ipynb\" target=\"_parent\"><img src=\"https://colab.research.google.com/assets/colab-badge.svg\" alt=\"Open In Colab\"/></a>"
      ]
    },
    {
      "metadata": {
        "id": "eyXZ3pCTwJWD",
        "colab_type": "code",
        "colab": {}
      },
      "cell_type": "code",
      "source": [
        "from __future__ import division, print_function\n",
        "import pandas as pd\n",
        "import matplotlib.pyplot as plt\n",
        "import requests\n",
        "import os \n",
        "import csv\n",
        "data = \"https://archive.ics.uci.edu/ml/machine-learning-databases/iris/iris.data\"\n",
        "\n",
        "def download_data(path):\n",
        "  filename = (path.split('/')[-1])\n",
        "  dir = os.path.join(os.path.abspath(os.path.dirname(filename)))\n",
        "  r = requests.get(path,allow_redirects=True, stream = True,verify = False)\n",
        "  if r.status_code == 200:    \n",
        "    with open(dir + '/' + filename ,'wb') as f:\n",
        "      f.write(r.content)\n",
        "download_data(data)\n",
        "print(os.path.join(filename + '.csv'))\n",
        "data = pd.read_csv(filename)\n",
        "#gradient descent : theta + 1 = theta_ 0 + (lr*loss_function ) * x(i)"
      ],
      "execution_count": 0,
      "outputs": []
    }
  ]
}