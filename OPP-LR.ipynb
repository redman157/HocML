{
  "nbformat": 4,
  "nbformat_minor": 0,
  "metadata": {
    "colab": {
      "name": "Untitled16.ipynb",
      "version": "0.3.2",
      "provenance": [],
      "include_colab_link": true
    },
    "kernelspec": {
      "name": "python3",
      "display_name": "Python 3"
    }
  },
  "cells": [
    {
      "cell_type": "markdown",
      "metadata": {
        "id": "view-in-github",
        "colab_type": "text"
      },
      "source": [
        "<a href=\"https://colab.research.google.com/github/redman157/HocML/blob/master/OPP-LR.ipynb\" target=\"_parent\"><img src=\"https://colab.research.google.com/assets/colab-badge.svg\" alt=\"Open In Colab\"/></a>"
      ]
    },
    {
      "metadata": {
        "id": "sgQPQVtODJDH",
        "colab_type": "code",
        "colab": {}
      },
      "cell_type": "code",
      "source": [
        "import numpy as np\n",
        "from sklearn.linear_model import LinearRegression\n",
        "from sklearn.datasets import load_boston\n",
        "from sklearn.metrics import mean_squared_error, r2_score\n"
      ],
      "execution_count": 0,
      "outputs": []
    },
    {
      "metadata": {
        "id": "m_l4oYbfLMES",
        "colab_type": "code",
        "colab": {}
      },
      "cell_type": "code",
      "source": [
        "boston = load_boston()\n",
        "data = boston.data\n",
        "target = boston.target"
      ],
      "execution_count": 0,
      "outputs": []
    },
    {
      "metadata": {
        "id": "uyxH43IoKsZ8",
        "colab_type": "code",
        "colab": {}
      },
      "cell_type": "code",
      "source": [
        "class MyLinearRegression:\n",
        "  def __init__(self, fit_intercept=True):\n",
        "    self.coef_ = None\n",
        "    self.intercept_ = None\n",
        "    self._fit_intercept = fit_intercept\n",
        "  def fit(self,X,y):\n",
        "   # check if X is 1D or 2D array\n",
        "    if len(X.shape) == 1:\n",
        "      X = X.reshape(-1,1) \n",
        "    # add bias if fit_intercept is True\n",
        "    if self._fit_intercept:\n",
        "      X = np.c_[np.ones(X.shape[0]), X]\n",
        "    # tim trong so weigt = coef\n",
        "    XT = np.dot(X.T,X)\n",
        "    inv_XT = np.linalg.inv(XT)\n",
        "    YT = np.dot(X.T,y)\n",
        "    coef = np.dot(inv_XT,YT)\n",
        "      # set trang thái\n",
        "    if self._fit_intercept:\n",
        "      self.intercept_ = coef[0]\n",
        "      self.coef_ = coef[1:]\n",
        "    else:\n",
        "      self.intercept_ = 0\n",
        "      self.coef_ = coef\n",
        "      # set prediction\n",
        "  def predict(self,X):\n",
        "      if len(X.shape) == 1:\n",
        "          X = X.reshape(-1,1) \n",
        "      return self.intercept_ + np.dot(X, self.coef_)\n",
        "                                        \n"
      ],
      "execution_count": 0,
      "outputs": []
    },
    {
      "metadata": {
        "id": "O7A6kI9shUWI",
        "colab_type": "code",
        "colab": {}
      },
      "cell_type": "code",
      "source": [
        "class Metrics:\n",
        "  def __init__(self,X,y,model):\n",
        "    self.data = X\n",
        "    self.target = y\n",
        "    self.model = model\n",
        "    # goi model lên để train\n",
        "    # khởi tao gia trị variable variance\n",
        "    self._dft = X.shape[0] - 1\n",
        "    # khởi tạo giá trị error variance\n",
        "    self._dfe = X.shape[0] - X.shape[1] - 1\n",
        "  def mse(self):\n",
        "    self.mse_ = np.mean((self.model.predict(self.data) - self.target) ** 2 )\n",
        "    return self.mse_"
      ],
      "execution_count": 0,
      "outputs": []
    },
    {
      "metadata": {
        "id": "3DYa2lykezRQ",
        "colab_type": "code",
        "colab": {
          "base_uri": "https://localhost:8080/",
          "height": 51
        },
        "outputId": "1cf37b86-ddbf-49a3-8df8-c3eecb7a3510"
      },
      "cell_type": "code",
      "source": [
        "lr = LinearRegression()\n",
        "lr.fit(data,target)"
      ],
      "execution_count": 26,
      "outputs": [
        {
          "output_type": "execute_result",
          "data": {
            "text/plain": [
              "LinearRegression(copy_X=True, fit_intercept=True, n_jobs=None,\n",
              "         normalize=False)"
            ]
          },
          "metadata": {
            "tags": []
          },
          "execution_count": 26
        }
      ]
    },
    {
      "metadata": {
        "id": "OwfTCUHAeu3g",
        "colab_type": "code",
        "colab": {}
      },
      "cell_type": "code",
      "source": [
        "mlr = MyLinearRegression()\n",
        "mlr.fit(data ,target)\n",
        "pred = mlr.predict(data)\n"
      ],
      "execution_count": 0,
      "outputs": []
    },
    {
      "metadata": {
        "id": "VBCXObCjMWjV",
        "colab_type": "code",
        "colab": {}
      },
      "cell_type": "code",
      "source": [
        ""
      ],
      "execution_count": 0,
      "outputs": []
    },
    {
      "metadata": {
        "id": "wsdrlaCBGfdL",
        "colab_type": "code",
        "colab": {}
      },
      "cell_type": "code",
      "source": [
        "def ols(X, y):\n",
        "    '''returns parameters based on Ordinary Least Squares.'''\n",
        "    xtx = np.dot(X.T, X) ## x-transpose times x\n",
        "    inv_xtx = np.linalg.inv(xtx) ## inverse of x-transpose times x\n",
        "    xty = np.dot(X.T, y) ## x-transpose times y\n",
        "    return np.dot(inv_xtx, xty)\n",
        "  \n",
        "parameters = ols(X,y)\n",
        "predictions = np.dot(X_new, parameters)"
      ],
      "execution_count": 0,
      "outputs": []
    },
    {
      "metadata": {
        "id": "Ih4BDmPKDbQG",
        "colab_type": "code",
        "colab": {}
      },
      "cell_type": "code",
      "source": [
        ""
      ],
      "execution_count": 0,
      "outputs": []
    }
  ]
}