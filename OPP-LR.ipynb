{
  "nbformat": 4,
  "nbformat_minor": 0,
  "metadata": {
    "colab": {
      "name": "Untitled16.ipynb",
      "version": "0.3.2",
      "provenance": [],
      "include_colab_link": true
    },
    "kernelspec": {
      "name": "python3",
      "display_name": "Python 3"
    }
  },
  "cells": [
    {
      "cell_type": "markdown",
      "metadata": {
        "id": "view-in-github",
        "colab_type": "text"
      },
      "source": [
        "<a href=\"https://colab.research.google.com/github/redman157/HocML/blob/master/OPP-LR.ipynb\" target=\"_parent\"><img src=\"https://colab.research.google.com/assets/colab-badge.svg\" alt=\"Open In Colab\"/></a>"
      ]
    },
    {
      "metadata": {
        "id": "sgQPQVtODJDH",
        "colab_type": "code",
        "colab": {}
      },
      "cell_type": "code",
      "source": [
        ""
      ],
      "execution_count": 0,
      "outputs": []
    },
    {
      "metadata": {
        "id": "m_l4oYbfLMES",
        "colab_type": "code",
        "colab": {
          "base_uri": "https://localhost:8080/",
          "height": 34
        },
        "outputId": "890b2aa4-a8d6-47aa-810f-2c87c97f4b39"
      },
      "cell_type": "code",
      "source": [
        ""
      ],
      "execution_count": 7,
      "outputs": [
        {
          "output_type": "execute_result",
          "data": {
            "text/plain": [
              "'https://archive.ics.uci.edu/ml/machine-learning-databases/00280/HIGGS.csv.gz'"
            ]
          },
          "metadata": {
            "tags": []
          },
          "execution_count": 7
        }
      ]
    },
    {
      "metadata": {
        "id": "uyxH43IoKsZ8",
        "colab_type": "code",
        "colab": {
          "base_uri": "https://localhost:8080/",
          "height": 129
        },
        "outputId": "b90ebd35-dec7-4753-a5cc-7eb63dcfe6b5"
      },
      "cell_type": "code",
      "source": [
        "import numpy as np\n",
        "from sklearn.linear_model import LinearRegression\n",
        "from sklearn.datasets import load_boston\n",
        "from sklearn.metrics import mean_squared_error, r2_score\n",
        "\n",
        "X = np.array([[0,0,1],\n",
        "              [0,1,1],\n",
        "              [1,0,1],\n",
        "              [1,1,1]])\n",
        "y = np.array([[0,0,1,1]]).T\n",
        "  \n",
        "class MyLinearRegression:\n",
        "    def __init__(self, fit_intercept=True):\n",
        "        self.coef_ = None\n",
        "        self.intercept_ = None\n",
        "        self._fit_intercept = fit_intercept\n",
        "    def fit(X,y):\n",
        "      \n",
        "      # check if X is 1D or 2D array\n",
        "      if len(X.shape) == 1:\n",
        "        X = X.reshape(-1,1) \n",
        "      # add bias if fit_intercept is True\n",
        "      if self._fit_intercept:\n",
        "        X = np.c_[np.ones(X.shape[0]), X]\n",
        "      # tim trong so weigt = coef\n",
        "      XT = np.dot(X.T,X)\n",
        "      inv_XT = np.linalg.inv(XT)\n",
        "      YT = np.dot(X.T,y)\n",
        "      coef = np.dot(inv_XT,YT)\n",
        "      # set trang thái\n",
        "      if self._fit_intercept:\n",
        "        self.intercept_ = coef[0]\n",
        "        self.coef_ = coef[1:]\n",
        "      else:\n",
        "        self.intercept_ = 0\n",
        "        self.coef_ = coef\n",
        "        # set prediction\n",
        "      def predict(self,X):\n",
        "        if len(X.shape) == 1:\n",
        "            X = X.reshape(-1,1) \n",
        "        return self.intercept_ + np.dot(X, self.coef_\n",
        "                                        \n",
        "lr = MyLinearRegression\n",
        "lr.fit(X_data,y_target)\n",
        "pred = lr.predict(X_new_data)"
      ],
      "execution_count": 8,
      "outputs": [
        {
          "output_type": "error",
          "ename": "SyntaxError",
          "evalue": "ignored",
          "traceback": [
            "\u001b[0;36m  File \u001b[0;32m\"<ipython-input-8-12c9b0b75462>\"\u001b[0;36m, line \u001b[0;32m43\u001b[0m\n\u001b[0;31m    lr = MyLinearRegression\u001b[0m\n\u001b[0m     ^\u001b[0m\n\u001b[0;31mSyntaxError\u001b[0m\u001b[0;31m:\u001b[0m invalid syntax\n"
          ]
        }
      ]
    },
    {
      "metadata": {
        "id": "VBCXObCjMWjV",
        "colab_type": "code",
        "colab": {}
      },
      "cell_type": "code",
      "source": [
        "class Metrics:\n",
        "  def __init__(self,X,y,model):\n",
        "    self.data = X\n",
        "    self.target = y\n",
        "    self.model = model"
      ],
      "execution_count": 0,
      "outputs": []
    },
    {
      "metadata": {
        "id": "wsdrlaCBGfdL",
        "colab_type": "code",
        "colab": {}
      },
      "cell_type": "code",
      "source": [
        "def ols(X, y):\n",
        "    '''returns parameters based on Ordinary Least Squares.'''\n",
        "    xtx = np.dot(X.T, X) ## x-transpose times x\n",
        "    inv_xtx = np.linalg.inv(xtx) ## inverse of x-transpose times x\n",
        "    xty = np.dot(X.T, y) ## x-transpose times y\n",
        "    return np.dot(inv_xtx, xty)\n",
        "  \n",
        "parameters = ols(X,y)\n",
        "predictions = np.dot(X_new, parameters)"
      ],
      "execution_count": 0,
      "outputs": []
    },
    {
      "metadata": {
        "id": "Ih4BDmPKDbQG",
        "colab_type": "code",
        "colab": {}
      },
      "cell_type": "code",
      "source": [
        ""
      ],
      "execution_count": 0,
      "outputs": []
    }
  ]
}