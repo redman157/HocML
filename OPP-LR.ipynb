{
  "nbformat": 4,
  "nbformat_minor": 0,
  "metadata": {
    "colab": {
      "name": "Untitled16.ipynb",
      "version": "0.3.2",
      "provenance": [],
      "include_colab_link": true
    },
    "kernelspec": {
      "name": "python3",
      "display_name": "Python 3"
    }
  },
  "cells": [
    {
      "cell_type": "markdown",
      "metadata": {
        "id": "view-in-github",
        "colab_type": "text"
      },
      "source": [
        "<a href=\"https://colab.research.google.com/github/redman157/HocML/blob/master/OPP-LR.ipynb\" target=\"_parent\"><img src=\"https://colab.research.google.com/assets/colab-badge.svg\" alt=\"Open In Colab\"/></a>"
      ]
    },
    {
      "metadata": {
        "id": "sgQPQVtODJDH",
        "colab_type": "code",
        "colab": {}
      },
      "cell_type": "code",
      "source": [
        "import numpy as np\n",
        "from sklearn.linear_model import LinearRegression\n",
        "from sklearn.datasets import load_boston\n",
        "from sklearn.metrics import mean_squared_error, r2_score\n"
      ],
      "execution_count": 0,
      "outputs": []
    },
    {
      "metadata": {
        "id": "m_l4oYbfLMES",
        "colab_type": "code",
        "colab": {}
      },
      "cell_type": "code",
      "source": [
        "boston = load_boston()\n",
        "data = boston.data\n",
        "target = boston.target"
      ],
      "execution_count": 0,
      "outputs": []
    },
    {
      "metadata": {
        "id": "uyxH43IoKsZ8",
        "colab_type": "code",
        "colab": {}
      },
      "cell_type": "code",
      "source": [
        "class MyLinearRegression:\n",
        "  def __init__(self, fit_intercept=True):\n",
        "    self.coef_ = None\n",
        "    self.intercept_ = None\n",
        "    self._fit_intercept = fit_intercept\n",
        "  def fit(self,X,y):\n",
        "   # check if X is 1D or 2D array\n",
        "    if len(X.shape) == 1:\n",
        "      X = X.reshape(-1,1) \n",
        "    # add bias if fit_intercept is True\n",
        "    if self._fit_intercept:\n",
        "      X = np.c_[np.ones(X.shape[0]), X]\n",
        "    # tim trong so weigt = coef\n",
        "    XT = np.dot(X.T,X)\n",
        "    inv_XT = np.linalg.inv(XT)\n",
        "    YT = np.dot(X.T,y)\n",
        "    coef = np.dot(inv_XT,YT)\n",
        "      # set trang thái\n",
        "    if self._fit_intercept:\n",
        "      self.intercept_ = coef[0]\n",
        "      self.coef_ = coef[1:]\n",
        "    else:\n",
        "      self.intercept_ = 0\n",
        "      self.coef_ = coef\n",
        "      # set prediction\n",
        "  def predict(self,X):\n",
        "      if len(X.shape) == 1:\n",
        "          X = X.reshape(-1,1) \n",
        "      return self.intercept_ + np.dot(X, self.coef_)\n",
        "                                        \n"
      ],
      "execution_count": 0,
      "outputs": []
    },
    {
      "metadata": {
        "id": "O7A6kI9shUWI",
        "colab_type": "code",
        "colab": {}
      },
      "cell_type": "code",
      "source": [
        "class Metrics:\n",
        "  def __init__(self,X,y,model):\n",
        "    self.data = X\n",
        "    self.target = y\n",
        "    self.model = model\n",
        "    # goi model lên để train\n",
        "    # khởi tao gia trị variable variance\n",
        "    self._dft = X.shape[0] - 1\n",
        "    # khởi tạo giá trị error variance\n",
        "    self._dfe = X.shape[0] - X.shape[1] - 1\n",
        "  def mse(self):\n",
        "    # mse = gia tri trung binh 1/can 2 (can bac 2 ( pred - target))\n",
        "    self.mse_ = np.mean((self.model.predict(self.data) - self.target) ** 2 )\n",
        "    return self.mse_"
      ],
      "execution_count": 0,
      "outputs": []
    },
    {
      "metadata": {
        "id": "3DYa2lykezRQ",
        "colab_type": "code",
        "colab": {
          "base_uri": "https://localhost:8080/",
          "height": 34
        },
        "outputId": "f00eb009-34f0-4512-cf49-0ff8017b65ce"
      },
      "cell_type": "code",
      "source": [
        "lr = LinearRegression()\n",
        "lr.fit(data,target)\n",
        "mean_squared_error(target,lr.predict(data))"
      ],
      "execution_count": 33,
      "outputs": [
        {
          "output_type": "execute_result",
          "data": {
            "text/plain": [
              "21.894831181729202"
            ]
          },
          "metadata": {
            "tags": []
          },
          "execution_count": 33
        }
      ]
    },
    {
      "metadata": {
        "id": "iegurGF4jrzg",
        "colab_type": "code",
        "colab": {}
      },
      "cell_type": "code",
      "source": [
        ""
      ],
      "execution_count": 0,
      "outputs": []
    },
    {
      "metadata": {
        "id": "OwfTCUHAeu3g",
        "colab_type": "code",
        "colab": {}
      },
      "cell_type": "code",
      "source": [
        "mlr = MyLinearRegression()\n",
        "mlr.fit(data ,target)\n",
        "pred = mlr.predict(data)\n"
      ],
      "execution_count": 0,
      "outputs": []
    },
    {
      "metadata": {
        "id": "VBCXObCjMWjV",
        "colab_type": "code",
        "colab": {
          "base_uri": "https://localhost:8080/",
          "height": 34
        },
        "outputId": "25a2b8fa-e1d1-425d-c493-613b2f7a896c"
      },
      "cell_type": "code",
      "source": [
        "metrics = Metrics(data,target,mlr)\n",
        "metrics.mse()"
      ],
      "execution_count": 37,
      "outputs": [
        {
          "output_type": "execute_result",
          "data": {
            "text/plain": [
              "21.894831181729206"
            ]
          },
          "metadata": {
            "tags": []
          },
          "execution_count": 37
        }
      ]
    },
    {
      "metadata": {
        "id": "wsdrlaCBGfdL",
        "colab_type": "code",
        "colab": {}
      },
      "cell_type": "code",
      "source": [
        "def ols(X, y):\n",
        "    '''returns parameters based on Ordinary Least Squares.'''\n",
        "    xtx = np.dot(X.T, X) ## x-transpose times x\n",
        "    inv_xtx = np.linalg.inv(xtx) ## inverse of x-transpose times x\n",
        "    xty = np.dot(X.T, y) ## x-transpose times y\n",
        "    return np.dot(inv_xtx, xty)\n",
        "  \n",
        "parameters = ols(X,y)\n",
        "predictions = np.dot(X_new, parameters)"
      ],
      "execution_count": 0,
      "outputs": []
    },
    {
      "metadata": {
        "id": "Ih4BDmPKDbQG",
        "colab_type": "code",
        "colab": {}
      },
      "cell_type": "code",
      "source": [
        ""
      ],
      "execution_count": 0,
      "outputs": []
    }
  ]
}