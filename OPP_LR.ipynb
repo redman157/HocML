{
  "nbformat": 4,
  "nbformat_minor": 0,
  "metadata": {
    "colab": {
      "name": "Untitled14.ipynb",
      "version": "0.3.2",
      "provenance": [],
      "include_colab_link": true
    },
    "kernelspec": {
      "name": "python3",
      "display_name": "Python 3"
    }
  },
  "cells": [
    {
      "cell_type": "markdown",
      "metadata": {
        "id": "view-in-github",
        "colab_type": "text"
      },
      "source": [
        "<a href=\"https://colab.research.google.com/github/redman157/phamson/blob/master/OPP_LR.ipynb\" target=\"_parent\"><img src=\"https://colab.research.google.com/assets/colab-badge.svg\" alt=\"Open In Colab\"/></a>"
      ]
    },
    {
      "metadata": {
        "id": "ahe70Mv82DrR",
        "colab_type": "code",
        "colab": {}
      },
      "cell_type": "code",
      "source": [
        "import numpy as np\n",
        "\n",
        "def weight(X,y):\n",
        "  # W = (X.T * X) * (X.T * y)\n",
        "  Xbar = np.dot(X.T,X)\n",
        "  inv_Xbar = np.linalg.inv(Xbar)\n",
        "  ybar = np.dot(X.T,y)\n",
        "  return np.dot(inv_Xbar,ybar)\n",
        "parameters = weight(X,y)\n",
        "pred = np.dot(X_test, parameters)\n",
        "\n",
        "class MyLinearRegression:\n",
        "  def __init__(self, fit_intercept=True):\n",
        "    self.coef_ = None\n",
        "    self.intercept_ = None\n",
        "    self.fit_intercept = fit_intercept\n",
        "  def fit(self,X,y):\n",
        "    X = np.array([[0,0,1],\n",
        "              [0,1,1],\n",
        "              [1,0,1],\n",
        "              [1,1,1]])\n",
        "    y = np.array([[0,0,1,1]]).T\n",
        "    \n",
        "mlr = MyLinearRegression()"
      ],
      "execution_count": 0,
      "outputs": []
    }
  ]
}