{
  "nbformat": 4,
  "nbformat_minor": 0,
  "metadata": {
    "colab": {
      "name": "Bonjour Colaboratory",
      "version": "0.3.2",
      "provenance": [],
      "collapsed_sections": [],
      "include_colab_link": true
    },
    "kernelspec": {
      "display_name": "Python 3",
      "name": "python3"
    }
  },
  "cells": [
    {
      "cell_type": "markdown",
      "metadata": {
        "id": "view-in-github",
        "colab_type": "text"
      },
      "source": [
        "<a href=\"https://colab.research.google.com/github/redman157/HocML/blob/master/SVM.ipynb\" target=\"_parent\"><img src=\"https://colab.research.google.com/assets/colab-badge.svg\" alt=\"Open In Colab\"/></a>"
      ]
    },
    {
      "metadata": {
        "id": "7yue7BDPQU0M",
        "colab_type": "code",
        "outputId": "376761a8-b3ca-463e-80b2-76adb1a662a3",
        "colab": {
          "base_uri": "https://localhost:8080/",
          "height": 364
        }
      },
      "cell_type": "code",
      "source": [
        "import numpy as np\n",
        "import matplotlib.pyplot as plt\n",
        "import seaborn as sns\n",
        "from sklearn.model_selection import train_test_split\n",
        "from sklearn.metrics import confusion_matrix\n",
        "X = np.array([\n",
        "    [-2, 4, -1],\n",
        "    [4, 1, -1],\n",
        "    [1, 6, -1],\n",
        "    [2, 4, -1],\n",
        "    [6, 2, -1]])\n",
        "y = np.array([-1, -1, 1, 1, 1])\n",
        "\n",
        "#(X_train,y_train),(X_test,y_test) = train_test_split(X_data,y_data)\n",
        "# w.T * X = do dai cua vector X * do dai cua trong so norm(U*v)\n",
        "def sigmoid(X):\n",
        "  return 1/ (1 + np.exp(-X))\n",
        "# can tim gia tri cos(w,x) = 90 >>> tim gia tri w sao cho w * x = cos(90)  \n",
        "import numpy.linalg as la\n",
        "def kernel(x,l):\n",
        "  sigma = 1 # sigma>0\n",
        "  result = np.exp(-np.sqrt(la.norm(x-l),2) / (2 * sigma **2))\n",
        "\n",
        "def _polykernel(dimension, offset):\n",
        "  return lambda x, y: (offset + np.inner(x, y)) ** dimension\n",
        "def svm(X,y):\n",
        "  y_pred = []\n",
        "  epoch = 10000\n",
        "  w = np.zeros(len(X[0]))\n",
        "  b = 0.0\n",
        "  lr = 1\n",
        "\n",
        "  for step in range(0,epoch):\n",
        "    for i, val in enumerate(X):\n",
        "      pred = np.dot(X[i], w)\n",
        "      \n",
        "      if y[i]*pred < 1:\n",
        "        w = w + lr* (X[i] * y[i]) + lr*(-2  * (0.0001) * w)\n",
        "      else:\n",
        "        w = w + lr*(-2 * (0.0001) * w)\n",
        "            \n",
        "  for index,val in enumerate(X):\n",
        "    y_pred.append(np.dot(X[index], w))\n",
        "  return w, y_pred\n",
        "\n",
        "for d, sample in enumerate(X):\n",
        "    # Plot the negative samples\n",
        "    if d < 2:\n",
        "        plt.scatter(sample[0], sample[1], s=120, marker='_', linewidths=2)\n",
        "    # Plot the positive samples\n",
        "    else:\n",
        "        plt.scatter(sample[0], sample[1], s=120, marker='+', linewidths=2)\n",
        "plt.plot([-2,6],[6,1])\n",
        "   \n"
      ],
      "execution_count": 61,
      "outputs": [
        {
          "output_type": "execute_result",
          "data": {
            "text/plain": [
              "[<matplotlib.lines.Line2D at 0x7f2a5467d470>]"
            ]
          },
          "metadata": {
            "tags": []
          },
          "execution_count": 61
        },
        {
          "output_type": "display_data",
          "data": {
            "image/png": "[encoded data removed]",
            "text/plain": [
              "<matplotlib.figure.Figure at 0x7f2a5467d908>"
            ]
          },
          "metadata": {
            "tags": []
          }
        }
      ]
    },
    {
      "metadata": {
        "id": "d_xTgl8sS69f",
        "colab_type": "code",
        "outputId": "30f59195-0d65-451f-d12f-ae91fd2af539",
        "colab": {
          "base_uri": "https://localhost:8080/",
          "height": 449
        }
      },
      "cell_type": "code",
      "source": [
        "\n",
        "for d, sample in enumerate(X):\n",
        "    # Plot the negative samples\n",
        "    if d < 2:\n",
        "        plt.scatter(sample[0], sample[1], s=120, marker='_', linewidths=2)\n",
        "    # Plot the positive samples\n",
        "    else:\n",
        "        plt.scatter(sample[0], sample[1], s=120, marker='+', linewidths=2)\n",
        "\n",
        "# # Add our test samples\n",
        "plt.scatter(2,2, s=120, marker='_', linewidths=2, color='yellow')\n",
        "plt.scatter(4,3, s=120, marker='+', linewidths=2, color='blue')\n",
        "\n",
        "w, y_pred = svm(X,y)\n",
        "\n",
        "for x in X:\n",
        "  print(np.dot(x, w))\n",
        "# Print the hyperplane calculated by svm_sgd()\n",
        "x2=[w[0],w[1],-w[1],w[0]]\n",
        "x3=[w[0],w[1],w[1],-w[0]]\n",
        "\n",
        "x2x3 =np.array([x2,x3])\n",
        "X,Y,U,V = zip(*x2x3)\n",
        "ax = plt.gca()\n",
        "ax.quiver(X,Y,U,V,scale=1, color='blue')\n"
      ],
      "execution_count": 62,
      "outputs": [
        {
          "output_type": "stream",
          "text": [
            "-1.7130842273037459\n",
            "-1.6310021769632996\n",
            "9.633557588251133\n",
            "4.801980448381116\n",
            "4.8567018152747465\n"
          ],
          "name": "stdout"
        },
        {
          "output_type": "execute_result",
          "data": {
            "text/plain": [
              "<matplotlib.quiver.Quiver at 0x7f2a5442dc18>"
            ]
          },
          "metadata": {
            "tags": []
          },
          "execution_count": 62
        },
        {
          "output_type": "display_data",
          "data": {
            "image/png": "[encoded data removed]",
            "text/plain": [
              "<matplotlib.figure.Figure at 0x7f2a5458d5f8>"
            ]
          },
          "metadata": {
            "tags": []
          }
        }
      ]
    },
    {
      "metadata": {
        "id": "VtbOWB1HT5EG",
        "colab_type": "code",
        "colab": {}
      },
      "cell_type": "code",
      "source": [
        "from __future__ import division, print_function\n",
        "import pandas as pd\n",
        "import os \n",
        "import numpy as np\n",
        "import requests\n",
        "import matplotlib.pyplot as plt\n",
        "import seaborn as sns\n",
        "datasets = \"https://archive.ics.uci.edu/ml/machine-learning-databases/iris/iris.data\"\n",
        "name = ['Sepal Length','Sepal Width','Petal Length','Petal Width','Species']\n",
        "def download_data(path):\n",
        "  filename = (path.split('/')[-1])\n",
        "  dir = os.path.join(os.path.abspath(os.path.dirname(filename)))\n",
        "  r = requests.get(path,allow_redirects=True, stream = True,verify = False)\n",
        "  if r.status_code == 200:    \n",
        "    with open(dir + '/' + filename ,'wb') as f:\n",
        "      f.write(r.content)\n",
        "download_data(datasets)\n",
        "print(os.path.join(datasets + '.csv'))\n",
        "iris = pd.read_csv(datasets,names = name)"
      ],
      "execution_count": 0,
      "outputs": []
    },
    {
      "metadata": {
        "id": "jIYIZGYMPkDm",
        "colab_type": "code",
        "colab": {}
      },
      "cell_type": "code",
      "source": [
        "data = iris.drop('Species',axis = 1 )\n",
        "target = iris['Species']\n"
      ],
      "execution_count": 0,
      "outputs": []
    },
    {
      "metadata": {
        "id": "-dy4ZSuyT4hz",
        "colab_type": "code",
        "colab": {}
      },
      "cell_type": "code",
      "source": [
        "\n",
        "g = sns.lmplot(x='Sepal Length',y='Sepal Width',hue='Species',\n",
        "               col='Species',\n",
        "               markers=['o','x','^'],data=iris)\n",
        "g_0 = sns.lmplot(x='Petal Length',y='Petal Width',hue='Species',\n",
        "               col='Species',\n",
        "               markers=['o','x','^'],data=iris)\n"
      ],
      "execution_count": 0,
      "outputs": []
    },
    {
      "metadata": {
        "id": "qNzcRk-eiC4e",
        "colab_type": "code",
        "colab": {}
      },
      "cell_type": "code",
      "source": [
        "sns.jointplot(x='Sepal Length',y='Sepal Width')"
      ],
      "execution_count": 0,
      "outputs": []
    },
    {
      "metadata": {
        "id": "GXVZ8sWAel7V",
        "colab_type": "code",
        "colab": {}
      },
      "cell_type": "code",
      "source": [
        "import seaborn as sns\n",
        "sns.set(style=\"white\", color_codes=True)\n",
        "import matplotlib.pyplot as plt\n",
        "%matplotlib inline\n",
        "from mpl_toolkits.mplot3d import Axes3D\n",
        "from sklearn.decomposition import PCA\n",
        "from sklearn import datasets\n",
        "iris = datasets.load_iris()\n",
        "print(type(iris.data))\n",
        "iris.data.shape"
      ],
      "execution_count": 0,
      "outputs": []
    },
    {
      "metadata": {
        "id": "Yj_YrUKUh6t6",
        "colab_type": "code",
        "colab": {}
      },
      "cell_type": "code",
      "source": [
        "X = iris.data[:,:2]\n",
        "y = iris.target\n",
        "\n",
        "x_min, x_max = X[:, 0].min() - .5, X[:, 0].max() + .5\n",
        "y_min, y_max = X[:, 1].min() - .5, X[:, 1].max() + .5\n",
        "print(x_min,x_max)\n",
        "print(y_min,y_max)\n",
        "plt.figure(2, figsize=(7, 4))\n",
        "plt.clf()\n",
        "ax = Axes3D(fig, elev=-150, azim=110)\n",
        "fig = "
      ],
      "execution_count": 0,
      "outputs": []
    },
    {
      "metadata": {
        "id": "eznEaRcc2SAE",
        "colab_type": "code",
        "colab": {}
      },
      "cell_type": "code",
      "source": [
        ""
      ],
      "execution_count": 0,
      "outputs": []
    },
    {
      "metadata": {
        "id": "WLv2Og6b-nBB",
        "colab_type": "code",
        "colab": {}
      },
      "cell_type": "code",
      "source": [
        ""
      ],
      "execution_count": 0,
      "outputs": []
    },
    {
      "metadata": {
        "id": "f8dhMs3-_wFH",
        "colab_type": "code",
        "colab": {}
      },
      "cell_type": "code",
      "source": [
        ""
      ],
      "execution_count": 0,
      "outputs": []
    }
  ]
}