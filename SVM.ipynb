{
  "nbformat": 4,
  "nbformat_minor": 0,
  "metadata": {
    "colab": {
      "name": "Bonjour Colaboratory",
      "version": "0.3.2",
      "provenance": [],
      "collapsed_sections": [],
      "include_colab_link": true
    },
    "kernelspec": {
      "display_name": "Python 3",
      "name": "python3"
    }
  },
  "cells": [
    {
      "cell_type": "markdown",
      "metadata": {
        "id": "view-in-github",
        "colab_type": "text"
      },
      "source": [
        "<a href=\"https://colab.research.google.com/github/redman157/HocML/blob/master/SVM.ipynb\" target=\"_parent\"><img src=\"https://colab.research.google.com/assets/colab-badge.svg\" alt=\"Open In Colab\"/></a>"
      ]
    },
    {
      "metadata": {
        "id": "7yue7BDPQU0M",
        "colab_type": "code",
        "outputId": "7ec57e5b-9881-4dc8-fb0f-9e63954db141",
        "colab": {
          "base_uri": "https://localhost:8080/",
          "height": 134
        }
      },
      "cell_type": "code",
      "source": [
        "import numpy as np\n",
        "X = np.random.randn(10,10) +1\n",
        "y = np.random.randn(5,6) + 1 \n",
        "w = np.random.randn(7,8) +1\n",
        "# w.T * X = do dai cua vector X * do dai cua trong so norm(U*v)\n",
        "def sigmoid(X):\n",
        "  return 1/ (1 + np.exp(-X))\n",
        "# can tim gia tri cos(w,x) = 90 >>> tim gia tri w sao cho w * x = cos(90)  \n",
        "def Length_Vector(X):\n",
        "  return np.abs(np.add(np.pow(X1,2),np.pow(X2,2)))\n",
        "# tinh do dai vector can bac 2(x1^2 + x2^2)\n",
        "\n",
        "def weight(X,y):\n",
        "    \n",
        "\n",
        "def pred(X,W):\n",
        "  return np.dot(weight().T,X)\n",
        "\n",
        "def regulazation():\n",
        "  # viec chon gia tri lambda = ? de quyet dinh gia tri bien cua svm\n",
        "  # 1/C canbac2((theta1)^2 + (theta2)^2)\n",
        "\n",
        "def cost_function(y,pred):\n",
        "  # -(y * log(pred)  + (1-y ) * log ( 1 - pred))\n",
        "  # return np.add(np.multiply(y,np.log(pred))+np.multiply((1-y),np.log(pred)))\n",
        "  \n",
        "  z = sigmoid(pred)\n",
        "  "
      ],
      "execution_count": 0,
      "outputs": [
        {
          "output_type": "error",
          "ename": "IndentationError",
          "evalue": "ignored",
          "traceback": [
            "\u001b[0;36m  File \u001b[0;32m\"<ipython-input-10-3a8dcd64c6d4>\"\u001b[0;36m, line \u001b[0;32m23\u001b[0m\n\u001b[0;31m    def optimizer(X,y):\u001b[0m\n\u001b[0m      ^\u001b[0m\n\u001b[0;31mIndentationError\u001b[0m\u001b[0;31m:\u001b[0m expected an indented block\n"
          ]
        }
      ]
    },
    {
      "metadata": {
        "id": "KkmBBr3dgXyq",
        "colab_type": "code",
        "outputId": "d1d59b8a-10da-4e95-8cac-d61f759afc3d",
        "colab": {
          "base_uri": "https://localhost:8080/",
          "height": 377
        }
      },
      "cell_type": "code",
      "source": [
        "#kernel\n",
        "f1 = w/2\n",
        "kernel = np.exp(-(np.pow(w,2))/"
      ],
      "execution_count": 0,
      "outputs": [
        {
          "output_type": "stream",
          "text": [
            "[[-0.16284891  1.00216359 -0.18022941  1.0925476   3.02994701  0.27690043\n",
            "   0.48547245  0.95133938  1.57041208  2.20460118]\n",
            " [ 1.32588178  1.46391102  1.06822507  1.24352155  1.01356457  1.23109653\n",
            "   1.18345176  1.01471227  1.60327641 -1.10457877]\n",
            " [ 0.97451994  0.81286972  0.95711222 -0.27659305  0.8980759   0.29741927\n",
            "   1.34127845  0.82292221  0.50875101  1.68978053]\n",
            " [ 0.44628224  1.93510771  1.52484863 -0.611039    0.63075573 -0.26544762\n",
            "  -1.01601942  1.54416264  1.43372771  1.51777312]\n",
            " [ 3.37949137  1.54349752  0.11716074 -0.39144683  2.03967745  0.13288194\n",
            "   2.10621135  1.47127592  2.37290078  1.16521545]\n",
            " [ 1.11955147  0.25515637  1.4307609   2.89629848  2.8828249   1.63754328\n",
            "   0.31949926  3.05556724 -0.30388272  0.09285101]\n",
            " [ 1.19362795  0.17149154 -0.16527963  1.30917605  0.24109095  2.7817304\n",
            "   0.78949994  0.11265112  0.75910567  0.55305452]\n",
            " [-1.12870887  1.44283879  2.25608494  0.01373252  1.85879171  0.9082986\n",
            "   0.70702431  1.91792453 -0.9130675   1.67021162]\n",
            " [ 0.41047426  1.99850745 -0.48835516  1.05792217  0.23151743  0.85647768\n",
            "   1.0211708   1.40840523  1.76575651  1.15017723]\n",
            " [ 0.07749863 -0.67170887  0.46563373 -0.39147364  1.5288167   1.08653554\n",
            "   0.77072257  2.66207232  0.41758025  2.09281984]]\n"
          ],
          "name": "stdout"
        }
      ]
    },
    {
      "metadata": {
        "id": "Yj_YrUKUh6t6",
        "colab_type": "code",
        "colab": {}
      },
      "cell_type": "code",
      "source": [
        ""
      ],
      "execution_count": 0,
      "outputs": []
    }
  ]
}