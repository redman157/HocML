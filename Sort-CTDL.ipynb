{
  "nbformat": 4,
  "nbformat_minor": 0,
  "metadata": {
    "colab": {
      "name": "Hello, Colaboratory",
      "version": "0.3.2",
      "provenance": [],
      "collapsed_sections": [],
      "include_colab_link": true
    },
    "kernelspec": {
      "display_name": "Python 3",
      "name": "python3"
    }
  },
  "cells": [
    {
      "cell_type": "markdown",
      "metadata": {
        "id": "view-in-github",
        "colab_type": "text"
      },
      "source": [
        "<a href=\"https://colab.research.google.com/github/redman157/HocML/blob/master/Sort-CTDL.ipynb\" target=\"_parent\"><img src=\"https://colab.research.google.com/assets/colab-badge.svg\" alt=\"Open In Colab\"/></a>"
      ]
    },
    {
      "metadata": {
        "id": "s8l6ynX-Ky4m",
        "colab_type": "code",
        "colab": {}
      },
      "cell_type": "code",
      "source": [
        "def bubbleSort(alist):\n",
        "  for step in range(len(alist)-1,0,-1):\n",
        "    for i in range(step):\n",
        "      if(alist[i]> alist[i+1]):\n",
        "        temp = alist[i] \n",
        "        alist[i] = alist[i+1]\n",
        "        alist[i+1] = temp\n",
        "def shortBubble(alist):\n",
        "  exchange = True\n",
        "  step = len(alist) - 1\n",
        "  while step > 0 and exchange:\n",
        "    exchange = False\n",
        "    for i in range(step):\n",
        "      if(alist[i]> alist[i+1]):\n",
        "        exchange = True\n",
        "        temp = alist[i] \n",
        "        alist[i] = alist[i+1]\n",
        "        alist[i+1] = temp\n",
        "    step = step - 1 \n",
        "def selectionSort(alist):\n",
        "  for step in range(len(alist) -1 , 0 ,-1):\n",
        "    large = 0\n",
        "    for location in range(1,step+1):\n",
        "      if(alist[large] < alist[location]):\n",
        "        large = location\n",
        "    temp = alist[step]\n",
        "    alist[step] = alist[large]\n",
        "    alist[large] = temp\n",
        "    \n",
        "def mergeSort(alist):\n",
        "  if(len(alist) > 1):\n",
        "    mid = len(alist) //2\n",
        "    left = alist[:mid]\n",
        "    right = alist[mid:]\n",
        "    \n",
        "    mergeSort(left)\n",
        "    mergeSort(right)\n",
        "    \n",
        "    i = j = k = 0\n",
        "    while i < len(left) and j <len(right):\n",
        "      if( left[i] < right[j]):\n",
        "        alist[k] = left[i]\n",
        "        i = i + 1\n",
        "      else:\n",
        "        alist[k] = right[j]\n",
        "        j = j + 1\n",
        "      k = k+1\n",
        "    while i < len(left):\n",
        "      alist[k] = left[i]\n",
        "      i = i+1\n",
        "      k = k+1\n",
        "    while j < len(right):\n",
        "      alist[k] = right[j]\n",
        "      j = j+1\n",
        "      k = k +1\n",
        "def partition(arr, left, right):\n",
        "  index = left - 1\n",
        "  pivot = arr[right]\n",
        "  for i in range(left, right):\n",
        "    if(arr[i] <= pivot):\n",
        "    # arr[0] < arr[pivot]\n",
        "      index = index + 1 \n",
        "      arr[index], arr[i] = arr[i], arr[index]\n",
        "  arr[index + 1 ],arr[right] = arr[right], arr[index + 1]\n",
        "  return index + 1\n",
        "def quickSort(arr,left,right):\n",
        "  if( left < right):\n",
        "    pi = partition(arr,left,right)\n",
        "    quickSort(arr, left, pi - 1)\n",
        "    quickSort(arr, pi+1, right)\n",
        "      \n",
        "     \n",
        "        "
      ],
      "execution_count": 0,
      "outputs": []
    },
    {
      "metadata": {
        "id": "zZiUWhTlKHYM",
        "colab_type": "code",
        "outputId": "490dbdca-faaf-4f27-de75-458760eebfef",
        "colab": {
          "base_uri": "https://localhost:8080/",
          "height": 35
        }
      },
      "cell_type": "code",
      "source": [
        "alist = [54,26,93,17,77,31,44,55,20]\n",
        "#bubbleSort(alist)\n",
        "#shortBubble(alist)\n",
        "#selectionSort(alist)\n",
        "quickSort(alist, 0,len(alist) - 1)\n",
        "#mergeSort(alist)\n",
        "print(alist)"
      ],
      "execution_count": 26,
      "outputs": [
        {
          "output_type": "stream",
          "text": [
            "[17, 20, 26, 31, 44, 54, 55, 77, 93]\n"
          ],
          "name": "stdout"
        }
      ]
    },
    {
      "metadata": {
        "id": "XYtoH0qYK40F",
        "colab_type": "code",
        "outputId": "ea7e6e42-9115-4e2e-8280-58d2d8894c39",
        "colab": {
          "base_uri": "https://localhost:8080/",
          "height": 35
        }
      },
      "cell_type": "code",
      "source": [
        "index = 0 -1 \n",
        "\n",
        "alist[index]"
      ],
      "execution_count": 5,
      "outputs": [
        {
          "output_type": "execute_result",
          "data": {
            "text/plain": [
              "20"
            ]
          },
          "metadata": {
            "tags": []
          },
          "execution_count": 5
        }
      ]
    },
    {
      "metadata": {
        "id": "K9GXoXv1Mo47",
        "colab_type": "code",
        "colab": {}
      },
      "cell_type": "code",
      "source": [
        ""
      ],
      "execution_count": 0,
      "outputs": []
    }
  ]
}