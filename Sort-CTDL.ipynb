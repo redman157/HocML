{
  "nbformat": 4,
  "nbformat_minor": 0,
  "metadata": {
    "colab": {
      "name": "Hello, Colaboratory",
      "version": "0.3.2",
      "provenance": [],
      "collapsed_sections": [],
      "include_colab_link": true
    },
    "kernelspec": {
      "display_name": "Python 3",
      "name": "python3"
    }
  },
  "cells": [
    {
      "cell_type": "markdown",
      "metadata": {
        "id": "view-in-github",
        "colab_type": "text"
      },
      "source": [
        "<a href=\"https://colab.research.google.com/github/redman157/HocML/blob/master/Sort-CTDL.ipynb\" target=\"_parent\"><img src=\"https://colab.research.google.com/assets/colab-badge.svg\" alt=\"Open In Colab\"/></a>"
      ]
    },
    {
      "metadata": {
        "id": "s8l6ynX-Ky4m",
        "colab_type": "code",
        "colab": {}
      },
      "cell_type": "code",
      "source": [
        "def bubbleSort(alist):\n",
        "  for step in range(len(alist)-1,0,-1):\n",
        "    for i in range(step):\n",
        "      if(alist[i]> alist[i+1]):\n",
        "        temp = alist[i] \n",
        "        alist[i] = alist[i+1]\n",
        "        alist[i+1] = temp\n",
        "def shortBubble(alist):\n",
        "  exchange = True\n",
        "  step = len(alist) - 1\n",
        "  while step > 0 and exchange:\n",
        "    exchange = False\n",
        "    for i in range(step):\n",
        "      if(alist[i]> alist[i+1]):\n",
        "        exchange = True\n",
        "        temp = alist[i] \n",
        "        alist[i] = alist[i+1]\n",
        "        alist[i+1] = temp\n",
        "    step = step - 1 \n",
        "def selectionSort(alist):\n",
        "  for step in range(len(alist) -1 , 0 ,-1):\n",
        "    large = 0\n",
        "    for location in range(1,step+1):\n",
        "      if(alist[large] < alist[location]):\n",
        "        large = location\n",
        "    temp = alist[step]\n",
        "    alist[step] = alist[large]\n",
        "    alist[large] = temp\n",
        "    \n",
        "def mergeSort(alist):\n",
        "  if(len(alist) > 1):\n",
        "    mid = len(alist) //2\n",
        "    left = alist[:mid]\n",
        "    right = alist[mid:]\n",
        "    \n",
        "    mergeSort(left)\n",
        "    mergeSort(right)\n",
        "    \n",
        "    i = j = k = 0\n",
        "    while i < len(left) and j <len(right):\n",
        "      if( left[i] < right[j]):\n",
        "        alist[k] = left[i]\n",
        "        i = i + 1\n",
        "      else:\n",
        "        alist[k] = right[j]\n",
        "        j = j + 1\n",
        "      k = k+1\n",
        "    while i < len(left):\n",
        "      alist[k] = left[i]\n",
        "      i = i+1\n",
        "      k = k+1\n",
        "    while j < len(right):\n",
        "      alist[k] = right[j]\n",
        "      j = j+1\n",
        "      k = k +1\n",
        "    \n",
        "        \n",
        "     \n",
        "        "
      ],
      "execution_count": 0,
      "outputs": []
    },
    {
      "metadata": {
        "id": "zZiUWhTlKHYM",
        "colab_type": "code",
        "colab": {
          "base_uri": "https://localhost:8080/",
          "height": 34
        },
        "outputId": "7dd7e8d9-416c-4233-bbf1-fa2b15ef1341"
      },
      "cell_type": "code",
      "source": [
        "alist = [54,26,93,17,77,31,44,55,20]\n",
        "#bubbleSort(alist)\n",
        "#shortBubble(alist)\n",
        "#selectionSort(alist)\n",
        "#quickSort(alist, 4)\n",
        "mergeSort(alist)\n",
        "print(alist)"
      ],
      "execution_count": 50,
      "outputs": [
        {
          "output_type": "stream",
          "text": [
            "[17, 20, 26, 31, 44, 54, 55, 77, 93]\n"
          ],
          "name": "stdout"
        }
      ]
    },
    {
      "metadata": {
        "id": "XYtoH0qYK40F",
        "colab_type": "code",
        "colab": {
          "base_uri": "https://localhost:8080/",
          "height": 34
        },
        "outputId": "6cfa4006-cac0-4ffb-b46c-67b0c157fd09"
      },
      "cell_type": "code",
      "source": [
        "max(alist)"
      ],
      "execution_count": 16,
      "outputs": [
        {
          "output_type": "execute_result",
          "data": {
            "text/plain": [
              "93"
            ]
          },
          "metadata": {
            "tags": []
          },
          "execution_count": 16
        }
      ]
    },
    {
      "metadata": {
        "id": "K9GXoXv1Mo47",
        "colab_type": "code",
        "colab": {}
      },
      "cell_type": "code",
      "source": [
        ""
      ],
      "execution_count": 0,
      "outputs": []
    }
  ]
}