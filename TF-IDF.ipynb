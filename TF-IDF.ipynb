{
  "nbformat": 4,
  "nbformat_minor": 0,
  "metadata": {
    "colab": {
      "name": "Untitled34.ipynb",
      "version": "0.3.2",
      "provenance": [],
      "include_colab_link": true
    },
    "kernelspec": {
      "name": "python3",
      "display_name": "Python 3"
    }
  },
  "cells": [
    {
      "cell_type": "markdown",
      "metadata": {
        "id": "view-in-github",
        "colab_type": "text"
      },
      "source": [
        "<a href=\"https://colab.research.google.com/github/redman157/HocML/blob/master/TF-IDF.ipynb\" target=\"_parent\"><img src=\"https://colab.research.google.com/assets/colab-badge.svg\" alt=\"Open In Colab\"/></a>"
      ]
    },
    {
      "metadata": {
        "id": "NclUH0muWyBZ",
        "colab_type": "code",
        "colab": {}
      },
      "cell_type": "code",
      "source": [
        "import numpy as np\n",
        "import math\n",
        "import pandas as pd\n",
        "\n",
        "docA = \"The cat sat on my face\"\n",
        "docB = \"The dog sat on my bed\"\n",
        "\n",
        "bowA = docA.split(\" \")\n",
        "bowB = docB.split(\" \")\n",
        "\n",
        "wordSet = set(bowA).union(set(bowB))\n",
        "\n",
        "wordDictA = dict.fromkeys(wordSet,0)\n",
        "wordDictB = dict.fromkeys(wordSet,0)\n",
        "\n",
        "for word in bowA:\n",
        "  wordDictA[word] += 1\n",
        "for word in bowB:\n",
        "  wordDictB[word] += 1\n",
        "  \n",
        "def computeTF(wordDict,bow):\n",
        "  tfDict = {}\n",
        "  bowCount = len(bow)\n",
        "  for word,count in wordDict.items():\n",
        "    tfDict[word] = count/float(bowCount)\n",
        "  return tfDict  \n",
        "def computeIDF(docList):\n",
        "  idfDict = {}\n",
        "  N = len(docList)\n",
        "  idfDict = dict.fromkeys(docList[0].keys(),0)\n",
        "  for doc in docList:\n",
        "    for word,val in doc.items():\n",
        "      if(val > 0):\n",
        "        idfDict[word] += 1\n",
        "  for word, val in idfDict.items():\n",
        "    idfDict[word] = math.log10(N/float(val))\n",
        "  return idfDict\n",
        "def computeTFIDF(tfBow, idfs):\n",
        "  tfidf = {}\n",
        "  for word, val in tfBow.items():\n",
        "    tfidf[word] = val * idfs[word]\n",
        "  return tfidf"
      ],
      "execution_count": 0,
      "outputs": []
    },
    {
      "metadata": {
        "id": "D_y6OcCKnwvk",
        "colab_type": "code",
        "colab": {
          "base_uri": "https://localhost:8080/",
          "height": 111
        },
        "outputId": "59019376-36f9-4561-fed9-a34e248b8e39"
      },
      "cell_type": "code",
      "source": [
        "pd.DataFrame([wordDictA,wordDictB])"
      ],
      "execution_count": 5,
      "outputs": [
        {
          "output_type": "execute_result",
          "data": {
            "text/html": [
              "<div>\n",
              "<style scoped>\n",
              "    .dataframe tbody tr th:only-of-type {\n",
              "        vertical-align: middle;\n",
              "    }\n",
              "\n",
              "    .dataframe tbody tr th {\n",
              "        vertical-align: top;\n",
              "    }\n",
              "\n",
              "    .dataframe thead th {\n",
              "        text-align: right;\n",
              "    }\n",
              "</style>\n",
              "<table border=\"1\" class=\"dataframe\">\n",
              "  <thead>\n",
              "    <tr style=\"text-align: right;\">\n",
              "      <th></th>\n",
              "      <th>The</th>\n",
              "      <th>bed</th>\n",
              "      <th>cat</th>\n",
              "      <th>dog</th>\n",
              "      <th>face</th>\n",
              "      <th>my</th>\n",
              "      <th>on</th>\n",
              "      <th>sat</th>\n",
              "    </tr>\n",
              "  </thead>\n",
              "  <tbody>\n",
              "    <tr>\n",
              "      <th>0</th>\n",
              "      <td>1</td>\n",
              "      <td>0</td>\n",
              "      <td>1</td>\n",
              "      <td>0</td>\n",
              "      <td>1</td>\n",
              "      <td>1</td>\n",
              "      <td>1</td>\n",
              "      <td>1</td>\n",
              "    </tr>\n",
              "    <tr>\n",
              "      <th>1</th>\n",
              "      <td>1</td>\n",
              "      <td>1</td>\n",
              "      <td>0</td>\n",
              "      <td>1</td>\n",
              "      <td>0</td>\n",
              "      <td>1</td>\n",
              "      <td>1</td>\n",
              "      <td>1</td>\n",
              "    </tr>\n",
              "  </tbody>\n",
              "</table>\n",
              "</div>"
            ],
            "text/plain": [
              "   The  bed  cat  dog  face  my  on  sat\n",
              "0    1    0    1    0     1   1   1    1\n",
              "1    1    1    0    1     0   1   1    1"
            ]
          },
          "metadata": {
            "tags": []
          },
          "execution_count": 5
        }
      ]
    },
    {
      "metadata": {
        "id": "2k07b5UdoG4B",
        "colab_type": "code",
        "colab": {}
      },
      "cell_type": "code",
      "source": [
        "tfDictA = computeTF(wordDictA,bowA)\n",
        "tfDictB = computeTF(wordDictB,bowB)"
      ],
      "execution_count": 0,
      "outputs": []
    },
    {
      "metadata": {
        "id": "TJAh9I8ioq11",
        "colab_type": "code",
        "colab": {}
      },
      "cell_type": "code",
      "source": [
        "idfWord = computeIDF([wordDictA,wordDictB])"
      ],
      "execution_count": 0,
      "outputs": []
    },
    {
      "metadata": {
        "id": "Xl4Uv6YLpTsL",
        "colab_type": "code",
        "colab": {}
      },
      "cell_type": "code",
      "source": [
        "tfidfDictA = computeTFIDF(tfDictA,idfWord)\n",
        "tfidfDictB = computeTFIDF(tfDictB,idfWord)"
      ],
      "execution_count": 0,
      "outputs": []
    },
    {
      "metadata": {
        "id": "RnI_FSe_qGoY",
        "colab_type": "code",
        "colab": {
          "base_uri": "https://localhost:8080/",
          "height": 111
        },
        "outputId": "c1095763-02a6-4228-a46b-15f262890f85"
      },
      "cell_type": "code",
      "source": [
        "pd.DataFrame([tfidfDictA,tfidfDictB])"
      ],
      "execution_count": 9,
      "outputs": [
        {
          "output_type": "execute_result",
          "data": {
            "text/html": [
              "<div>\n",
              "<style scoped>\n",
              "    .dataframe tbody tr th:only-of-type {\n",
              "        vertical-align: middle;\n",
              "    }\n",
              "\n",
              "    .dataframe tbody tr th {\n",
              "        vertical-align: top;\n",
              "    }\n",
              "\n",
              "    .dataframe thead th {\n",
              "        text-align: right;\n",
              "    }\n",
              "</style>\n",
              "<table border=\"1\" class=\"dataframe\">\n",
              "  <thead>\n",
              "    <tr style=\"text-align: right;\">\n",
              "      <th></th>\n",
              "      <th>The</th>\n",
              "      <th>bed</th>\n",
              "      <th>cat</th>\n",
              "      <th>dog</th>\n",
              "      <th>face</th>\n",
              "      <th>my</th>\n",
              "      <th>on</th>\n",
              "      <th>sat</th>\n",
              "    </tr>\n",
              "  </thead>\n",
              "  <tbody>\n",
              "    <tr>\n",
              "      <th>0</th>\n",
              "      <td>0.0</td>\n",
              "      <td>0.000000</td>\n",
              "      <td>0.050172</td>\n",
              "      <td>0.000000</td>\n",
              "      <td>0.050172</td>\n",
              "      <td>0.0</td>\n",
              "      <td>0.0</td>\n",
              "      <td>0.0</td>\n",
              "    </tr>\n",
              "    <tr>\n",
              "      <th>1</th>\n",
              "      <td>0.0</td>\n",
              "      <td>0.050172</td>\n",
              "      <td>0.000000</td>\n",
              "      <td>0.050172</td>\n",
              "      <td>0.000000</td>\n",
              "      <td>0.0</td>\n",
              "      <td>0.0</td>\n",
              "      <td>0.0</td>\n",
              "    </tr>\n",
              "  </tbody>\n",
              "</table>\n",
              "</div>"
            ],
            "text/plain": [
              "   The       bed       cat       dog      face   my   on  sat\n",
              "0  0.0  0.000000  0.050172  0.000000  0.050172  0.0  0.0  0.0\n",
              "1  0.0  0.050172  0.000000  0.050172  0.000000  0.0  0.0  0.0"
            ]
          },
          "metadata": {
            "tags": []
          },
          "execution_count": 9
        }
      ]
    },
    {
      "metadata": {
        "id": "qpVBD1rVqTsq",
        "colab_type": "code",
        "colab": {}
      },
      "cell_type": "code",
      "source": [
        ""
      ],
      "execution_count": 0,
      "outputs": []
    }
  ]
}