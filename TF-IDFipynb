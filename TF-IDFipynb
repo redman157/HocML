{
  "nbformat": 4,
  "nbformat_minor": 0,
  "metadata": {
    "colab": {
      "name": "Untitled34.ipynb",
      "version": "0.3.2",
      "provenance": [],
      "include_colab_link": true
    },
    "kernelspec": {
      "name": "python3",
      "display_name": "Python 3"
    }
  },
  "cells": [
    {
      "cell_type": "markdown",
      "metadata": {
        "id": "view-in-github",
        "colab_type": "text"
      },
      "source": [
        "<a href=\"https://colab.research.google.com/github/redman157/HocML/blob/master/TF-IDFipynb\" target=\"_parent\"><img src=\"https://colab.research.google.com/assets/colab-badge.svg\" alt=\"Open In Colab\"/></a>"
      ]
    },
    {
      "metadata": {
        "id": "NclUH0muWyBZ",
        "colab_type": "code",
        "colab": {}
      },
      "cell_type": "code",
      "source": [
        "import numpy as np\n",
        "import math\n",
        "def computeTF(wordDict,bow):\n",
        "  tfDict = {}\n",
        "  bowCount = len(bow)\n",
        "  for word,count in wordDict.items():\n",
        "    tfDict[word] = count/float(bowCount)\n",
        "  return tfDict  \n",
        "def computeIDF(docList):\n",
        "  idfDict = {}\n",
        "  N = len(docList)\n",
        "  idfDict = dict.fromkeys(docList[0].keys(),0)\n",
        "  for doc in docList:\n",
        "    for word,val in doc.items():\n",
        "      if(val > 0):\n",
        "        idfDict[word] += 1\n",
        "  for word, val in idfDict.items():\n",
        "    idfDict[word] = math.log10(N/float(val))\n",
        "  return idfDict\n",
        "def computeTFIDF(tfBow, idfs):\n",
        "  tfidf = {}\n",
        "  for word, val in tfBow.items():\n",
        "    tfidf[word] = val * idfs[word]\n",
        "  return tfidf"
      ],
      "execution_count": 0,
      "outputs": []
    }
  ]
}