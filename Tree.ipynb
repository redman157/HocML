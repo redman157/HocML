{
  "nbformat": 4,
  "nbformat_minor": 0,
  "metadata": {
    "colab": {
      "name": "Hello, Colaboratory",
      "version": "0.3.2",
      "provenance": [],
      "collapsed_sections": [],
      "include_colab_link": true
    },
    "kernelspec": {
      "display_name": "Python 3",
      "name": "python3"
    }
  },
  "cells": [
    {
      "cell_type": "markdown",
      "metadata": {
        "id": "view-in-github",
        "colab_type": "text"
      },
      "source": [
        "<a href=\"https://colab.research.google.com/github/redman157/HocML/blob/master/Tree.ipynb\" target=\"_parent\"><img src=\"https://colab.research.google.com/assets/colab-badge.svg\" alt=\"Open In Colab\"/></a>"
      ]
    },
    {
      "metadata": {
        "id": "dsZ28l0Xni00",
        "colab_type": "code",
        "colab": {}
      },
      "cell_type": "code",
      "source": [
        "myTree = ['a',   #root\n",
        "      ['b',  #left subtree\n",
        "       ['d', [], []],\n",
        "       ['e', [], []] ],\n",
        "      ['c',  #right subtree\n",
        "       ['f', [], []],\n",
        "       [] ]\n",
        "     ]"
      ],
      "execution_count": 0,
      "outputs": []
    },
    {
      "metadata": {
        "id": "akHbIbhdnlt3",
        "colab_type": "code",
        "outputId": "16d067e5-ec6b-4750-a48c-640856b3f90a",
        "colab": {
          "base_uri": "https://localhost:8080/",
          "height": 90
        }
      },
      "cell_type": "code",
      "source": [
        "print(myTree)\n",
        "print('left subtree = ', myTree[1])\n",
        "print('root = ', myTree[0])\n",
        "print('right subtree = ', myTree[2])"
      ],
      "execution_count": 0,
      "outputs": [
        {
          "output_type": "stream",
          "text": [
            "['a', ['b', ['d', [], []], ['e', [], []]], ['c', ['f', [], []], []]]\n",
            "left subtree =  ['b', ['d', [], []], ['e', [], []]]\n",
            "root =  a\n",
            "right subtree =  ['c', ['f', [], []], []]\n"
          ],
          "name": "stdout"
        }
      ]
    },
    {
      "metadata": {
        "id": "mzwIK4Qhnsg9",
        "colab_type": "code",
        "colab": {}
      },
      "cell_type": "code",
      "source": [
        "def BinaryTree(r):\n",
        "  return [r, [], []]\n",
        "\n",
        "def insertLeft(root, newBranch):\n",
        "  t = root.pop(1)\n",
        "  if len(t)>1 : \n",
        "    root.insert(1,[newBranch,t,[]])\n",
        "  else:\n",
        "    root.insert(1,[newBranch, [], [] ])\n",
        "  return root\n",
        "\n",
        "def insertRight(root, newBranch):\n",
        "  t = root.pop(2)\n",
        "  if len(t)>1 : \n",
        "    root.insert(2,[newBranch,[], t])\n",
        "  else:\n",
        "    root.insert(2,[newBranch, [], []])\n",
        "  return root"
      ],
      "execution_count": 0,
      "outputs": []
    },
    {
      "metadata": {
        "id": "o4jnvpgir415",
        "colab_type": "code",
        "colab": {}
      },
      "cell_type": "code",
      "source": [
        "def getRootVal(root):\n",
        "    return root[0]\n",
        "\n",
        "def setRootVal(root,newVal):\n",
        "    root[0] = newVal\n",
        "\n",
        "def getLeftChild(root):\n",
        "    return root[1]\n",
        "\n",
        "def getRightChild(root):\n",
        "    return root[2]"
      ],
      "execution_count": 0,
      "outputs": []
    },
    {
      "metadata": {
        "id": "byG6nsXutBu-",
        "colab_type": "code",
        "outputId": "3d709bd4-4211-499a-b37d-881b935e473d",
        "colab": {
          "base_uri": "https://localhost:8080/",
          "height": 90
        }
      },
      "cell_type": "code",
      "source": [
        "r = BinaryTree(3)\n",
        "insertLeft(r,4)\n",
        "insertLeft(r,5)\n",
        "insertRight(r,6)\n",
        "insertRight(r,7)\n",
        "l = getLeftChild(r)\n",
        "print(l)\n",
        "\n",
        "setRootVal(l,9)\n",
        "print(r)\n",
        "insertLeft(l,11)\n",
        "print(r)\n",
        "print(getRightChild(getRightChild(r)))\n"
      ],
      "execution_count": 0,
      "outputs": [
        {
          "output_type": "stream",
          "text": [
            "[5, [4, [], []], []]\n",
            "[3, [9, [4, [], []], []], [7, [], [6, [], []]]]\n",
            "[3, [9, [11, [4, [], []], []], []], [7, [], [6, [], []]]]\n",
            "[6, [], []]\n"
          ],
          "name": "stdout"
        }
      ]
    },
    {
      "metadata": {
        "id": "d3n6aM8StDjN",
        "colab_type": "code",
        "colab": {}
      },
      "cell_type": "code",
      "source": [
        "class BinaryTree:\n",
        "  def __init__(self, rootObj):\n",
        "    self.key = rootObj\n",
        "    self.leftChild = None\n",
        "    self.rightChild = None\n",
        "  def insertLeft(self, newNode):\n",
        "    if self.leftChild == None:\n",
        "      self.leftChild = BinaryTree(newNode)\n",
        "    else:\n",
        "      t = BinaryTree(newNode)\n",
        "      t.leftChild = self.leftChild\n",
        "      self.leftChild = t\n",
        "  def insertRight(self,newNode):\n",
        "    if self.rightChild == None:\n",
        "      self.rightChild = BinaryTree(newNode)\n",
        "    else:\n",
        "      t = BinaryTree(newNode)\n",
        "      t.rightChild = self.rightChild\n",
        "      self.rightChild = t\n",
        "  def getRightChild(self):\n",
        "    return self.rightChild\n",
        "\n",
        "  def getLeftChild(self):\n",
        "    return self.leftChild\n",
        "\n",
        "  def setRootVal(self,obj):\n",
        "    self.key = obj\n",
        "\n",
        "  def getRootVal(self):\n",
        "    return self.key"
      ],
      "execution_count": 0,
      "outputs": []
    },
    {
      "metadata": {
        "id": "jYmqBTmNwleA",
        "colab_type": "code",
        "outputId": "fc2c88b7-b59e-477f-f262-c383a4eb79a3",
        "colab": {
          "base_uri": "https://localhost:8080/",
          "height": 145
        }
      },
      "cell_type": "code",
      "source": [
        "r = BinaryTree('a')\n",
        "print(r.getRootVal())\n",
        "print(r.getLeftChild())\n",
        "r.insertLeft('b')\n",
        "print(r.getLeftChild())\n",
        "print(r.getLeftChild().getRootVal())\n",
        "r.insertRight('c')\n",
        "print(r.getRightChild())\n",
        "print(r.getRightChild().getRootVal())\n",
        "r.getRightChild().setRootVal('hello')\n",
        "print(r.getRightChild().getRootVal())"
      ],
      "execution_count": 0,
      "outputs": [
        {
          "output_type": "stream",
          "text": [
            "a\n",
            "None\n",
            "<__main__.BinaryTree object at 0x7f6b10bd9438>\n",
            "b\n",
            "<__main__.BinaryTree object at 0x7f6b10bd95f8>\n",
            "c\n",
            "hello\n"
          ],
          "name": "stdout"
        }
      ]
    },
    {
      "metadata": {
        "id": "7AaE43mowmtA",
        "colab_type": "code",
        "colab": {}
      },
      "cell_type": "code",
      "source": [
        "def buildParseTree(root):\n",
        "  fproot = root.split()\n",
        "  s = Stack()\n",
        "  BTree = BinaryTree()\n",
        "  s.push(BTree)\n",
        "  currentTree = Btre\n",
        "  for i in fplist:\n",
        "        if i == '(':\n",
        "            currentTree.insertLeft('')\n",
        "            pStack.push(currentTree)\n",
        "            currentTree = currentTree.getLeftChild()\n",
        "        elif i not in ['+', '-', '*', '/', ')']:\n",
        "            currentTree.setRootVal(int(i))\n",
        "            parent = pStack.pop()\n",
        "            currentTree = parent\n",
        "        elif i in ['+', '-', '*', '/']:\n",
        "            currentTree.setRootVal(i)\n",
        "            currentTree.insertRight('')\n",
        "            pStack.push(currentTree)\n",
        "            currentTree = currentTree.getRightChild()\n",
        "        elif i == ')':\n",
        "            currentTree = pStack.pop()\n",
        "        else:\n",
        "            raise ValueError\n",
        "    return eTree\n",
        "\n",
        "pt = buildParseTree(\"( ( 10 + 5 ) * 3 )\")\n",
        "pt.postorder()  #defined and explained in the next section\n",
        "\n"
      ],
      "execution_count": 0,
      "outputs": []
    },
    {
      "metadata": {
        "id": "TNHBtvaV76f6",
        "colab_type": "code",
        "colab": {}
      },
      "cell_type": "code",
      "source": [
        "class preoderTree(self):\n",
        "  def preoder(self):\n",
        "    if self.leftChild:\n",
        "      self.leftChild.preoder()\n",
        "    if else self.rightChild:\n",
        "      self.rightChild.preoder()\n",
        "  def postorder(tree):\n",
        "    if tree != None:\n",
        "        postorder(tree.getLeftChild())\n",
        "        postorder(tree.getRightChild())\n",
        "        print(tree.getRootVal())\n",
        "  "
      ],
      "execution_count": 0,
      "outputs": []
    },
    {
      "metadata": {
        "id": "vGphCpAo-HIw",
        "colab_type": "code",
        "colab": {}
      },
      "cell_type": "code",
      "source": [
        "class BinHeap:\n",
        "  def __init__(self):\n",
        "    self.heapList = [0]\n",
        "    self.currentSize = 0\n",
        "  def percUP(self, i ):\n",
        "    while i  // 2 > 0:\n",
        "      if(self.headList[i] < self.headList(i // 2)):\n",
        "        temp = self.headList[i // 2]\n",
        "        self.headList[i//2]  = self.headList[i]\n",
        "        self.headList[i] = temp\n",
        "      i = i//2\n",
        "  def insert(self,item):\n",
        "    self.headList.append(item)\n",
        "    self.currentSize = self.currentSize + 1\n",
        "    self.percUp(self.currentSize)\n",
        "  def percDown(self, i ):\n",
        "    while (i * 2 ) < self.currentSize:\n",
        "      mc = self.minChild(i)\n",
        "        if self.heapList[i] > self.heapList[mc]:\n",
        "            tmp = self.heapList[i]\n",
        "            self.heapList[i] = self.heapList[mc]\n",
        "            self.heapList[mc] = tmp\n",
        "        i = mc\n",
        "  def minChild(self, i ):\n",
        "    if i * 2 + 1 > self.currentSize:\n",
        "        return i * 2\n",
        "    else:\n",
        "        if self.heapList[i*2] < self.heapList[i*2+1]:\n",
        "            return i * 2\n",
        "        else:\n",
        "            return i * 2 + 1\n",
        "          \n",
        "  def delMin(self):\n",
        "    retval = self.heapList[1]\n",
        "    self.heapList[1] = self.heapList[self.currentSize]\n",
        "    self.currentSize = self.currentSize - 1\n",
        "    self.heapList.pop()\n",
        "    self.percDown(1)\n",
        "    return retval\n",
        "  def buildHeap(self,alist):\n",
        "    i = len(alist) // 2\n",
        "    self.currentSize = len(alist)\n",
        "    self.heapList = [0] + alist[:]\n",
        "    while (i > 0):\n",
        "        self.percDown(i)\n",
        "        i = i - 1\n"
      ],
      "execution_count": 0,
      "outputs": []
    },
    {
      "metadata": {
        "id": "NVx53kBc_BL4",
        "colab_type": "code",
        "colab": {}
      },
      "cell_type": "code",
      "source": [
        "class BinarySearch:\n",
        "  def __init__(self):\n",
        "    self.size = 0\n",
        "    self.root = None\n",
        "  def lenght(self):\n",
        "    return self.size\n",
        "  def __len__(self):\n",
        "    return self.size\n",
        "  def __iter__(self):\n",
        "    return self.root.__iter__()\n",
        "  \n",
        "class TreeNode:\n",
        "  def __init__(self, key, val, left=None, right=None, parent=None):\n",
        "    self.key = key\n",
        "    self.val = val\n",
        "    self.leftChild = left\n",
        "    self.rightChild = right\n",
        "    self.parent = parent\n",
        "    \n",
        "  def isRoot(self):\n",
        "    return self.parent\n",
        "  def isRightChild(self):\n",
        "    return self.parent and self.parent.rightChild\n",
        "  def isleftChild(self):\n",
        "    return self.parent and self.parent.leftChild\n",
        "  \n",
        "  def hasrightChild(self):\n",
        "    return self.rightChild\n",
        "  def hasleftChild(self):\n",
        "    return self.leftChild\n",
        "  \n",
        "  def isLeaf(self):\n",
        "    return not (self.rightChild or self.leftChild)\n",
        "  def hasAnyChildren(self):\n",
        "    return self.rightChild or self.leftChild\n",
        "  def hasBothChildren(self):\n",
        "    return self.rightChild and self.leftChild\n",
        "  \n",
        "  def replaceNodeData(self, key, value, lc, rc):\n",
        "    self.key = key\n",
        "    self.payload = value\n",
        "    self.leftChild = lc\n",
        "    self.rightChild = rc\n",
        "    if self.hasLeftChild():\n",
        "      self.leftChild.parent = self\n",
        "    if self.hasRightChild():\n",
        "      self.rightChild.parent = self"
      ],
      "execution_count": 0,
      "outputs": []
    },
    {
      "metadata": {
        "id": "PxGWKPgnOpB7",
        "colab_type": "code",
        "colab": {}
      },
      "cell_type": "code",
      "source": [
        "def __setitem__(self,k,v):\n",
        "    self.put(k,v)"
      ],
      "execution_count": 0,
      "outputs": []
    },
    {
      "metadata": {
        "id": "F4R2mHj0HpKp",
        "colab_type": "code",
        "colab": {}
      },
      "cell_type": "code",
      "source": [
        "def put(self, key, val):\n",
        "  if self.root:\n",
        "    self._put(key, val, self.root)\n",
        "  else:\n",
        "    self.root = TreeNode(key,val)\n",
        "  self.size = self.size + 1\n",
        "def _put(self, key, val, currentNode):\n",
        "  if key < self.currentNode.key:\n",
        "    # neu node nam ben trai\n",
        "    if self.currentNode.hasleftChild():\n",
        "      self._put(key, val, currentNode.leftChild)\n",
        "    else:\n",
        "      # neu k phai thi tao la cay ben trai\n",
        "      currentNode.leftChild = TreeNode(key, val, parent=currentNode)\n",
        "  else:\n",
        "    # neu nguoc lai thi add vao cay ben phai va xet coi no ton tai k\n",
        "    if currentNode.hasRightChild():\n",
        "      self._put(key,val,currentNode.rightChild)\n",
        "    else:\n",
        "      currentNode.rightChild = TreeNode(key,val,parent=currentNode)\n",
        "\n",
        "def get(self,key):\n",
        "  if self.root:\n",
        "    res = self._get(key,self.root)\n",
        "    if res:\n",
        "      return res.payload\n",
        "    else:\n",
        "      return None\n",
        "  else:\n",
        "    return None\n",
        "def _get(self,key, currentNode):\n",
        "  if not currentNode:\n",
        "    return None\n",
        "  elif currentNode.key == key:\n",
        "    return currentNode\n",
        "  elif key < currentNode.key:\n",
        "    return self._get(key, currentNode.leftChild)\n",
        "  else:\n",
        "    return self._get(key,currentNode.rightChild)\n",
        "def __getitem__(self,key):\n",
        "    return self.get(key)\n",
        "  "
      ],
      "execution_count": 0,
      "outputs": []
    },
    {
      "metadata": {
        "id": "C-bmVs96Oxk8",
        "colab_type": "code",
        "colab": {}
      },
      "cell_type": "code",
      "source": [
        "def __contains__(self,key):\n",
        "  if self._get(key, self.root):\n",
        "    return True\n",
        "  else:\n",
        "    return False\n"
      ],
      "execution_count": 0,
      "outputs": []
    },
    {
      "metadata": {
        "id": "IsaT58h4PQRC",
        "colab_type": "code",
        "colab": {}
      },
      "cell_type": "code",
      "source": [
        "def delete(self, key):\n",
        "  if self.size > 1:\n",
        "    nodetoRemove = self._get(key, self.root)\n",
        "    if nodetoRemove:\n",
        "      self.remove(nodetoRemove)\n",
        "      self.size = self.size - 1\n",
        "    else:\n",
        "       raise KeyError('Error, key not in tree')\n",
        "  elif self.size == 1 and self.root.key == key:\n",
        "    self.root = None\n",
        "    self.size = self.size - 1\n",
        "  else:\n",
        "    raise KeyError('Error, key not in tree')\n",
        "\n",
        "def __delitem__(self,key):\n",
        "    self.delete(key)\n",
        "    "
      ],
      "execution_count": 0,
      "outputs": []
    },
    {
      "metadata": {
        "id": "_rZn4L2BSZs9",
        "colab_type": "code",
        "colab": {}
      },
      "cell_type": "code",
      "source": [
        "if currentNode.isLeft():\n",
        "  if currentNode == currentNode.parent.leftChild:\n",
        "    currentNode.parent.leftChild = None\n",
        "  else:\n",
        "    currentNode.parent.rightChild = None"
      ],
      "execution_count": 0,
      "outputs": []
    },
    {
      "metadata": {
        "id": "5o_acgHSSlML",
        "colab_type": "code",
        "colab": {}
      },
      "cell_type": "code",
      "source": [
        ""
      ],
      "execution_count": 0,
      "outputs": []
    }
  ]
}