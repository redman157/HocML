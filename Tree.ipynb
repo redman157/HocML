{
  "nbformat": 4,
  "nbformat_minor": 0,
  "metadata": {
    "colab": {
      "name": "Hello, Colaboratory",
      "version": "0.3.2",
      "provenance": [],
      "collapsed_sections": [],
      "include_colab_link": true
    },
    "kernelspec": {
      "display_name": "Python 3",
      "name": "python3"
    }
  },
  "cells": [
    {
      "cell_type": "markdown",
      "metadata": {
        "id": "view-in-github",
        "colab_type": "text"
      },
      "source": [
        "<a href=\"https://colab.research.google.com/github/redman157/HocML/blob/master/Tree.ipynb\" target=\"_parent\"><img src=\"https://colab.research.google.com/assets/colab-badge.svg\" alt=\"Open In Colab\"/></a>"
      ]
    },
    {
      "metadata": {
        "id": "dsZ28l0Xni00",
        "colab_type": "code",
        "colab": {}
      },
      "cell_type": "code",
      "source": [
        "myTree = ['a',   #root\n",
        "      ['b',  #left subtree\n",
        "       ['d', [], []],\n",
        "       ['e', [], []] ],\n",
        "      ['c',  #right subtree\n",
        "       ['f', [], []],\n",
        "       [] ]\n",
        "     ]"
      ],
      "execution_count": 0,
      "outputs": []
    },
    {
      "metadata": {
        "id": "akHbIbhdnlt3",
        "colab_type": "code",
        "colab": {
          "base_uri": "https://localhost:8080/",
          "height": 90
        },
        "outputId": "16d067e5-ec6b-4750-a48c-640856b3f90a"
      },
      "cell_type": "code",
      "source": [
        "print(myTree)\n",
        "print('left subtree = ', myTree[1])\n",
        "print('root = ', myTree[0])\n",
        "print('right subtree = ', myTree[2])"
      ],
      "execution_count": 6,
      "outputs": [
        {
          "output_type": "stream",
          "text": [
            "['a', ['b', ['d', [], []], ['e', [], []]], ['c', ['f', [], []], []]]\n",
            "left subtree =  ['b', ['d', [], []], ['e', [], []]]\n",
            "root =  a\n",
            "right subtree =  ['c', ['f', [], []], []]\n"
          ],
          "name": "stdout"
        }
      ]
    },
    {
      "metadata": {
        "id": "mzwIK4Qhnsg9",
        "colab_type": "code",
        "colab": {}
      },
      "cell_type": "code",
      "source": [
        "def BinaryTree(r):\n",
        "  return [r, [], []]\n",
        "\n",
        "def insertLeft(root, newBranch):\n",
        "  t = root.pop(1)\n",
        "  if len(t)>1 : \n",
        "    root.insert(1,[newBranch,t,[]])\n",
        "  else:\n",
        "    root.insert(1,[newBranch, [], [] ])\n",
        "  return root\n",
        "\n",
        "def insertRight(root, newBranch):\n",
        "  t = root.pop(2)\n",
        "  if len(t)>1 : \n",
        "    root.insert(2,[newBranch,[], t])\n",
        "  else:\n",
        "    root.insert(2,[newBranch, [], []])\n",
        "  return root"
      ],
      "execution_count": 0,
      "outputs": []
    },
    {
      "metadata": {
        "id": "o4jnvpgir415",
        "colab_type": "code",
        "colab": {}
      },
      "cell_type": "code",
      "source": [
        "def getRootVal(root):\n",
        "    return root[0]\n",
        "\n",
        "def setRootVal(root,newVal):\n",
        "    root[0] = newVal\n",
        "\n",
        "def getLeftChild(root):\n",
        "    return root[1]\n",
        "\n",
        "def getRightChild(root):\n",
        "    return root[2]"
      ],
      "execution_count": 0,
      "outputs": []
    },
    {
      "metadata": {
        "id": "byG6nsXutBu-",
        "colab_type": "code",
        "colab": {
          "base_uri": "https://localhost:8080/",
          "height": 90
        },
        "outputId": "3d709bd4-4211-499a-b37d-881b935e473d"
      },
      "cell_type": "code",
      "source": [
        "r = BinaryTree(3)\n",
        "insertLeft(r,4)\n",
        "insertLeft(r,5)\n",
        "insertRight(r,6)\n",
        "insertRight(r,7)\n",
        "l = getLeftChild(r)\n",
        "print(l)\n",
        "\n",
        "setRootVal(l,9)\n",
        "print(r)\n",
        "insertLeft(l,11)\n",
        "print(r)\n",
        "print(getRightChild(getRightChild(r)))\n"
      ],
      "execution_count": 20,
      "outputs": [
        {
          "output_type": "stream",
          "text": [
            "[5, [4, [], []], []]\n",
            "[3, [9, [4, [], []], []], [7, [], [6, [], []]]]\n",
            "[3, [9, [11, [4, [], []], []], []], [7, [], [6, [], []]]]\n",
            "[6, [], []]\n"
          ],
          "name": "stdout"
        }
      ]
    },
    {
      "metadata": {
        "id": "d3n6aM8StDjN",
        "colab_type": "code",
        "colab": {}
      },
      "cell_type": "code",
      "source": [
        "class BinaryTree:\n",
        "  def __init__(self, rootObj):\n",
        "    self.key = rootObj\n",
        "    self.leftChild = None\n",
        "    self.rightChild = None\n",
        "  def insertLeft(self, newNode):\n",
        "    if self.leftChild == None:\n",
        "      self.leftChild = BinaryTree(newNode)\n",
        "    else:\n",
        "      t = BinaryTree(newNode)\n",
        "      t.leftChild = self.leftChild\n",
        "      self.leftChild = t\n",
        "  def insertRight(self,newNode):\n",
        "    if self.rightChild == None:\n",
        "      self.rightChild = BinaryTree(newNode)\n",
        "    else:\n",
        "      t = BinaryTree(newNode)\n",
        "      t.rightChild = self.rightChild\n",
        "      self.rightChild = t\n",
        "  def getRightChild(self):\n",
        "    return self.rightChild\n",
        "\n",
        "  def getLeftChild(self):\n",
        "    return self.leftChild\n",
        "\n",
        "  def setRootVal(self,obj):\n",
        "    self.key = obj\n",
        "\n",
        "  def getRootVal(self):\n",
        "    return self.key"
      ],
      "execution_count": 0,
      "outputs": []
    },
    {
      "metadata": {
        "id": "jYmqBTmNwleA",
        "colab_type": "code",
        "colab": {
          "base_uri": "https://localhost:8080/",
          "height": 145
        },
        "outputId": "fc2c88b7-b59e-477f-f262-c383a4eb79a3"
      },
      "cell_type": "code",
      "source": [
        "r = BinaryTree('a')\n",
        "print(r.getRootVal())\n",
        "print(r.getLeftChild())\n",
        "r.insertLeft('b')\n",
        "print(r.getLeftChild())\n",
        "print(r.getLeftChild().getRootVal())\n",
        "r.insertRight('c')\n",
        "print(r.getRightChild())\n",
        "print(r.getRightChild().getRootVal())\n",
        "r.getRightChild().setRootVal('hello')\n",
        "print(r.getRightChild().getRootVal())"
      ],
      "execution_count": 22,
      "outputs": [
        {
          "output_type": "stream",
          "text": [
            "a\n",
            "None\n",
            "<__main__.BinaryTree object at 0x7f6b10bd9438>\n",
            "b\n",
            "<__main__.BinaryTree object at 0x7f6b10bd95f8>\n",
            "c\n",
            "hello\n"
          ],
          "name": "stdout"
        }
      ]
    },
    {
      "metadata": {
        "id": "7AaE43mowmtA",
        "colab_type": "code",
        "colab": {}
      },
      "cell_type": "code",
      "source": [
        ""
      ],
      "execution_count": 0,
      "outputs": []
    }
  ]
}