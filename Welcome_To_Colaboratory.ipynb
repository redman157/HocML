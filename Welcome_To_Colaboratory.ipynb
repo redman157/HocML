{
  "nbformat": 4,
  "nbformat_minor": 0,
  "metadata": {
    "colab": {
      "name": "Welcome To Colaboratory",
      "version": "0.3.2",
      "provenance": [],
      "collapsed_sections": [],
      "include_colab_link": true
    },
    "kernelspec": {
      "display_name": "Python 3",
      "name": "python3"
    }
  },
  "cells": [
    {
      "cell_type": "markdown",
      "metadata": {
        "id": "view-in-github",
        "colab_type": "text"
      },
      "source": [
        "<a href=\"https://colab.research.google.com/github/redman157/HocML/blob/master/Welcome_To_Colaboratory.ipynb\" target=\"_parent\"><img src=\"https://colab.research.google.com/assets/colab-badge.svg\" alt=\"Open In Colab\"/></a>"
      ]
    },
    {
      "cell_type": "markdown",
      "metadata": {
        "colab_type": "text",
        "id": "5fCEDCU_qrC0"
      },
      "source": [
        "<p><img alt=\"Colaboratory logo\" height=\"45px\" src=\"https://colab.research.google.com/img/colab_favicon.ico\" align=\"left\" hspace=\"10px\" vspace=\"0px\"></p>\n",
        "\n",
        "<h1>Welcome to Colaboratory!</h1>\n",
        "\n",
        "\n",
        "Colaboratory is a free Jupyter notebook environment that requires no setup and runs entirely in the cloud.\n",
        "\n",
        "With Colaboratory you can write and execute code, save and share your analyses, and access powerful computing resources, all for free from your browser."
      ]
    },
    {
      "cell_type": "code",
      "metadata": {
        "colab_type": "code",
        "id": "xitplqMNk_Hc",
        "outputId": "ed4f60d2-878d-4056-c438-352dac39a112",
        "colab": {
          "height": 420
        }
      },
      "source": [
        "#@title Introducing Colaboratory { display-mode: \"form\" }\n",
        "#@markdown This 3-minute video gives an overview of the key features of Colaboratory:\n",
        "from IPython.display import YouTubeVideo\n",
        "YouTubeVideo('inN8seMm7UI', width=600, height=400)"
      ],
      "execution_count": 0,
      "outputs": [
        {
          "output_type": "execute_result",
          "data": {
            "text/html": [
              "\n",
              "        <iframe\n",
              "            width=\"600\"\n",
              "            height=\"400\"\n",
              "            src=\"https://www.youtube.com/embed/inN8seMm7UI\"\n",
              "            frameborder=\"0\"\n",
              "            allowfullscreen\n",
              "        ></iframe>\n",
              "        "
            ],
            "text/plain": [
              "<IPython.lib.display.YouTubeVideo at 0x7f956e9dda50>"
            ]
          },
          "metadata": {
            "tags": []
          },
          "execution_count": 0
        }
      ]
    },
    {
      "cell_type": "markdown",
      "metadata": {
        "colab_type": "text",
        "id": "GJBs_flRovLc"
      },
      "source": [
        "## Getting Started\n",
        "\n",
        "The document you are reading is a  [Jupyter notebook](https://jupyter.org/), hosted in Colaboratory. It is not a static page, but an interactive environment that lets you write and execute code in Python and other languages.\n",
        "\n",
        "For example, here is a **code cell** with a short Python script that computes a value, stores it in a variable, and prints the result:"
      ]
    },
    {
      "cell_type": "code",
      "metadata": {
        "colab_type": "code",
        "id": "gJr_9dXGpJ05",
        "outputId": "5626194c-e802-4293-942d-2908885c3c1f",
        "colab": {
          "height": 35
        }
      },
      "source": [
        "seconds_in_a_day = 24 * 60 * 60\n",
        "seconds_in_a_day"
      ],
      "execution_count": 0,
      "outputs": [
        {
          "output_type": "execute_result",
          "data": {
            "text/plain": [
              "86400"
            ]
          },
          "metadata": {
            "tags": []
          },
          "execution_count": 0
        }
      ]
    },
    {
      "cell_type": "markdown",
      "metadata": {
        "colab_type": "text",
        "id": "2fhs6GZ4qFMx"
      },
      "source": [
        "To execute the code in the above cell, select it with a click and then either press the play button to the left of the code, or use the keyboard shortcut \"Command/Ctrl+Enter\".\n",
        "\n",
        "All cells modify the same global state, so variables that you define by executing a cell can be used in other cells:"
      ]
    },
    {
      "cell_type": "code",
      "metadata": {
        "colab_type": "code",
        "id": "-gE-Ez1qtyIA",
        "outputId": "8d2e4259-4682-4e19-b683-7b9087f28820",
        "colab": {
          "height": 35
        }
      },
      "source": [
        "seconds_in_a_week = 7 * seconds_in_a_day\n",
        "seconds_in_a_week"
      ],
      "execution_count": 0,
      "outputs": [
        {
          "output_type": "execute_result",
          "data": {
            "text/plain": [
              "604800"
            ]
          },
          "metadata": {
            "tags": []
          },
          "execution_count": 0
        }
      ]
    },
    {
      "cell_type": "markdown",
      "metadata": {
        "colab_type": "text",
        "id": "lSrWNr3MuFUS"
      },
      "source": [
        "For more information about working with Colaboratory notebooks, see [Overview of Colaboratory](/notebooks/basic_features_overview.ipynb).\n"
      ]
    },
    {
      "cell_type": "markdown",
      "metadata": {
        "colab_type": "text",
        "id": "-Rh3-Vt9Nev9"
      },
      "source": [
        "## More Resources\n",
        "\n",
        "Learn how to make the most of Python, Jupyter, Colaboratory, and related tools with these resources:\n",
        "\n",
        "### Working with Notebooks in Colaboratory\n",
        "- [Overview of Colaboratory](/notebooks/basic_features_overview.ipynb)\n",
        "- [Guide to Markdown](/notebooks/markdown_guide.ipynb)\n",
        "- [Importing libraries and installing dependencies](/notebooks/snippets/importing_libraries.ipynb)\n",
        "- [Saving and loading notebooks in GitHub](https://colab.research.google.com/github/googlecolab/colabtools/blob/master/notebooks/colab-github-demo.ipynb)\n",
        "- [Interactive forms](/notebooks/forms.ipynb)\n",
        "- [Interactive widgets](/notebooks/widgets.ipynb)\n",
        "\n",
        "### Working with Data\n",
        "- [Loading data: Drive, Sheets, and Google Cloud Storage](/notebooks/io.ipynb) \n",
        "- [Charts: visualizing data](/notebooks/charts.ipynb)\n",
        "- [Getting started with BigQuery](/notebooks/bigquery.ipynb)\n",
        "\n",
        "### Machine Learning Crash Course\n",
        "These are a few of the notebooks from Google's online Machine Learning course. See the [full course website](https://developers.google.com/machine-learning/crash-course/) for more.\n",
        "- [Intro to Pandas](/notebooks/mlcc/intro_to_pandas.ipynb)\n",
        "- [Tensorflow concepts](/notebooks/mlcc/tensorflow_programming_concepts.ipynb)\n",
        "- [First steps with TensorFlow](/notebooks/mlcc/first_steps_with_tensor_flow.ipynb)\n",
        "- [Intro to neural nets](/notebooks/mlcc/intro_to_neural_nets.ipynb)\n",
        "- [Intro to sparse data and embeddings](/notebooks/mlcc/intro_to_sparse_data_and_embeddings.ipynb)\n",
        "\n",
        "### Using Accelerated Hardware\n",
        "- [TensorFlow with GPUs](/notebooks/gpu.ipynb)\n",
        "- [TensorFlow with TPUs](/notebooks/tpu.ipynb)"
      ]
    },
    {
      "cell_type": "markdown",
      "metadata": {
        "colab_type": "text",
        "id": "P-H6Lw1vyNNd"
      },
      "source": [
        "## Machine Learning Examples: Seedbank\n",
        "\n",
        "To see end-to-end examples of the interactive machine learning analyses that Colaboratory makes possible, check out the [Seedbank](https://research.google.com/seedbank/) project.\n",
        "\n",
        "A few featured examples:\n",
        "\n",
        "- [Neural Style Transfer](https://research.google.com/seedbank/seed/neural_style_transfer_with_tfkeras): Use deep learning to transfer style between images.\n",
        "- [EZ NSynth](https://research.google.com/seedbank/seed/ez_nsynth): Synthesize audio with WaveNet auto-encoders.\n",
        "- [Fashion MNIST with Keras and TPUs](https://research.google.com/seedbank/seed/fashion_mnist_with_keras_and_tpus): Classify fashion-related images with deep learning.\n",
        "- [DeepDream](https://research.google.com/seedbank/seed/deepdream): Produce DeepDream images from your own photos.\n",
        "- [Convolutional VAE](https://research.google.com/seedbank/seed/convolutional_vae): Create a generative model of handwritten digits."
      ]
    },
    {
      "cell_type": "code",
      "metadata": {
        "id": "DHE6QkxwPZxn",
        "colab_type": "code",
        "colab": {}
      },
      "source": [
        "a = [-1,150,190,170,-1,-1,160,180]\n",
        "arr = [-1,150,190,170,-1,-1,160,180]\n",
        "ar = []\n",
        "c = []\n",
        "for i in range(0, len(a) - 1):\n",
        "  for j in range(i, len(a)):\n",
        "    if(a[i] > a[j]):\n",
        "      temp = a[i]\n",
        "      a[i] = a[j]\n",
        "      a[j] = temp\n",
        "      "
      ],
      "execution_count": 0,
      "outputs": []
    },
    {
      "cell_type": "code",
      "metadata": {
        "id": "enylp3tcQC8T",
        "colab_type": "code",
        "colab": {}
      },
      "source": [
        "for i in a:\n",
        "  if(i > 0):\n",
        "    ar.append(i)    "
      ],
      "execution_count": 0,
      "outputs": []
    },
    {
      "cell_type": "code",
      "metadata": {
        "id": "m-DMuGZoQDY0",
        "colab_type": "code",
        "colab": {}
      },
      "source": [
        "count = 0\n",
        "arr = [-1,150,190,170,-1,-1,160,180]\n",
        "ar =  [150, 160, 170, 180, 190]\n",
        "\n",
        "for i in range(len(arr)):\n",
        "  if(arr[i] == -1):\n",
        "    c.append(-1)\n",
        "  else:\n",
        "    c.append(ar[count])\n",
        "    del ar[0]"
      ],
      "execution_count": 0,
      "outputs": []
    },
    {
      "cell_type": "code",
      "metadata": {
        "id": "bqmVnHnGQe4b",
        "colab_type": "code",
        "colab": {
          "base_uri": "https://localhost:8080/",
          "height": 34
        },
        "outputId": "83ebe2da-b06d-4741-df1f-8cf1522a75d2"
      },
      "source": [
        "result = \"\"\n",
        "for value in c:\n",
        "  result += \" \" + str(value)\n",
        "else:\n",
        "  print(result)"
      ],
      "execution_count": 91,
      "outputs": [
        {
          "output_type": "stream",
          "text": [
            " -1 150 160 170 -1 -1 180 190\n"
          ],
          "name": "stdout"
        }
      ]
    },
    {
      "cell_type": "code",
      "metadata": {
        "id": "WB41CYiaRPa6",
        "colab_type": "code",
        "colab": {
          "base_uri": "https://localhost:8080/",
          "height": 68
        },
        "outputId": "9aaba179-e632-4a96-e07d-91e50a7ec6d3"
      },
      "source": [
        "T = 2\n",
        "def sum_(N):\n",
        "  tong = 0\n",
        "  for i in range(N):\n",
        "    if i % 3 == 0  or i % 5 == 0:\n",
        "      tong = tong + i\n",
        "  return tong\n",
        "print(T)\n",
        "print(sum_(10))\n",
        "print(sum_(100))"
      ],
      "execution_count": 97,
      "outputs": [
        {
          "output_type": "stream",
          "text": [
            "2\n",
            "23\n",
            "2318\n"
          ],
          "name": "stdout"
        }
      ]
    },
    {
      "cell_type": "code",
      "metadata": {
        "id": "OSrE6cblTV5T",
        "colab_type": "code",
        "colab": {
          "base_uri": "https://localhost:8080/",
          "height": 197
        },
        "outputId": "50478ce8-9877-4c7a-d2b8-998f53dd21f1"
      },
      "source": [
        "for i in range(0,10):\n",
        "  pass\n",
        "a[i]"
      ],
      "execution_count": 98,
      "outputs": [
        {
          "output_type": "error",
          "ename": "IndexError",
          "evalue": "ignored",
          "traceback": [
            "\u001b[0;31m---------------------------------------------------------------------------\u001b[0m",
            "\u001b[0;31mIndexError\u001b[0m                                Traceback (most recent call last)",
            "\u001b[0;32m<ipython-input-98-8263136e46f5>\u001b[0m in \u001b[0;36m<module>\u001b[0;34m()\u001b[0m\n\u001b[1;32m      1\u001b[0m \u001b[0;32mfor\u001b[0m \u001b[0mi\u001b[0m \u001b[0;32min\u001b[0m \u001b[0mrange\u001b[0m\u001b[0;34m(\u001b[0m\u001b[0;36m0\u001b[0m\u001b[0;34m,\u001b[0m\u001b[0;36m10\u001b[0m\u001b[0;34m)\u001b[0m\u001b[0;34m:\u001b[0m\u001b[0;34m\u001b[0m\u001b[0;34m\u001b[0m\u001b[0m\n\u001b[1;32m      2\u001b[0m   \u001b[0;32mpass\u001b[0m\u001b[0;34m\u001b[0m\u001b[0;34m\u001b[0m\u001b[0m\n\u001b[0;32m----> 3\u001b[0;31m \u001b[0ma\u001b[0m\u001b[0;34m[\u001b[0m\u001b[0mi\u001b[0m\u001b[0;34m]\u001b[0m\u001b[0;34m\u001b[0m\u001b[0;34m\u001b[0m\u001b[0m\n\u001b[0m",
            "\u001b[0;31mIndexError\u001b[0m: list index out of range"
          ]
        }
      ]
    },
    {
      "cell_type": "code",
      "metadata": {
        "id": "PYAtrWNWe4n9",
        "colab_type": "code",
        "colab": {}
      },
      "source": [
        "a = [17,28,30]\n",
        "b = [99,16,8]\n",
        "def compareTriplets(a, b):\n",
        "    count_a = 0\n",
        "    count_b = 0\n",
        "    arr = []\n",
        "    for i in range(0,len(a)):    \n",
        "      if a[i] > b[i] or a[i] == b[i]:\n",
        "        count_a += 1\n",
        "      else:\n",
        "        count_b += 1\n",
        "    arr.append(count_a)\n",
        "    arr.append(count_b)\n",
        "    return arr"
      ],
      "execution_count": 0,
      "outputs": []
    },
    {
      "cell_type": "code",
      "metadata": {
        "id": "O_wE1IeNgYJ4",
        "colab_type": "code",
        "colab": {
          "base_uri": "https://localhost:8080/",
          "height": 34
        },
        "outputId": "70a9be99-0a3b-403c-b69f-06e1fc45035d"
      },
      "source": [
        "compareTriplets(a,b)"
      ],
      "execution_count": 104,
      "outputs": [
        {
          "output_type": "execute_result",
          "data": {
            "text/plain": [
              "[2, 1]"
            ]
          },
          "metadata": {
            "tags": []
          },
          "execution_count": 104
        }
      ]
    },
    {
      "cell_type": "code",
      "metadata": {
        "id": "Bd754e5FgaUH",
        "colab_type": "code",
        "colab": {
          "base_uri": "https://localhost:8080/",
          "height": 34
        },
        "outputId": "14f7b0bf-4c4b-453f-e4e0-15134731d79d"
      },
      "source": [
        "from random import randint\n",
        "s = [[4,9,2],[3,5,7],[8,1,5]]\n",
        "\n",
        "num = randint(1,9)\n",
        "print(num)\n",
        "\n",
        "def so(num):\n",
        "  for i in range(0,3):\n",
        "    for j in range(i,3):\n",
        "      for k in range(j,3):\n",
        "         pass"
      ],
      "execution_count": 122,
      "outputs": [
        {
          "output_type": "stream",
          "text": [
            "2\n"
          ],
          "name": "stdout"
        }
      ]
    },
    {
      "cell_type": "code",
      "metadata": {
        "id": "dIZfGijdjKY4",
        "colab_type": "code",
        "colab": {
          "base_uri": "https://localhost:8080/",
          "height": 34
        },
        "outputId": "1910f80e-bb41-4353-af8e-fd38c3721190"
      },
      "source": [
        "s[2][2]"
      ],
      "execution_count": 120,
      "outputs": [
        {
          "output_type": "execute_result",
          "data": {
            "text/plain": [
              "5"
            ]
          },
          "metadata": {
            "tags": []
          },
          "execution_count": 120
        }
      ]
    },
    {
      "cell_type": "code",
      "metadata": {
        "id": "9yXIcdworPZ7",
        "colab_type": "code",
        "colab": {
          "base_uri": "https://localhost:8080/",
          "height": 119
        },
        "outputId": "9c49ee2c-e7ac-4214-f968-83a28cbbc67d"
      },
      "source": [
        "import itertools\n",
        "\n",
        "n1,n2,n3 = map(int, input().strip().split(' '))\n",
        "n4,n5,n6 = map(int, input().strip().split(' '))\n",
        "n7,n8,n9 = map(int, input().strip().split(' '))\n",
        "\n",
        "l = [n1,n2,n3,n4,n5,n6,n7,n8,n9]\n",
        "print(l)\n",
        "tests = [[0,1,2], [3,4,5], [6,7,8], [0,3,6], [1,4,7], [2,5,8], [0,4,8], [2,4,6]]\n",
        "def im(l):\n",
        "    sums = [l[i[0]] + l[i[1]] + l[i[2]] for i in tests]\n",
        "    return len(set(sums)) == 1\n",
        "print(im(l))\n",
        "squares = [(2, 7, 6, 9, 5, 1, 4, 3, 8),\n",
        "(2, 9, 4, 7, 5, 3, 6, 1, 8),\n",
        "(4, 3, 8, 9, 5, 1, 2, 7, 6),\n",
        "(4, 9, 2, 3, 5, 7, 8, 1, 6),\n",
        "(6, 1, 8, 7, 5, 3, 2, 9, 4),\n",
        "(6, 7, 2, 1, 5, 9, 8, 3, 4),\n",
        "(8, 1, 6, 3, 5, 7, 4, 9, 2),\n",
        "(8, 3, 4, 1, 5, 9, 6, 7, 2)]\n",
        "r = []\n",
        "for i in squares:\n",
        "    if im(i):\n",
        "        cost = sum([abs(l[j] - i[j]) for j in range(9)])\n",
        "        r.append(cost)\n",
        "print(min(r))"
      ],
      "execution_count": 33,
      "outputs": [
        {
          "output_type": "stream",
          "text": [
            "3 2 1\n",
            "4 5 2\n",
            "2 3 5\n",
            "[3, 2, 1, 4, 5, 2, 2, 3, 5]\n",
            "False\n",
            "20\n"
          ],
          "name": "stdout"
        }
      ]
    },
    {
      "cell_type": "code",
      "metadata": {
        "id": "9gjCGoaLsc5q",
        "colab_type": "code",
        "colab": {}
      },
      "source": [
        "array = [100, 90, 90, 80, 75, 60]\n",
        "alice = [50, 65, 77, 90, 102]\n",
        "\n",
        "level_ = 1\n",
        "level = []\n",
        "level_alice = []\n",
        "max_ = array[0]\n",
        "\n",
        "for i in range(0, len(array)):\n",
        "  if array[i] < max_:\n",
        "    level_ += 1\n",
        "    max_ = array[i]\n",
        "  level.append(level_)\n",
        "\n",
        "j = 0\n",
        "result = []\n",
        "\n",
        "for i in range(len(array) - 1, 0, -1):\n",
        "  if j > len(alice):\n",
        "    break\n",
        "\n",
        "  while True:\n",
        "    if alice[j] < array[i]:\n",
        "      result.append(level[i] + 1)\n",
        "      j += 1\n",
        "    else:\n",
        "      break\n",
        "\n",
        "if len(result) < len(alice):\n",
        "  for i in range(len(result), len(alice)):\n",
        "    if alice[i] >= array[0]:\n",
        "      result.append(1)\n",
        "    else:\n",
        "      result.append(2)"
      ],
      "execution_count": 0,
      "outputs": []
    },
    {
      "cell_type": "code",
      "metadata": {
        "id": "OOp18tRDx97i",
        "colab_type": "code",
        "colab": {
          "base_uri": "https://localhost:8080/",
          "height": 34
        },
        "outputId": "e605c0c4-ec6a-47f0-da36-cc9c875f0aff"
      },
      "source": [
        "result"
      ],
      "execution_count": 224,
      "outputs": [
        {
          "output_type": "execute_result",
          "data": {
            "text/plain": [
              "[6, 5, 4, 1, 1]"
            ]
          },
          "metadata": {
            "tags": []
          },
          "execution_count": 224
        }
      ]
    },
    {
      "cell_type": "code",
      "metadata": {
        "id": "TOPjeXeSx-lb",
        "colab_type": "code",
        "colab": {}
      },
      "source": [
        "level[0] = 1"
      ],
      "execution_count": 0,
      "outputs": []
    },
    {
      "cell_type": "code",
      "metadata": {
        "id": "w8AtbQnGzbmj",
        "colab_type": "code",
        "colab": {
          "base_uri": "https://localhost:8080/",
          "height": 34
        },
        "outputId": "6f5220f7-84ed-4ffa-cd6f-ea197678f1bf"
      },
      "source": [
        "len(array_)"
      ],
      "execution_count": 187,
      "outputs": [
        {
          "output_type": "execute_result",
          "data": {
            "text/plain": [
              "7"
            ]
          },
          "metadata": {
            "tags": []
          },
          "execution_count": 187
        }
      ]
    },
    {
      "cell_type": "code",
      "metadata": {
        "id": "PA_jcSM_7P_P",
        "colab_type": "code",
        "colab": {
          "base_uri": "https://localhost:8080/",
          "height": 425
        },
        "outputId": "af65f1e1-fa5f-47ef-dd61-5116939bd355"
      },
      "source": [
        "n = 25\n",
        "tich = 1\n",
        "for i in range(n,1,-1):\n",
        "  print(i)\n",
        "  tich = tich * i\n",
        "  "
      ],
      "execution_count": 237,
      "outputs": [
        {
          "output_type": "stream",
          "text": [
            "25\n",
            "24\n",
            "23\n",
            "22\n",
            "21\n",
            "20\n",
            "19\n",
            "18\n",
            "17\n",
            "16\n",
            "15\n",
            "14\n",
            "13\n",
            "12\n",
            "11\n",
            "10\n",
            "9\n",
            "8\n",
            "7\n",
            "6\n",
            "5\n",
            "4\n",
            "3\n",
            "2\n"
          ],
          "name": "stdout"
        }
      ]
    },
    {
      "cell_type": "code",
      "metadata": {
        "id": "lRBT3SlV70--",
        "colab_type": "code",
        "colab": {
          "base_uri": "https://localhost:8080/",
          "height": 68
        },
        "outputId": "d3bcbd4b-1334-4c54-afe7-8d9fb5c8cf24"
      },
      "source": [
        "n = 4\n",
        "k = 3\n",
        "s = [1,7,2,4]\n",
        "\n",
        "read = lambda: map(int, input().split())\n",
        "\n",
        "n, k = read()\n",
        "a = list(read())\n",
        "cnt = [0] * k\n",
        "for x in a:\n",
        "    cnt[x % k] += 1\n",
        "    \n",
        "ans = min(cnt[0], 1)\n",
        "for rem in range(1, (k + 1) // 2):\n",
        "    ans += max(cnt[rem], cnt[k - rem])\n",
        "if k % 2 == 0:\n",
        "    ans += min(cnt[k // 2], 1)\n",
        "    \n",
        "print(ans)"
      ],
      "execution_count": 279,
      "outputs": [
        {
          "output_type": "stream",
          "text": [
            "1 7\n",
            "2 4\n",
            "2\n"
          ],
          "name": "stdout"
        }
      ]
    },
    {
      "cell_type": "code",
      "metadata": {
        "id": "KiKrWAuZKY8j",
        "colab_type": "code",
        "colab": {}
      },
      "source": [
        "n =4 \n",
        "arr = [3,2,1,3]"
      ],
      "execution_count": 0,
      "outputs": []
    },
    {
      "cell_type": "code",
      "metadata": {
        "id": "9WlYo_TeN-_f",
        "colab_type": "code",
        "colab": {
          "base_uri": "https://localhost:8080/",
          "height": 163
        },
        "outputId": "2e66b2ac-0066-4e80-c5fe-6357055290bb"
      },
      "source": [
        "arr.count(max(4))"
      ],
      "execution_count": 2,
      "outputs": [
        {
          "output_type": "error",
          "ename": "TypeError",
          "evalue": "ignored",
          "traceback": [
            "\u001b[0;31m---------------------------------------------------------------------------\u001b[0m",
            "\u001b[0;31mTypeError\u001b[0m                                 Traceback (most recent call last)",
            "\u001b[0;32m<ipython-input-2-3b8d020b0d65>\u001b[0m in \u001b[0;36m<module>\u001b[0;34m()\u001b[0m\n\u001b[0;32m----> 1\u001b[0;31m \u001b[0marr\u001b[0m\u001b[0;34m.\u001b[0m\u001b[0mcount\u001b[0m\u001b[0;34m(\u001b[0m\u001b[0mmax\u001b[0m\u001b[0;34m(\u001b[0m\u001b[0;36m4\u001b[0m\u001b[0;34m)\u001b[0m\u001b[0;34m)\u001b[0m\u001b[0;34m\u001b[0m\u001b[0;34m\u001b[0m\u001b[0m\n\u001b[0m",
            "\u001b[0;31mTypeError\u001b[0m: 'int' object is not iterable"
          ]
        }
      ]
    },
    {
      "cell_type": "code",
      "metadata": {
        "id": "yaBtOrS5Vsrb",
        "colab_type": "code",
        "colab": {
          "base_uri": "https://localhost:8080/",
          "height": 197
        },
        "outputId": "10b18ad1-5b6e-4376-db36-690e980e307d"
      },
      "source": [
        "N=int(input())\n",
        "V=list(map(arr))"
      ],
      "execution_count": 7,
      "outputs": [
        {
          "output_type": "stream",
          "text": [
            "3\n"
          ],
          "name": "stdout"
        },
        {
          "output_type": "error",
          "ename": "TypeError",
          "evalue": "ignored",
          "traceback": [
            "\u001b[0;31m---------------------------------------------------------------------------\u001b[0m",
            "\u001b[0;31mTypeError\u001b[0m                                 Traceback (most recent call last)",
            "\u001b[0;32m<ipython-input-7-f7b3df6d89e3>\u001b[0m in \u001b[0;36m<module>\u001b[0;34m()\u001b[0m\n\u001b[1;32m      1\u001b[0m \u001b[0mN\u001b[0m\u001b[0;34m=\u001b[0m\u001b[0mint\u001b[0m\u001b[0;34m(\u001b[0m\u001b[0minput\u001b[0m\u001b[0;34m(\u001b[0m\u001b[0;34m)\u001b[0m\u001b[0;34m)\u001b[0m\u001b[0;34m\u001b[0m\u001b[0;34m\u001b[0m\u001b[0m\n\u001b[0;32m----> 2\u001b[0;31m \u001b[0mV\u001b[0m\u001b[0;34m=\u001b[0m\u001b[0mlist\u001b[0m\u001b[0;34m(\u001b[0m\u001b[0mmap\u001b[0m\u001b[0;34m(\u001b[0m\u001b[0marr\u001b[0m\u001b[0;34m)\u001b[0m\u001b[0;34m)\u001b[0m\u001b[0;34m\u001b[0m\u001b[0;34m\u001b[0m\u001b[0m\n\u001b[0m",
            "\u001b[0;31mTypeError\u001b[0m: map() must have at least two arguments."
          ]
        }
      ]
    },
    {
      "cell_type": "code",
      "metadata": {
        "id": "pUu3GbrHVvGJ",
        "colab_type": "code",
        "colab": {
          "base_uri": "https://localhost:8080/",
          "height": 34
        },
        "outputId": "8891b596-86bc-42af-87d3-21d0b6f98dd1"
      },
      "source": [
        "for i in range(len(arr)):\n",
        "    arr[i] = int(arr[i])\n",
        "    \n",
        "maximum = max(arr)\n",
        "\n",
        "count = 0\n",
        "\n",
        "for i in arr:\n",
        "    if i == maximum:\n",
        "        count += 1\n",
        "        \n",
        "print (count)"
      ],
      "execution_count": 8,
      "outputs": [
        {
          "output_type": "stream",
          "text": [
            "2\n"
          ],
          "name": "stdout"
        }
      ]
    },
    {
      "cell_type": "code",
      "metadata": {
        "id": "0va20eiQVx1S",
        "colab_type": "code",
        "colab": {}
      },
      "source": [
        "for i in range(len(arr)):\n",
        "  arr[i] = int(arr[i])\n",
        "count =0\n",
        "maximum = max(arr)\n",
        "for i in arr:\n",
        "  if i == maximum:\n",
        "    count +=1"
      ],
      "execution_count": 0,
      "outputs": []
    },
    {
      "cell_type": "code",
      "metadata": {
        "id": "9CoxbkrZWc6B",
        "colab_type": "code",
        "colab": {
          "base_uri": "https://localhost:8080/",
          "height": 34
        },
        "outputId": "4cd24ebc-3d92-471d-cdb0-69b342b20906"
      },
      "source": [
        "n = 3\n",
        "l = [[11,2,4],[4,5, 6],[10,8,-12]]\n",
        "count = 0\n",
        "sum1=0\n",
        "sum2 =0\n",
        "j1=0\n",
        "j2=N-1\n",
        "while(count<n):\n",
        "  sum1 += l[count][j]\n",
        "  sum2 += l[count][j-2]\n",
        "  count +=1\n",
        "  j1+=1\n",
        "  j2-=1\n",
        "print(abs(sum1 - sum2))\n",
        "  "
      ],
      "execution_count": 61,
      "outputs": [
        {
          "output_type": "stream",
          "text": [
            "27\n"
          ],
          "name": "stdout"
        }
      ]
    },
    {
      "cell_type": "code",
      "metadata": {
        "id": "87K9c53QWlpI",
        "colab_type": "code",
        "colab": {
          "base_uri": "https://localhost:8080/",
          "height": 153
        },
        "outputId": "9e892511-564d-43f7-acdc-844287368279"
      },
      "source": [
        "N=int(input())\n",
        "grid=[]\n",
        "for i in range(0,N):\n",
        "    lists=[int(i) for i in input().split()]\n",
        "    print(lists)\n",
        "    grid.append(lists)\n",
        "count=0\n",
        "sum1=0\n",
        "sum2=0\n",
        "j1=0\n",
        "j2=N-1\n",
        "while(count<N):\n",
        "    sum1=sum1+grid[count][j1]\n",
        "    sum2=sum2+grid[count][j2]\n",
        "    count+=1\n",
        "    j1+=1\n",
        "    j2-=1\n",
        "print(abs(sum1-sum2))"
      ],
      "execution_count": 52,
      "outputs": [
        {
          "output_type": "stream",
          "text": [
            "3\n",
            "3 4 5\n",
            "[3, 4, 5]\n",
            "2 3 1\n",
            "[2, 3, 1]\n",
            "3 4 5\n",
            "[3, 4, 5]\n",
            "0\n"
          ],
          "name": "stdout"
        }
      ]
    },
    {
      "cell_type": "code",
      "metadata": {
        "id": "JqZCt3mHWr-H",
        "colab_type": "code",
        "colab": {
          "base_uri": "https://localhost:8080/",
          "height": 85
        },
        "outputId": "da53ab50-6d9a-46e1-a5d8-63f4750218fb"
      },
      "source": [
        "n = int(input())\n",
        "arr = []\n",
        "for i in range(0,n):\n",
        "  lists = [int(i) for i in input().split()]\n",
        "  arr.append(lists)"
      ],
      "execution_count": 53,
      "outputs": [
        {
          "output_type": "stream",
          "text": [
            "3\n",
            "4 5 6\n",
            "2 3 4\n",
            "6 7 8\n"
          ],
          "name": "stdout"
        }
      ]
    },
    {
      "cell_type": "code",
      "metadata": {
        "id": "ykBss0mOddAV",
        "colab_type": "code",
        "colab": {
          "base_uri": "https://localhost:8080/",
          "height": 34
        },
        "outputId": "c85e9f8b-60a6-44fb-f252-5f653f0feeaa"
      },
      "source": [
        "arr"
      ],
      "execution_count": 54,
      "outputs": [
        {
          "output_type": "execute_result",
          "data": {
            "text/plain": [
              "[[4, 5, 6], [2, 3, 4], [6, 7, 8]]"
            ]
          },
          "metadata": {
            "tags": []
          },
          "execution_count": 54
        }
      ]
    },
    {
      "cell_type": "code",
      "metadata": {
        "id": "EZHSmWfidlDS",
        "colab_type": "code",
        "colab": {
          "base_uri": "https://localhost:8080/",
          "height": 34
        },
        "outputId": "c7d6d2b6-8953-4286-c8d8-7764a1037606"
      },
      "source": [
        "count=0\n",
        "sum1=0\n",
        "sum2=0\n",
        "j1=0\n",
        "j2=N-1\n",
        "while(count<n):\n",
        "    sum1 += arr[count][j1]\n",
        "    sum2 += arr[count][j2]\n",
        "    count+=1\n",
        "    j1+=1\n",
        "    j2-=1\n",
        "print(abs(sum1-sum2))"
      ],
      "execution_count": 60,
      "outputs": [
        {
          "output_type": "stream",
          "text": [
            "0\n"
          ],
          "name": "stdout"
        }
      ]
    },
    {
      "cell_type": "code",
      "metadata": {
        "id": "yYhJ_K6-duVB",
        "colab_type": "code",
        "colab": {
          "base_uri": "https://localhost:8080/",
          "height": 34
        },
        "outputId": "4210b475-1cc8-4009-da27-cc18ad093759"
      },
      "source": [
        "print(abs(sum1-sum2))"
      ],
      "execution_count": 57,
      "outputs": [
        {
          "output_type": "stream",
          "text": [
            "0\n"
          ],
          "name": "stdout"
        }
      ]
    },
    {
      "cell_type": "code",
      "metadata": {
        "id": "PcT8gP1qdyQ9",
        "colab_type": "code",
        "colab": {}
      },
      "source": [
        "arr = [-4, 3,-9, 0,4, 1  ]\n",
        "count_neg = 0\n",
        "count_pos = 0\n",
        "count_zr = 0\n",
        "for i in arr:\n",
        "  if(i < 0):\n",
        "    count_neg += 1\n",
        "  elif(i==0):\n",
        "    count_zr +=1\n",
        "  else:\n",
        "    count_pos +=1\n",
        "a = count_pos/ len(arr)\n",
        "b = count_neg/ len(arr)\n",
        "c = count_zr/ len(arr)\n",
        "\n",
        "  "
      ],
      "execution_count": 0,
      "outputs": []
    },
    {
      "cell_type": "code",
      "metadata": {
        "id": "e9aqc6XQoTMW",
        "colab_type": "code",
        "colab": {
          "base_uri": "https://localhost:8080/",
          "height": 34
        },
        "outputId": "23441206-836e-467d-d807-483569af6251"
      },
      "source": [
        "b"
      ],
      "execution_count": 78,
      "outputs": [
        {
          "output_type": "execute_result",
          "data": {
            "text/plain": [
              "0.3333333333333333"
            ]
          },
          "metadata": {
            "tags": []
          },
          "execution_count": 78
        }
      ]
    },
    {
      "cell_type": "code",
      "metadata": {
        "id": "cZtQx6c0kaRt",
        "colab_type": "code",
        "colab": {
          "base_uri": "https://localhost:8080/",
          "height": 68
        },
        "outputId": "4d6fa984-ae68-49be-c9fd-81da3d7789d7"
      },
      "source": [
        "print(\"{0:.6f}\".format(round(a,6)))\n",
        "print(\"{0:.6f}\".format(round(b,6)))\n",
        "print(\"{0:.6f}\".format(round(c,6)))"
      ],
      "execution_count": 81,
      "outputs": [
        {
          "output_type": "stream",
          "text": [
            "0.500000\n",
            "0.333333\n",
            "0.166667\n"
          ],
          "name": "stdout"
        }
      ]
    },
    {
      "cell_type": "code",
      "metadata": {
        "id": "Wj1AWI1ekb9C",
        "colab_type": "code",
        "colab": {
          "base_uri": "https://localhost:8080/",
          "height": 34
        },
        "outputId": "9a2d59e9-a59b-4080-cee8-c705dad7e286"
      },
      "source": [
        "count_pos"
      ],
      "execution_count": 64,
      "outputs": [
        {
          "output_type": "execute_result",
          "data": {
            "text/plain": [
              "3"
            ]
          },
          "metadata": {
            "tags": []
          },
          "execution_count": 64
        }
      ]
    },
    {
      "cell_type": "code",
      "metadata": {
        "id": "HO0ZBb9Ikdr0",
        "colab_type": "code",
        "colab": {
          "base_uri": "https://localhost:8080/",
          "height": 51
        },
        "outputId": "11df2256-2cfd-4d8b-9fe2-f9ee75d7bfe5"
      },
      "source": [
        "for i in range(0,len(arr)):arr[i] = int(arr[i])\n",
        "    maxis = max(arr)\n",
        "    count = 0\n",
        "    for i in arr:        print(i)"
      ],
      "execution_count": 89,
      "outputs": [
        {
          "output_type": "stream",
          "text": [
            "5\n",
            "1\n"
          ],
          "name": "stdout"
        }
      ]
    },
    {
      "cell_type": "code",
      "metadata": {
        "id": "kz6zl1gDkfRp",
        "colab_type": "code",
        "colab": {
          "base_uri": "https://localhost:8080/",
          "height": 1377
        },
        "outputId": "d1b3b99d-3de7-485f-9fec-798e7d829925"
      },
      "source": [
        "grad = [73,67,38,33]\n",
        "n = 4 \n",
        "level = []\n",
        "arr = []\n",
        "for i in range(0,100):\n",
        "  if i % 5 == 0:\n",
        "    level.append(i)\n",
        "    \n",
        "for i in range(0, len(level)):\n",
        "  for j in range(0,len(grad)):\n",
        "    print(level[i] , grad[j])\n",
        "    if(level[i] - grad[j]) < 3:\n",
        "      arr.append(level[i])  "
      ],
      "execution_count": 96,
      "outputs": [
        {
          "output_type": "stream",
          "text": [
            "0 73\n",
            "0 67\n",
            "0 38\n",
            "0 33\n",
            "5 73\n",
            "5 67\n",
            "5 38\n",
            "5 33\n",
            "10 73\n",
            "10 67\n",
            "10 38\n",
            "10 33\n",
            "15 73\n",
            "15 67\n",
            "15 38\n",
            "15 33\n",
            "20 73\n",
            "20 67\n",
            "20 38\n",
            "20 33\n",
            "25 73\n",
            "25 67\n",
            "25 38\n",
            "25 33\n",
            "30 73\n",
            "30 67\n",
            "30 38\n",
            "30 33\n",
            "35 73\n",
            "35 67\n",
            "35 38\n",
            "35 33\n",
            "40 73\n",
            "40 67\n",
            "40 38\n",
            "40 33\n",
            "45 73\n",
            "45 67\n",
            "45 38\n",
            "45 33\n",
            "50 73\n",
            "50 67\n",
            "50 38\n",
            "50 33\n",
            "55 73\n",
            "55 67\n",
            "55 38\n",
            "55 33\n",
            "60 73\n",
            "60 67\n",
            "60 38\n",
            "60 33\n",
            "65 73\n",
            "65 67\n",
            "65 38\n",
            "65 33\n",
            "70 73\n",
            "70 67\n",
            "70 38\n",
            "70 33\n",
            "75 73\n",
            "75 67\n",
            "75 38\n",
            "75 33\n",
            "80 73\n",
            "80 67\n",
            "80 38\n",
            "80 33\n",
            "85 73\n",
            "85 67\n",
            "85 38\n",
            "85 33\n",
            "90 73\n",
            "90 67\n",
            "90 38\n",
            "90 33\n",
            "95 73\n",
            "95 67\n",
            "95 38\n",
            "95 33\n"
          ],
          "name": "stdout"
        }
      ]
    },
    {
      "cell_type": "code",
      "metadata": {
        "id": "YEK8N9ZKvNIl",
        "colab_type": "code",
        "colab": {
          "base_uri": "https://localhost:8080/",
          "height": 816
        },
        "outputId": "5aebbf8c-1be3-4d59-abfd-0edcbec67c10"
      },
      "source": [
        "arr"
      ],
      "execution_count": 97,
      "outputs": [
        {
          "output_type": "execute_result",
          "data": {
            "text/plain": [
              "[0,\n",
              " 0,\n",
              " 0,\n",
              " 0,\n",
              " 5,\n",
              " 5,\n",
              " 5,\n",
              " 5,\n",
              " 10,\n",
              " 10,\n",
              " 10,\n",
              " 10,\n",
              " 15,\n",
              " 15,\n",
              " 15,\n",
              " 15,\n",
              " 20,\n",
              " 20,\n",
              " 20,\n",
              " 20,\n",
              " 25,\n",
              " 25,\n",
              " 25,\n",
              " 25,\n",
              " 30,\n",
              " 30,\n",
              " 30,\n",
              " 30,\n",
              " 35,\n",
              " 35,\n",
              " 35,\n",
              " 35,\n",
              " 40,\n",
              " 40,\n",
              " 40,\n",
              " 45,\n",
              " 45,\n",
              " 50,\n",
              " 50,\n",
              " 55,\n",
              " 55,\n",
              " 60,\n",
              " 60,\n",
              " 65,\n",
              " 65,\n",
              " 70,\n",
              " 75]"
            ]
          },
          "metadata": {
            "tags": []
          },
          "execution_count": 97
        }
      ]
    },
    {
      "cell_type": "code",
      "metadata": {
        "id": "xGIjJQlJvN1q",
        "colab_type": "code",
        "colab": {}
      },
      "source": [
        ""
      ],
      "execution_count": 0,
      "outputs": []
    }
  ]
}