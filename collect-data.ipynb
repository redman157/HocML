{
  "nbformat": 4,
  "nbformat_minor": 0,
  "metadata": {
    "colab": {
      "name": "Untitled37.ipynb",
      "version": "0.3.2",
      "provenance": [],
      "include_colab_link": true
    },
    "kernelspec": {
      "name": "python3",
      "display_name": "Python 3"
    }
  },
  "cells": [
    {
      "cell_type": "markdown",
      "metadata": {
        "id": "view-in-github",
        "colab_type": "text"
      },
      "source": [
        "<a href=\"https://colab.research.google.com/github/redman157/HocML/blob/master/collect-data.ipynb\" target=\"_parent\"><img src=\"https://colab.research.google.com/assets/colab-badge.svg\" alt=\"Open In Colab\"/></a>"
      ]
    },
    {
      "metadata": {
        "id": "tacqA3YGsCDS",
        "colab_type": "code",
        "colab": {}
      },
      "cell_type": "code",
      "source": [
        "import requests as rq\n",
        "import re \n",
        "import json\n",
        "import os\n",
        "import pandas as pd\n",
        "from bs4 import BeautifulSoup\n",
        "\n",
        "\n",
        "def get_server(url):\n",
        "  r = requests.get(url)\n",
        "\n",
        "def get_info_by_id(user, movies):\n",
        "\n",
        "def open_data(fileName):\n",
        "  if(os.path.exists('datasets.txt')) is False:\n",
        "    with open(fileName,'wb') as f:\n",
        "      for i in range(N):\n",
        "        f.write(fileName)\n",
        "      f.close()\n",
        "  else:\n",
        "    with open(fileName,'r') as f:\n",
        "      if(f.mode == 'r'):\n",
        "        contents = f.read(fileName)\n",
        "  return contents\n",
        "\n",
        "def collect_rss_movies():\n",
        "  genres = settings.GENRES\n",
        "  countries = settings.CONTRIES\n",
        "  results = {}\n",
        "  rss_url = 'https://rss.itunes.apple.com/api/v1/%s/movies/top-movies/%s/200/explicit.json'\n",
        "  \n",
        "  print('Getting iTunes data...')\n",
        "  \n",
        "  for country in countries:\n",
        "    country_result = []\n",
        "    for genre in genres:\n",
        "      r = rq.get(rss_url % (country,genre)).json\n",
        "      genre_results = r['feed']['results']\n",
        "      country_results += genre_results\n",
        "     \n",
        " "
      ],
      "execution_count": 0,
      "outputs": []
    },
    {
      "metadata": {
        "id": "ne_N4Uldws72",
        "colab_type": "code",
        "colab": {}
      },
      "cell_type": "code",
      "source": [
        "import requests as rq\n",
        "import re\n",
        "\n",
        "url = 'https://api.github.com/user'\n",
        "#r = rq.get(url , auth = 'user', 'pass'))\n",
        "r = rq.post('https://httpbin.org/post', data = {'key':'value'})\n",
        "r = rq.delete('https://httpbin.org/delete')\n",
        "r = rq.head('https://httpbin.org/get')\n",
        "r = rq.options('https://httpbin.org/get')"
      ],
      "execution_count": 0,
      "outputs": []
    },
    {
      "metadata": {
        "id": "lUG44x9ajACb",
        "colab_type": "code",
        "colab": {
          "base_uri": "https://localhost:8080/",
          "height": 97
        },
        "outputId": "56ca4ad0-e69b-433d-f258-7b05445104be"
      },
      "cell_type": "code",
      "source": [
        "!sudo pip install setup.py"
      ],
      "execution_count": 7,
      "outputs": [
        {
          "output_type": "stream",
          "text": [
            "Collecting setup.py\n",
            "\u001b[31m  Could not find a version that satisfies the requirement setup.py (from versions: )\u001b[0m\n",
            "\u001b[31mNo matching distribution found for setup.py\u001b[0m\n"
          ],
          "name": "stdout"
        }
      ]
    },
    {
      "metadata": {
        "id": "mf9o-1b413v2",
        "colab_type": "code",
        "colab": {}
      },
      "cell_type": "code",
      "source": [
        "import requests\n",
        "base_url = \"http://www.phimmoi.net/phim-le\"\n",
        "r = requests.get(base_url)\n",
        "c = r.content\n",
        "# get den trang web phim moi va co type la phim-le"
      ],
      "execution_count": 0,
      "outputs": []
    },
    {
      "metadata": {
        "id": "Jd7SHWr7iJRI",
        "colab_type": "code",
        "colab": {}
      },
      "cell_type": "code",
      "source": [
        "soup = BeautifulSoup(c,\"html.parser\")"
      ],
      "execution_count": 0,
      "outputs": []
    },
    {
      "metadata": {
        "id": "hdpTb7XnigdI",
        "colab_type": "code",
        "colab": {}
      },
      "cell_type": "code",
      "source": [
        "file = 'hello'"
      ],
      "execution_count": 0,
      "outputs": []
    },
    {
      "metadata": {
        "id": "Ub0E3RTEnIKH",
        "colab_type": "code",
        "colab": {
          "base_uri": "https://localhost:8080/",
          "height": 34
        },
        "outputId": "60dfcde1-e11c-43fc-8250-8e3b07554909"
      },
      "cell_type": "code",
      "source": [
        "file == None"
      ],
      "execution_count": 22,
      "outputs": [
        {
          "output_type": "execute_result",
          "data": {
            "text/plain": [
              "False"
            ]
          },
          "metadata": {
            "tags": []
          },
          "execution_count": 22
        }
      ]
    },
    {
      "metadata": {
        "id": "wrXsP1finIzL",
        "colab_type": "code",
        "colab": {
          "base_uri": "https://localhost:8080/",
          "height": 181
        },
        "outputId": "e6c1b543-edad-449a-b05d-bc19281f7eac"
      },
      "cell_type": "code",
      "source": [
        "website = \"http://www.phimmoi.net/phim-le/\"\n",
        "website.len"
      ],
      "execution_count": 29,
      "outputs": [
        {
          "output_type": "error",
          "ename": "AttributeError",
          "evalue": "ignored",
          "traceback": [
            "\u001b[0;31m---------------------------------------------------------------------------\u001b[0m",
            "\u001b[0;31mAttributeError\u001b[0m                            Traceback (most recent call last)",
            "\u001b[0;32m<ipython-input-29-304e88fab72b>\u001b[0m in \u001b[0;36m<module>\u001b[0;34m()\u001b[0m\n\u001b[1;32m      1\u001b[0m \u001b[0mwebsite\u001b[0m \u001b[0;34m=\u001b[0m \u001b[0;34m\"http://www.phimmoi.net/phim-le/\"\u001b[0m\u001b[0;34m\u001b[0m\u001b[0;34m\u001b[0m\u001b[0m\n\u001b[0;32m----> 2\u001b[0;31m \u001b[0mwebsite\u001b[0m\u001b[0;34m.\u001b[0m\u001b[0mlen\u001b[0m\u001b[0;34m\u001b[0m\u001b[0;34m\u001b[0m\u001b[0m\n\u001b[0m",
            "\u001b[0;31mAttributeError\u001b[0m: 'str' object has no attribute 'len'"
          ]
        }
      ]
    },
    {
      "metadata": {
        "id": "cEeWxEH1pJ6A",
        "colab_type": "code",
        "colab": {
          "base_uri": "https://localhost:8080/",
          "height": 34
        },
        "outputId": "c6ba5be2-42de-4243-a92e-7894175e39af"
      },
      "cell_type": "code",
      "source": [
        "i"
      ],
      "execution_count": 25,
      "outputs": [
        {
          "output_type": "execute_result",
          "data": {
            "text/plain": [
              "'/'"
            ]
          },
          "metadata": {
            "tags": []
          },
          "execution_count": 25
        }
      ]
    },
    {
      "metadata": {
        "id": "5usJtI0epO8h",
        "colab_type": "code",
        "colab": {}
      },
      "cell_type": "code",
      "source": [
        "file = open('text.txt',\"w\")"
      ],
      "execution_count": 0,
      "outputs": []
    },
    {
      "metadata": {
        "id": "YrhqWKIOp_2V",
        "colab_type": "code",
        "colab": {}
      },
      "cell_type": "code",
      "source": [
        "def write_file(fileName):\n",
        "  file = open(fileName,'w')\n",
        "  for item in range(10):\n",
        "    file.write(\"This is line %d\\r\\n\" % (i+1))\n",
        "  file.close\n",
        "  return file\n",
        "def append_file(fileName):\n",
        "  file = open(fileName,'a+')\n",
        "  for item in range(10):\n",
        "    file.write(\"This is line %d\\r\\n\" % (i+1))\n",
        "  file.close\n",
        "  return file\n",
        "def read_file(fileName):\n",
        "  file = open(fileName,'r')\n",
        "  if(file.mode == 'r'):\n",
        "    contents = file.read()\n",
        "  return contend"
      ],
      "execution_count": 0,
      "outputs": []
    },
    {
      "metadata": {
        "id": "K_-TBL5_qAdz",
        "colab_type": "code",
        "colab": {}
      },
      "cell_type": "code",
      "source": [
        "file = open('text.txt','r')"
      ],
      "execution_count": 0,
      "outputs": []
    },
    {
      "metadata": {
        "id": "zeYngPPnqQ42",
        "colab_type": "code",
        "colab": {
          "base_uri": "https://localhost:8080/",
          "height": 34
        },
        "outputId": "cdc5cd80-fae2-4f54-c916-02855fa9ec0c"
      },
      "cell_type": "code",
      "source": [
        "for i in range(10):\n",
        "  file.ope"
      ],
      "execution_count": 38,
      "outputs": [
        {
          "output_type": "execute_result",
          "data": {
            "text/plain": [
              "<_io.TextIOWrapper name='text.txt' mode='r' encoding='UTF-8'>"
            ]
          },
          "metadata": {
            "tags": []
          },
          "execution_count": 38
        }
      ]
    },
    {
      "metadata": {
        "id": "3Xba0j-sqY7m",
        "colab_type": "code",
        "colab": {}
      },
      "cell_type": "code",
      "source": [
        ""
      ],
      "execution_count": 0,
      "outputs": []
    }
  ]
}