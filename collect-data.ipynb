{
  "nbformat": 4,
  "nbformat_minor": 0,
  "metadata": {
    "colab": {
      "name": "Untitled37.ipynb",
      "version": "0.3.2",
      "provenance": [],
      "include_colab_link": true
    },
    "kernelspec": {
      "name": "python3",
      "display_name": "Python 3"
    }
  },
  "cells": [
    {
      "cell_type": "markdown",
      "metadata": {
        "id": "view-in-github",
        "colab_type": "text"
      },
      "source": [
        "<a href=\"https://colab.research.google.com/github/redman157/HocML/blob/master/collect-data.ipynb\" target=\"_parent\"><img src=\"https://colab.research.google.com/assets/colab-badge.svg\" alt=\"Open In Colab\"/></a>"
      ]
    },
    {
      "metadata": {
        "id": "tacqA3YGsCDS",
        "colab_type": "code",
        "colab": {}
      },
      "cell_type": "code",
      "source": [
        "import requests as rq\n",
        "import re\n",
        "import settings \n",
        "import json\n",
        "\n",
        "def get_info_by_id(user, movies):\n",
        "  pass\n",
        "def collect_rss_movies():\n",
        "  genres = settings.GENRES\n",
        "  countries = settings.CONTRIES\n",
        "  results = {}\n",
        "  rss_url = 'https://rss.itunes.apple.com/api/v1/%s/movies/top-movies/%s/200/explicit.json'\n",
        "  \n",
        "  print('Getting iTunes data...')\n",
        "  \n",
        "  for country in countries:\n",
        "    country_result = []\n",
        "    for genre in genres:\n",
        "      r = rq.get(rss_url % (country,genre)).json\n",
        "      genre_results = r['feed']['results']\n",
        "      country_results += genre_results\n",
        " "
      ],
      "execution_count": 0,
      "outputs": []
    },
    {
      "metadata": {
        "id": "ne_N4Uldws72",
        "colab_type": "code",
        "colab": {}
      },
      "cell_type": "code",
      "source": [
        "import requests as rq\n",
        "import re\n",
        "\n",
        "url = 'https://api.github.com/user'\n",
        "#r = rq.get(url , auth = 'user', 'pass'))\n",
        "r = rq.post('https://httpbin.org/post', data = {'key':'value'})\n",
        "r = rq.delete('https://httpbin.org/delete')\n",
        "r = rq.head('https://httpbin.org/get')\n",
        "r = rq.options('https://httpbin.org/get')"
      ],
      "execution_count": 0,
      "outputs": []
    },
    {
      "metadata": {
        "id": "4aoMttcXxRcT",
        "colab_type": "code",
        "colab": {
          "base_uri": "https://localhost:8080/",
          "height": 35
        },
        "outputId": "be441541-2c16-4477-fe4e-d161386ea4e6"
      },
      "cell_type": "code",
      "source": [
        "r"
      ],
      "execution_count": 10,
      "outputs": [
        {
          "output_type": "execute_result",
          "data": {
            "text/plain": [
              "<Response [200]>"
            ]
          },
          "metadata": {
            "tags": []
          },
          "execution_count": 10
        }
      ]
    },
    {
      "metadata": {
        "id": "mf9o-1b413v2",
        "colab_type": "code",
        "colab": {}
      },
      "cell_type": "code",
      "source": [
        ""
      ],
      "execution_count": 0,
      "outputs": []
    }
  ]
}