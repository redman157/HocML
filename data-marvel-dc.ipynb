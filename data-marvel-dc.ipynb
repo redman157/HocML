{
  "nbformat": 4,
  "nbformat_minor": 0,
  "metadata": {
    "colab": {
      "name": "Untitled44.ipynb",
      "version": "0.3.2",
      "provenance": [],
      "include_colab_link": true
    },
    "kernelspec": {
      "name": "python3",
      "display_name": "Python 3"
    },
    "accelerator": "GPU"
  },
  "cells": [
    {
      "cell_type": "markdown",
      "metadata": {
        "id": "view-in-github",
        "colab_type": "text"
      },
      "source": [
        "<a href=\"https://colab.research.google.com/github/redman157/HocML/blob/master/data-marvel-dc.ipynb\" target=\"_parent\"><img src=\"https://colab.research.google.com/assets/colab-badge.svg\" alt=\"Open In Colab\"/></a>"
      ]
    },
    {
      "cell_type": "code",
      "metadata": {
        "id": "XDnn6o86LUDW",
        "colab_type": "code",
        "outputId": "5f61c040-dc5a-4343-a2d8-b34aba8efc81",
        "colab": {
          "resources": {
            "http://localhost:8080/nbextensions/google.colab/files.js": {
              "data": "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",
              "ok": true,
              "headers": [
                [
                  "content-type",
                  "application/javascript"
                ]
              ],
              "status": 200,
              "status_text": "OK"
            }
          },
          "base_uri": "https://localhost:8080/",
          "height": 96
        }
      },
      "source": [
        "from google.colab import files\n",
        "files.upload()"
      ],
      "execution_count": 1,
      "outputs": [
        {
          "output_type": "display_data",
          "data": {
            "text/html": [
              "\n",
              "     <input type=\"file\" id=\"files-3f5c4abb-a3ed-4132-8df1-e7a55e4ba02a\" name=\"files[]\" multiple disabled />\n",
              "     <output id=\"result-3f5c4abb-a3ed-4132-8df1-e7a55e4ba02a\">\n",
              "      Upload widget is only available when the cell has been executed in the\n",
              "      current browser session. Please rerun this cell to enable.\n",
              "      </output>\n",
              "      <script src=\"/nbextensions/google.colab/files.js\"></script> "
            ],
            "text/plain": [
              "<IPython.core.display.HTML object>"
            ]
          },
          "metadata": {
            "tags": []
          }
        },
        {
          "output_type": "stream",
          "text": [
            "Saving kaggle.json to kaggle.json\n"
          ],
          "name": "stdout"
        },
        {
          "output_type": "execute_result",
          "data": {
            "text/plain": [
              "{'kaggle.json': b'{\"username\":\"pson2900\",\"key\":\"2507a7e3dd9a47a3b2ffc26308eaa233\"}'}"
            ]
          },
          "metadata": {
            "tags": []
          },
          "execution_count": 1
        }
      ]
    },
    {
      "cell_type": "code",
      "metadata": {
        "id": "Af8QgEo-LU1n",
        "colab_type": "code",
        "outputId": "4df196ec-a8fb-41fe-cf2c-898eae7bb7c7",
        "colab": {
          "base_uri": "https://localhost:8080/",
          "height": 462
        }
      },
      "source": [
        "# Let's make sure the kaggle.json file is present.\n",
        "!ls -lha kaggle.json\n",
        "# Next, install the Kaggle API client.\n",
        "!pip install -q kaggle\n",
        "# The Kaggle API client expects this file to be in ~/.kaggle,\n",
        "# so move it there.\n",
        "!mkdir -p ~/.kaggle\n",
        "!cp kaggle.json ~/.kaggle/\n",
        "\n",
        "# This permissions change avoids a warning on Kaggle tool startup.\n",
        "!chmod 600 ~/.kaggle/kaggle.json\n",
        "# List available datasets.\n",
        "!kaggle datasets list"
      ],
      "execution_count": 2,
      "outputs": [
        {
          "output_type": "stream",
          "text": [
            "-rw-r--r-- 1 root root 64 May 19 02:50 kaggle.json\n",
            "ref                                                          title                                                size  lastUpdated          downloadCount  \n",
            "-----------------------------------------------------------  --------------------------------------------------  -----  -------------------  -------------  \n",
            "ronitf/heart-disease-uci                                     Heart Disease UCI                                     3KB  2018-06-25 11:33:56          49365  \n",
            "lava18/google-play-store-apps                                Google Play Store Apps                                2MB  2019-02-03 13:55:47          59415  \n",
            "karangadiya/fifa19                                           FIFA 19 complete player dataset                       2MB  2018-12-21 03:52:59          32111  \n",
            "vjchoudhary7/customer-segmentation-tutorial-in-python        Mall Customer Segmentation Data                       2KB  2018-08-11 07:23:02          10886  \n",
            "russellyates88/suicide-rates-overview-1985-to-2016           Suicide Rates Overview 1985 to 2016                 396KB  2018-12-01 19:18:25          32727  \n",
            "bigquery/crypto-ethereum-classic                             Ethereum Classic Blockchain                          70GB  2019-03-20 23:21:25              0  \n",
            "jessicali9530/celeba-dataset                                 CelebFaces Attributes (CelebA) Dataset                1GB  2018-06-01 20:08:48           8750  \n",
            "iarunava/cell-images-for-detecting-malaria                   Malaria Cell Images Dataset                         337MB  2018-12-05 05:40:21           7282  \n",
            "jessicali9530/stanford-dogs-dataset                          Stanford Dogs Dataset                               735MB  2019-02-13 05:45:25           4340  \n",
            "noriuk/us-education-datasets-unification-project             U.S. Education Datasets: Unification Project         85MB  2019-03-02 18:41:52           5099  \n",
            "cityofLA/los-angeles-parking-citations                       Los Angeles Parking Citations                       263MB  2019-05-18 22:17:33           4370  \n",
            "safegraph/census-block-group-american-community-survey-data  Census Block Group American Community Survey Data     2GB  2018-12-22 00:29:56           1054  \n",
            "mohansacharya/graduate-admissions                            Graduate Admissions                                   9KB  2018-12-28 10:07:14          24687  \n",
            "fivethirtyeight/fivethirtyeight-comic-characters-dataset     FiveThirtyEight Comic Characters Dataset            577KB  2019-04-26 15:01:41           3497  \n",
            "safegraph/visit-patterns-by-census-block-group               Consumer & Visitor Insights For Neighborhoods        66MB  2018-12-19 21:31:50           2047  \n",
            "anokas/kuzushiji                                             Kuzushiji-MNIST                                     318MB  2018-12-17 01:19:31           1069  \n",
            "rmisra/news-headlines-dataset-for-sarcasm-detection          News Headlines Dataset For Sarcasm Detection          2MB  2018-06-09 22:14:56           3682  \n",
            "jutrera/stanford-car-dataset-by-classes-folder               Stanford Car Dataset by classes folder                2GB  2018-07-02 07:35:45           3760  \n",
            "pavansanagapati/urban-sound-classification                   Urban Sound Classification                            6GB  2018-06-16 13:44:36           2987  \n",
            "xvivancos/barcelona-data-sets                                Barcelona data sets                                   1MB  2019-05-18 09:58:15           5271  \n"
          ],
          "name": "stdout"
        }
      ]
    },
    {
      "cell_type": "code",
      "metadata": {
        "id": "rcf6q7PxLcKy",
        "colab_type": "code",
        "outputId": "70bbad50-767a-4057-d91d-d8a175eb4eb3",
        "colab": {
          "base_uri": "https://localhost:8080/",
          "height": 72
        }
      },
      "source": [
        "!kaggle datasets download -d fivethirtyeight/fivethirtyeight-comic-characters-dataset"
      ],
      "execution_count": 3,
      "outputs": [
        {
          "output_type": "stream",
          "text": [
            "Downloading fivethirtyeight-comic-characters-dataset.zip to /content\n",
            "\r  0% 0.00/577k [00:00<?, ?B/s]\n",
            "\r100% 577k/577k [00:00<00:00, 39.5MB/s]\n"
          ],
          "name": "stdout"
        }
      ]
    },
    {
      "cell_type": "code",
      "metadata": {
        "id": "-mH8DacwAkb0",
        "colab_type": "code",
        "colab": {
          "base_uri": "https://localhost:8080/",
          "height": 91
        },
        "outputId": "9439c5fc-c2a2-48ef-bdb6-0a8b138b30f1"
      },
      "source": [
        "!unzip fivethirtyeight-comic-characters-dataset.zip"
      ],
      "execution_count": 4,
      "outputs": [
        {
          "output_type": "stream",
          "text": [
            "Archive:  fivethirtyeight-comic-characters-dataset.zip\n",
            "  inflating: README.md               \n",
            "  inflating: marvel-wikia-data.csv   \n",
            "  inflating: dc-wikia-data.csv       \n"
          ],
          "name": "stdout"
        }
      ]
    },
    {
      "cell_type": "markdown",
      "metadata": {
        "id": "zjXH0MOxbOhZ",
        "colab_type": "text"
      },
      "source": [
        "# 1. Import Thư Viện"
      ]
    },
    {
      "cell_type": "code",
      "metadata": {
        "id": "o-ROHlzALfAe",
        "colab_type": "code",
        "outputId": "7f4701a2-ac25-4b0f-ce32-9bf7d7d000d3",
        "colab": {
          "base_uri": "https://localhost:8080/",
          "height": 311
        }
      },
      "source": [
        "import pandas as pd\n",
        "import matplotlib.pyplot as plt\n",
        "import seaborn as sns\n",
        "import numpy as np\n",
        "\n",
        "dc = pd.read_csv('dc-wikia-data.csv')\n",
        "marvel = pd.read_csv('marvel-wikia-data.csv')\n",
        "dc.head(5)"
      ],
      "execution_count": 45,
      "outputs": [
        {
          "output_type": "execute_result",
          "data": {
            "text/html": [
              "<div>\n",
              "<style scoped>\n",
              "    .dataframe tbody tr th:only-of-type {\n",
              "        vertical-align: middle;\n",
              "    }\n",
              "\n",
              "    .dataframe tbody tr th {\n",
              "        vertical-align: top;\n",
              "    }\n",
              "\n",
              "    .dataframe thead th {\n",
              "        text-align: right;\n",
              "    }\n",
              "</style>\n",
              "<table border=\"1\" class=\"dataframe\">\n",
              "  <thead>\n",
              "    <tr style=\"text-align: right;\">\n",
              "      <th></th>\n",
              "      <th>page_id</th>\n",
              "      <th>name</th>\n",
              "      <th>urlslug</th>\n",
              "      <th>ID</th>\n",
              "      <th>ALIGN</th>\n",
              "      <th>EYE</th>\n",
              "      <th>HAIR</th>\n",
              "      <th>SEX</th>\n",
              "      <th>GSM</th>\n",
              "      <th>ALIVE</th>\n",
              "      <th>APPEARANCES</th>\n",
              "      <th>FIRST APPEARANCE</th>\n",
              "      <th>YEAR</th>\n",
              "    </tr>\n",
              "  </thead>\n",
              "  <tbody>\n",
              "    <tr>\n",
              "      <th>0</th>\n",
              "      <td>1422</td>\n",
              "      <td>Batman (Bruce Wayne)</td>\n",
              "      <td>\\/wiki\\/Batman_(Bruce_Wayne)</td>\n",
              "      <td>Secret Identity</td>\n",
              "      <td>Good Characters</td>\n",
              "      <td>Blue Eyes</td>\n",
              "      <td>Black Hair</td>\n",
              "      <td>Male Characters</td>\n",
              "      <td>NaN</td>\n",
              "      <td>Living Characters</td>\n",
              "      <td>3093.0</td>\n",
              "      <td>1939, May</td>\n",
              "      <td>1939.0</td>\n",
              "    </tr>\n",
              "    <tr>\n",
              "      <th>1</th>\n",
              "      <td>23387</td>\n",
              "      <td>Superman (Clark Kent)</td>\n",
              "      <td>\\/wiki\\/Superman_(Clark_Kent)</td>\n",
              "      <td>Secret Identity</td>\n",
              "      <td>Good Characters</td>\n",
              "      <td>Blue Eyes</td>\n",
              "      <td>Black Hair</td>\n",
              "      <td>Male Characters</td>\n",
              "      <td>NaN</td>\n",
              "      <td>Living Characters</td>\n",
              "      <td>2496.0</td>\n",
              "      <td>1986, October</td>\n",
              "      <td>1986.0</td>\n",
              "    </tr>\n",
              "    <tr>\n",
              "      <th>2</th>\n",
              "      <td>1458</td>\n",
              "      <td>Green Lantern (Hal Jordan)</td>\n",
              "      <td>\\/wiki\\/Green_Lantern_(Hal_Jordan)</td>\n",
              "      <td>Secret Identity</td>\n",
              "      <td>Good Characters</td>\n",
              "      <td>Brown Eyes</td>\n",
              "      <td>Brown Hair</td>\n",
              "      <td>Male Characters</td>\n",
              "      <td>NaN</td>\n",
              "      <td>Living Characters</td>\n",
              "      <td>1565.0</td>\n",
              "      <td>1959, October</td>\n",
              "      <td>1959.0</td>\n",
              "    </tr>\n",
              "    <tr>\n",
              "      <th>3</th>\n",
              "      <td>1659</td>\n",
              "      <td>James Gordon (New Earth)</td>\n",
              "      <td>\\/wiki\\/James_Gordon_(New_Earth)</td>\n",
              "      <td>Public Identity</td>\n",
              "      <td>Good Characters</td>\n",
              "      <td>Brown Eyes</td>\n",
              "      <td>White Hair</td>\n",
              "      <td>Male Characters</td>\n",
              "      <td>NaN</td>\n",
              "      <td>Living Characters</td>\n",
              "      <td>1316.0</td>\n",
              "      <td>1987, February</td>\n",
              "      <td>1987.0</td>\n",
              "    </tr>\n",
              "    <tr>\n",
              "      <th>4</th>\n",
              "      <td>1576</td>\n",
              "      <td>Richard Grayson (New Earth)</td>\n",
              "      <td>\\/wiki\\/Richard_Grayson_(New_Earth)</td>\n",
              "      <td>Secret Identity</td>\n",
              "      <td>Good Characters</td>\n",
              "      <td>Blue Eyes</td>\n",
              "      <td>Black Hair</td>\n",
              "      <td>Male Characters</td>\n",
              "      <td>NaN</td>\n",
              "      <td>Living Characters</td>\n",
              "      <td>1237.0</td>\n",
              "      <td>1940, April</td>\n",
              "      <td>1940.0</td>\n",
              "    </tr>\n",
              "  </tbody>\n",
              "</table>\n",
              "</div>"
            ],
            "text/plain": [
              "   page_id                         name  ... FIRST APPEARANCE    YEAR\n",
              "0     1422         Batman (Bruce Wayne)  ...        1939, May  1939.0\n",
              "1    23387        Superman (Clark Kent)  ...    1986, October  1986.0\n",
              "2     1458   Green Lantern (Hal Jordan)  ...    1959, October  1959.0\n",
              "3     1659     James Gordon (New Earth)  ...   1987, February  1987.0\n",
              "4     1576  Richard Grayson (New Earth)  ...      1940, April  1940.0\n",
              "\n",
              "[5 rows x 13 columns]"
            ]
          },
          "metadata": {
            "tags": []
          },
          "execution_count": 45
        }
      ]
    },
    {
      "cell_type": "code",
      "metadata": {
        "id": "a5Fozpp5eN1Q",
        "colab_type": "code",
        "colab": {
          "base_uri": "https://localhost:8080/",
          "height": 109
        },
        "outputId": "3c29f845-5c0f-4ee3-92ed-667f1feaaa99"
      },
      "source": [
        "dc['ID'].value_counts()\n",
        "marvel['ID'].value_counts()\n"
      ],
      "execution_count": 49,
      "outputs": [
        {
          "output_type": "execute_result",
          "data": {
            "text/plain": [
              "Secret Identity                  6275\n",
              "Public Identity                  4528\n",
              "No Dual Identity                 1788\n",
              "Known to Authorities Identity      15\n",
              "Name: ID, dtype: int64"
            ]
          },
          "metadata": {
            "tags": []
          },
          "execution_count": 49
        }
      ]
    },
    {
      "cell_type": "code",
      "metadata": {
        "id": "an_2w4ZGgA0D",
        "colab_type": "code",
        "colab": {
          "base_uri": "https://localhost:8080/",
          "height": 396
        },
        "outputId": "c81ce324-29d0-44bc-aa9f-9678c98d0235"
      },
      "source": [
        "plt.subplots(figsize=(16,6))\n",
        "sns.barplot(x = dc['ID'].value_counts().index, y = dc['ID'].value_counts().values)"
      ],
      "execution_count": 56,
      "outputs": [
        {
          "output_type": "execute_result",
          "data": {
            "text/plain": [
              "<matplotlib.axes._subplots.AxesSubplot at 0x7fd60993c470>"
            ]
          },
          "metadata": {
            "tags": []
          },
          "execution_count": 56
        },
        {
          "output_type": "display_data",
          "data": {
            "image/png": "[encoded data removed]",
            "text/plain": [
              "<Figure size 1152x432 with 1 Axes>"
            ]
          },
          "metadata": {
            "tags": []
          }
        }
      ]
    },
    {
      "cell_type": "markdown",
      "metadata": {
        "id": "pAra-ZhVZV8f",
        "colab_type": "text"
      },
      "source": [
        "##  Sex in DC"
      ]
    },
    {
      "cell_type": "code",
      "metadata": {
        "id": "59-VHWWFaUux",
        "colab_type": "code",
        "colab": {
          "base_uri": "https://localhost:8080/",
          "height": 35
        },
        "outputId": "51a45bf1-0d89-474a-a796-fbb477070885"
      },
      "source": [
        "sex_count = dc['SEX'].value_counts()\n",
        "sex_count.values\n"
      ],
      "execution_count": 42,
      "outputs": [
        {
          "output_type": "execute_result",
          "data": {
            "text/plain": [
              "array([4783, 1967,   20,    1])"
            ]
          },
          "metadata": {
            "tags": []
          },
          "execution_count": 42
        }
      ]
    },
    {
      "cell_type": "code",
      "metadata": {
        "id": "-v19c6yQd_mG",
        "colab_type": "code",
        "outputId": "7c86fc18-be27-4eae-d5f8-7c83a1f58174",
        "colab": {
          "base_uri": "https://localhost:8080/",
          "height": 504
        }
      },
      "source": [
        "dc[\"SEX\"].value_counts()\n",
        "plt.figure(figsize= (12,8))\n",
        "sns.barplot(x= dc[\"SEX\"].value_counts().index, y =  dc[\"SEX\"].value_counts().values)"
      ],
      "execution_count": 44,
      "outputs": [
        {
          "output_type": "execute_result",
          "data": {
            "text/plain": [
              "<matplotlib.axes._subplots.AxesSubplot at 0x7fd6098cc978>"
            ]
          },
          "metadata": {
            "tags": []
          },
          "execution_count": 44
        },
        {
          "output_type": "display_data",
          "data": {
            "image/png": "[encoded data removed]",
            "text/plain": [
              "<Figure size 864x576 with 1 Axes>"
            ]
          },
          "metadata": {
            "tags": []
          }
        }
      ]
    },
    {
      "cell_type": "code",
      "metadata": {
        "id": "25xk2DACYkEn",
        "colab_type": "code",
        "colab": {
          "base_uri": "https://localhost:8080/",
          "height": 72
        },
        "outputId": "6fbfcb63-eb83-4f42-ccdb-944b1681236a"
      },
      "source": [
        "dc['SEX'].values"
      ],
      "execution_count": 36,
      "outputs": [
        {
          "output_type": "execute_result",
          "data": {
            "text/plain": [
              "array(['Male Characters', 'Male Characters', 'Male Characters', ...,\n",
              "       'Male Characters', 'Male Characters', 'Male Characters'],\n",
              "      dtype=object)"
            ]
          },
          "metadata": {
            "tags": []
          },
          "execution_count": 36
        }
      ]
    },
    {
      "cell_type": "code",
      "metadata": {
        "id": "gokRqH-HJ5uH",
        "colab_type": "code",
        "colab": {
          "base_uri": "https://localhost:8080/",
          "height": 35
        },
        "outputId": "4f8a3de6-ff0b-41ad-8cf0-3ce706f69d0a"
      },
      "source": [
        "dc['name'].isnull().sum()"
      ],
      "execution_count": 28,
      "outputs": [
        {
          "output_type": "execute_result",
          "data": {
            "text/plain": [
              "0"
            ]
          },
          "metadata": {
            "tags": []
          },
          "execution_count": 28
        }
      ]
    },
    {
      "cell_type": "code",
      "metadata": {
        "id": "EnMsSD9RGKLb",
        "colab_type": "code",
        "colab": {
          "base_uri": "https://localhost:8080/",
          "height": 109
        },
        "outputId": "4959236f-c047-4ff7-8b16-884299ff970f"
      },
      "source": [
        ""
      ],
      "execution_count": 23,
      "outputs": [
        {
          "output_type": "execute_result",
          "data": {
            "text/plain": [
              "['Secret Identity',\n",
              " 'Public Identity',\n",
              " 'No Dual Identity',\n",
              " 'Known to Authorities Identity',\n",
              " nan]"
            ]
          },
          "metadata": {
            "tags": []
          },
          "execution_count": 23
        }
      ]
    },
    {
      "cell_type": "markdown",
      "metadata": {
        "id": "CmqKkpB279Dt",
        "colab_type": "text"
      },
      "source": [
        "#SPLIT DATA USER DATA TOP 16"
      ]
    },
    {
      "cell_type": "code",
      "metadata": {
        "id": "WzkeYZXl_TEu",
        "colab_type": "code",
        "colab": {}
      },
      "source": [
        "label = (labels.groupby('breed').count().sort_values(by = 'id', ascending = False)).head(20)"
      ],
      "execution_count": 0,
      "outputs": []
    },
    {
      "cell_type": "code",
      "metadata": {
        "id": "czaCypUYKjt1",
        "colab_type": "code",
        "outputId": "45ace02b-15bc-424e-cead-0cb09876f94b",
        "colab": {
          "base_uri": "https://localhost:8080/",
          "height": 34
        }
      },
      "source": [
        "selected_breed_list = list(labels.groupby('breed').count().sort_values(by='id', ascending=False).head(NUM_CLASSES).index)\n",
        "labels = labels[labels['breed'].isin(selected_breed_list)]\n",
        "labels['target'] = 1\n",
        "labels.shape"
      ],
      "execution_count": 0,
      "outputs": [
        {
          "output_type": "execute_result",
          "data": {
            "text/plain": [
              "(2184, 3)"
            ]
          },
          "metadata": {
            "tags": []
          },
          "execution_count": 21
        }
      ]
    },
    {
      "cell_type": "code",
      "metadata": {
        "id": "VmoyWZJ6KxcF",
        "colab_type": "code",
        "outputId": "569a5630-16ef-4b5b-a481-f2c128e0ebe0",
        "colab": {
          "base_uri": "https://localhost:8080/",
          "height": 1071
        }
      },
      "source": [
        "group = labels.groupby(by='breed', as_index=False).agg({'id': pd.Series.nunique})\n",
        "group = group.sort_values('id',ascending=False)\n",
        "labels['rank'] = group['breed']\n",
        "labels['rank'].fillna(0)"
      ],
      "execution_count": 0,
      "outputs": [
        {
          "output_type": "execute_result",
          "data": {
            "text/plain": [
              "8        japanese_spaniel\n",
              "9                leonberg\n",
              "12                samoyed\n",
              "29                      0\n",
              "48                      0\n",
              "57                      0\n",
              "70                      0\n",
              "79                      0\n",
              "80                      0\n",
              "88                      0\n",
              "90                      0\n",
              "102                     0\n",
              "105                     0\n",
              "111                     0\n",
              "115                     0\n",
              "118                     0\n",
              "122                     0\n",
              "141                     0\n",
              "144                     0\n",
              "146                     0\n",
              "149                     0\n",
              "157                     0\n",
              "161                     0\n",
              "164                     0\n",
              "165                     0\n",
              "174                     0\n",
              "201                     0\n",
              "217                     0\n",
              "219                     0\n",
              "223                     0\n",
              "               ...       \n",
              "9992                    0\n",
              "9993                    0\n",
              "9999                    0\n",
              "10001                   0\n",
              "10020                   0\n",
              "10024                   0\n",
              "10025                   0\n",
              "10031                   0\n",
              "10038                   0\n",
              "10043                   0\n",
              "10061                   0\n",
              "10080                   0\n",
              "10081                   0\n",
              "10101                   0\n",
              "10120                   0\n",
              "10143                   0\n",
              "10144                   0\n",
              "10149                   0\n",
              "10154                   0\n",
              "10158                   0\n",
              "10177                   0\n",
              "10178                   0\n",
              "10195                   0\n",
              "10200                   0\n",
              "10204                   0\n",
              "10207                   0\n",
              "10212                   0\n",
              "10215                   0\n",
              "10216                   0\n",
              "10219                   0\n",
              "Name: rank, Length: 1777, dtype: object"
            ]
          },
          "metadata": {
            "tags": []
          },
          "execution_count": 130
        }
      ]
    },
    {
      "cell_type": "code",
      "metadata": {
        "id": "MxlMJedZ5k0_",
        "colab_type": "code",
        "colab": {}
      },
      "source": [
        "labels_pivot = labels.pivot('id', 'breed', 'target').reset_index().fillna(0)\n",
        "y_tr = labels_pivot[selected_breed_list].values"
      ],
      "execution_count": 0,
      "outputs": []
    },
    {
      "cell_type": "code",
      "metadata": {
        "id": "2vAjH7GL6x_3",
        "colab_type": "code",
        "colab": {}
      },
      "source": [
        "y_train, y_val = train_test_split(y_tr,test_size = 0.2,random_state= 1996)"
      ],
      "execution_count": 0,
      "outputs": []
    },
    {
      "cell_type": "code",
      "metadata": {
        "id": "og-C1OODVjCN",
        "colab_type": "code",
        "colab": {}
      },
      "source": [
        "selected_breed_list = list(labels.groupby('breed').count().sort_values(by='id', ascending=False).head(NUM_CLASSES).index)\n",
        "labels = labels[labels['breed'].isin(selected_breed_list)]\n",
        "labels['target'] = 1\n",
        "group = labels.groupby(by='breed', as_index=False).agg({'id': pd.Series.nunique})\n",
        "labels['rank'] = group['breed']\n",
        "#labels['rank'] = labels.groupby('breed').rank()['id']\n",
        "labels_pivot = labels.pivot('id', 'breed', 'target').reset_index().fillna(0)\n",
        "np.random.seed(seed=SEED)\n",
        "rnd = np.random.random(len(labels))\n",
        "train_idx = rnd < 0.8\n",
        "valid_idx = rnd >= 0.8\n",
        "y_train = labels_pivot[selected_breed_list].values\n",
        "ytr = y_train[train_idx]\n",
        "yv = y_train[valid_idx]"
      ],
      "execution_count": 0,
      "outputs": []
    },
    {
      "cell_type": "code",
      "metadata": {
        "id": "hRaklpBsfiVt",
        "colab_type": "code",
        "outputId": "2b64082f-64c8-4c85-bfb9-66c7503ad7aa",
        "colab": {
          "base_uri": "https://localhost:8080/",
          "height": 1071
        }
      },
      "source": [
        "labels['rank']"
      ],
      "execution_count": 0,
      "outputs": [
        {
          "output_type": "execute_result",
          "data": {
            "text/plain": [
              "8        japanese_spaniel\n",
              "9                leonberg\n",
              "12                samoyed\n",
              "29                    NaN\n",
              "48                    NaN\n",
              "57                    NaN\n",
              "70                    NaN\n",
              "79                    NaN\n",
              "80                    NaN\n",
              "88                    NaN\n",
              "90                    NaN\n",
              "102                   NaN\n",
              "105                   NaN\n",
              "111                   NaN\n",
              "115                   NaN\n",
              "118                   NaN\n",
              "122                   NaN\n",
              "141                   NaN\n",
              "144                   NaN\n",
              "146                   NaN\n",
              "149                   NaN\n",
              "157                   NaN\n",
              "161                   NaN\n",
              "164                   NaN\n",
              "165                   NaN\n",
              "174                   NaN\n",
              "201                   NaN\n",
              "217                   NaN\n",
              "219                   NaN\n",
              "223                   NaN\n",
              "               ...       \n",
              "9992                  NaN\n",
              "9993                  NaN\n",
              "9999                  NaN\n",
              "10001                 NaN\n",
              "10020                 NaN\n",
              "10024                 NaN\n",
              "10025                 NaN\n",
              "10031                 NaN\n",
              "10038                 NaN\n",
              "10043                 NaN\n",
              "10061                 NaN\n",
              "10080                 NaN\n",
              "10081                 NaN\n",
              "10101                 NaN\n",
              "10120                 NaN\n",
              "10143                 NaN\n",
              "10144                 NaN\n",
              "10149                 NaN\n",
              "10154                 NaN\n",
              "10158                 NaN\n",
              "10177                 NaN\n",
              "10178                 NaN\n",
              "10195                 NaN\n",
              "10200                 NaN\n",
              "10204                 NaN\n",
              "10207                 NaN\n",
              "10212                 NaN\n",
              "10215                 NaN\n",
              "10216                 NaN\n",
              "10219                 NaN\n",
              "Name: rank, Length: 1777, dtype: object"
            ]
          },
          "metadata": {
            "tags": []
          },
          "execution_count": 125
        }
      ]
    },
    {
      "cell_type": "code",
      "metadata": {
        "id": "vr0tJkoWfZwV",
        "colab_type": "code",
        "colab": {}
      },
      "source": [
        "for i, (img_id, breed) in enumerate(labels.loc[labels['rank'] == 1, ['id', 'breed']].values):\n",
        "  print(i, (img_id, breed))"
      ],
      "execution_count": 0,
      "outputs": []
    },
    {
      "cell_type": "code",
      "metadata": {
        "id": "TtAD9nEDUfaD",
        "colab_type": "code",
        "colab": {}
      },
      "source": [
        "def read_img(img_id, train_or_test,size):\n",
        "  img = image.load_img(listdir(train_or_test + '%s.jpg' % img_id), target_size=size)\n",
        "  img = image.img_to_array(img)\n",
        "  return img"
      ],
      "execution_count": 0,
      "outputs": []
    },
    {
      "cell_type": "code",
      "metadata": {
        "id": "BVKmyHUwUIuc",
        "colab_type": "code",
        "outputId": "4af0aef8-8480-4426-c5b9-c80c8251262e",
        "colab": {
          "base_uri": "https://localhost:8080/",
          "height": 942
        }
      },
      "source": [
        "model = ResNet50(weights='imagenet')\n",
        "j = int(np.sqrt(NUM_CLASSES))\n",
        "i = int(np.ceil(1. * NUM_CLASSES / j))\n",
        "fig = plt.figure(1, figsize=(16, 16))\n",
        "grid = ImageGrid(fig, 111, nrows_ncols=(i, j), axes_pad=0.05)\n",
        "for i, (img_id, breed) in enumerate(labels.loc[labels['rank'] == 1, ['id', 'breed']].values):\n",
        "    ax = grid[i]\n",
        "    print(img_id)\n",
        "    img = read_img(img_id,(224, 224))\n",
        "    ax.imshow(img / 255.)\n",
        "    x = preprocess_input(np.expand_dims(img.copy(), axis=0))\n",
        "    preds = model.predict(x)\n",
        "    _, imagenet_class_name, prob = decode_predictions(preds, top=1)[0][0]\n",
        "    ax.text(10, 180, 'ResNet50: %s (%.2f)' % (imagenet_class_name , prob), color='w', backgroundcolor='k', alpha=0.8)\n",
        "    ax.text(10, 200, 'LABEL: %s' % breed, color='k', backgroundcolor='w', alpha=0.8)\n",
        "    ax.axis('off')\n",
        "plt.show()"
      ],
      "execution_count": 0,
      "outputs": [
        {
          "output_type": "display_data",
          "data": {
            "image/png": "[encoded data removed]",
            "text/plain": [
              "<Figure size 1152x1152 with 32 Axes>"
            ]
          },
          "metadata": {
            "tags": []
          }
        }
      ]
    },
    {
      "cell_type": "markdown",
      "metadata": {
        "id": "cWTHMFVB8l0j",
        "colab_type": "text"
      },
      "source": [
        "# LOAD IMAGE\n"
      ]
    },
    {
      "cell_type": "markdown",
      "metadata": {
        "id": "A7kIIZZC8DS8",
        "colab_type": "text"
      },
      "source": [
        ""
      ]
    },
    {
      "cell_type": "markdown",
      "metadata": {
        "id": "arIf4K5_bZqr",
        "colab_type": "text"
      },
      "source": [
        "# 2. Load File và Đọc File"
      ]
    },
    {
      "cell_type": "code",
      "metadata": {
        "id": "Q6JfNbPqL9wJ",
        "colab_type": "code",
        "colab": {}
      },
      "source": [
        "def load_file(fileNames):\n",
        "  return [join(fileNames,fileName) for fileName in listdir(fileNames)]"
      ],
      "execution_count": 0,
      "outputs": []
    },
    {
      "cell_type": "code",
      "metadata": {
        "id": "4EXTk_0OMPOv",
        "colab_type": "code",
        "colab": {}
      },
      "source": [
        "train_path = load_file(df_train)\n",
        "test_path = load_file(df_test)"
      ],
      "execution_count": 0,
      "outputs": []
    },
    {
      "cell_type": "code",
      "metadata": {
        "id": "y1EDN3QDZ3jz",
        "colab_type": "code",
        "outputId": "971b748e-6d62-4a69-d727-f18e9cb69326",
        "colab": {
          "base_uri": "https://localhost:8080/",
          "height": 34
        }
      },
      "source": [
        "print(len(train_path),len(test_path))"
      ],
      "execution_count": 0,
      "outputs": [
        {
          "output_type": "stream",
          "text": [
            "10222 10357\n"
          ],
          "name": "stdout"
        }
      ]
    },
    {
      "cell_type": "markdown",
      "metadata": {
        "id": "NqPJSryQbfe5",
        "colab_type": "text"
      },
      "source": [
        "# 3. Chuyển Hình Ảnh thành Ma trận"
      ]
    },
    {
      "cell_type": "code",
      "metadata": {
        "id": "ntT7TyXDMmrP",
        "colab_type": "code",
        "colab": {}
      },
      "source": [
        "def rescale(img):\n",
        "  return cv2.resize(img,(224,224),interpolation = cv2.INTER_AREA)\n",
        "X_train = [rescale(plt.imread(train_path)) for train_path in train_path]\n",
        "X_test = [rescale(plt.imread(test_path)) for test_path in test_path]\n"
      ],
      "execution_count": 0,
      "outputs": []
    },
    {
      "cell_type": "code",
      "metadata": {
        "id": "x4KgWZItlcBQ",
        "colab_type": "code",
        "colab": {}
      },
      "source": [
        "X_train = np.array(X_train)\n",
        "X_test = np.array(X_test)"
      ],
      "execution_count": 0,
      "outputs": []
    },
    {
      "cell_type": "markdown",
      "metadata": {
        "id": "R-Ysi4_Dblsg",
        "colab_type": "text"
      },
      "source": [
        "# Lưu Vào Thành File Và Mở File"
      ]
    },
    {
      "cell_type": "code",
      "metadata": {
        "id": "txE0wsy1d1Kc",
        "colab_type": "code",
        "colab": {}
      },
      "source": [
        "def save_data(file, fileName):\n",
        "  with open(fileName, 'wb') as f:\n",
        "    pickle.dump(file,f)\n",
        "  f.close()\n",
        "def open_data(file):\n",
        "  with open(file,'rb') as f:\n",
        "    file = pickle.load(f)\n",
        "  return file\n",
        "    "
      ],
      "execution_count": 0,
      "outputs": []
    },
    {
      "cell_type": "code",
      "metadata": {
        "id": "uIJ-e01-e3T7",
        "colab_type": "code",
        "colab": {}
      },
      "source": [
        "# lưu file data\n",
        "save_data(X_train,\"trainDf\")\n",
        "save_data(X_test,\"testDf\")"
      ],
      "execution_count": 0,
      "outputs": []
    },
    {
      "cell_type": "code",
      "metadata": {
        "id": "L-xIPys3fhDM",
        "colab_type": "code",
        "colab": {}
      },
      "source": [
        "# thông tin data thành ma trận\n",
        "file_train = open_data(\"trainDf\")\n",
        "file_test = open_data(\"testDf\")"
      ],
      "execution_count": 0,
      "outputs": []
    },
    {
      "cell_type": "code",
      "metadata": {
        "id": "KTB1KGH6gmrD",
        "colab_type": "code",
        "outputId": "2848fded-9392-4e60-acc5-7c65bcc20428",
        "colab": {
          "base_uri": "https://localhost:8080/",
          "height": 286
        }
      },
      "source": [
        "# show bức ảnh đầu tiên\n",
        "plt.imshow(file_train[0])\n",
        "plt.imshow(file_test[0])"
      ],
      "execution_count": 0,
      "outputs": [
        {
          "output_type": "execute_result",
          "data": {
            "text/plain": [
              "<matplotlib.image.AxesImage at 0x7fab05b15198>"
            ]
          },
          "metadata": {
            "tags": []
          },
          "execution_count": 14
        },
        {
          "output_type": "display_data",
          "data": {
            "image/png": "[encoded data removed]",
            "text/plain": [
              "<Figure size 432x288 with 1 Axes>"
            ]
          },
          "metadata": {
            "tags": []
          }
        }
      ]
    },
    {
      "cell_type": "markdown",
      "metadata": {
        "id": "ZcJGJbObbrAY",
        "colab_type": "text"
      },
      "source": [
        "# 4. Xử lý Label Chuyển Từ String thành Binary"
      ]
    },
    {
      "cell_type": "code",
      "metadata": {
        "id": "lEQvMMRpUxtW",
        "colab_type": "code",
        "colab": {}
      },
      "source": [
        "labels = pd.read_csv('labels.csv')\n",
        "def process_labels(data):\n",
        "  breed = data['breed']\n",
        "  files = []\n",
        "  for file in breed:\n",
        "    if file not in files:\n",
        "      files.append(file)\n",
        "  _labels = [[index, label] for index, label in enumerate(files)]      "
      ],
      "execution_count": 0,
      "outputs": []
    },
    {
      "cell_type": "code",
      "metadata": {
        "id": "T7V6vtXzOCu_",
        "colab_type": "code",
        "colab": {}
      },
      "source": [
        "breed = labels['breed']\n",
        "files = []\n",
        "for file in breed:\n",
        "  if file not in files:\n",
        "    files.append(file)\n"
      ],
      "execution_count": 0,
      "outputs": []
    },
    {
      "cell_type": "code",
      "metadata": {
        "id": "aN8jFGuQnYQW",
        "colab_type": "code",
        "colab": {}
      },
      "source": [
        "files.sort()"
      ],
      "execution_count": 0,
      "outputs": []
    },
    {
      "cell_type": "code",
      "metadata": {
        "id": "nA9xggwpScjv",
        "colab_type": "code",
        "outputId": "206430a7-de87-4bd3-9cc4-9f39bb7e665b",
        "colab": {
          "base_uri": "https://localhost:8080/",
          "height": 34
        }
      },
      "source": [
        "_labels = [[label, index] for index, label in enumerate(files)]\n",
        "print(len(breed), len(_labels))"
      ],
      "execution_count": 0,
      "outputs": [
        {
          "output_type": "stream",
          "text": [
            "10222 120\n"
          ],
          "name": "stdout"
        }
      ]
    },
    {
      "cell_type": "code",
      "metadata": {
        "id": "jqkd0DzTqDtX",
        "colab_type": "code",
        "outputId": "661a58a6-9f3a-4959-aa72-bfb42433b7ac",
        "colab": {
          "base_uri": "https://localhost:8080/",
          "height": 34
        }
      },
      "source": [
        "_labels[0]"
      ],
      "execution_count": 0,
      "outputs": [
        {
          "output_type": "execute_result",
          "data": {
            "text/plain": [
              "['affenpinscher', 0]"
            ]
          },
          "metadata": {
            "tags": []
          },
          "execution_count": 22
        }
      ]
    },
    {
      "cell_type": "code",
      "metadata": {
        "id": "S3ro-GYmnqVV",
        "colab_type": "code",
        "colab": {}
      },
      "source": [
        "for i in range(len(breed)):\n",
        "  for j in _labels:\n",
        "    if breed[i] == j[0]:\n",
        "      breed[i] = j[1]\n",
        "      break"
      ],
      "execution_count": 0,
      "outputs": []
    },
    {
      "cell_type": "code",
      "metadata": {
        "id": "BCPolehWpEPK",
        "colab_type": "code",
        "colab": {}
      },
      "source": [
        "def _categorical(data):\n",
        "  _labels = [label for label in data['breed']]\n",
        "  count = 0\n",
        "  _labelsAndCount = []\n",
        "  for item in _labels:\n",
        "    _labelsAndCount.append([i,count])\n",
        "    count = count+1\n",
        "  return count, _labelsAndCount\n",
        "# _categorical keras chi so sanh gia tri label voi index \n",
        "# vi du son >>> so\n"
      ],
      "execution_count": 0,
      "outputs": []
    },
    {
      "cell_type": "code",
      "metadata": {
        "id": "HdxzlnBFUuNE",
        "colab_type": "code",
        "colab": {}
      },
      "source": [
        "from keras.utils import to_categorical\n",
        "breed = to_categorical(breed)"
      ],
      "execution_count": 0,
      "outputs": []
    },
    {
      "cell_type": "code",
      "metadata": {
        "id": "m3Bc_UVgXHp0",
        "colab_type": "code",
        "outputId": "3759c0ef-cef3-4428-c908-36a3390387a2",
        "colab": {
          "base_uri": "https://localhost:8080/",
          "height": 34
        }
      },
      "source": [
        "breed.shape"
      ],
      "execution_count": 0,
      "outputs": [
        {
          "output_type": "execute_result",
          "data": {
            "text/plain": [
              "(10222, 120)"
            ]
          },
          "metadata": {
            "tags": []
          },
          "execution_count": 26
        }
      ]
    },
    {
      "cell_type": "code",
      "metadata": {
        "id": "teu1EjIim5nP",
        "colab_type": "code",
        "outputId": "e2ee80f2-331d-44b8-89be-1abede01759e",
        "colab": {
          "base_uri": "https://localhost:8080/",
          "height": 34
        }
      },
      "source": [
        "y = np.array(breed)\n",
        "y.shape"
      ],
      "execution_count": 0,
      "outputs": [
        {
          "output_type": "execute_result",
          "data": {
            "text/plain": [
              "(10222, 120)"
            ]
          },
          "metadata": {
            "tags": []
          },
          "execution_count": 27
        }
      ]
    },
    {
      "cell_type": "code",
      "metadata": {
        "id": "Z0rPLgextUny",
        "colab_type": "code",
        "outputId": "e768c658-d66b-400f-afdc-c73fe7a34c2d",
        "colab": {
          "base_uri": "https://localhost:8080/",
          "height": 153
        }
      },
      "source": [
        "y[0]"
      ],
      "execution_count": 0,
      "outputs": [
        {
          "output_type": "execute_result",
          "data": {
            "text/plain": [
              "array([0., 0., 0., 0., 0., 0., 0., 0., 0., 0., 0., 0., 0., 0., 0., 0., 0.,\n",
              "       0., 0., 1., 0., 0., 0., 0., 0., 0., 0., 0., 0., 0., 0., 0., 0., 0.,\n",
              "       0., 0., 0., 0., 0., 0., 0., 0., 0., 0., 0., 0., 0., 0., 0., 0., 0.,\n",
              "       0., 0., 0., 0., 0., 0., 0., 0., 0., 0., 0., 0., 0., 0., 0., 0., 0.,\n",
              "       0., 0., 0., 0., 0., 0., 0., 0., 0., 0., 0., 0., 0., 0., 0., 0., 0.,\n",
              "       0., 0., 0., 0., 0., 0., 0., 0., 0., 0., 0., 0., 0., 0., 0., 0., 0.,\n",
              "       0., 0., 0., 0., 0., 0., 0., 0., 0., 0., 0., 0., 0., 0., 0., 0., 0.,\n",
              "       0.], dtype=float32)"
            ]
          },
          "metadata": {
            "tags": []
          },
          "execution_count": 28
        }
      ]
    },
    {
      "cell_type": "code",
      "metadata": {
        "id": "ILKVsfDBtXNb",
        "colab_type": "code",
        "colab": {}
      },
      "source": [
        "# su dung labelencoder va onehotencode su ly data\n",
        "labels = pd.read_csv('labels.csv')\n",
        "breed = labels['breed']\n",
        "\n",
        "def procesdata_in_sklearn(data):\n",
        "  enc = LabelEncoder()\n",
        "  numbers = enc.fit_transform(data)\n",
        "  df = pd.DataFrame(numbers,data)\n",
        "  enc1 = OneHotEncoder(categories='auto')\n",
        "  y = enc1.fit_transform(df).toarray()\n",
        "  return y"
      ],
      "execution_count": 0,
      "outputs": []
    },
    {
      "cell_type": "code",
      "metadata": {
        "id": "FBLlAG3Tt5AL",
        "colab_type": "code",
        "colab": {}
      },
      "source": [
        "y_pred = procesdata_in_sklearn(breed)\n"
      ],
      "execution_count": 0,
      "outputs": []
    },
    {
      "cell_type": "code",
      "metadata": {
        "id": "hoM93zrcuKix",
        "colab_type": "code",
        "outputId": "ae2277c9-8d04-4ca9-8752-d0cae6680387",
        "colab": {
          "base_uri": "https://localhost:8080/",
          "height": 34
        }
      },
      "source": [
        "y_pred.shape"
      ],
      "execution_count": 0,
      "outputs": [
        {
          "output_type": "execute_result",
          "data": {
            "text/plain": [
              "(10222, 120)"
            ]
          },
          "metadata": {
            "tags": []
          },
          "execution_count": 31
        }
      ]
    },
    {
      "cell_type": "code",
      "metadata": {
        "id": "HTk7S9RUTcu5",
        "colab_type": "code",
        "colab": {}
      },
      "source": [
        ""
      ],
      "execution_count": 0,
      "outputs": []
    },
    {
      "cell_type": "markdown",
      "metadata": {
        "id": "EfpIfpjNb8_o",
        "colab_type": "text"
      },
      "source": [
        "# 6. Xử Lý Ảnh "
      ]
    },
    {
      "cell_type": "code",
      "metadata": {
        "id": "JOylCPLZcBqO",
        "colab_type": "code",
        "colab": {}
      },
      "source": [
        "index = np.array(list(range(file_train.shape[0])))\n",
        "np.random.shuffle(index)\n"
      ],
      "execution_count": 0,
      "outputs": []
    },
    {
      "cell_type": "code",
      "metadata": {
        "id": "GlFHin7-cplJ",
        "colab_type": "code",
        "colab": {}
      },
      "source": [
        "Xs = file_train[index]\n",
        "#Ys = y[index]\n"
      ],
      "execution_count": 0,
      "outputs": []
    },
    {
      "cell_type": "code",
      "metadata": {
        "id": "tv9vuZpL92U0",
        "colab_type": "code",
        "outputId": "42f12cf7-5e6e-486d-ef01-29af88c3dadf",
        "colab": {
          "base_uri": "https://localhost:8080/",
          "height": 34
        }
      },
      "source": [
        "print('file_train',file_train.shape)\n",
        "#print('y', y.shape)"
      ],
      "execution_count": 0,
      "outputs": [
        {
          "output_type": "stream",
          "text": [
            "file_train (10222, 224, 224, 3)\n"
          ],
          "name": "stdout"
        }
      ]
    },
    {
      "cell_type": "code",
      "metadata": {
        "id": "l_uCLeODd-nH",
        "colab_type": "code",
        "colab": {}
      },
      "source": [
        "Xs = (file_train-127.5)/255\n",
        "Xs = Xs.astype('float32')\n",
        "\n"
      ],
      "execution_count": 0,
      "outputs": []
    },
    {
      "cell_type": "code",
      "metadata": {
        "id": "qmLrJ_Hi998A",
        "colab_type": "code",
        "colab": {}
      },
      "source": [
        "test = (X_test - 127.5)/255\n",
        "test = test.astype('float32')\n"
      ],
      "execution_count": 0,
      "outputs": []
    },
    {
      "cell_type": "markdown",
      "metadata": {
        "id": "d-G8tDUgtGLP",
        "colab_type": "text"
      },
      "source": [
        "# Visualizing training data distribution"
      ]
    },
    {
      "cell_type": "markdown",
      "metadata": {
        "id": "xE2WpLlZED8z",
        "colab_type": "text"
      },
      "source": [
        "**1. let’s do the data visualization for better understanding the data**"
      ]
    },
    {
      "cell_type": "code",
      "metadata": {
        "id": "Uu43zleu_4r1",
        "colab_type": "code",
        "outputId": "6a92dc5e-8c75-4d43-abc3-4d85ed2746dc",
        "colab": {
          "base_uri": "https://localhost:8080/",
          "height": 235
        }
      },
      "source": [
        "breed_counts = pd.pivot_table(labels, index=['breed'], aggfunc='count')\n",
        "# rename the column\n",
        "breed_counts = breed_counts.rename(columns = {\"id\" : \"count\"})\n",
        "# show in desending order \n",
        "breed_counts = breed_counts.sort_values(\"count\", ascending=False)\n",
        "# show top 5 rows\n",
        "breed_counts.head(5)\n"
      ],
      "execution_count": 0,
      "outputs": [
        {
          "output_type": "execute_result",
          "data": {
            "text/html": [
              "<div>\n",
              "<style scoped>\n",
              "    .dataframe tbody tr th:only-of-type {\n",
              "        vertical-align: middle;\n",
              "    }\n",
              "\n",
              "    .dataframe tbody tr th {\n",
              "        vertical-align: top;\n",
              "    }\n",
              "\n",
              "    .dataframe thead th {\n",
              "        text-align: right;\n",
              "    }\n",
              "</style>\n",
              "<table border=\"1\" class=\"dataframe\">\n",
              "  <thead>\n",
              "    <tr style=\"text-align: right;\">\n",
              "      <th></th>\n",
              "      <th>count</th>\n",
              "    </tr>\n",
              "    <tr>\n",
              "      <th>breed</th>\n",
              "      <th></th>\n",
              "    </tr>\n",
              "  </thead>\n",
              "  <tbody>\n",
              "    <tr>\n",
              "      <th>scottish_deerhound</th>\n",
              "      <td>126</td>\n",
              "    </tr>\n",
              "    <tr>\n",
              "      <th>maltese_dog</th>\n",
              "      <td>117</td>\n",
              "    </tr>\n",
              "    <tr>\n",
              "      <th>afghan_hound</th>\n",
              "      <td>116</td>\n",
              "    </tr>\n",
              "    <tr>\n",
              "      <th>entlebucher</th>\n",
              "      <td>115</td>\n",
              "    </tr>\n",
              "    <tr>\n",
              "      <th>bernese_mountain_dog</th>\n",
              "      <td>114</td>\n",
              "    </tr>\n",
              "  </tbody>\n",
              "</table>\n",
              "</div>"
            ],
            "text/plain": [
              "                      count\n",
              "breed                      \n",
              "scottish_deerhound      126\n",
              "maltese_dog             117\n",
              "afghan_hound            116\n",
              "entlebucher             115\n",
              "bernese_mountain_dog    114"
            ]
          },
          "metadata": {
            "tags": []
          },
          "execution_count": 35
        }
      ]
    },
    {
      "cell_type": "code",
      "metadata": {
        "id": "p_2ZhOjy4d-w",
        "colab_type": "code",
        "outputId": "705b853c-e378-44bc-9989-beeef199f2cc",
        "colab": {
          "base_uri": "https://localhost:8080/",
          "height": 1244
        }
      },
      "source": [
        "import matplotlib.pyplot as plt\n",
        "import seaborn as sns\n",
        "\n",
        "fig, ax = plt.subplots()\n",
        "fig.set_size_inches(18,20)\n",
        "sns.set_style(\"whitegrid\")\n",
        "\n",
        "ax = sns.barplot(x = breed_counts['count'], y = breed_counts.index, data = labels)\n",
        "# vẽ ra biểu đồ cột các giá trị của breed_count\n",
        "ax.set_yticklabels(ax.get_yticklabels(), fontsize = 12)\n",
        "# xác định khoảng cách của x và y\n",
        "ax.xaxis.label.set_size(20)\n",
        "ax.yaxis.label.set_size(20)\n",
        "\n",
        "ax.set(xlabel='Count',ylabel='Dog Breed')\n",
        "ax.set_title('Distribution of Dog breeds')"
      ],
      "execution_count": 0,
      "outputs": [
        {
          "output_type": "stream",
          "text": [
            "/usr/local/lib/python3.6/dist-packages/seaborn/categorical.py:1428: FutureWarning: remove_na is deprecated and is a private function. Do not use.\n",
            "  stat_data = remove_na(group_data)\n"
          ],
          "name": "stderr"
        },
        {
          "output_type": "execute_result",
          "data": {
            "text/plain": [
              "Text(0.5, 1.0, 'Distribution of Dog breeds')"
            ]
          },
          "metadata": {
            "tags": []
          },
          "execution_count": 36
        },
        {
          "output_type": "display_data",
          "data": {
            "image/png": "[encoded data removed]",
            "text/plain": [
              "<Figure size 1296x1440 with 1 Axes>"
            ]
          },
          "metadata": {
            "tags": []
          }
        }
      ]
    },
    {
      "cell_type": "markdown",
      "metadata": {
        "id": "dfXq3WPOEJsx",
        "colab_type": "text"
      },
      "source": [
        "**2.loading the corresponding Images**"
      ]
    },
    {
      "cell_type": "code",
      "metadata": {
        "id": "MiPKeaMlEAsY",
        "colab_type": "code",
        "colab": {}
      },
      "source": [
        ""
      ],
      "execution_count": 0,
      "outputs": []
    },
    {
      "cell_type": "markdown",
      "metadata": {
        "id": "OogwJqHXfC6I",
        "colab_type": "text"
      },
      "source": [
        "#  Xây Dựng Model"
      ]
    },
    {
      "cell_type": "code",
      "metadata": {
        "id": "oIKur8hxeYXd",
        "colab_type": "code",
        "colab": {}
      },
      "source": [
        "import time\n",
        "import numpy\n",
        "from keras.datasets import mnist\n",
        "from keras.models import Model\n",
        "from keras.layers import Input, concatenate, Dense, Dropout, Flatten, Activation\n",
        "from keras.layers.convolutional import Conv2D, MaxPooling2D, AveragePooling2D\n",
        "from keras.layers.normalization import BatchNormalization\n",
        "from keras.utils import to_categorical\n",
        "from keras import backend as K\n",
        "from keras.optimizers import Adam\n",
        "from keras.models import Sequential\n",
        "from keras.layers import Dense, Activation\n",
        "import keras\n",
        "import time\n",
        "import numpy\n",
        "from keras.datasets import mnist\n",
        "from keras.models import Model\n",
        "from keras.layers import Input, Concatenate, Dense, Dropout, Flatten, Activation\n",
        "from keras.layers.convolutional import Conv2D, MaxPooling2D\n",
        "from keras.layers.normalization import BatchNormalization\n",
        "from keras.utils import to_categorical\n",
        "from keras import backend as K\n",
        "from keras.optimizers import Adam"
      ],
      "execution_count": 0,
      "outputs": []
    },
    {
      "cell_type": "code",
      "metadata": {
        "id": "6zdaC7xpkECz",
        "colab_type": "code",
        "colab": {}
      },
      "source": [
        "def Builde_model():\n",
        "  \"\"\"\n",
        "    Implementation of the identity block as defined in Figure 3\n",
        "    \n",
        "    Arguments:\n",
        "    X -- input tensor of shape (m, n_H_prev, n_W_prev, n_C_prev)\n",
        "    f -- integer, specifying the shape of the middle CONV's window for the main path\n",
        "    filters -- python list of integers, defining the number of filters in the CONV layers of the main path\n",
        "    stage -- integer, used to name the layers, depending on their position in the network\n",
        "    block -- string/character, used to name the layers, depending on their position in the network\n",
        "    \n",
        "    Returns:\n",
        "    X -- output of the identity block, tensor of shape (n_H, n_W, n_C)\n",
        "    \"\"\"\n",
        "  model = Sequential()\n",
        "  # x(shortcut)\n",
        "  # X(Shortcut) \n",
        "  # xay dung model convolution với 32 dense\n",
        "  model.add(Conv2D( 32, 3, input_shape=(100,100,3)))\n",
        "  model.add(BatchNormalization())\n",
        "  model.add(Activation('relu'))\n",
        "  \n",
        "  model.add(Conv2D(32,  3))\n",
        "  model.add(BatchNormalization())\n",
        "  model.add(Activation('relu'))\n",
        "  \n",
        "  model.add(MaxPooling2D(pool_size=(2,2)))\n",
        "  model.add(Dropout(0.25))\n",
        "  # xay dung model convolution voi 16\n",
        "  model.add(Conv2D(16,3))\n",
        "  model.add(BatchNormalization())\n",
        "  model.add(Activation('relu'))\n",
        "  \n",
        "  model.add(Conv2D(16,3))\n",
        "  model.add(BatchNormalization())\n",
        "  model.add(Activation('relu'))\n",
        "  \n",
        "  model.add(MaxPooling2D(pool_size=(2,2)))\n",
        "  model.add(Dropout(0.5))\n",
        "  \n",
        "  model.add(Flatten())\n",
        "  \n",
        "  # xay dung model voi 256 dense\n",
        "  model.add(Dense(256))\n",
        "  model.add(BatchNormalization())\n",
        "  model.add(Activation('relu'))\n",
        "  model.add(Dropout(0.5))\n",
        "  \n",
        "  model.add(Dense(120))\n",
        "  model.add(BatchNormalization())\n",
        "  model.add(Activation('relu'))\n",
        "  \n",
        "  model.add(Dense(120))\n",
        "  model.add(Activation('softmax'))\n",
        "  \n",
        "  model.compile(optimizer = Adam(lr = 0.001),\n",
        "                loss = 'mse',\n",
        "                metrics=['mse','accuracy']\n",
        "               )\n",
        "  return model\n"
      ],
      "execution_count": 0,
      "outputs": []
    },
    {
      "cell_type": "code",
      "metadata": {
        "id": "CZXVj49m1p3G",
        "colab_type": "code",
        "colab": {}
      },
      "source": [
        "model = Builde_model()\n",
        "t0=time.time()\n",
        "log3 = model.fit(Xs, Ys, validation_split=0.2, epochs=50, batch_size=200, verbose=2)\n",
        "t1=time.time()\n",
        "print(t1-t0,\" seconds\")\n",
        "\n",
        "#scores3 = model.evaluate(X_test, y_test, verbose=0)\n",
        "#print(\"CNN Error: %.2f%%\" % (100-scores3[1]*100))\n",
        " \n",
        "import matplotlib.pyplot as plt\n",
        "%matplotlib inline\n",
        " \n",
        "plt.plot(log3.history['acc'],'b') \n",
        "plt.plot(log3.history['val_acc'],'r')\n",
        "plt.show()"
      ],
      "execution_count": 0,
      "outputs": []
    },
    {
      "cell_type": "markdown",
      "metadata": {
        "id": "V3DZ_5MhlFrN",
        "colab_type": "text"
      },
      "source": [
        "# INCEPTION MODEL"
      ]
    },
    {
      "cell_type": "code",
      "metadata": {
        "id": "duXl1OyqliZq",
        "colab_type": "code",
        "outputId": "406a9ed1-e884-43da-eab6-a92cfd22eb42",
        "colab": {
          "base_uri": "https://localhost:8080/",
          "height": 608
        }
      },
      "source": [
        "def inception2BN(input_, n = 32):\n",
        "  p1 = Conv2D(n, 1, padding='same')(input_)\n",
        "  p1 = BatchNormalization()(p1)\n",
        "  p1 = Activation('relu')(p1)\n",
        "  \n",
        "  p2 = Conv2D(n, 1, padding='same')(input_)\n",
        "  p2 = BatchNormalization()(p2)\n",
        "  p2 = Activation('relu')(p2)\n",
        "  p2 = Conv2D(n, 3, padding='same')(p2)\n",
        "  p2 = BatchNormalization()(p2)\n",
        "  p2 = Activation('relu')(p2)\n",
        "  \n",
        "  p3 = Conv2D(n, 1, padding='same')(input_)\n",
        "  p3 = BatchNormalization()(p3)\n",
        "  p3 = Activation('relu')(p3) \n",
        "  p3 = Conv2D(n, 5, padding='same')(p3)\n",
        "  p3 = BatchNormalization()(p3)\n",
        "  p3 = Activation('relu')(p3)\n",
        "  \n",
        "  p4 = MaxPooling2D((3,3), strides=(1, 1), padding='same')(input_) \n",
        "  p4 = Conv2D(n, 1, padding='same')(p4)\n",
        "  p4 = BatchNormalization()(p4)\n",
        "  p4 = Activation('relu')(p4)\n",
        "  \n",
        "  c = Concatenate(axis=-1)([p1,p2,p3,p4])\n",
        "  return c\n",
        "\n",
        "def model3():\n",
        "  inputs = Input(shape=(224, 224, 3))\n",
        "  \n",
        "  i1 = inception2BN(inputs)\n",
        "  mp1 = MaxPooling2D((2,2))(i1)\n",
        "  \n",
        "  f = Flatten()(mp1)\n",
        "  d = Dense(128)(f)\n",
        "  d = BatchNormalization()(d)\n",
        "  d = Activation('relu')(d)\n",
        "  out = Dense(20, activation='softmax')(d)\n",
        "  model = Model(inputs, out)\n",
        "  return model\n",
        "\n",
        "model3 = model3()\n",
        "adam = Adam(lr=0.001)\n",
        "model3.compile(loss= 'categorical_crossentropy', optimizer=adam, metrics=[ 'accuracy' ])\n",
        "\n",
        "log3 = model3.fit(file_train, y_train, validation_split=0.2, epochs=15, batch_size=32)\n",
        "\n",
        " \n",
        "\n",
        "# scores3 = model3.evaluate(X_test, y_test, verbose=0)\n",
        "# print(\"CNN Error: %.2f%%\" % (100-scores3[1]*100))\n",
        "  "
      ],
      "execution_count": 0,
      "outputs": [
        {
          "output_type": "error",
          "ename": "ValueError",
          "evalue": "ignored",
          "traceback": [
            "\u001b[0;31m---------------------------------------------------------------------------\u001b[0m",
            "\u001b[0;31mValueError\u001b[0m                                Traceback (most recent call last)",
            "\u001b[0;32m<ipython-input-18-66aa88157f50>\u001b[0m in \u001b[0;36m<module>\u001b[0;34m()\u001b[0m\n\u001b[1;32m     44\u001b[0m \u001b[0mmodel3\u001b[0m\u001b[0;34m.\u001b[0m\u001b[0mcompile\u001b[0m\u001b[0;34m(\u001b[0m\u001b[0mloss\u001b[0m\u001b[0;34m=\u001b[0m \u001b[0;34m'categorical_crossentropy'\u001b[0m\u001b[0;34m,\u001b[0m \u001b[0moptimizer\u001b[0m\u001b[0;34m=\u001b[0m\u001b[0madam\u001b[0m\u001b[0;34m,\u001b[0m \u001b[0mmetrics\u001b[0m\u001b[0;34m=\u001b[0m\u001b[0;34m[\u001b[0m \u001b[0;34m'accuracy'\u001b[0m \u001b[0;34m]\u001b[0m\u001b[0;34m)\u001b[0m\u001b[0;34m\u001b[0m\u001b[0;34m\u001b[0m\u001b[0m\n\u001b[1;32m     45\u001b[0m \u001b[0;34m\u001b[0m\u001b[0m\n\u001b[0;32m---> 46\u001b[0;31m \u001b[0mlog3\u001b[0m \u001b[0;34m=\u001b[0m \u001b[0mmodel3\u001b[0m\u001b[0;34m.\u001b[0m\u001b[0mfit\u001b[0m\u001b[0;34m(\u001b[0m\u001b[0mfile_train\u001b[0m\u001b[0;34m,\u001b[0m \u001b[0my_train\u001b[0m\u001b[0;34m,\u001b[0m \u001b[0mvalidation_split\u001b[0m\u001b[0;34m=\u001b[0m\u001b[0;36m0.2\u001b[0m\u001b[0;34m,\u001b[0m \u001b[0mepochs\u001b[0m\u001b[0;34m=\u001b[0m\u001b[0;36m15\u001b[0m\u001b[0;34m,\u001b[0m \u001b[0mbatch_size\u001b[0m\u001b[0;34m=\u001b[0m\u001b[0;36m32\u001b[0m\u001b[0;34m)\u001b[0m\u001b[0;34m\u001b[0m\u001b[0;34m\u001b[0m\u001b[0m\n\u001b[0m\u001b[1;32m     47\u001b[0m \u001b[0;34m\u001b[0m\u001b[0m\n\u001b[1;32m     48\u001b[0m \u001b[0;34m\u001b[0m\u001b[0m\n",
            "\u001b[0;32m/usr/local/lib/python3.6/dist-packages/keras/engine/training.py\u001b[0m in \u001b[0;36mfit\u001b[0;34m(self, x, y, batch_size, epochs, verbose, callbacks, validation_split, validation_data, shuffle, class_weight, sample_weight, initial_epoch, steps_per_epoch, validation_steps, **kwargs)\u001b[0m\n\u001b[1;32m    950\u001b[0m             \u001b[0msample_weight\u001b[0m\u001b[0;34m=\u001b[0m\u001b[0msample_weight\u001b[0m\u001b[0;34m,\u001b[0m\u001b[0;34m\u001b[0m\u001b[0;34m\u001b[0m\u001b[0m\n\u001b[1;32m    951\u001b[0m             \u001b[0mclass_weight\u001b[0m\u001b[0;34m=\u001b[0m\u001b[0mclass_weight\u001b[0m\u001b[0;34m,\u001b[0m\u001b[0;34m\u001b[0m\u001b[0;34m\u001b[0m\u001b[0m\n\u001b[0;32m--> 952\u001b[0;31m             batch_size=batch_size)\n\u001b[0m\u001b[1;32m    953\u001b[0m         \u001b[0;31m# Prepare validation data.\u001b[0m\u001b[0;34m\u001b[0m\u001b[0;34m\u001b[0m\u001b[0;34m\u001b[0m\u001b[0m\n\u001b[1;32m    954\u001b[0m         \u001b[0mdo_validation\u001b[0m \u001b[0;34m=\u001b[0m \u001b[0;32mFalse\u001b[0m\u001b[0;34m\u001b[0m\u001b[0;34m\u001b[0m\u001b[0m\n",
            "\u001b[0;32m/usr/local/lib/python3.6/dist-packages/keras/engine/training.py\u001b[0m in \u001b[0;36m_standardize_user_data\u001b[0;34m(self, x, y, sample_weight, class_weight, check_array_lengths, batch_size)\u001b[0m\n\u001b[1;32m    802\u001b[0m             ]\n\u001b[1;32m    803\u001b[0m             \u001b[0;31m# Check that all arrays have the same length.\u001b[0m\u001b[0;34m\u001b[0m\u001b[0;34m\u001b[0m\u001b[0;34m\u001b[0m\u001b[0m\n\u001b[0;32m--> 804\u001b[0;31m             \u001b[0mcheck_array_length_consistency\u001b[0m\u001b[0;34m(\u001b[0m\u001b[0mx\u001b[0m\u001b[0;34m,\u001b[0m \u001b[0my\u001b[0m\u001b[0;34m,\u001b[0m \u001b[0msample_weights\u001b[0m\u001b[0;34m)\u001b[0m\u001b[0;34m\u001b[0m\u001b[0;34m\u001b[0m\u001b[0m\n\u001b[0m\u001b[1;32m    805\u001b[0m             \u001b[0;32mif\u001b[0m \u001b[0mself\u001b[0m\u001b[0;34m.\u001b[0m\u001b[0m_is_graph_network\u001b[0m\u001b[0;34m:\u001b[0m\u001b[0;34m\u001b[0m\u001b[0;34m\u001b[0m\u001b[0m\n\u001b[1;32m    806\u001b[0m                 \u001b[0;31m# Additional checks to avoid users mistakenly\u001b[0m\u001b[0;34m\u001b[0m\u001b[0;34m\u001b[0m\u001b[0;34m\u001b[0m\u001b[0m\n",
            "\u001b[0;32m/usr/local/lib/python3.6/dist-packages/keras/engine/training_utils.py\u001b[0m in \u001b[0;36mcheck_array_length_consistency\u001b[0;34m(inputs, targets, weights)\u001b[0m\n\u001b[1;32m    235\u001b[0m                          \u001b[0;34m'the same number of samples as target arrays. '\u001b[0m\u001b[0;34m\u001b[0m\u001b[0;34m\u001b[0m\u001b[0m\n\u001b[1;32m    236\u001b[0m                          \u001b[0;34m'Found '\u001b[0m \u001b[0;34m+\u001b[0m \u001b[0mstr\u001b[0m\u001b[0;34m(\u001b[0m\u001b[0mlist\u001b[0m\u001b[0;34m(\u001b[0m\u001b[0mset_x\u001b[0m\u001b[0;34m)\u001b[0m\u001b[0;34m[\u001b[0m\u001b[0;36m0\u001b[0m\u001b[0;34m]\u001b[0m\u001b[0;34m)\u001b[0m \u001b[0;34m+\u001b[0m \u001b[0;34m' input samples '\u001b[0m\u001b[0;34m\u001b[0m\u001b[0;34m\u001b[0m\u001b[0m\n\u001b[0;32m--> 237\u001b[0;31m                          'and ' + str(list(set_y)[0]) + ' target samples.')\n\u001b[0m\u001b[1;32m    238\u001b[0m     \u001b[0;32mif\u001b[0m \u001b[0mlen\u001b[0m\u001b[0;34m(\u001b[0m\u001b[0mset_w\u001b[0m\u001b[0;34m)\u001b[0m \u001b[0;34m>\u001b[0m \u001b[0;36m1\u001b[0m\u001b[0;34m:\u001b[0m\u001b[0;34m\u001b[0m\u001b[0;34m\u001b[0m\u001b[0m\n\u001b[1;32m    239\u001b[0m         raise ValueError('All sample_weight arrays should have '\n",
            "\u001b[0;31mValueError\u001b[0m: Input arrays should have the same number of samples as target arrays. Found 10222 input samples and 1747 target samples."
          ]
        }
      ]
    },
    {
      "cell_type": "code",
      "metadata": {
        "id": "Sk9JMe6VTj1J",
        "colab_type": "code",
        "colab": {}
      },
      "source": [
        ""
      ],
      "execution_count": 0,
      "outputs": []
    },
    {
      "cell_type": "code",
      "metadata": {
        "id": "tGfJI3uybZXi",
        "colab_type": "code",
        "outputId": "aed0450f-9ebf-4e2a-fd5e-51de06c50318",
        "colab": {
          "base_uri": "https://localhost:8080/",
          "height": 163
        }
      },
      "source": [
        "pred = model3.predict(X_test)"
      ],
      "execution_count": 0,
      "outputs": [
        {
          "output_type": "error",
          "ename": "NameError",
          "evalue": "ignored",
          "traceback": [
            "\u001b[0;31m---------------------------------------------------------------------------\u001b[0m",
            "\u001b[0;31mNameError\u001b[0m                                 Traceback (most recent call last)",
            "\u001b[0;32m<ipython-input-74-663ea9f20afb>\u001b[0m in \u001b[0;36m<module>\u001b[0;34m()\u001b[0m\n\u001b[0;32m----> 1\u001b[0;31m \u001b[0mpred\u001b[0m \u001b[0;34m=\u001b[0m \u001b[0mmodel3\u001b[0m\u001b[0;34m.\u001b[0m\u001b[0mpredict\u001b[0m\u001b[0;34m(\u001b[0m\u001b[0mX_test\u001b[0m\u001b[0;34m)\u001b[0m\u001b[0;34m\u001b[0m\u001b[0;34m\u001b[0m\u001b[0m\n\u001b[0m",
            "\u001b[0;31mNameError\u001b[0m: name 'model3' is not defined"
          ]
        }
      ]
    },
    {
      "cell_type": "code",
      "metadata": {
        "id": "CIeXy-odc7Or",
        "colab_type": "code",
        "outputId": "b21a54b5-3f87-496f-8b8d-6da47f1681d8",
        "colab": {
          "base_uri": "https://localhost:8080/",
          "height": 34
        }
      },
      "source": [
        "eva = model3.evaluate(X_test,pred)"
      ],
      "execution_count": 0,
      "outputs": [
        {
          "output_type": "stream",
          "text": [
            "10357/10357 [==============================] - 15s 1ms/step\n"
          ],
          "name": "stdout"
        }
      ]
    },
    {
      "cell_type": "code",
      "metadata": {
        "id": "au-Bds2XZZjC",
        "colab_type": "code",
        "colab": {}
      },
      "source": [
        "array = []\n",
        "for i in range(len(pred)):\n",
        "  for j in range(0,120):\n",
        "    if(pred[i][j]> 0.99):\n",
        "      print('thu tu cua i,j', i,j)\n",
        "      array.append(pred[i][j])"
      ],
      "execution_count": 0,
      "outputs": []
    },
    {
      "cell_type": "code",
      "metadata": {
        "id": "mZRRAwfebERF",
        "colab_type": "code",
        "outputId": "4f16a246-e03c-4e80-f0b7-491db59af867",
        "colab": {
          "base_uri": "https://localhost:8080/",
          "height": 34
        }
      },
      "source": [
        "X_test[0].shape"
      ],
      "execution_count": 0,
      "outputs": [
        {
          "output_type": "execute_result",
          "data": {
            "text/plain": [
              "(227, 227, 3)"
            ]
          },
          "metadata": {
            "tags": []
          },
          "execution_count": 81
        }
      ]
    },
    {
      "cell_type": "markdown",
      "metadata": {
        "id": "AacLP-VXlBBY",
        "colab_type": "text"
      },
      "source": [
        "# Alex Net\n"
      ]
    },
    {
      "cell_type": "code",
      "metadata": {
        "id": "JGpd5e_tb_-T",
        "colab_type": "code",
        "colab": {}
      },
      "source": [
        "def alexNet():\n",
        "  model = Sequential()\n",
        "  # layer 1 \n",
        "  model.add(Conv2D(filters=96, input_shape = (224,224,3),kernel_size=(11,11), strides=(4,4), padding = 'valid'))\n",
        "  model.add(Activation('relu'))\n",
        "  model.add(BatchNormalization())\n",
        "  \n",
        "  model.add(MaxPooling2D(pool_size=(3,3), strides=(2,2), padding='valid'))\n",
        "  model.add(Activation('relu'))\n",
        "  # layer 2 \n",
        "  model.add(Conv2D(filters= 256, kernel_size=(5,5), strides=(1,1), padding = 'valid'))\n",
        "  model.add(Activation('relu'))\n",
        "  model.add(BatchNormalization())\n",
        "  model.add(MaxPooling2D(pool_size=(3,3), strides= (2,2),padding='valid'))\n",
        "  \n",
        "  # layer 3 \n",
        "  model.add(Conv2D(filters= 384, kernel_size=(3,3), strides=(1,1), padding = 'valid'))\n",
        "  model.add(Activation('relu'))\n",
        "  model.add(BatchNormalization())\n",
        "  \n",
        "  # layer 4\n",
        "  model.add(Conv2D(filters= 384, kernel_size=(3,3), strides=(1,1), padding = 'valid'))\n",
        "  model.add(Activation('relu'))\n",
        "  model.add(BatchNormalization())\n",
        "  \n",
        "  # layer 5\n",
        "  model.add(Conv2D(filters= 256, kernel_size=(3,3), strides=(1,1), padding = 'valid'))\n",
        "  model.add(Activation('relu'))\n",
        "  model.add(BatchNormalization())\n",
        "  model.add(MaxPooling2D(pool_size=(3,3),strides=(2,2),padding='valid'))\n",
        "  \n",
        "  # pass combine fully connected layer\n",
        "  model.add(Flatten())\n",
        "  # FC 1 \n",
        "  model.add(Dense(4096, input_shape= (224*224*3,)))\n",
        "  model.add(Activation('relu'))\n",
        "  model.add(Dropout(0.4))\n",
        "  # FC2\n",
        "  model.add(Dense(4096)) \n",
        "  model.add(Activation('relu'))\n",
        "  model.add(Dropout(0.4))\n",
        "  # FC3 \n",
        "  model.add(Dense(1000))\n",
        "  model.add(Activation('relu'))\n",
        "  model.add(Dropout(0.4))\n",
        "  \n",
        "  # output layer \n",
        "  model.add(Dense(120))\n",
        "  model.add(Activation('softmax'))\n",
        "  return model"
      ],
      "execution_count": 0,
      "outputs": []
    },
    {
      "cell_type": "code",
      "metadata": {
        "id": "RIpFnLA-cC9A",
        "colab_type": "code",
        "colab": {}
      },
      "source": [
        "model = alexNet()\n",
        "adam = Adam(lr=0.001)\n",
        "model.compile(loss= 'categorical_crossentropy', \n",
        "              optimizer=adam,\n",
        "              metrics=[ 'accuracy' ])"
      ],
      "execution_count": 0,
      "outputs": []
    },
    {
      "cell_type": "code",
      "metadata": {
        "id": "Z7mOriy5utPA",
        "colab_type": "code",
        "outputId": "6a352548-89fb-49db-edb7-9009aedb166f",
        "colab": {
          "base_uri": "https://localhost:8080/",
          "height": 1734
        }
      },
      "source": [
        "fit_ =  model.fit(file_train, y, validation_split=0.2, verbose=2, epochs=50, batch_size=128,shuffle=True)"
      ],
      "execution_count": 0,
      "outputs": [
        {
          "output_type": "stream",
          "text": [
            "Train on 8177 samples, validate on 2045 samples\n",
            "Epoch 1/50\n",
            " - 21s - loss: 3.4870 - acc: 0.1239 - val_loss: 4.3153 - val_acc: 0.0738\n",
            "Epoch 2/50\n",
            " - 18s - loss: 3.3282 - acc: 0.1514 - val_loss: 4.4417 - val_acc: 0.0802\n",
            "Epoch 3/50\n",
            " - 18s - loss: 3.1757 - acc: 0.1712 - val_loss: 4.3280 - val_acc: 0.0851\n",
            "Epoch 4/50\n",
            " - 18s - loss: 3.0707 - acc: 0.1833 - val_loss: 4.3520 - val_acc: 0.0856\n",
            "Epoch 5/50\n",
            " - 18s - loss: 2.9869 - acc: 0.2033 - val_loss: 4.7456 - val_acc: 0.0748\n",
            "Epoch 6/50\n",
            " - 18s - loss: 2.8757 - acc: 0.2168 - val_loss: 4.7893 - val_acc: 0.0753\n",
            "Epoch 7/50\n",
            " - 18s - loss: 2.7329 - acc: 0.2428 - val_loss: 4.4946 - val_acc: 0.0890\n",
            "Epoch 8/50\n",
            " - 18s - loss: 2.6330 - acc: 0.2673 - val_loss: 4.9379 - val_acc: 0.0870\n",
            "Epoch 9/50\n",
            " - 18s - loss: 2.4860 - acc: 0.2942 - val_loss: 4.8568 - val_acc: 0.0905\n",
            "Epoch 10/50\n",
            " - 18s - loss: 2.3776 - acc: 0.3095 - val_loss: 5.0603 - val_acc: 0.0919\n",
            "Epoch 11/50\n",
            " - 18s - loss: 2.2175 - acc: 0.3500 - val_loss: 5.1303 - val_acc: 0.0905\n",
            "Epoch 12/50\n",
            " - 18s - loss: 2.1127 - acc: 0.3785 - val_loss: 5.7252 - val_acc: 0.0733\n",
            "Epoch 13/50\n",
            " - 18s - loss: 2.0161 - acc: 0.4019 - val_loss: 5.5544 - val_acc: 0.0826\n",
            "Epoch 14/50\n",
            " - 18s - loss: 1.8216 - acc: 0.4447 - val_loss: 5.4316 - val_acc: 0.0880\n",
            "Epoch 15/50\n",
            " - 18s - loss: 1.7389 - acc: 0.4832 - val_loss: 5.4446 - val_acc: 0.0934\n",
            "Epoch 16/50\n",
            " - 18s - loss: 1.6266 - acc: 0.5034 - val_loss: 5.6295 - val_acc: 0.0954\n",
            "Epoch 17/50\n",
            " - 18s - loss: 1.5049 - acc: 0.5359 - val_loss: 6.0025 - val_acc: 0.0914\n",
            "Epoch 18/50\n",
            " - 18s - loss: 1.3787 - acc: 0.5777 - val_loss: 6.7822 - val_acc: 0.0890\n",
            "Epoch 19/50\n",
            " - 18s - loss: 1.2762 - acc: 0.6082 - val_loss: 6.3844 - val_acc: 0.0861\n",
            "Epoch 20/50\n",
            " - 18s - loss: 1.2152 - acc: 0.6238 - val_loss: 6.3374 - val_acc: 0.0998\n",
            "Epoch 21/50\n",
            " - 18s - loss: 1.0910 - acc: 0.6597 - val_loss: 6.3307 - val_acc: 0.0958\n",
            "Epoch 22/50\n",
            " - 18s - loss: 1.0441 - acc: 0.6795 - val_loss: 6.7537 - val_acc: 0.0914\n",
            "Epoch 23/50\n",
            " - 18s - loss: 0.9511 - acc: 0.7056 - val_loss: 6.6156 - val_acc: 0.0919\n",
            "Epoch 24/50\n",
            " - 18s - loss: 0.8758 - acc: 0.7321 - val_loss: 7.3669 - val_acc: 0.0841\n",
            "Epoch 25/50\n",
            " - 18s - loss: 0.8484 - acc: 0.7405 - val_loss: 6.8162 - val_acc: 0.0939\n",
            "Epoch 26/50\n",
            " - 18s - loss: 0.7297 - acc: 0.7771 - val_loss: 7.4031 - val_acc: 0.0949\n",
            "Epoch 27/50\n",
            " - 18s - loss: 0.6815 - acc: 0.7922 - val_loss: 7.0535 - val_acc: 0.1120\n",
            "Epoch 28/50\n",
            " - 18s - loss: 0.6347 - acc: 0.8085 - val_loss: 7.4653 - val_acc: 0.0993\n",
            "Epoch 29/50\n",
            " - 18s - loss: 0.5934 - acc: 0.8157 - val_loss: 7.0909 - val_acc: 0.0958\n",
            "Epoch 30/50\n",
            " - 18s - loss: 0.5527 - acc: 0.8370 - val_loss: 7.5808 - val_acc: 0.1027\n",
            "Epoch 31/50\n",
            " - 18s - loss: 0.4975 - acc: 0.8471 - val_loss: 7.6602 - val_acc: 0.0812\n",
            "Epoch 32/50\n",
            " - 18s - loss: 0.4735 - acc: 0.8602 - val_loss: 7.7411 - val_acc: 0.0866\n",
            "Epoch 33/50\n",
            " - 18s - loss: 0.4980 - acc: 0.8569 - val_loss: 7.7326 - val_acc: 0.0968\n",
            "Epoch 34/50\n",
            " - 18s - loss: 0.4383 - acc: 0.8721 - val_loss: 7.2904 - val_acc: 0.0993\n",
            "Epoch 35/50\n",
            " - 18s - loss: 0.4053 - acc: 0.8805 - val_loss: 7.7169 - val_acc: 0.0958\n",
            "Epoch 36/50\n",
            " - 18s - loss: 0.4042 - acc: 0.8828 - val_loss: 7.3497 - val_acc: 0.0983\n",
            "Epoch 37/50\n",
            " - 18s - loss: 0.4112 - acc: 0.8786 - val_loss: 7.4805 - val_acc: 0.0914\n",
            "Epoch 38/50\n",
            " - 18s - loss: 0.3639 - acc: 0.8965 - val_loss: 7.3189 - val_acc: 0.1037\n",
            "Epoch 39/50\n",
            " - 18s - loss: 0.3351 - acc: 0.9063 - val_loss: 7.6509 - val_acc: 0.0910\n",
            "Epoch 40/50\n",
            " - 18s - loss: 0.3648 - acc: 0.8948 - val_loss: 7.6073 - val_acc: 0.0954\n",
            "Epoch 41/50\n",
            " - 18s - loss: 0.3030 - acc: 0.9127 - val_loss: 7.7346 - val_acc: 0.0983\n",
            "Epoch 42/50\n",
            " - 18s - loss: 0.2826 - acc: 0.9170 - val_loss: 7.6997 - val_acc: 0.1002\n",
            "Epoch 43/50\n",
            " - 18s - loss: 0.2785 - acc: 0.9212 - val_loss: 7.9249 - val_acc: 0.0963\n",
            "Epoch 44/50\n",
            " - 18s - loss: 0.2910 - acc: 0.9179 - val_loss: 7.3881 - val_acc: 0.0910\n",
            "Epoch 45/50\n",
            " - 18s - loss: 0.2805 - acc: 0.9275 - val_loss: 7.5963 - val_acc: 0.1027\n",
            "Epoch 46/50\n",
            " - 18s - loss: 0.2603 - acc: 0.9285 - val_loss: 8.0495 - val_acc: 0.1042\n",
            "Epoch 47/50\n",
            " - 18s - loss: 0.2495 - acc: 0.9311 - val_loss: 7.7290 - val_acc: 0.1056\n",
            "Epoch 48/50\n",
            " - 18s - loss: 0.2426 - acc: 0.9303 - val_loss: 7.7111 - val_acc: 0.0910\n",
            "Epoch 49/50\n",
            " - 18s - loss: 0.2328 - acc: 0.9353 - val_loss: 8.1619 - val_acc: 0.0890\n",
            "Epoch 50/50\n",
            " - 18s - loss: 0.2442 - acc: 0.9336 - val_loss: 8.0989 - val_acc: 0.0905\n"
          ],
          "name": "stdout"
        }
      ]
    },
    {
      "cell_type": "code",
      "metadata": {
        "id": "WrjifAssPuF5",
        "colab_type": "code",
        "outputId": "26db79ac-6fea-4d8f-e280-13424d00411d",
        "colab": {
          "base_uri": "https://localhost:8080/",
          "height": 269
        }
      },
      "source": [
        "import matplotlib.pyplot as plt\n",
        "%matplotlib inline\n",
        " \n",
        "plt.plot(fit_.history['acc'],'b') \n",
        "plt.plot(fit_.history['val_acc'],'r')\n",
        "plt.show()"
      ],
      "execution_count": 0,
      "outputs": [
        {
          "output_type": "display_data",
          "data": {
            "image/png": "[encoded data removed]",
            "text/plain": [
              "<Figure size 432x288 with 1 Axes>"
            ]
          },
          "metadata": {
            "tags": []
          }
        }
      ]
    },
    {
      "cell_type": "code",
      "metadata": {
        "id": "UU7i6IQ5megy",
        "colab_type": "code",
        "colab": {}
      },
      "source": [
        "adam = Adam(lr=0.001)\n",
        "model.compile(loss= 'categorical_crossentropy', optimizer=adam, metrics=[ 'accuracy' ])\n",
        "t0=time.time()\n",
        "log3 = model.fit(X_train, y, validation_split=0.2,verbose=2,epochs=15, batch_size=16)\n",
        "t1=time.time()\n",
        "import matplotlib.pyplot as plt\n",
        "%matplotlib inline\n",
        " \n",
        "plt.plot(log3.history['acc'],'b') \n",
        "plt.plot(log3.history['val_acc'],'r')\n",
        "plt.show()"
      ],
      "execution_count": 0,
      "outputs": []
    },
    {
      "cell_type": "markdown",
      "metadata": {
        "id": "58gOqDZ3lLjx",
        "colab_type": "text"
      },
      "source": [
        "# LE NET -5 "
      ]
    },
    {
      "cell_type": "code",
      "metadata": {
        "id": "Nl5czIHpcEqg",
        "colab_type": "code",
        "colab": {}
      },
      "source": [
        "def leNet():\n",
        "  model = Sequential()\n",
        "  #layer 1 conv2\n",
        "  model.add(Conv2D(filters=6,input_shape= (32,32,3), kernel_size=(3,3) , strides=1))\n",
        "  model.add(Activation('relu'))\n",
        "  # layer 2 avgpooling\n",
        "  model.add(AveragePooling2D(pool_size=(2,2),strides=2))\n",
        "  model.add(BatchNormalization())\n",
        "  # layer 3 conv2d\n",
        "  model.add(Conv2D(filters=16, kernel_size=(3,3),strides=2))\n",
        "  model.add(AveragePooling2D(pool_size=(2,2),strides=2))\n",
        "  # layer 4 avgpooling\n",
        "  model.add(Activation('relu'))\n",
        "  model.add(BatchNormalization())\n",
        "  \n",
        "  model.add(Flatten())\n",
        "  \n",
        "  model.add(Dense(120))\n",
        "  model.add(Activation('relu'))\n",
        "  model.add(Dropout(0.4))\n",
        "  \n",
        "  model.add(Dense(84))\n",
        "  model.add(Activation('relu'))\n",
        "  model.add(Dropout(0.4))\n",
        "\n",
        "  model.add(Dense(120))\n",
        "  model.add(Activation('softmax'))\n",
        "  \n",
        "  return model"
      ],
      "execution_count": 0,
      "outputs": []
    },
    {
      "cell_type": "code",
      "metadata": {
        "id": "-GeWQp5kcott",
        "colab_type": "code",
        "colab": {}
      },
      "source": [
        "model = leNet()\n",
        "\n",
        "adam = Adam(lr=0.001)\n",
        "model.compile(loss= 'categorical_crossentropy', optimizer=adam, metrics=[ 'accuracy' ])\n",
        "t0=time.time()\n",
        "log3 = model.fit(file_train, y, validation_split=0.2,verbose=2,epochs=30, batch_size=64, shuffle=True)\n",
        "t1=time.time()\n",
        "\n",
        "import matplotlib.pyplot as plt\n",
        "%matplotlib inline\n",
        " \n",
        "plt.plot(log3.history['acc'],'b') \n",
        "plt.plot(log3.history['val_acc'],'r')\n",
        "plt.show()"
      ],
      "execution_count": 0,
      "outputs": []
    },
    {
      "cell_type": "markdown",
      "metadata": {
        "id": "m9p3BZ9DlPJn",
        "colab_type": "text"
      },
      "source": [
        "# VGG NET"
      ]
    },
    {
      "cell_type": "code",
      "metadata": {
        "id": "w4RhAu0JzN2a",
        "colab_type": "code",
        "colab": {}
      },
      "source": [
        "vgg16_model = keras.applications.vgg16.VGG16(weights='imagenet', include_top=False, input_shape=(100,100,3))"
      ],
      "execution_count": 0,
      "outputs": []
    },
    {
      "cell_type": "code",
      "metadata": {
        "id": "5AWio9PC2XHK",
        "colab_type": "code",
        "outputId": "c7dc8490-3d98-403a-e7ec-aefad404babd",
        "colab": {
          "base_uri": "https://localhost:8080/",
          "height": 782
        }
      },
      "source": [
        "vgg16_model.summary()"
      ],
      "execution_count": 0,
      "outputs": [
        {
          "output_type": "stream",
          "text": [
            "_________________________________________________________________\n",
            "Layer (type)                 Output Shape              Param #   \n",
            "=================================================================\n",
            "input_1 (InputLayer)         (None, 100, 100, 3)       0         \n",
            "_________________________________________________________________\n",
            "block1_conv1 (Conv2D)        (None, 100, 100, 64)      1792      \n",
            "_________________________________________________________________\n",
            "block1_conv2 (Conv2D)        (None, 100, 100, 64)      36928     \n",
            "_________________________________________________________________\n",
            "block1_pool (MaxPooling2D)   (None, 50, 50, 64)        0         \n",
            "_________________________________________________________________\n",
            "block2_conv1 (Conv2D)        (None, 50, 50, 128)       73856     \n",
            "_________________________________________________________________\n",
            "block2_conv2 (Conv2D)        (None, 50, 50, 128)       147584    \n",
            "_________________________________________________________________\n",
            "block2_pool (MaxPooling2D)   (None, 25, 25, 128)       0         \n",
            "_________________________________________________________________\n",
            "block3_conv1 (Conv2D)        (None, 25, 25, 256)       295168    \n",
            "_________________________________________________________________\n",
            "block3_conv2 (Conv2D)        (None, 25, 25, 256)       590080    \n",
            "_________________________________________________________________\n",
            "block3_conv3 (Conv2D)        (None, 25, 25, 256)       590080    \n",
            "_________________________________________________________________\n",
            "block3_pool (MaxPooling2D)   (None, 12, 12, 256)       0         \n",
            "_________________________________________________________________\n",
            "block4_conv1 (Conv2D)        (None, 12, 12, 512)       1180160   \n",
            "_________________________________________________________________\n",
            "block4_conv2 (Conv2D)        (None, 12, 12, 512)       2359808   \n",
            "_________________________________________________________________\n",
            "block4_conv3 (Conv2D)        (None, 12, 12, 512)       2359808   \n",
            "_________________________________________________________________\n",
            "block4_pool (MaxPooling2D)   (None, 6, 6, 512)         0         \n",
            "_________________________________________________________________\n",
            "block5_conv1 (Conv2D)        (None, 6, 6, 512)         2359808   \n",
            "_________________________________________________________________\n",
            "block5_conv2 (Conv2D)        (None, 6, 6, 512)         2359808   \n",
            "_________________________________________________________________\n",
            "block5_conv3 (Conv2D)        (None, 6, 6, 512)         2359808   \n",
            "_________________________________________________________________\n",
            "block5_pool (MaxPooling2D)   (None, 3, 3, 512)         0         \n",
            "=================================================================\n",
            "Total params: 14,714,688\n",
            "Trainable params: 14,714,688\n",
            "Non-trainable params: 0\n",
            "_________________________________________________________________\n"
          ],
          "name": "stdout"
        }
      ]
    },
    {
      "cell_type": "code",
      "metadata": {
        "id": "qAR0WBMJ7BG9",
        "colab_type": "code",
        "colab": {}
      },
      "source": [
        "adam = Adam(lr = 0.001)"
      ],
      "execution_count": 0,
      "outputs": []
    },
    {
      "cell_type": "code",
      "metadata": {
        "id": "N4-u3o9o1-bc",
        "colab_type": "code",
        "colab": {}
      },
      "source": [
        "model = Sequential()\n",
        "for layer in vgg16_model.layers:\n",
        "  model.add(layer)\n",
        "model.layers.pop()\n",
        "for layer in model.layers:\n",
        "  layer.trainable = False\n",
        "\n",
        "# Flatten model\n",
        "model.add(Flatten())\n",
        "\n",
        "# Add dense layer\n",
        "model.add(Dense(120, activation = 'softmax'))"
      ],
      "execution_count": 0,
      "outputs": []
    },
    {
      "cell_type": "code",
      "metadata": {
        "id": "sbUzzfK_2PWS",
        "colab_type": "code",
        "outputId": "18bebb80-612e-461b-f97a-bf3df805871a",
        "colab": {
          "base_uri": "https://localhost:8080/",
          "height": 1785
        }
      },
      "source": [
        "model.compile(loss= 'categorical_crossentropy' , optimizer= Adam(lr= 0.001) , metrics=[ 'accuracy' ])\n",
        "model.fit(Xs, y, validation_split=0.2, epochs=50, batch_size=256, verbose=2)"
      ],
      "execution_count": 0,
      "outputs": [
        {
          "output_type": "stream",
          "text": [
            "/usr/local/lib/python3.6/dist-packages/ipykernel_launcher.py:2: UserWarning: The `nb_epoch` argument in `fit` has been renamed `epochs`.\n",
            "  \n"
          ],
          "name": "stderr"
        },
        {
          "output_type": "stream",
          "text": [
            "Train on 8177 samples, validate on 2045 samples\n",
            "Epoch 1/50\n",
            " - 21s - loss: 4.6259 - acc: 0.0489 - val_loss: 4.2341 - val_acc: 0.0905\n",
            "Epoch 2/50\n",
            " - 12s - loss: 3.4966 - acc: 0.2375 - val_loss: 3.9504 - val_acc: 0.1399\n",
            "Epoch 3/50\n",
            " - 11s - loss: 2.9066 - acc: 0.3699 - val_loss: 3.8120 - val_acc: 0.1575\n",
            "Epoch 4/50\n",
            " - 11s - loss: 2.4793 - acc: 0.4779 - val_loss: 3.7776 - val_acc: 0.1711\n",
            "Epoch 5/50\n",
            " - 11s - loss: 2.1470 - acc: 0.5652 - val_loss: 3.7457 - val_acc: 0.1594\n",
            "Epoch 6/50\n",
            " - 11s - loss: 1.8607 - acc: 0.6537 - val_loss: 3.7033 - val_acc: 0.1765\n",
            "Epoch 7/50\n",
            " - 11s - loss: 1.6262 - acc: 0.7207 - val_loss: 3.7130 - val_acc: 0.1711\n",
            "Epoch 8/50\n",
            " - 11s - loss: 1.4317 - acc: 0.7769 - val_loss: 3.7050 - val_acc: 0.1790\n",
            "Epoch 9/50\n",
            " - 11s - loss: 1.2598 - acc: 0.8226 - val_loss: 3.7051 - val_acc: 0.1824\n",
            "Epoch 10/50\n",
            " - 11s - loss: 1.1170 - acc: 0.8525 - val_loss: 3.7181 - val_acc: 0.1800\n",
            "Epoch 11/50\n",
            " - 11s - loss: 0.9842 - acc: 0.8886 - val_loss: 3.7761 - val_acc: 0.1868\n",
            "Epoch 12/50\n",
            " - 11s - loss: 0.8834 - acc: 0.9089 - val_loss: 3.7454 - val_acc: 0.1858\n",
            "Epoch 13/50\n",
            " - 11s - loss: 0.7894 - acc: 0.9255 - val_loss: 3.7771 - val_acc: 0.1770\n",
            "Epoch 14/50\n",
            " - 11s - loss: 0.7045 - acc: 0.9439 - val_loss: 3.8299 - val_acc: 0.1814\n",
            "Epoch 15/50\n",
            " - 11s - loss: 0.6278 - acc: 0.9584 - val_loss: 3.8339 - val_acc: 0.1839\n",
            "Epoch 16/50\n",
            " - 11s - loss: 0.5624 - acc: 0.9684 - val_loss: 3.8591 - val_acc: 0.1809\n",
            "Epoch 17/50\n",
            " - 11s - loss: 0.5092 - acc: 0.9752 - val_loss: 3.8838 - val_acc: 0.1819\n",
            "Epoch 18/50\n",
            " - 11s - loss: 0.4576 - acc: 0.9814 - val_loss: 3.8865 - val_acc: 0.1844\n",
            "Epoch 19/50\n",
            " - 11s - loss: 0.4138 - acc: 0.9861 - val_loss: 3.9133 - val_acc: 0.1844\n",
            "Epoch 20/50\n",
            " - 11s - loss: 0.3738 - acc: 0.9887 - val_loss: 3.9282 - val_acc: 0.1902\n",
            "Epoch 21/50\n",
            " - 11s - loss: 0.3397 - acc: 0.9922 - val_loss: 3.9486 - val_acc: 0.1878\n",
            "Epoch 22/50\n",
            " - 11s - loss: 0.3072 - acc: 0.9944 - val_loss: 3.9723 - val_acc: 0.1819\n",
            "Epoch 23/50\n",
            " - 11s - loss: 0.2787 - acc: 0.9955 - val_loss: 4.0065 - val_acc: 0.1790\n",
            "Epoch 24/50\n",
            " - 11s - loss: 0.2585 - acc: 0.9965 - val_loss: 4.0038 - val_acc: 0.1868\n",
            "Epoch 25/50\n",
            " - 11s - loss: 0.2346 - acc: 0.9976 - val_loss: 4.0250 - val_acc: 0.1858\n",
            "Epoch 26/50\n",
            " - 11s - loss: 0.2168 - acc: 0.9982 - val_loss: 4.0359 - val_acc: 0.1839\n",
            "Epoch 27/50\n",
            " - 11s - loss: 0.2006 - acc: 0.9980 - val_loss: 4.0736 - val_acc: 0.1839\n",
            "Epoch 28/50\n",
            " - 11s - loss: 0.1843 - acc: 0.9984 - val_loss: 4.0750 - val_acc: 0.1804\n",
            "Epoch 29/50\n",
            " - 11s - loss: 0.1718 - acc: 0.9987 - val_loss: 4.0904 - val_acc: 0.1873\n",
            "Epoch 30/50\n",
            " - 11s - loss: 0.1607 - acc: 0.9983 - val_loss: 4.1049 - val_acc: 0.1834\n",
            "Epoch 31/50\n",
            " - 11s - loss: 0.1487 - acc: 0.9990 - val_loss: 4.1316 - val_acc: 0.1839\n",
            "Epoch 32/50\n",
            " - 11s - loss: 0.1387 - acc: 0.9993 - val_loss: 4.1408 - val_acc: 0.1834\n",
            "Epoch 33/50\n",
            " - 11s - loss: 0.1295 - acc: 0.9990 - val_loss: 4.1552 - val_acc: 0.1844\n",
            "Epoch 34/50\n",
            " - 11s - loss: 0.1213 - acc: 0.9991 - val_loss: 4.1705 - val_acc: 0.1790\n",
            "Epoch 35/50\n",
            " - 11s - loss: 0.1144 - acc: 0.9991 - val_loss: 4.1885 - val_acc: 0.1863\n",
            "Epoch 36/50\n",
            " - 11s - loss: 0.1071 - acc: 0.9991 - val_loss: 4.2010 - val_acc: 0.1800\n",
            "Epoch 37/50\n",
            " - 11s - loss: 0.1012 - acc: 0.9991 - val_loss: 4.2268 - val_acc: 0.1873\n",
            "Epoch 38/50\n",
            " - 11s - loss: 0.0960 - acc: 0.9990 - val_loss: 4.2278 - val_acc: 0.1819\n",
            "Epoch 39/50\n",
            " - 11s - loss: 0.0912 - acc: 0.9989 - val_loss: 4.2497 - val_acc: 0.1848\n",
            "Epoch 40/50\n",
            " - 11s - loss: 0.0860 - acc: 0.9993 - val_loss: 4.2563 - val_acc: 0.1844\n",
            "Epoch 41/50\n",
            " - 11s - loss: 0.0815 - acc: 0.9991 - val_loss: 4.2651 - val_acc: 0.1839\n",
            "Epoch 42/50\n",
            " - 11s - loss: 0.0773 - acc: 0.9991 - val_loss: 4.2842 - val_acc: 0.1819\n",
            "Epoch 43/50\n",
            " - 11s - loss: 0.0742 - acc: 0.9989 - val_loss: 4.3042 - val_acc: 0.1824\n",
            "Epoch 44/50\n",
            " - 11s - loss: 0.0703 - acc: 0.9990 - val_loss: 4.3042 - val_acc: 0.1873\n",
            "Epoch 45/50\n",
            " - 11s - loss: 0.0668 - acc: 0.9993 - val_loss: 4.3128 - val_acc: 0.1834\n",
            "Epoch 46/50\n",
            " - 11s - loss: 0.0642 - acc: 0.9989 - val_loss: 4.3278 - val_acc: 0.1839\n",
            "Epoch 47/50\n",
            " - 11s - loss: 0.0613 - acc: 0.9989 - val_loss: 4.3483 - val_acc: 0.1795\n",
            "Epoch 48/50\n",
            " - 11s - loss: 0.0591 - acc: 0.9989 - val_loss: 4.3573 - val_acc: 0.1809\n",
            "Epoch 49/50\n",
            " - 11s - loss: 0.0559 - acc: 0.9993 - val_loss: 4.3657 - val_acc: 0.1839\n",
            "Epoch 50/50\n",
            " - 11s - loss: 0.0540 - acc: 0.9993 - val_loss: 4.3791 - val_acc: 0.1819\n"
          ],
          "name": "stdout"
        },
        {
          "output_type": "execute_result",
          "data": {
            "text/plain": [
              "<keras.callbacks.History at 0x7f910a9be2e8>"
            ]
          },
          "metadata": {
            "tags": []
          },
          "execution_count": 47
        }
      ]
    },
    {
      "cell_type": "code",
      "metadata": {
        "id": "Z59IaMXS0mCf",
        "colab_type": "code",
        "colab": {}
      },
      "source": [
        "def VGGnet_16():\n",
        "    model = Sequential()\n",
        "    \n",
        "    model.add(Conv2D(64, (3, 3), input_shape=(224,224,3), padding='same', activation='relu'))\n",
        "    model.add(Conv2D(64, (3, 3), activation='relu', padding='same'))\n",
        "    model.add(MaxPooling2D(pool_size=(2, 2), strides=(2, 2)))\n",
        "    \n",
        "    model.add(Conv2D(128, (3, 3), activation='relu', padding='same'))\n",
        "    model.add(Conv2D(128, (3, 3), activation='relu', padding='same'))\n",
        "    model.add(MaxPooling2D(pool_size=(2, 2), strides=(2, 2)))\n",
        "    \n",
        "    model.add(Conv2D(256, (3, 3), activation='relu', padding='same'))\n",
        "    model.add(Conv2D(256, (3, 3), activation='relu', padding='same'))\n",
        "    model.add(Conv2D(256, (3, 3), activation='relu', padding='same'))\n",
        "    model.add(MaxPooling2D(pool_size=(2, 2), strides=(2, 2)))\n",
        "    \n",
        "    model.add(Conv2D(512, (3, 3), activation='relu', padding='same'))\n",
        "    model.add(Conv2D(512, (3, 3), activation='relu', padding='same'))\n",
        "    model.add(Conv2D(512, (3, 3), activation='relu', padding='same'))\n",
        "    model.add(MaxPooling2D(pool_size=(2, 2), strides=(2, 2)))\n",
        "    \n",
        "    model.add(Flatten())\n",
        "    model.add(Dense(4096, activation='relu'))\n",
        "    model.add(Dense(4096, activation='relu'))\n",
        "    model.add(Dense(1000))\n",
        "    model.add(Dense(120, activation='softmax'))\n",
        "    return model"
      ],
      "execution_count": 0,
      "outputs": []
    },
    {
      "cell_type": "code",
      "metadata": {
        "id": "wyeuPCPX3Zef",
        "colab_type": "code",
        "colab": {}
      },
      "source": [
        "model = VGGnet_16()\n",
        "model.compile(loss= 'categorical_crossentropy' ,\n",
        "              optimizer= Adam(lr= 0.001) , \n",
        "              metrics=[ 'accuracy' ])"
      ],
      "execution_count": 0,
      "outputs": []
    },
    {
      "cell_type": "code",
      "metadata": {
        "id": "5uETMqH_3gWj",
        "colab_type": "code",
        "outputId": "fb244bac-140c-4003-a202-82c53e763cbe",
        "colab": {
          "base_uri": "https://localhost:8080/",
          "height": 51
        }
      },
      "source": [
        "model.fit(Xs, y, \n",
        "          validation_split=0.2, \n",
        "          epochs=50, \n",
        "          batch_size=256, \n",
        "          verbose=2)"
      ],
      "execution_count": 0,
      "outputs": [
        {
          "output_type": "stream",
          "text": [
            "Train on 8177 samples, validate on 2045 samples\n",
            "Epoch 1/50\n"
          ],
          "name": "stdout"
        }
      ]
    },
    {
      "cell_type": "code",
      "metadata": {
        "id": "FWYwyTNmIDxE",
        "colab_type": "code",
        "colab": {}
      },
      "source": [
        ""
      ],
      "execution_count": 0,
      "outputs": []
    },
    {
      "cell_type": "markdown",
      "metadata": {
        "id": "Rce7fcMHoa1n",
        "colab_type": "text"
      },
      "source": [
        "# INCEPTION NETWORK LAYER 28X2X192"
      ]
    },
    {
      "cell_type": "code",
      "metadata": {
        "id": "w7hN6Hr5oexq",
        "colab_type": "code",
        "colab": {}
      },
      "source": [
        "def inception(inputs):\n",
        "  \n",
        "  p1 = Conv2d(64, (1,1))(inputs)\n",
        "  p1 = BatchNormalization()\n",
        "  p1 = Activation('relu')\n",
        "  \n",
        "  p2 = Conv2d(96, (1,1))(inputs)\n",
        "  p2 = BatchNormalization()(p2)\n",
        "  p2 = Activation('relu')(p2)\n",
        "  p2 = Conv2d(128, (3,3))(p2)\n",
        "  p2 = BatchNormalization()(p2)\n",
        "  p2 = Activation('relu')(p2)\n",
        "  \n",
        "  p3 = Conv2d(16, (1,1), padding= 'same')(inputs)\n",
        "  p3 = BatchNormalization()(p3)\n",
        "  p3 = Activation('relu')(p3)\n",
        "  p3 = Conv2d(32, (5,5), padding='same')(p3)\n",
        "  p3 = BatchNormalization()(p3)\n",
        "  p3 = Activation('relu')(p3)\n",
        "  \n",
        "  p4 = MaxPooling((3,3),padding = 'same', strides= (1,1))(inputs)\n",
        "  p4 = Conv2d(32, (1,1),padding = 'same')(p4)\n",
        "  p4 = BatchNormalization()(p4)\n",
        "  p4 = Activation('relu')(p4)\n",
        "  \n",
        "  c = Concatenate(axis=-1)([p1,p2,p3,p4])\n",
        "  return c\n"
      ],
      "execution_count": 0,
      "outputs": []
    }
  ]
}