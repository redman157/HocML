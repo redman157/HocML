{
  "nbformat": 4,
  "nbformat_minor": 0,
  "metadata": {
    "colab": {
      "name": "Hello, Colaboratory",
      "version": "0.3.2",
      "provenance": [],
      "collapsed_sections": [],
      "include_colab_link": true
    },
    "kernelspec": {
      "display_name": "Python 3",
      "name": "python3"
    }
  },
  "cells": [
    {
      "cell_type": "markdown",
      "metadata": {
        "id": "view-in-github",
        "colab_type": "text"
      },
      "source": [
        "<a href=\"https://colab.research.google.com/github/redman157/HocML/blob/master/data-structures.ipynb\" target=\"_parent\"><img src=\"https://colab.research.google.com/assets/colab-badge.svg\" alt=\"Open In Colab\"/></a>"
      ]
    },
    {
      "metadata": {
        "id": "yeawr2_6KP7z",
        "colab_type": "code",
        "colab": {}
      },
      "cell_type": "code",
      "source": [
        "class Stack:\n",
        "  def __init__(self):\n",
        "    self.arr = []\n",
        "    \n",
        "  def isEmpty(self):\n",
        "    return self.arr == []\n",
        "    \n",
        "  def push(self, item):\n",
        "    return self.arr.append(item)\n",
        "    \n",
        "  def pop(self):\n",
        "    return self.arr.pop()\n",
        "    \n",
        "  def peek(self):\n",
        "    return self.arr[len(self.arr) - 1]\n",
        "  \n",
        "  def size(self):\n",
        "    return len(self.arr)\n"
      ],
      "execution_count": 0,
      "outputs": []
    },
    {
      "metadata": {
        "id": "SR8ZDgoyNCt7",
        "colab_type": "code",
        "colab": {
          "base_uri": "https://localhost:8080/",
          "height": 145
        },
        "outputId": "4d560aa7-1b55-4f47-edd3-b4dfc9578c13"
      },
      "cell_type": "code",
      "source": [
        "s=Stack()\n",
        "\n",
        "\n",
        "print(s.isEmpty())\n",
        "s.push(4)\n",
        "s.push('dog')\n",
        "\n",
        "print(s.peek())\n",
        "s.push(True)\n",
        "\n",
        "print(s.size())\n",
        "\n",
        "print(s.isEmpty())\n",
        "\n",
        "s.push(8.4)\n",
        "\n",
        "print(s.pop())\n",
        "print(s.pop())\n",
        "print(s.size())\n"
      ],
      "execution_count": 15,
      "outputs": [
        {
          "output_type": "stream",
          "text": [
            "True\n",
            "dog\n",
            "3\n",
            "False\n",
            "8.4\n",
            "True\n",
            "2\n"
          ],
          "name": "stdout"
        }
      ]
    },
    {
      "metadata": {
        "id": "4HDGGdbcNMfB",
        "colab_type": "code",
        "colab": {}
      },
      "cell_type": "code",
      "source": [
        ""
      ],
      "execution_count": 0,
      "outputs": []
    }
  ]
}