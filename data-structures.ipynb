{
  "nbformat": 4,
  "nbformat_minor": 0,
  "metadata": {
    "colab": {
      "name": "Hello, Colaboratory",
      "version": "0.3.2",
      "provenance": [],
      "collapsed_sections": [],
      "include_colab_link": true
    },
    "kernelspec": {
      "display_name": "Python 3",
      "name": "python3"
    }
  },
  "cells": [
    {
      "cell_type": "markdown",
      "metadata": {
        "id": "view-in-github",
        "colab_type": "text"
      },
      "source": [
        "<a href=\"https://colab.research.google.com/github/redman157/HocML/blob/master/data-structures.ipynb\" target=\"_parent\"><img src=\"https://colab.research.google.com/assets/colab-badge.svg\" alt=\"Open In Colab\"/></a>"
      ]
    },
    {
      "metadata": {
        "id": "yeawr2_6KP7z",
        "colab_type": "code",
        "colab": {}
      },
      "cell_type": "code",
      "source": [
        "class Stack:\n",
        "  def __init__(self):\n",
        "    self.arr = []\n",
        "    \n",
        "  def isEmpty(self):\n",
        "    return self.arr == []\n",
        "    \n",
        "  def push(self, item):\n",
        "    return self.arr.append(item)\n",
        "    \n",
        "  def pop(self):\n",
        "    return self.arr.pop()\n",
        "    \n",
        "  def peek(self):\n",
        "    return self.arr[len(self.arr) - 1]\n",
        "  \n",
        "  def size(self):\n",
        "    return len(self.arr)\n",
        "\n",
        "def parChecker(symbolString):\n",
        "  s = Stack()\n",
        "  index = 0\n",
        "  balance = True\n",
        "  while index < len(symbolString) and balance:\n",
        "    symbol = symbolString[index]\n",
        "    if symbol == '(':\n",
        "      s.push(symbol)\n",
        "    else:\n",
        "      if s.isEmpty():\n",
        "        balance = False\n",
        "      else:\n",
        "        s.pop()\n",
        "    index = index + 1\n",
        "  if balance and s.isEmpty():\n",
        "    return True\n",
        "  else:\n",
        "    return False\n",
        "\n",
        "\n",
        "    \n",
        "\n",
        "    "
      ],
      "execution_count": 0,
      "outputs": []
    },
    {
      "metadata": {
        "id": "SR8ZDgoyNCt7",
        "colab_type": "code",
        "outputId": "4d560aa7-1b55-4f47-edd3-b4dfc9578c13",
        "colab": {
          "base_uri": "https://localhost:8080/",
          "height": 145
        }
      },
      "cell_type": "code",
      "source": [
        "s=Stack()\n",
        "\n",
        "\n",
        "print(s.isEmpty())\n",
        "s.push(4)\n",
        "s.push('dog')\n",
        "\n",
        "print(s.peek())\n",
        "s.push(True)\n",
        "\n",
        "print(s.size())\n",
        "\n",
        "print(s.isEmpty())\n",
        "\n",
        "s.push(8.4)\n",
        "\n",
        "print(s.pop())\n",
        "print(s.pop())\n",
        "print(s.size())\n",
        "\n",
        "\n",
        "print(parChecker('((()))'))\n",
        "print(parChecker('(()'))"
      ],
      "execution_count": 0,
      "outputs": [
        {
          "output_type": "stream",
          "text": [
            "True\n",
            "dog\n",
            "3\n",
            "False\n",
            "8.4\n",
            "True\n",
            "2\n"
          ],
          "name": "stdout"
        }
      ]
    },
    {
      "metadata": {
        "id": "4HDGGdbcNMfB",
        "colab_type": "code",
        "colab": {}
      },
      "cell_type": "code",
      "source": [
        "class Queue:\n",
        "  def __init__(self):\n",
        "    self.items = []\n",
        "    \n",
        "  def isEmpty(self):\n",
        "    if self.items == []:\n",
        "      return True\n",
        "  \n",
        "  def size(self):\n",
        "    return len(self.items)\n",
        "  \n",
        "  def enqueue(self, item):\n",
        "    return self.items.insert(0,item)\n",
        "  \n",
        "  def dequeue(self):\n",
        "    return self.items.pop()\n",
        "  "
      ],
      "execution_count": 0,
      "outputs": []
    },
    {
      "metadata": {
        "id": "RqDUh_NCKvLU",
        "colab_type": "code",
        "colab": {
          "base_uri": "https://localhost:8080/",
          "height": 35
        },
        "outputId": "18b918d6-1dc4-4145-caef-6099e8dfbee2"
      },
      "cell_type": "code",
      "source": [
        "q=Queue()\n",
        "q.enqueue(4)\n",
        "q.enqueue('dog')\n",
        "q.enqueue(True)\n",
        "print(q.size())\n"
      ],
      "execution_count": 26,
      "outputs": [
        {
          "output_type": "stream",
          "text": [
            "3\n"
          ],
          "name": "stdout"
        }
      ]
    },
    {
      "metadata": {
        "id": "GIPyLAPNKw3p",
        "colab_type": "code",
        "colab": {}
      },
      "cell_type": "code",
      "source": [
        "def hotPotato(namelist, num):\n",
        "  q = Queue()\n",
        "  for name in namelist:\n",
        "    q.enqueue(name)\n",
        "    \n",
        "  while q.size() > 1:\n",
        "    for index in range(num):\n",
        "      q.enqueue(q.dequeue())\n",
        "    q.dequeue()\n",
        "  return q.dequeue()"
      ],
      "execution_count": 0,
      "outputs": []
    },
    {
      "metadata": {
        "id": "02TqDRCZKxs0",
        "colab_type": "code",
        "colab": {
          "base_uri": "https://localhost:8080/",
          "height": 35
        },
        "outputId": "6a6c047b-bd78-4f49-cc27-488ea8308d54"
      },
      "cell_type": "code",
      "source": [
        "print(hotPotato([\"Bill\",\"David\",\"Susan\",\"Jane\",\"Kent\",\"Brad\"],8))"
      ],
      "execution_count": 32,
      "outputs": [
        {
          "output_type": "stream",
          "text": [
            "Kent\n"
          ],
          "name": "stdout"
        }
      ]
    },
    {
      "metadata": {
        "id": "BKlnezBQKzX8",
        "colab_type": "code",
        "colab": {}
      },
      "cell_type": "code",
      "source": [
        "class linkedList:\n",
        "  def __init__(self, initdata):\n",
        "    self.data = initdata\n",
        "    self.next = None\n",
        "  \n",
        "  def getdata(self):\n",
        "    return self.data\n",
        "  \n",
        "  def getNext(self):\n",
        "    return self.next\n",
        "  \n",
        "  def setdata(self, newdata):\n",
        "    return self.data = newdata\n",
        "  \n",
        "  def setNext(self, newnext):\n",
        "    return self.next = newnext\n",
        "class unorderedList:\n",
        "  def __init__(self):\n",
        "    self.head = None\n",
        "  def isEmpty(self):\n",
        "    return self.head == None\n",
        "  def add(self, item):\n",
        "    temp = Node(item)\n",
        "    temp.setNext(self.head)\n",
        "    self.head = temp\n",
        "  def size(self):\n",
        "    current = self.head\n",
        "    count = 0\n",
        "    while current!= None:\n",
        "      count = count +1\n",
        "      current = current.getNext()\n",
        "    return count\n",
        "  def search(self, item):\n",
        "    current = self.head\n",
        "    found = False\n",
        "    while currtend != None and found:\n",
        "      if current.getdata() == item:\n",
        "        found = True\n",
        "      else:\n",
        "        current = current.getNext()\n",
        "    return found\n",
        "  def remove(self, item):\n",
        "    current = self.head\n",
        "    found"
      ],
      "execution_count": 0,
      "outputs": []
    }
  ]
}