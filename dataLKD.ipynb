{
  "nbformat": 4,
  "nbformat_minor": 0,
  "metadata": {
    "colab": {
      "name": "Untitled52.ipynb",
      "version": "0.3.2",
      "provenance": [],
      "include_colab_link": true
    },
    "kernelspec": {
      "name": "python3",
      "display_name": "Python 3"
    }
  },
  "cells": [
    {
      "cell_type": "markdown",
      "metadata": {
        "id": "view-in-github",
        "colab_type": "text"
      },
      "source": [
        "<a href=\"https://colab.research.google.com/github/redman157/HocML/blob/master/dataLKD.ipynb\" target=\"_parent\"><img src=\"https://colab.research.google.com/assets/colab-badge.svg\" alt=\"Open In Colab\"/></a>"
      ]
    },
    {
      "cell_type": "code",
      "metadata": {
        "id": "rzDpOVNSl9Pb",
        "colab_type": "code",
        "colab": {}
      },
      "source": [
        "class Node:\n",
        "  def __init__(self, data):\n",
        "    self.data = data\n",
        "    self.next = None\n",
        "    \n",
        "  def setData(self, newData):\n",
        "    self.data = newData\n",
        "  \n",
        "  def setNext(self,newNext):\n",
        "    self.next = newNext\n",
        "  \n",
        "  def getNext(self):\n",
        "    return self.next\n",
        "  \n",
        "  def getData(self):\n",
        "    return self.data\n",
        "\n",
        "class Linked:\n",
        "  def __init__(self):\n",
        "    self.head = None\n",
        "    self.tail = None\n",
        "\n",
        "  def size(self):\n",
        "    current = self.head\n",
        "    count = 0\n",
        "    while current != None:\n",
        "      current = current.getNext()\n",
        "      count += 1\n",
        "    return count\n",
        "  \n",
        "  def isEmpty(self):\n",
        "    return self.head == None\n",
        "    \n",
        "  # bài 1 add vào danh sach lien kết không theo thứ tự  \n",
        "  def add(self, data):\n",
        "    temp = Node(data)\n",
        "    if not self.tail is None:\n",
        "      self.tail.setNext(temp)\n",
        "\n",
        "    if self.head is None:\n",
        "      self.head = temp\n",
        "    self.tail = temp\n",
        "  \n",
        "  def showLK(self):\n",
        "    current = self.head\n",
        "    count = 0\n",
        "    while current != None and current != self.tail.getNext():\n",
        "      print(f\"Hiển thị thứ {count} của DSLK: {current.getData()}\")\n",
        "      count += 1\n",
        "      current = current.getNext()\n",
        "     \n",
        "  # tìm gia trị trong dslk\n",
        "  def search(self, item):\n",
        "    current = self.head\n",
        "    find = False\n",
        "    pos = 0\n",
        "    while current != None and not find:\n",
        "      pos += 0\n",
        "      if current.getData() == item:\n",
        "        find = True\n",
        "        print(f'Giá trị cần tìm ở {pos}')\n",
        "          \n",
        "      current = current.getNext()\n",
        "    return pos    \n",
        "  # chèn phần tử vào danh sach lien kết\n",
        "\n",
        "  def insert(self,data, pos):\n",
        "    current = self.head \n",
        "    item = Node(data)\n",
        "    for i in range(0,pos):\n",
        "      current = current.getNext()\n",
        "    temp = current.getNext()\n",
        "    current.setNext(item)\n",
        "    item.setNext(temp)\n",
        "  def swap(self,nodea,nodeb):\n",
        "    value_node_a = nodea.getData()\n",
        "    value_node_b = nodeb.getData()\n",
        "    nodea.setData(value_node_b)\n",
        "    nodeb.setData(value_node_a)\n",
        "\n",
        "  def sort(self):\n",
        "    for i in range(self.size() - 1):\n",
        "      current = self.head\n",
        "\n",
        "      for j in range(i, self.size() - 1):\n",
        "        next = current.getNext()\n",
        "        if current.getData() > next.getData():\n",
        "          self.swap(current, next)\n",
        "        current = current.getNext()\n",
        "  def FronBackSplit(self):\n",
        "    half = int((self.size() - 1) /2 )\n",
        "    current = self.head\n",
        "    for i in range(0,half):\n",
        "      current = current.getNext()\n",
        "    tail = current\n",
        " \n",
        "    lk1 = Linked()\n",
        "    lk1.head = self.head\n",
        "    lk1.tail = tail\n",
        "    \n",
        "    lk2 = Linked()\n",
        "    lk2.head = tail.getNext()\n",
        "    lk2.tail = self.tail\n",
        "    \n",
        "    lk1.showLK()\n",
        "    lk2.showLK()\n",
        "      "
      ],
      "execution_count": 0,
      "outputs": []
    },
    {
      "cell_type": "code",
      "metadata": {
        "id": "HukVvnA6orVW",
        "colab_type": "code",
        "colab": {}
      },
      "source": [
        "lk = Linked()\n",
        "lk.add(10)\n",
        "lk.add(20)\n",
        "lk.add(5)\n",
        "lk.add(7)\n",
        "lk.add(12)\n",
        "lk.add(1)\n",
        "lk.add(22)"
      ],
      "execution_count": 0,
      "outputs": []
    },
    {
      "cell_type": "code",
      "metadata": {
        "id": "RS1rtpaAsCcz",
        "colab_type": "code",
        "outputId": "eb524246-dff6-4a91-b8c7-04230fedc947",
        "colab": {
          "base_uri": "https://localhost:8080/",
          "height": 164
        }
      },
      "source": [
        "lk.FronBackSplit()"
      ],
      "execution_count": 200,
      "outputs": [
        {
          "output_type": "stream",
          "text": [
            "Hiển thị thứ 0 của DSLK: 10\n",
            "Hiển thị thứ 1 của DSLK: 20\n",
            "Hiển thị thứ 2 của DSLK: 5\n",
            "Hiển thị thứ 3 của DSLK: 7\n",
            "Hiển thị thứ 0 của DSLK: 12\n",
            "Hiển thị thứ 1 của DSLK: 1\n",
            "Hiển thị thứ 2 của DSLK: 22\n"
          ],
          "name": "stdout"
        },
        {
          "output_type": "execute_result",
          "data": {
            "text/plain": [
              "(None, None)"
            ]
          },
          "metadata": {
            "tags": []
          },
          "execution_count": 200
        }
      ]
    },
    {
      "cell_type": "code",
      "metadata": {
        "id": "Wzm3_BGz45ye",
        "colab_type": "code",
        "colab": {
          "base_uri": "https://localhost:8080/",
          "height": 35
        },
        "outputId": "3cdc9475-d3e9-4a2c-a7e4-dc3f25ff2135"
      },
      "source": [
        "for i in range(0,5):\n",
        "  pass\n",
        "print(i)"
      ],
      "execution_count": 179,
      "outputs": [
        {
          "output_type": "stream",
          "text": [
            "4\n"
          ],
          "name": "stdout"
        }
      ]
    },
    {
      "cell_type": "code",
      "metadata": {
        "id": "lNZxsusWITRC",
        "colab_type": "code",
        "colab": {}
      },
      "source": [
        ""
      ],
      "execution_count": 0,
      "outputs": []
    }
  ]
}