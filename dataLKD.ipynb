{
  "nbformat": 4,
  "nbformat_minor": 0,
  "metadata": {
    "colab": {
      "name": "Untitled52.ipynb",
      "version": "0.3.2",
      "provenance": [],
      "include_colab_link": true
    },
    "kernelspec": {
      "name": "python3",
      "display_name": "Python 3"
    }
  },
  "cells": [
    {
      "cell_type": "markdown",
      "metadata": {
        "id": "view-in-github",
        "colab_type": "text"
      },
      "source": [
        "<a href=\"https://colab.research.google.com/github/redman157/HocML/blob/master/dataLKD.ipynb\" target=\"_parent\"><img src=\"https://colab.research.google.com/assets/colab-badge.svg\" alt=\"Open In Colab\"/></a>"
      ]
    },
    {
      "cell_type": "code",
      "metadata": {
        "id": "rzDpOVNSl9Pb",
        "colab_type": "code",
        "colab": {}
      },
      "source": [
        "class Node:\n",
        "  def __init__(self, data):\n",
        "    self.data = data\n",
        "    self.next = None\n",
        "    \n",
        "  def setData(self, newData):\n",
        "    self.data = newData\n",
        "  \n",
        "  def setNext(self,newNext):\n",
        "    self.next = newNext\n",
        "  \n",
        "  def getNext(self):\n",
        "    return self.next\n",
        "  \n",
        "  def getData(self):\n",
        "    return self.data\n",
        "\n",
        "class Linked:\n",
        "  def __init__(self):\n",
        "    self.head = None\n",
        "\n",
        "  def size(self):\n",
        "    current = self.head\n",
        "    count = 0\n",
        "    while current != None:\n",
        "      current = current.getNext()\n",
        "      count += 1\n",
        "    return count\n",
        "  \n",
        "  def isEmpty(self):\n",
        "    return self.head == None\n",
        "    \n",
        "  # bài 1 add vào danh sach lien kết không theo thứ tự  \n",
        "  def add(self, data):\n",
        "    temp = Node(data)\n",
        "    temp.setNext(self.head)\n",
        "    self.head = temp\n",
        "    \n",
        "  def showLK(self):\n",
        "    current = self.head\n",
        "    count = self.size()\n",
        "    while current != None:\n",
        "      print(f\"Hiển thị thứ {count} của DSLK: {current.getData()}\")\n",
        "      count -= 1\n",
        "      current = current.getNext()\n",
        "  # tìm gia trị trong dslk\n",
        "  def search(self, item):\n",
        "    current = self.head\n",
        "    find = False\n",
        "    pos = 0\n",
        "    while current != None and not find:\n",
        "      pos += 0\n",
        "      if current.getData() == item:\n",
        "        find = True\n",
        "        print(f'Giá trị cần tìm ở {pos}')\n",
        "          \n",
        "      current = current.getNext()\n",
        "    return pos    \n",
        "  # chèn phần tử vào danh sach lien kết\n",
        "\n",
        "  def insert(self,data, pos):\n",
        "    current = self.head \n",
        "    prev = None  \n",
        "    temp = None\n",
        "    item = current.setData(data)\n",
        "    while current != None and prev != None:\n",
        "      \n",
        "      if current.getNext() == item:\n",
        "        current = current.setData(item)\n",
        "        temp  = current.setNext(item)\n",
        "        prev = prev.setNext(current.getNext)\n",
        "        \n",
        "      current = current.getNext()\n",
        "  def sort(self):\n",
        "    "
      ],
      "execution_count": 0,
      "outputs": []
    },
    {
      "cell_type": "code",
      "metadata": {
        "id": "HukVvnA6orVW",
        "colab_type": "code",
        "colab": {}
      },
      "source": [
        "lk = Linked()\n",
        "lk.add(10)\n",
        "lk.add(20)\n",
        "lk.add(5)\n",
        "lk.add(7)\n",
        "lk.add(12)\n",
        "lk.add(1)"
      ],
      "execution_count": 0,
      "outputs": []
    },
    {
      "cell_type": "code",
      "metadata": {
        "id": "AbX4Yp5tpRSZ",
        "colab_type": "code",
        "colab": {}
      },
      "source": [
        "lk.insert(5, 1)"
      ],
      "execution_count": 0,
      "outputs": []
    },
    {
      "cell_type": "code",
      "metadata": {
        "id": "RS1rtpaAsCcz",
        "colab_type": "code",
        "colab": {
          "base_uri": "https://localhost:8080/",
          "height": 54
        },
        "outputId": "d2929485-fc4c-42d4-fd49-77b92d7fcb4e"
      },
      "source": [
        "lk.showLK()"
      ],
      "execution_count": 122,
      "outputs": [
        {
          "output_type": "stream",
          "text": [
            "Hiển thị thứ 2 của DSLK: 5\n",
            "Hiển thị thứ 1 của DSLK: 10\n"
          ],
          "name": "stdout"
        }
      ]
    },
    {
      "cell_type": "code",
      "metadata": {
        "id": "Wzm3_BGz45ye",
        "colab_type": "code",
        "colab": {}
      },
      "source": [
        ""
      ],
      "execution_count": 0,
      "outputs": []
    }
  ]
}