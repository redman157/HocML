{
  "nbformat": 4,
  "nbformat_minor": 0,
  "metadata": {
    "colab": {
      "name": "Untitled56.ipynb",
      "version": "0.3.2",
      "provenance": [],
      "include_colab_link": true
    },
    "kernelspec": {
      "name": "python3",
      "display_name": "Python 3"
    }
  },
  "cells": [
    {
      "cell_type": "markdown",
      "metadata": {
        "id": "view-in-github",
        "colab_type": "text"
      },
      "source": [
        "<a href=\"https://colab.research.google.com/github/redman157/HocML/blob/master/getAndunzipfile.ipynb\" target=\"_parent\"><img src=\"https://colab.research.google.com/assets/colab-badge.svg\" alt=\"Open In Colab\"/></a>"
      ]
    },
    {
      "cell_type": "code",
      "metadata": {
        "id": "7M5QZF4BJfSV",
        "colab_type": "code",
        "colab": {}
      },
      "source": [
        "import requests as rq\n",
        "import selenium\n",
        "import os\n",
        "from zipfile import ZipFile\n",
        "\n",
        "url = (\"https://chromedriver.storage.googleapis.com/75.0.3770.8/chromedriver_linux64.zip\")\n",
        "def get_and_unzip(url_,fileName, unzip = False):\n",
        "  r = rq.get(url_)\n",
        "  print(r.status_code)\n",
        "  while True:\n",
        "    if unzip is False:\n",
        "      if os.path.exists(fileName) is False and unzip is False:\n",
        "        with open(fileName, 'wb') as f:\n",
        "          f.write(r.content)\n",
        "        f.close()\n",
        "      unzip = True\n",
        "    else:\n",
        "      with ZipFile(fileName, 'r') as unzip:\n",
        "        unzip.extractall()\n",
        "        print('Final Extractall')\n",
        "        break"
      ],
      "execution_count": 0,
      "outputs": []
    },
    {
      "cell_type": "code",
      "metadata": {
        "id": "aKipmFuRHKr0",
        "colab_type": "code",
        "colab": {
          "base_uri": "https://localhost:8080/",
          "height": 52
        },
        "outputId": "3752f8ed-4f81-4557-a28b-59d086ca12c1"
      },
      "source": [
        "get_and_unzip(url, 'chromedriver_linux64.zip',False)"
      ],
      "execution_count": 86,
      "outputs": [
        {
          "output_type": "stream",
          "text": [
            "200\n",
            "Final Extractall\n"
          ],
          "name": "stdout"
        }
      ]
    },
    {
      "cell_type": "code",
      "metadata": {
        "id": "-HEacpj0a78e",
        "colab_type": "code",
        "colab": {}
      },
      "source": [
        ""
      ],
      "execution_count": 0,
      "outputs": []
    }
  ]
}