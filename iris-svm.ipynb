{
  "nbformat": 4,
  "nbformat_minor": 0,
  "metadata": {
    "colab": {
      "name": "Untitled22.ipynb",
      "version": "0.3.2",
      "provenance": [],
      "include_colab_link": true
    },
    "kernelspec": {
      "name": "python3",
      "display_name": "Python 3"
    }
  },
  "cells": [
    {
      "cell_type": "markdown",
      "metadata": {
        "id": "view-in-github",
        "colab_type": "text"
      },
      "source": [
        "<a href=\"https://colab.research.google.com/github/redman157/HocML/blob/master/iris-svm.ipynb\" target=\"_parent\"><img src=\"https://colab.research.google.com/assets/colab-badge.svg\" alt=\"Open In Colab\"/></a>"
      ]
    },
    {
      "metadata": {
        "id": "DrSJ9rK8Qol0",
        "colab_type": "code",
        "colab": {
          "base_uri": "https://localhost:8080/",
          "height": 88
        },
        "outputId": "50d8705b-5b91-4f99-8c58-055a6afadebe"
      },
      "cell_type": "code",
      "source": [
        "from __future__ import division, print_function\n",
        "import pandas as pd\n",
        "import os \n",
        "import numpy as np\n",
        "import requests\n",
        "import matplotlib.pyplot as plt\n",
        "import matplotlib.gridspec as gridspec\n",
        "import seaborn as sns\n",
        "from scipy.stats import norm\n",
        "from scipy import stats \n",
        "\n",
        "\n",
        "\n",
        "datasets = \"https://archive.ics.uci.edu/ml/machine-learning-databases/iris/iris.data\"\n",
        "name = ['SepalLength','SepalWidth','PetalLength','PetalWidth','Species']\n",
        "def download_data(path):\n",
        "  filename = (path.split('/')[-1])\n",
        "  dir = os.path.join(os.path.abspath(os.path.dirname(filename)))\n",
        "  r = requests.get(path,allow_redirects=True, stream = True,verify = False)\n",
        "  if r.status_code == 200:    \n",
        "    with open(dir + '/' + filename ,'wb') as f:\n",
        "      f.write(r.content)\n",
        "download_data(datasets)\n",
        "print(os.path.join(datasets + '.csv'))\n",
        "iris = pd.read_csv(datasets,names = name)"
      ],
      "execution_count": 20,
      "outputs": [
        {
          "output_type": "stream",
          "text": [
            "/usr/local/lib/python3.6/dist-packages/urllib3/connectionpool.py:858: InsecureRequestWarning: Unverified HTTPS request is being made. Adding certificate verification is strongly advised. See: https://urllib3.readthedocs.io/en/latest/advanced-usage.html#ssl-warnings\n",
            "  InsecureRequestWarning)\n"
          ],
          "name": "stderr"
        },
        {
          "output_type": "stream",
          "text": [
            "https://archive.ics.uci.edu/ml/machine-learning-databases/iris/iris.data.csv\n"
          ],
          "name": "stdout"
        }
      ]
    },
    {
      "metadata": {
        "id": "FD_he4SMQ35m",
        "colab_type": "code",
        "colab": {}
      },
      "cell_type": "code",
      "source": [
        "data = iris.drop('Species',axis = 1 )\n",
        "target = iris['Species']\n"
      ],
      "execution_count": 0,
      "outputs": []
    },
    {
      "metadata": {
        "id": "1J_UaQAGRLHK",
        "colab_type": "code",
        "colab": {
          "base_uri": "https://localhost:8080/",
          "height": 382
        },
        "outputId": "b878a189-3dcb-40e8-b293-9ab72317c759"
      },
      "cell_type": "code",
      "source": [
        "fig = plt.figure()\n",
        "res = stats.probplot(iris.SepalLength,plot= plt)"
      ],
      "execution_count": 30,
      "outputs": [
        {
          "output_type": "display_data",
          "data": {
            "image/png": "[encoded data removed]",
            "text/plain": [
              "<matplotlib.figure.Figure at 0x7fd32423b710>"
            ]
          },
          "metadata": {
            "tags": []
          }
        }
      ]
    },
    {
      "metadata": {
        "id": "pWiT6hEiSjbG",
        "colab_type": "code",
        "colab": {
          "base_uri": "https://localhost:8080/",
          "height": 34
        },
        "outputId": "d91a2e0a-1d4f-4c35-f405-0992b8f88215"
      },
      "cell_type": "code",
      "source": [
        "epoch = data.shape[0]\n",
        "X = data[:]\n",
        "y = target\n",
        "w = [4,]"
      ],
      "execution_count": 37,
      "outputs": [
        {
          "output_type": "execute_result",
          "data": {
            "text/plain": [
              "(150, 4)"
            ]
          },
          "metadata": {
            "tags": []
          },
          "execution_count": 37
        }
      ]
    },
    {
      "metadata": {
        "id": "vU3mZC_GZZoF",
        "colab_type": "code",
        "colab": {}
      },
      "cell_type": "code",
      "source": [
        "y_pred = []\n",
        "for i in range(epoch):\n",
        "  pred = np.dot(X[i],w)\n",
        "  correct_class_pred = pred[y[i]]\n",
        "  count = 0\n",
        "  for j in range(w.shape[1]):\n",
        "    # nếu thứ tự j == thứ tự y[i]\n",
        "    # vi du 1 = 1\n",
        "    if j == y[i]:\n",
        "      continue\n",
        "    magin = pred[j] - correct_class_pred + 1\n",
        "    # magin = y - pred + lamda\n",
        "    if(magin > 0):\n",
        "      count += 1\n",
        "      loss+= magin\n",
        "      w[:,j] += "
      ],
      "execution_count": 0,
      "outputs": []
    }
  ]
}