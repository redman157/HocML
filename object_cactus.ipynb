{
  "nbformat": 4,
  "nbformat_minor": 0,
  "metadata": {
    "colab": {
      "name": "Kaggle API access example.ipynb",
      "version": "0.3.2",
      "provenance": [],
      "collapsed_sections": [],
      "toc_visible": true,
      "include_colab_link": true
    },
    "kernelspec": {
      "name": "python3",
      "display_name": "Python 3"
    },
    "accelerator": "GPU"
  },
  "cells": [
    {
      "cell_type": "markdown",
      "metadata": {
        "id": "view-in-github",
        "colab_type": "text"
      },
      "source": [
        "<a href=\"https://colab.research.google.com/github/redman157/HocML/blob/master/object_cactus.ipynb\" target=\"_parent\"><img src=\"https://colab.research.google.com/assets/colab-badge.svg\" alt=\"Open In Colab\"/></a>"
      ]
    },
    {
      "metadata": {
        "id": "akJ8fvsfGVdn",
        "colab_type": "code",
        "outputId": "5a1d9c4a-cd1a-4e57-ed8f-81a3a2538b2a",
        "colab": {
          "resources": {
            "http://localhost:8080/nbextensions/google.colab/files.js": {
              "data": "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",
              "ok": true,
              "headers": [
                [
                  "content-type",
                  "application/javascript"
                ]
              ],
              "status": 200,
              "status_text": ""
            }
          },
          "base_uri": "https://localhost:8080/",
          "height": 91
        }
      },
      "cell_type": "code",
      "source": [
        "# Run this cell and select the kaggle.json file downloaded\n",
        "# from the Kaggle account settings page.\n",
        "from google.colab import files\n",
        "files.upload()"
      ],
      "execution_count": 1,
      "outputs": [
        {
          "output_type": "display_data",
          "data": {
            "text/html": [
              "\n",
              "     <input type=\"file\" id=\"files-5164ef27-0c62-4b61-8455-2ab01ccd5aff\" name=\"files[]\" multiple disabled />\n",
              "     <output id=\"result-5164ef27-0c62-4b61-8455-2ab01ccd5aff\">\n",
              "      Upload widget is only available when the cell has been executed in the\n",
              "      current browser session. Please rerun this cell to enable.\n",
              "      </output>\n",
              "      <script src=\"/nbextensions/google.colab/files.js\"></script> "
            ],
            "text/plain": [
              "<IPython.core.display.HTML object>"
            ]
          },
          "metadata": {
            "tags": []
          }
        },
        {
          "output_type": "stream",
          "text": [
            "Saving kaggle.json to kaggle.json\n"
          ],
          "name": "stdout"
        },
        {
          "output_type": "execute_result",
          "data": {
            "text/plain": [
              "{'kaggle.json': b'{\"username\":\"pson2900\",\"key\":\"977eb592f0fe57a4c97e7d050cf9c637\"}'}"
            ]
          },
          "metadata": {
            "tags": []
          },
          "execution_count": 1
        }
      ]
    },
    {
      "metadata": {
        "id": "cDLXrqcNGlU7",
        "colab_type": "code",
        "outputId": "1a596f83-950c-41e4-adbe-9e991b6f9342",
        "colab": {
          "base_uri": "https://localhost:8080/",
          "height": 428
        }
      },
      "cell_type": "code",
      "source": [
        "# Let's make sure the kaggle.json file is present.\n",
        "!ls -lha kaggle.json\n",
        "# Next, install the Kaggle API client.\n",
        "!pip install -q kaggle\n",
        "# The Kaggle API client expects this file to be in ~/.kaggle,\n",
        "# so move it there.\n",
        "!mkdir -p ~/.kaggle\n",
        "!cp kaggle.json ~/.kaggle/\n",
        "\n",
        "# This permissions change avoids a warning on Kaggle tool startup.\n",
        "!chmod 600 ~/.kaggle/kaggle.json\n",
        "# List available datasets.\n",
        "!kaggle datasets list"
      ],
      "execution_count": 2,
      "outputs": [
        {
          "output_type": "stream",
          "text": [
            "-rw-r--r-- 1 root root 64 Apr 24 06:59 kaggle.json\n",
            "ref                                                          title                                                size  lastUpdated          downloadCount  \n",
            "-----------------------------------------------------------  --------------------------------------------------  -----  -------------------  -------------  \n",
            "ronitf/heart-disease-uci                                     Heart Disease UCI                                     3KB  2018-06-25 11:33:56          33642  \n",
            "karangadiya/fifa19                                           FIFA 19 complete player dataset                       2MB  2018-12-21 03:52:59          24211  \n",
            "russellyates88/suicide-rates-overview-1985-to-2016           Suicide Rates Overview 1985 to 2016                 396KB  2018-12-01 19:18:25          23516  \n",
            "mohansacharya/graduate-admissions                            Graduate Admissions                                   9KB  2018-12-28 10:07:14          19976  \n",
            "lava18/google-play-store-apps                                Google Play Store Apps                                2MB  2019-02-03 13:55:47          50891  \n",
            "iarunava/cell-images-for-detecting-malaria                   Malaria Cell Images Dataset                         337MB  2018-12-05 05:40:21           4968  \n",
            "bigquery/crypto-ethereum-classic                             Ethereum Classic Blockchain                          70GB  2019-03-20 23:21:25              0  \n",
            "cityofLA/los-angeles-parking-citations                       Los Angeles Parking Citations                       259MB  2019-04-23 22:19:53           3385  \n",
            "jessicali9530/stanford-dogs-dataset                          Stanford Dogs Dataset                               735MB  2019-02-13 05:45:25           2943  \n",
            "rmisra/news-headlines-dataset-for-sarcasm-detection          News Headlines Dataset For Sarcasm Detection          2MB  2018-06-09 22:14:56           2836  \n",
            "safegraph/visit-patterns-by-census-block-group               Consumer & Visitor Insights For Neighborhoods        66MB  2018-12-19 21:31:50           1519  \n",
            "fivethirtyeight/fivethirtyeight-comic-characters-dataset     FiveThirtyEight Comic Characters Dataset            577KB  2019-03-26 15:01:15           2500  \n",
            "anokas/kuzushiji                                             Kuzushiji-MNIST                                     318MB  2018-12-17 01:19:31            863  \n",
            "safegraph/census-block-group-american-community-survey-data  Census Block Group American Community Survey Data     2GB  2018-12-22 00:29:56            797  \n",
            "noriuk/us-education-datasets-unification-project             U.S. Education Datasets: Unification Project         85MB  2019-03-02 18:41:52           3731  \n",
            "jessicali9530/celeba-dataset                                 CelebFaces Attributes (CelebA) Dataset                1GB  2018-06-01 20:08:48           7030  \n",
            "vjchoudhary7/customer-segmentation-tutorial-in-python        Mall Customer Segmentation Data                       2KB  2018-08-11 07:23:02           7880  \n",
            "jutrera/stanford-car-dataset-by-classes-folder               Stanford Car Dataset by classes folder                2GB  2018-07-02 07:35:45           2960  \n",
            "pavansanagapati/urban-sound-classification                   Urban Sound Classification                            6GB  2018-06-16 13:44:36           2440  \n",
            "xvivancos/barcelona-data-sets                                Barcelona data sets                                   1MB  2018-12-13 14:16:53           4054  \n"
          ],
          "name": "stdout"
        }
      ]
    },
    {
      "metadata": {
        "id": "0hyJ4Rb5HMwH",
        "colab_type": "code",
        "outputId": "ecfed1e1-85a9-4ba9-edad-3462f78e3138",
        "colab": {
          "base_uri": "https://localhost:8080/",
          "height": 85
        }
      },
      "cell_type": "code",
      "source": [
        "!kaggle competitions download -c aerial-cactus-identification"
      ],
      "execution_count": 4,
      "outputs": [
        {
          "output_type": "stream",
          "text": [
            "train.csv: Skipping, found more recently modified local copy (use --force to force download)\n",
            "sample_submission.csv: Skipping, found more recently modified local copy (use --force to force download)\n",
            "test.zip: Skipping, found more recently modified local copy (use --force to force download)\n",
            "train.zip: Skipping, found more recently modified local copy (use --force to force download)\n"
          ],
          "name": "stdout"
        }
      ]
    },
    {
      "metadata": {
        "id": "mYDb3sPoKvWd",
        "colab_type": "code",
        "colab": {
          "base_uri": "https://localhost:8080/",
          "height": 51
        },
        "outputId": "29114fc5-f6ab-4516-8fae-f4986ad0488c"
      },
      "cell_type": "code",
      "source": [
        "!unzip train.zip -d destination_folder >& /dev/null\n",
        "!unzip test.zip -d destination_folder >& /dev/nullz"
      ],
      "execution_count": 19,
      "outputs": [
        {
          "output_type": "stream",
          "text": [
            "N\n",
            "N\n"
          ],
          "name": "stdout"
        }
      ]
    },
    {
      "metadata": {
        "id": "688QlLIwKnLK",
        "colab_type": "code",
        "colab": {}
      },
      "cell_type": "code",
      "source": [
        "import pandas as pd\n",
        "import numpy as np\n",
        "import os, sys\n",
        "import pickle\n",
        "import cv2 \n",
        "import matplotlib.pyplot as plt\n",
        "from keras.preprocessing.image import load_img\n",
        "from PIL import Image\n",
        "from keras.preprocessing import image\n",
        "\n",
        "labels = pd.read_csv('train.csv')\n",
        "img_train = os.path.join('destination_folder/train')\n",
        "img_test  = os.path.join('destination_folder/test/')\n"
      ],
      "execution_count": 0,
      "outputs": []
    },
    {
      "metadata": {
        "id": "M5QAF69IG1Ne",
        "colab_type": "text"
      },
      "cell_type": "markdown",
      "source": [
        "# LOAD AND READ IMAGE"
      ]
    },
    {
      "metadata": {
        "id": "HlsPfSqorwze",
        "colab_type": "code",
        "colab": {}
      },
      "cell_type": "code",
      "source": [
        "img_df_train = [item for item in img_train]\n",
        "img_df_test = [item for item in img_test]"
      ],
      "execution_count": 0,
      "outputs": []
    },
    {
      "metadata": {
        "id": "CVkYo-MPAx1y",
        "colab_type": "code",
        "colab": {}
      },
      "cell_type": "code",
      "source": [
        "def load_file(fileNames):\n",
        "  return [os.path.join(fileNames,fileName) for fileName in os.listdir(fileNames)]\n",
        "def resize(img):\n",
        "  return cv2.resize(img , (32,32) , interpolation = cv2.INTER_AREA)"
      ],
      "execution_count": 0,
      "outputs": []
    },
    {
      "metadata": {
        "id": "bBGT3sY5EDN8",
        "colab_type": "code",
        "colab": {}
      },
      "cell_type": "code",
      "source": [
        "train_path = load_file(img_train)\n",
        "test_path = load_file(img_test)"
      ],
      "execution_count": 0,
      "outputs": []
    },
    {
      "metadata": {
        "id": "N4IobwmLVxo2",
        "colab_type": "code",
        "outputId": "dccb74bf-e218-42e0-f0c5-279a13dfa90e",
        "colab": {
          "base_uri": "https://localhost:8080/",
          "height": 286
        }
      },
      "cell_type": "code",
      "source": [
        "im= Image.open(train_path[0])\n",
        "plt.imshow(im)"
      ],
      "execution_count": 42,
      "outputs": [
        {
          "output_type": "execute_result",
          "data": {
            "text/plain": [
              "<matplotlib.image.AxesImage at 0x7fd025f74c50>"
            ]
          },
          "metadata": {
            "tags": []
          },
          "execution_count": 42
        },
        {
          "output_type": "display_data",
          "data": {
            "image/png": "[encoded data removed]",
            "text/plain": [
              "<Figure size 432x288 with 1 Axes>"
            ]
          },
          "metadata": {
            "tags": []
          }
        }
      ]
    },
    {
      "metadata": {
        "id": "wJMjztwqG4If",
        "colab_type": "text"
      },
      "cell_type": "markdown",
      "source": [
        "# PREPROCESSING IMAGE"
      ]
    },
    {
      "metadata": {
        "id": "-m6rWZsWBc0e",
        "colab_type": "code",
        "colab": {}
      },
      "cell_type": "code",
      "source": [
        "X_train = [resize(plt.imread(train_path)) for train_path in train_path]\n",
        "X_test = [resize(plt.imread(test_path)) for test_path in test_path]\n",
        "X_train = np.asarray(X_train)\n",
        "X_test = np.asarray(X_test)\n"
      ],
      "execution_count": 0,
      "outputs": []
    },
    {
      "metadata": {
        "id": "mqCOfi0AUeXY",
        "colab_type": "code",
        "colab": {}
      },
      "cell_type": "code",
      "source": [
        "def save_data(file, fileName):\n",
        "  with open(fileName, 'wb') as f:\n",
        "    pickle.dump(file,f)\n",
        "  f.close()\n",
        "def open_data(file):\n",
        "  with open(file,'rb') as f:\n",
        "    file = pickle.load(f)\n",
        "  return file"
      ],
      "execution_count": 0,
      "outputs": []
    },
    {
      "metadata": {
        "id": "-I983jjqUhJ0",
        "colab_type": "code",
        "colab": {
          "base_uri": "https://localhost:8080/",
          "height": 180
        },
        "outputId": "279a4875-e120-4667-e69a-264a9d33f4b9"
      },
      "cell_type": "code",
      "source": [
        "save_data(X_train,\"trainDf\")\n",
        "save_data(X_test,\"testDf\")"
      ],
      "execution_count": 45,
      "outputs": [
        {
          "output_type": "error",
          "ename": "NameError",
          "evalue": "ignored",
          "traceback": [
            "\u001b[0;31m---------------------------------------------------------------------------\u001b[0m",
            "\u001b[0;31mNameError\u001b[0m                                 Traceback (most recent call last)",
            "\u001b[0;32m<ipython-input-45-26f196026e3b>\u001b[0m in \u001b[0;36m<module>\u001b[0;34m()\u001b[0m\n\u001b[0;32m----> 1\u001b[0;31m \u001b[0mave_data\u001b[0m\u001b[0;34m(\u001b[0m\u001b[0mX_train\u001b[0m\u001b[0;34m,\u001b[0m\u001b[0;34m\"trainDf\"\u001b[0m\u001b[0;34m)\u001b[0m\u001b[0;34m\u001b[0m\u001b[0;34m\u001b[0m\u001b[0m\n\u001b[0m\u001b[1;32m      2\u001b[0m \u001b[0msave_data\u001b[0m\u001b[0;34m(\u001b[0m\u001b[0mX_test\u001b[0m\u001b[0;34m,\u001b[0m\u001b[0;34m\"testDf\"\u001b[0m\u001b[0;34m)\u001b[0m\u001b[0;34m\u001b[0m\u001b[0;34m\u001b[0m\u001b[0m\n",
            "\u001b[0;31mNameError\u001b[0m: name 'ave_data' is not defined"
          ]
        }
      ]
    },
    {
      "metadata": {
        "id": "z9fo2vJTUmCQ",
        "colab_type": "code",
        "colab": {}
      },
      "cell_type": "code",
      "source": [
        "file_train = open_data(\"trainDf\")\n",
        "file_test = open_data(\"testDf\")\n"
      ],
      "execution_count": 0,
      "outputs": []
    },
    {
      "metadata": {
        "id": "-kbohwGiCvW2",
        "colab_type": "code",
        "outputId": "103f4ce3-e77e-46b2-877a-7ff2a5e72e97",
        "colab": {
          "base_uri": "https://localhost:8080/",
          "height": 505
        }
      },
      "cell_type": "code",
      "source": [
        "labels = pd.read_csv('train.csv')\n",
        "fig = plt.figure(figsize= (25,8))\n",
        "train_imgs = os.listdir('destination_folder/train/')\n",
        "for index, img in enumerate(np.random.choice(train_imgs, 20)):\n",
        "  ax = fig.add_subplot(4, 5, index+1, xticks =[], yticks =[])\n",
        "  im = Image.open('destination_folder/train/'+img)\n",
        "  plt.imshow(im)\n",
        "  lab = labels.loc[labels['id']== img,'has_cactus'].values[0]\n",
        "  ax.set_title(f'Label: {lab}')\n",
        "\n",
        "  "
      ],
      "execution_count": 74,
      "outputs": [
        {
          "output_type": "display_data",
          "data": {
            "image/png": "[encoded data removed]",
            "text/plain": [
              "<Figure size 1800x576 with 20 Axes>"
            ]
          },
          "metadata": {
            "tags": []
          }
        }
      ]
    },
    {
      "metadata": {
        "id": "mLfQxQg-BgZo",
        "colab_type": "code",
        "colab": {}
      },
      "cell_type": "code",
      "source": [
        "y_lab = labels['id'].values"
      ],
      "execution_count": 0,
      "outputs": []
    },
    {
      "metadata": {
        "id": "S1VP3X13izF7",
        "colab_type": "code",
        "colab": {}
      },
      "cell_type": "code",
      "source": [
        "for idx,img in enumerate(y_lab):\n",
        "  print(img)"
      ],
      "execution_count": 0,
      "outputs": []
    },
    {
      "metadata": {
        "id": "7BCeHfGPiJhu",
        "colab_type": "code",
        "colab": {}
      },
      "cell_type": "code",
      "source": [
        "for idx,img in enumerate(y_lab):\n",
        "  print(img[0])"
      ],
      "execution_count": 0,
      "outputs": []
    },
    {
      "metadata": {
        "id": "Z72e-26BYrSB",
        "colab_type": "code",
        "colab": {}
      },
      "cell_type": "code",
      "source": [
        "X_tr =[]\n",
        "y_tr =[]\n",
        "for idx,img in enumerate(y_lab):\n",
        "  X_tr.append(cv2.imread('destination_folder/train/' + img))\n",
        "  y_tr.append(labels[labels['id']== img]['has_cactus'].values[0])\n",
        "X_tr = np.asarray(X_tr)\n",
        "X_tr = X_tr.astype('float32')\n",
        "X_tr /= 255\n",
        "y_tr = np.asarray(y_tr)"
      ],
      "execution_count": 0,
      "outputs": []
    },
    {
      "metadata": {
        "id": "ihGG1xk6Zd28",
        "colab_type": "code",
        "colab": {
          "base_uri": "https://localhost:8080/",
          "height": 850
        },
        "outputId": "a265ba67-4a45-4a15-9782-a373bb3538ff"
      },
      "cell_type": "code",
      "source": [
        "print(X_tr[0])"
      ],
      "execution_count": 122,
      "outputs": [
        {
          "output_type": "stream",
          "text": [
            "[[[0.49019608 0.5411765  0.53333336]\n",
            "  [0.48235294 0.53333336 0.5254902 ]\n",
            "  [0.54901963 0.5803922  0.5803922 ]\n",
            "  ...\n",
            "  [0.5294118  0.5058824  0.59607846]\n",
            "  [0.50980395 0.49019608 0.57254905]\n",
            "  [0.54901963 0.5294118  0.6117647 ]]\n",
            "\n",
            " [[0.44313726 0.49411765 0.4862745 ]\n",
            "  [0.5882353  0.6392157  0.6313726 ]\n",
            "  [0.5921569  0.62352943 0.62352943]\n",
            "  ...\n",
            "  [0.57254905 0.54901963 0.6392157 ]\n",
            "  [0.5137255  0.49411765 0.5764706 ]\n",
            "  [0.5058824  0.4862745  0.5686275 ]]\n",
            "\n",
            " [[0.5882353  0.6392157  0.6313726 ]\n",
            "  [0.58431375 0.63529414 0.627451  ]\n",
            "  [0.5921569  0.62352943 0.62352943]\n",
            "  ...\n",
            "  [0.5254902  0.5058824  0.5882353 ]\n",
            "  [0.5686275  0.54901963 0.6313726 ]\n",
            "  [0.44313726 0.42352942 0.5058824 ]]\n",
            "\n",
            " ...\n",
            "\n",
            " [[0.47843137 0.43529412 0.5372549 ]\n",
            "  [0.7137255  0.67058825 0.77254903]\n",
            "  [0.37254903 0.33333334 0.42352942]\n",
            "  ...\n",
            "  [0.5764706  0.5176471  0.62352943]\n",
            "  [0.5294118  0.4627451  0.5686275 ]\n",
            "  [0.57254905 0.5058824  0.6117647 ]]\n",
            "\n",
            " [[0.5294118  0.4862745  0.5882353 ]\n",
            "  [0.6039216  0.56078434 0.6627451 ]\n",
            "  [0.5372549  0.4862745  0.5882353 ]\n",
            "  ...\n",
            "  [0.6156863  0.54509807 0.65882355]\n",
            "  [0.56078434 0.48235294 0.59607846]\n",
            "  [0.56078434 0.48235294 0.59607846]]\n",
            "\n",
            " [[0.65882355 0.6156863  0.7176471 ]\n",
            "  [0.39215687 0.34901962 0.4509804 ]\n",
            "  [0.59607846 0.54509807 0.64705884]\n",
            "  ...\n",
            "  [0.65882355 0.5882353  0.7019608 ]\n",
            "  [0.52156866 0.44313726 0.5568628 ]\n",
            "  [0.50980395 0.43137255 0.54509807]]]\n"
          ],
          "name": "stdout"
        }
      ]
    },
    {
      "metadata": {
        "id": "H2aCrRWeakkw",
        "colab_type": "code",
        "colab": {}
      },
      "cell_type": "code",
      "source": [
        "from keras.preprocessing import image\n",
        "from keras import optimizers\n",
        "from keras import layers,models\n",
        "from keras.applications.imagenet_utils import preprocess_input\n",
        "import matplotlib.pyplot as plt\n",
        "import seaborn as sns\n",
        "from keras import regularizers\n",
        "from keras.preprocessing.image import ImageDataGenerator\n",
        "from keras.applications.vgg16 import VGG16\n",
        "from keras.optimizers import Adam\n",
        "from keras.models import Sequential\n",
        "from keras.losses import binary_crossentropy, categorical_crossentropy\n",
        "from keras.layers import Conv2D, MaxPooling2D, Dropout, Flatten, BatchNormalization, Activation, Dense"
      ],
      "execution_count": 0,
      "outputs": []
    },
    {
      "metadata": {
        "id": "RJvYLzaWpUr4",
        "colab_type": "code",
        "colab": {
          "base_uri": "https://localhost:8080/",
          "height": 51
        },
        "outputId": "510117cd-6631-43e2-8ff6-a014e96480a4"
      },
      "cell_type": "code",
      "source": [
        "print(X_tr.shape)\n",
        "print(y_tr.shape)"
      ],
      "execution_count": 143,
      "outputs": [
        {
          "output_type": "stream",
          "text": [
            "(17500, 32, 32, 3)\n",
            "(17500,)\n"
          ],
          "name": "stdout"
        }
      ]
    },
    {
      "metadata": {
        "id": "msyhMa6SSFq6",
        "colab_type": "code",
        "colab": {}
      },
      "cell_type": "code",
      "source": [
        "def build_model():\n",
        "  model = Sequential()\n",
        "  model.add(Conv2D(64, input_shape=(32,32,3), kernel_size=(3,3), strides=2, padding='same'))\n",
        "  model.add(MaxPooling2D((2,2), strides=2, padding='same'))\n",
        "  model.add(BatchNormalization())\n",
        "  model.add(Activation('relu'))\n",
        "  \n",
        "  model.add(Conv2D(128, (3,3), strides=1,padding='same'))\n",
        "  model.add(MaxPooling2D((2,2), strides=2, padding='same'))\n",
        "  model.add(BatchNormalization())\n",
        "  model.add(Activation('relu'))\n",
        "  \n",
        "  model.add(Conv2D(256, (3,3), strides=1,padding='same'))\n",
        "  model.add(MaxPooling2D((2,2), strides=2 , padding='same'))\n",
        "  model.add(BatchNormalization())\n",
        "  model.add(Activation('relu'))\n",
        "            \n",
        "  model.add(Conv2D(512, (3,3), strides=1,padding='same'))\n",
        "  model.add(MaxPooling2D((2,2), strides=2 , padding='same'))\n",
        "  model.add(BatchNormalization())\n",
        "  model.add(Activation('relu'))\n",
        "\n",
        "  \n",
        "  model.add(Flatten())\n",
        "  model.add(Dense(256, activation = 'relu'))\n",
        "  model.add(Dropout(0.4))\n",
        "  model.add(Dense(128, activation = 'relu'))\n",
        "  model.add(Dropout(0.4))\n",
        "  model.add(Dense(64, activation = 'relu'))\n",
        "  model.add(Dropout(0.4))\n",
        "  model.add(Dense(32, activation = 'relu'))\n",
        "  model.add(Dropout(0.4))\n",
        "  model.add(Dense(1, activation = 'sigmoid'))\n",
        "  \n",
        "  return model"
      ],
      "execution_count": 0,
      "outputs": []
    },
    {
      "metadata": {
        "id": "XuzC1Wv9bTKp",
        "colab_type": "code",
        "colab": {}
      },
      "cell_type": "code",
      "source": [
        "vgg16_net = VGG16(weights='imagenet', \n",
        "                  include_top=False, \n",
        "                  input_shape=(32, 32, 3))\n",
        "vgg16_net.trainable = False\n"
      ],
      "execution_count": 0,
      "outputs": []
    },
    {
      "metadata": {
        "id": "jozsK4x0bfbi",
        "colab_type": "code",
        "colab": {}
      },
      "cell_type": "code",
      "source": [
        "model1 = Sequential()\n",
        "model1.add(vgg16_net)\n",
        "model1.add(Flatten())\n",
        "model1.add(Dense(256))\n",
        "model1.add(Activation('relu'))\n",
        "model1.add(Dropout(0.5))\n",
        "model1.add(Dense(1))\n",
        "model1.add(Activation('sigmoid'))\n",
        "model1.compile(loss='binary_crossentropy',\n",
        "              optimizer=Adam(lr=1e-5), \n",
        "              metrics=['accuracy'])"
      ],
      "execution_count": 0,
      "outputs": []
    },
    {
      "metadata": {
        "id": "-jhNQk35bho2",
        "colab_type": "code",
        "colab": {}
      },
      "cell_type": "code",
      "source": [
        "model.fit(X_tr,y_tr, validation_split=0.1, batch_size = 128, epochs=50, verbose= 2, shuffle=True)"
      ],
      "execution_count": 0,
      "outputs": []
    },
    {
      "metadata": {
        "id": "TLXr3diWW26y",
        "colab_type": "code",
        "colab": {}
      },
      "cell_type": "code",
      "source": [
        "def VGGnet_16():\n",
        "    model = Sequential()\n",
        "    \n",
        "    model.add(Conv2D(64, (3, 3), input_shape=(32,32,3), padding='same', activation='relu'))\n",
        "    model.add(Conv2D(64, (3, 3), activation='relu', padding='same'))\n",
        "    model.add(MaxPooling2D(pool_size=(2, 2), strides=(2, 2)))\n",
        "    model.add(BatchNormalization())\n",
        "    model.add(Dropout(0.4))\n",
        "    \n",
        "    model.add(Conv2D(128, (3, 3), activation='relu', padding='same'))\n",
        "    model.add(Conv2D(128, (3, 3), activation='relu', padding='same'))\n",
        "    model.add(MaxPooling2D(pool_size=(2, 2), strides=(2, 2)))\n",
        "    model.add(BatchNormalization())\n",
        "    model.add(Dropout(0.4))\n",
        "    \n",
        "    model.add(Conv2D(256, (3, 3), activation='relu', padding='same'))\n",
        "    model.add(Conv2D(256, (3, 3), activation='relu', padding='same'))\n",
        "    model.add(Conv2D(256, (3, 3), activation='relu', padding='same'))\n",
        "    model.add(MaxPooling2D(pool_size=(2, 2), strides=(2, 2)))\n",
        "    model.add(BatchNormalization())\n",
        "    model.add(Dropout(0.4))\n",
        "    \n",
        "    \n",
        "    model.add(Conv2D(512, (3, 3), activation='relu', padding='same'))\n",
        "    model.add(Conv2D(512, (3, 3), activation='relu', padding='same'))\n",
        "    model.add(Conv2D(512, (3, 3), activation='relu', padding='same'))\n",
        "    model.add(MaxPooling2D(pool_size=(2, 2), strides=(2, 2)))\n",
        "    model.add(BatchNormalization())\n",
        "    model.add(Dropout(0.4))\n",
        "    \n",
        "    model.add(Flatten())\n",
        "    model.add(Dense(256, activation='relu'))\n",
        "    model.add(Dropout(0.5))\n",
        "    model.add(Dense(64, activation='relu'))\n",
        "    model.add(Dropout(0.5))\n",
        "    model.add(Dense(1, activation='sigmoid'))\n",
        "    return model"
      ],
      "execution_count": 0,
      "outputs": []
    },
    {
      "metadata": {
        "id": "LPtAosBdOPDh",
        "colab_type": "code",
        "outputId": "3df18572-91a9-4f53-d743-75dac00d5315",
        "colab": {
          "base_uri": "https://localhost:8080/",
          "height": 1751
        }
      },
      "cell_type": "code",
      "source": [
        "model = build_model()\n",
        "model.compile(loss= 'binary_crossentropy',\n",
        "              optimizer = optimizers.adam(lr= 0.0001),\n",
        "             metrics=['accuracy'])\n",
        "model.fit(X_tr,y_tr, validation_split=0.1, batch_size = 64, epochs=50, verbose= 2, shuffle=True)"
      ],
      "execution_count": 155,
      "outputs": [
        {
          "output_type": "stream",
          "text": [
            "Train on 15750 samples, validate on 1750 samples\n",
            "Epoch 1/50\n",
            " - 11s - loss: 0.4144 - acc: 0.7903 - val_loss: 0.1924 - val_acc: 0.9417\n",
            "Epoch 2/50\n",
            " - 3s - loss: 0.1522 - acc: 0.9448 - val_loss: 0.0731 - val_acc: 0.9754\n",
            "Epoch 3/50\n",
            " - 3s - loss: 0.0902 - acc: 0.9686 - val_loss: 0.0659 - val_acc: 0.9783\n",
            "Epoch 4/50\n",
            " - 3s - loss: 0.0645 - acc: 0.9815 - val_loss: 0.0468 - val_acc: 0.9846\n",
            "Epoch 5/50\n",
            " - 3s - loss: 0.0479 - acc: 0.9865 - val_loss: 0.1671 - val_acc: 0.9640\n",
            "Epoch 6/50\n",
            " - 3s - loss: 0.0359 - acc: 0.9895 - val_loss: 0.0935 - val_acc: 0.9817\n",
            "Epoch 7/50\n",
            " - 3s - loss: 0.0277 - acc: 0.9935 - val_loss: 0.0725 - val_acc: 0.9829\n",
            "Epoch 8/50\n",
            " - 3s - loss: 0.0219 - acc: 0.9948 - val_loss: 0.0581 - val_acc: 0.9846\n",
            "Epoch 9/50\n",
            " - 3s - loss: 0.0233 - acc: 0.9929 - val_loss: 0.0712 - val_acc: 0.9823\n",
            "Epoch 10/50\n",
            " - 3s - loss: 0.0157 - acc: 0.9957 - val_loss: 0.0762 - val_acc: 0.9834\n",
            "Epoch 11/50\n",
            " - 3s - loss: 0.0177 - acc: 0.9952 - val_loss: 0.0696 - val_acc: 0.9863\n",
            "Epoch 12/50\n",
            " - 3s - loss: 0.0424 - acc: 0.9883 - val_loss: 0.0418 - val_acc: 0.9891\n",
            "Epoch 13/50\n",
            " - 3s - loss: 0.0131 - acc: 0.9966 - val_loss: 0.0444 - val_acc: 0.9903\n",
            "Epoch 14/50\n",
            " - 3s - loss: 0.0097 - acc: 0.9975 - val_loss: 0.0495 - val_acc: 0.9886\n",
            "Epoch 15/50\n",
            " - 3s - loss: 0.0103 - acc: 0.9969 - val_loss: 0.0490 - val_acc: 0.9880\n",
            "Epoch 16/50\n",
            " - 3s - loss: 0.0090 - acc: 0.9975 - val_loss: 0.0517 - val_acc: 0.9891\n",
            "Epoch 17/50\n",
            " - 3s - loss: 0.0096 - acc: 0.9977 - val_loss: 0.0634 - val_acc: 0.9874\n",
            "Epoch 18/50\n",
            " - 3s - loss: 0.0055 - acc: 0.9983 - val_loss: 0.0537 - val_acc: 0.9891\n",
            "Epoch 19/50\n",
            " - 3s - loss: 0.0079 - acc: 0.9975 - val_loss: 0.1144 - val_acc: 0.9806\n",
            "Epoch 20/50\n",
            " - 3s - loss: 0.0104 - acc: 0.9975 - val_loss: 0.2984 - val_acc: 0.9497\n",
            "Epoch 21/50\n",
            " - 3s - loss: 0.0117 - acc: 0.9970 - val_loss: 0.0535 - val_acc: 0.9880\n",
            "Epoch 22/50\n",
            " - 3s - loss: 0.0119 - acc: 0.9967 - val_loss: 0.0685 - val_acc: 0.9846\n",
            "Epoch 23/50\n",
            " - 3s - loss: 0.0050 - acc: 0.9986 - val_loss: 0.0510 - val_acc: 0.9874\n",
            "Epoch 24/50\n",
            " - 3s - loss: 0.0050 - acc: 0.9983 - val_loss: 0.0422 - val_acc: 0.9909\n",
            "Epoch 25/50\n",
            " - 3s - loss: 0.0109 - acc: 0.9978 - val_loss: 0.0620 - val_acc: 0.9874\n",
            "Epoch 26/50\n",
            " - 3s - loss: 0.0136 - acc: 0.9970 - val_loss: 0.0564 - val_acc: 0.9903\n",
            "Epoch 27/50\n",
            " - 3s - loss: 0.0104 - acc: 0.9974 - val_loss: 0.0486 - val_acc: 0.9914\n",
            "Epoch 28/50\n",
            " - 3s - loss: 0.0049 - acc: 0.9989 - val_loss: 0.0514 - val_acc: 0.9897\n",
            "Epoch 29/50\n",
            " - 3s - loss: 0.0044 - acc: 0.9982 - val_loss: 0.0663 - val_acc: 0.9886\n",
            "Epoch 30/50\n",
            " - 3s - loss: 0.0078 - acc: 0.9978 - val_loss: 0.1325 - val_acc: 0.9714\n",
            "Epoch 31/50\n",
            " - 3s - loss: 0.0051 - acc: 0.9980 - val_loss: 0.0985 - val_acc: 0.9817\n",
            "Epoch 32/50\n",
            " - 3s - loss: 0.0055 - acc: 0.9988 - val_loss: 0.0592 - val_acc: 0.9914\n",
            "Epoch 33/50\n",
            " - 3s - loss: 0.0060 - acc: 0.9985 - val_loss: 0.0689 - val_acc: 0.9874\n",
            "Epoch 34/50\n",
            " - 3s - loss: 0.0026 - acc: 0.9993 - val_loss: 0.0450 - val_acc: 0.9914\n",
            "Epoch 35/50\n",
            " - 3s - loss: 0.0045 - acc: 0.9987 - val_loss: 0.0773 - val_acc: 0.9857\n",
            "Epoch 36/50\n",
            " - 3s - loss: 0.0039 - acc: 0.9990 - val_loss: 0.0838 - val_acc: 0.9863\n",
            "Epoch 37/50\n",
            " - 3s - loss: 0.0054 - acc: 0.9987 - val_loss: 0.0504 - val_acc: 0.9897\n",
            "Epoch 38/50\n",
            " - 3s - loss: 0.0032 - acc: 0.9990 - val_loss: 0.0705 - val_acc: 0.9880\n",
            "Epoch 39/50\n",
            " - 3s - loss: 0.0033 - acc: 0.9990 - val_loss: 0.0877 - val_acc: 0.9857\n",
            "Epoch 40/50\n",
            " - 3s - loss: 0.0012 - acc: 0.9997 - val_loss: 0.0389 - val_acc: 0.9937\n",
            "Epoch 41/50\n",
            " - 3s - loss: 0.0082 - acc: 0.9983 - val_loss: 0.0933 - val_acc: 0.9834\n",
            "Epoch 42/50\n",
            " - 3s - loss: 0.0263 - acc: 0.9933 - val_loss: 0.0269 - val_acc: 0.9920\n",
            "Epoch 43/50\n",
            " - 3s - loss: 0.0039 - acc: 0.9986 - val_loss: 0.0287 - val_acc: 0.9897\n",
            "Epoch 44/50\n",
            " - 3s - loss: 0.0089 - acc: 0.9975 - val_loss: 0.0355 - val_acc: 0.9886\n",
            "Epoch 45/50\n",
            " - 3s - loss: 0.0049 - acc: 0.9986 - val_loss: 0.0817 - val_acc: 0.9834\n",
            "Epoch 46/50\n",
            " - 3s - loss: 0.0118 - acc: 0.9969 - val_loss: 0.0395 - val_acc: 0.9891\n",
            "Epoch 47/50\n",
            " - 3s - loss: 0.0031 - acc: 0.9992 - val_loss: 0.0473 - val_acc: 0.9897\n",
            "Epoch 48/50\n",
            " - 3s - loss: 0.0028 - acc: 0.9992 - val_loss: 0.0725 - val_acc: 0.9874\n",
            "Epoch 49/50\n",
            " - 3s - loss: 0.0012 - acc: 0.9996 - val_loss: 0.0528 - val_acc: 0.9926\n",
            "Epoch 50/50\n",
            " - 3s - loss: 0.0027 - acc: 0.9994 - val_loss: 0.0693 - val_acc: 0.9874\n"
          ],
          "name": "stdout"
        },
        {
          "output_type": "execute_result",
          "data": {
            "text/plain": [
              "<keras.callbacks.History at 0x7fd0098698d0>"
            ]
          },
          "metadata": {
            "tags": []
          },
          "execution_count": 155
        }
      ]
    },
    {
      "metadata": {
        "id": "l0xlkz4PLCXm",
        "colab_type": "code",
        "colab": {
          "base_uri": "https://localhost:8080/",
          "height": 2754
        },
        "outputId": "067afb44-9a98-4b24-d596-f8e3582507d1"
      },
      "cell_type": "code",
      "source": [
        "model = VGGnet_16()\n",
        "model.compile(loss= 'binary_crossentropy',\n",
        "              optimizer = optimizers.adam(lr= 0.00001),\n",
        "             metrics=['accuracy'])\n",
        "model.fit(X_tr,y_tr, validation_split=0.1, batch_size = 128, epochs=200, verbose= 2, shuffle=True)"
      ],
      "execution_count": 128,
      "outputs": [
        {
          "output_type": "stream",
          "text": [
            "Train on 15750 samples, validate on 1750 samples\n",
            "Epoch 1/200\n",
            " - 13s - loss: 0.7315 - acc: 0.6952 - val_loss: 0.6584 - val_acc: 0.5669\n",
            "Epoch 2/200\n",
            " - 7s - loss: 0.4723 - acc: 0.8020 - val_loss: 0.6879 - val_acc: 0.6166\n",
            "Epoch 3/200\n",
            " - 7s - loss: 0.3243 - acc: 0.8720 - val_loss: 0.4615 - val_acc: 0.7977\n",
            "Epoch 4/200\n",
            " - 7s - loss: 0.2547 - acc: 0.9055 - val_loss: 0.2880 - val_acc: 0.8903\n",
            "Epoch 5/200\n",
            " - 7s - loss: 0.2215 - acc: 0.9200 - val_loss: 0.1977 - val_acc: 0.9297\n",
            "Epoch 6/200\n",
            " - 7s - loss: 0.2017 - acc: 0.9252 - val_loss: 0.1903 - val_acc: 0.9309\n",
            "Epoch 7/200\n",
            " - 7s - loss: 0.1926 - acc: 0.9255 - val_loss: 0.1696 - val_acc: 0.9451\n",
            "Epoch 8/200\n",
            " - 7s - loss: 0.1822 - acc: 0.9288 - val_loss: 0.1506 - val_acc: 0.9474\n",
            "Epoch 9/200\n",
            " - 7s - loss: 0.1783 - acc: 0.9341 - val_loss: 0.1465 - val_acc: 0.9531\n",
            "Epoch 10/200\n",
            " - 7s - loss: 0.1658 - acc: 0.9370 - val_loss: 0.1427 - val_acc: 0.9531\n",
            "Epoch 11/200\n",
            " - 7s - loss: 0.1593 - acc: 0.9394 - val_loss: 0.1232 - val_acc: 0.9589\n",
            "Epoch 12/200\n",
            " - 7s - loss: 0.1539 - acc: 0.9418 - val_loss: 0.1268 - val_acc: 0.9594\n",
            "Epoch 13/200\n",
            " - 7s - loss: 0.1500 - acc: 0.9418 - val_loss: 0.1087 - val_acc: 0.9651\n",
            "Epoch 14/200\n",
            " - 7s - loss: 0.1334 - acc: 0.9491 - val_loss: 0.1106 - val_acc: 0.9623\n",
            "Epoch 15/200\n",
            " - 7s - loss: 0.1354 - acc: 0.9476 - val_loss: 0.1092 - val_acc: 0.9669\n",
            "Epoch 16/200\n",
            " - 7s - loss: 0.1274 - acc: 0.9514 - val_loss: 0.0902 - val_acc: 0.9686\n",
            "Epoch 17/200\n",
            " - 7s - loss: 0.1263 - acc: 0.9535 - val_loss: 0.0900 - val_acc: 0.9657\n",
            "Epoch 18/200\n",
            " - 7s - loss: 0.1157 - acc: 0.9564 - val_loss: 0.0814 - val_acc: 0.9697\n",
            "Epoch 19/200\n",
            " - 7s - loss: 0.1147 - acc: 0.9570 - val_loss: 0.1061 - val_acc: 0.9589\n",
            "Epoch 20/200\n",
            " - 7s - loss: 0.1124 - acc: 0.9584 - val_loss: 0.0674 - val_acc: 0.9714\n",
            "Epoch 21/200\n",
            " - 7s - loss: 0.1040 - acc: 0.9603 - val_loss: 0.0685 - val_acc: 0.9754\n",
            "Epoch 22/200\n",
            " - 7s - loss: 0.1018 - acc: 0.9617 - val_loss: 0.0979 - val_acc: 0.9680\n",
            "Epoch 23/200\n",
            " - 7s - loss: 0.0977 - acc: 0.9624 - val_loss: 0.0866 - val_acc: 0.9703\n",
            "Epoch 24/200\n",
            " - 7s - loss: 0.0994 - acc: 0.9621 - val_loss: 0.0699 - val_acc: 0.9749\n",
            "Epoch 25/200\n",
            " - 7s - loss: 0.0924 - acc: 0.9642 - val_loss: 0.0613 - val_acc: 0.9771\n",
            "Epoch 26/200\n",
            " - 7s - loss: 0.0942 - acc: 0.9645 - val_loss: 0.0564 - val_acc: 0.9806\n",
            "Epoch 27/200\n",
            " - 7s - loss: 0.0878 - acc: 0.9671 - val_loss: 0.0877 - val_acc: 0.9714\n",
            "Epoch 28/200\n",
            " - 7s - loss: 0.0907 - acc: 0.9667 - val_loss: 0.0866 - val_acc: 0.9714\n",
            "Epoch 29/200\n",
            " - 7s - loss: 0.0873 - acc: 0.9670 - val_loss: 0.0728 - val_acc: 0.9749\n",
            "Epoch 30/200\n",
            " - 7s - loss: 0.0859 - acc: 0.9676 - val_loss: 0.0838 - val_acc: 0.9720\n",
            "Epoch 31/200\n",
            " - 7s - loss: 0.0829 - acc: 0.9686 - val_loss: 0.0600 - val_acc: 0.9811\n",
            "Epoch 32/200\n",
            " - 7s - loss: 0.0791 - acc: 0.9705 - val_loss: 0.0933 - val_acc: 0.9669\n",
            "Epoch 33/200\n",
            " - 7s - loss: 0.0835 - acc: 0.9702 - val_loss: 0.0969 - val_acc: 0.9663\n",
            "Epoch 34/200\n",
            " - 7s - loss: 0.0778 - acc: 0.9714 - val_loss: 0.0817 - val_acc: 0.9743\n",
            "Epoch 35/200\n",
            " - 7s - loss: 0.0757 - acc: 0.9723 - val_loss: 0.0798 - val_acc: 0.9783\n",
            "Epoch 36/200\n",
            " - 7s - loss: 0.0719 - acc: 0.9736 - val_loss: 0.0814 - val_acc: 0.9760\n",
            "Epoch 37/200\n",
            " - 7s - loss: 0.0732 - acc: 0.9730 - val_loss: 0.2142 - val_acc: 0.9371\n",
            "Epoch 38/200\n",
            " - 7s - loss: 0.0764 - acc: 0.9717 - val_loss: 0.0566 - val_acc: 0.9811\n",
            "Epoch 39/200\n",
            " - 7s - loss: 0.0721 - acc: 0.9726 - val_loss: 0.0736 - val_acc: 0.9794\n",
            "Epoch 40/200\n",
            " - 7s - loss: 0.0689 - acc: 0.9734 - val_loss: 0.1099 - val_acc: 0.9691\n",
            "Epoch 41/200\n",
            " - 7s - loss: 0.0674 - acc: 0.9739 - val_loss: 0.0971 - val_acc: 0.9749\n",
            "Epoch 42/200\n",
            " - 7s - loss: 0.0661 - acc: 0.9750 - val_loss: 0.0837 - val_acc: 0.9771\n",
            "Epoch 43/200\n",
            " - 7s - loss: 0.0631 - acc: 0.9758 - val_loss: 0.1063 - val_acc: 0.9760\n",
            "Epoch 44/200\n",
            " - 7s - loss: 0.0654 - acc: 0.9766 - val_loss: 0.1160 - val_acc: 0.9697\n",
            "Epoch 45/200\n",
            " - 7s - loss: 0.0604 - acc: 0.9780 - val_loss: 0.0981 - val_acc: 0.9749\n",
            "Epoch 46/200\n",
            " - 7s - loss: 0.0610 - acc: 0.9785 - val_loss: 0.0993 - val_acc: 0.9771\n",
            "Epoch 47/200\n",
            " - 7s - loss: 0.0623 - acc: 0.9768 - val_loss: 0.1065 - val_acc: 0.9737\n",
            "Epoch 48/200\n",
            " - 7s - loss: 0.0628 - acc: 0.9762 - val_loss: 0.1366 - val_acc: 0.9680\n",
            "Epoch 49/200\n",
            " - 7s - loss: 0.0596 - acc: 0.9791 - val_loss: 0.1028 - val_acc: 0.9749\n",
            "Epoch 50/200\n",
            " - 7s - loss: 0.0574 - acc: 0.9792 - val_loss: 0.2075 - val_acc: 0.9469\n",
            "Epoch 51/200\n",
            " - 7s - loss: 0.0669 - acc: 0.9754 - val_loss: 0.1352 - val_acc: 0.9686\n",
            "Epoch 52/200\n",
            " - 7s - loss: 0.0533 - acc: 0.9803 - val_loss: 0.1643 - val_acc: 0.9543\n",
            "Epoch 53/200\n",
            " - 7s - loss: 0.0549 - acc: 0.9797 - val_loss: 0.2807 - val_acc: 0.9234\n",
            "Epoch 54/200\n",
            " - 7s - loss: 0.0560 - acc: 0.9802 - val_loss: 0.0954 - val_acc: 0.9789\n",
            "Epoch 55/200\n",
            " - 7s - loss: 0.0564 - acc: 0.9803 - val_loss: 0.0966 - val_acc: 0.9766\n",
            "Epoch 56/200\n",
            " - 7s - loss: 0.0551 - acc: 0.9802 - val_loss: 0.0974 - val_acc: 0.9760\n",
            "Epoch 57/200\n",
            " - 7s - loss: 0.0519 - acc: 0.9807 - val_loss: 0.1117 - val_acc: 0.9766\n",
            "Epoch 58/200\n",
            " - 7s - loss: 0.0525 - acc: 0.9805 - val_loss: 0.3181 - val_acc: 0.9194\n",
            "Epoch 59/200\n",
            " - 7s - loss: 0.0503 - acc: 0.9822 - val_loss: 0.1372 - val_acc: 0.9640\n",
            "Epoch 60/200\n",
            " - 7s - loss: 0.0497 - acc: 0.9829 - val_loss: 0.1004 - val_acc: 0.9749\n",
            "Epoch 61/200\n",
            " - 7s - loss: 0.0487 - acc: 0.9814 - val_loss: 0.1590 - val_acc: 0.9589\n",
            "Epoch 62/200\n",
            " - 7s - loss: 0.0490 - acc: 0.9822 - val_loss: 0.1779 - val_acc: 0.9514\n",
            "Epoch 63/200\n",
            " - 7s - loss: 0.0485 - acc: 0.9836 - val_loss: 0.1313 - val_acc: 0.9749\n",
            "Epoch 64/200\n",
            " - 7s - loss: 0.0545 - acc: 0.9807 - val_loss: 0.2222 - val_acc: 0.9406\n",
            "Epoch 65/200\n",
            " - 7s - loss: 0.0463 - acc: 0.9830 - val_loss: 0.2217 - val_acc: 0.9394\n",
            "Epoch 66/200\n",
            " - 7s - loss: 0.0453 - acc: 0.9843 - val_loss: 0.1472 - val_acc: 0.9611\n",
            "Epoch 67/200\n",
            " - 7s - loss: 0.0440 - acc: 0.9844 - val_loss: 0.1293 - val_acc: 0.9686\n",
            "Epoch 68/200\n",
            " - 7s - loss: 0.0455 - acc: 0.9837 - val_loss: 0.1267 - val_acc: 0.9691\n",
            "Epoch 69/200\n",
            " - 7s - loss: 0.0420 - acc: 0.9853 - val_loss: 0.1483 - val_acc: 0.9594\n",
            "Epoch 70/200\n",
            " - 7s - loss: 0.0427 - acc: 0.9842 - val_loss: 0.5419 - val_acc: 0.8783\n",
            "Epoch 71/200\n"
          ],
          "name": "stdout"
        },
        {
          "output_type": "error",
          "ename": "KeyboardInterrupt",
          "evalue": "ignored",
          "traceback": [
            "\u001b[0;31m---------------------------------------------------------------------------\u001b[0m",
            "\u001b[0;31mKeyboardInterrupt\u001b[0m                         Traceback (most recent call last)",
            "\u001b[0;32m<ipython-input-128-3e886ebf2793>\u001b[0m in \u001b[0;36m<module>\u001b[0;34m()\u001b[0m\n\u001b[1;32m      3\u001b[0m               \u001b[0moptimizer\u001b[0m \u001b[0;34m=\u001b[0m \u001b[0moptimizers\u001b[0m\u001b[0;34m.\u001b[0m\u001b[0madam\u001b[0m\u001b[0;34m(\u001b[0m\u001b[0mlr\u001b[0m\u001b[0;34m=\u001b[0m \u001b[0;36m0.00001\u001b[0m\u001b[0;34m)\u001b[0m\u001b[0;34m,\u001b[0m\u001b[0;34m\u001b[0m\u001b[0;34m\u001b[0m\u001b[0m\n\u001b[1;32m      4\u001b[0m              metrics=['accuracy'])\n\u001b[0;32m----> 5\u001b[0;31m \u001b[0mmodel\u001b[0m\u001b[0;34m.\u001b[0m\u001b[0mfit\u001b[0m\u001b[0;34m(\u001b[0m\u001b[0mX_tr\u001b[0m\u001b[0;34m,\u001b[0m\u001b[0my_tr\u001b[0m\u001b[0;34m,\u001b[0m \u001b[0mvalidation_split\u001b[0m\u001b[0;34m=\u001b[0m\u001b[0;36m0.1\u001b[0m\u001b[0;34m,\u001b[0m \u001b[0mbatch_size\u001b[0m \u001b[0;34m=\u001b[0m \u001b[0;36m128\u001b[0m\u001b[0;34m,\u001b[0m \u001b[0mepochs\u001b[0m\u001b[0;34m=\u001b[0m\u001b[0;36m200\u001b[0m\u001b[0;34m,\u001b[0m \u001b[0mverbose\u001b[0m\u001b[0;34m=\u001b[0m \u001b[0;36m2\u001b[0m\u001b[0;34m,\u001b[0m \u001b[0mshuffle\u001b[0m\u001b[0;34m=\u001b[0m\u001b[0;32mTrue\u001b[0m\u001b[0;34m)\u001b[0m\u001b[0;34m\u001b[0m\u001b[0;34m\u001b[0m\u001b[0m\n\u001b[0m",
            "\u001b[0;32m/usr/local/lib/python3.6/dist-packages/keras/engine/training.py\u001b[0m in \u001b[0;36mfit\u001b[0;34m(self, x, y, batch_size, epochs, verbose, callbacks, validation_split, validation_data, shuffle, class_weight, sample_weight, initial_epoch, steps_per_epoch, validation_steps, **kwargs)\u001b[0m\n\u001b[1;32m   1037\u001b[0m                                         \u001b[0minitial_epoch\u001b[0m\u001b[0;34m=\u001b[0m\u001b[0minitial_epoch\u001b[0m\u001b[0;34m,\u001b[0m\u001b[0;34m\u001b[0m\u001b[0;34m\u001b[0m\u001b[0m\n\u001b[1;32m   1038\u001b[0m                                         \u001b[0msteps_per_epoch\u001b[0m\u001b[0;34m=\u001b[0m\u001b[0msteps_per_epoch\u001b[0m\u001b[0;34m,\u001b[0m\u001b[0;34m\u001b[0m\u001b[0;34m\u001b[0m\u001b[0m\n\u001b[0;32m-> 1039\u001b[0;31m                                         validation_steps=validation_steps)\n\u001b[0m\u001b[1;32m   1040\u001b[0m \u001b[0;34m\u001b[0m\u001b[0m\n\u001b[1;32m   1041\u001b[0m     def evaluate(self, x=None, y=None,\n",
            "\u001b[0;32m/usr/local/lib/python3.6/dist-packages/keras/engine/training_arrays.py\u001b[0m in \u001b[0;36mfit_loop\u001b[0;34m(model, f, ins, out_labels, batch_size, epochs, verbose, callbacks, val_f, val_ins, shuffle, callback_metrics, initial_epoch, steps_per_epoch, validation_steps)\u001b[0m\n\u001b[1;32m    197\u001b[0m                     \u001b[0mins_batch\u001b[0m\u001b[0;34m[\u001b[0m\u001b[0mi\u001b[0m\u001b[0;34m]\u001b[0m \u001b[0;34m=\u001b[0m \u001b[0mins_batch\u001b[0m\u001b[0;34m[\u001b[0m\u001b[0mi\u001b[0m\u001b[0;34m]\u001b[0m\u001b[0;34m.\u001b[0m\u001b[0mtoarray\u001b[0m\u001b[0;34m(\u001b[0m\u001b[0;34m)\u001b[0m\u001b[0;34m\u001b[0m\u001b[0;34m\u001b[0m\u001b[0m\n\u001b[1;32m    198\u001b[0m \u001b[0;34m\u001b[0m\u001b[0m\n\u001b[0;32m--> 199\u001b[0;31m                 \u001b[0mouts\u001b[0m \u001b[0;34m=\u001b[0m \u001b[0mf\u001b[0m\u001b[0;34m(\u001b[0m\u001b[0mins_batch\u001b[0m\u001b[0;34m)\u001b[0m\u001b[0;34m\u001b[0m\u001b[0;34m\u001b[0m\u001b[0m\n\u001b[0m\u001b[1;32m    200\u001b[0m                 \u001b[0mouts\u001b[0m \u001b[0;34m=\u001b[0m \u001b[0mto_list\u001b[0m\u001b[0;34m(\u001b[0m\u001b[0mouts\u001b[0m\u001b[0;34m)\u001b[0m\u001b[0;34m\u001b[0m\u001b[0;34m\u001b[0m\u001b[0m\n\u001b[1;32m    201\u001b[0m                 \u001b[0;32mfor\u001b[0m \u001b[0ml\u001b[0m\u001b[0;34m,\u001b[0m \u001b[0mo\u001b[0m \u001b[0;32min\u001b[0m \u001b[0mzip\u001b[0m\u001b[0;34m(\u001b[0m\u001b[0mout_labels\u001b[0m\u001b[0;34m,\u001b[0m \u001b[0mouts\u001b[0m\u001b[0;34m)\u001b[0m\u001b[0;34m:\u001b[0m\u001b[0;34m\u001b[0m\u001b[0;34m\u001b[0m\u001b[0m\n",
            "\u001b[0;32m/usr/local/lib/python3.6/dist-packages/keras/backend/tensorflow_backend.py\u001b[0m in \u001b[0;36m__call__\u001b[0;34m(self, inputs)\u001b[0m\n\u001b[1;32m   2713\u001b[0m                 \u001b[0;32mreturn\u001b[0m \u001b[0mself\u001b[0m\u001b[0;34m.\u001b[0m\u001b[0m_legacy_call\u001b[0m\u001b[0;34m(\u001b[0m\u001b[0minputs\u001b[0m\u001b[0;34m)\u001b[0m\u001b[0;34m\u001b[0m\u001b[0;34m\u001b[0m\u001b[0m\n\u001b[1;32m   2714\u001b[0m \u001b[0;34m\u001b[0m\u001b[0m\n\u001b[0;32m-> 2715\u001b[0;31m             \u001b[0;32mreturn\u001b[0m \u001b[0mself\u001b[0m\u001b[0;34m.\u001b[0m\u001b[0m_call\u001b[0m\u001b[0;34m(\u001b[0m\u001b[0minputs\u001b[0m\u001b[0;34m)\u001b[0m\u001b[0;34m\u001b[0m\u001b[0;34m\u001b[0m\u001b[0m\n\u001b[0m\u001b[1;32m   2716\u001b[0m         \u001b[0;32melse\u001b[0m\u001b[0;34m:\u001b[0m\u001b[0;34m\u001b[0m\u001b[0;34m\u001b[0m\u001b[0m\n\u001b[1;32m   2717\u001b[0m             \u001b[0;32mif\u001b[0m \u001b[0mpy_any\u001b[0m\u001b[0;34m(\u001b[0m\u001b[0mis_tensor\u001b[0m\u001b[0;34m(\u001b[0m\u001b[0mx\u001b[0m\u001b[0;34m)\u001b[0m \u001b[0;32mfor\u001b[0m \u001b[0mx\u001b[0m \u001b[0;32min\u001b[0m \u001b[0minputs\u001b[0m\u001b[0;34m)\u001b[0m\u001b[0;34m:\u001b[0m\u001b[0;34m\u001b[0m\u001b[0;34m\u001b[0m\u001b[0m\n",
            "\u001b[0;32m/usr/local/lib/python3.6/dist-packages/keras/backend/tensorflow_backend.py\u001b[0m in \u001b[0;36m_call\u001b[0;34m(self, inputs)\u001b[0m\n\u001b[1;32m   2673\u001b[0m             \u001b[0mfetched\u001b[0m \u001b[0;34m=\u001b[0m \u001b[0mself\u001b[0m\u001b[0;34m.\u001b[0m\u001b[0m_callable_fn\u001b[0m\u001b[0;34m(\u001b[0m\u001b[0;34m*\u001b[0m\u001b[0marray_vals\u001b[0m\u001b[0;34m,\u001b[0m \u001b[0mrun_metadata\u001b[0m\u001b[0;34m=\u001b[0m\u001b[0mself\u001b[0m\u001b[0;34m.\u001b[0m\u001b[0mrun_metadata\u001b[0m\u001b[0;34m)\u001b[0m\u001b[0;34m\u001b[0m\u001b[0;34m\u001b[0m\u001b[0m\n\u001b[1;32m   2674\u001b[0m         \u001b[0;32melse\u001b[0m\u001b[0;34m:\u001b[0m\u001b[0;34m\u001b[0m\u001b[0;34m\u001b[0m\u001b[0m\n\u001b[0;32m-> 2675\u001b[0;31m             \u001b[0mfetched\u001b[0m \u001b[0;34m=\u001b[0m \u001b[0mself\u001b[0m\u001b[0;34m.\u001b[0m\u001b[0m_callable_fn\u001b[0m\u001b[0;34m(\u001b[0m\u001b[0;34m*\u001b[0m\u001b[0marray_vals\u001b[0m\u001b[0;34m)\u001b[0m\u001b[0;34m\u001b[0m\u001b[0;34m\u001b[0m\u001b[0m\n\u001b[0m\u001b[1;32m   2676\u001b[0m         \u001b[0;32mreturn\u001b[0m \u001b[0mfetched\u001b[0m\u001b[0;34m[\u001b[0m\u001b[0;34m:\u001b[0m\u001b[0mlen\u001b[0m\u001b[0;34m(\u001b[0m\u001b[0mself\u001b[0m\u001b[0;34m.\u001b[0m\u001b[0moutputs\u001b[0m\u001b[0;34m)\u001b[0m\u001b[0;34m]\u001b[0m\u001b[0;34m\u001b[0m\u001b[0;34m\u001b[0m\u001b[0m\n\u001b[1;32m   2677\u001b[0m \u001b[0;34m\u001b[0m\u001b[0m\n",
            "\u001b[0;32m/usr/local/lib/python3.6/dist-packages/tensorflow/python/client/session.py\u001b[0m in \u001b[0;36m__call__\u001b[0;34m(self, *args, **kwargs)\u001b[0m\n\u001b[1;32m   1437\u001b[0m           ret = tf_session.TF_SessionRunCallable(\n\u001b[1;32m   1438\u001b[0m               \u001b[0mself\u001b[0m\u001b[0;34m.\u001b[0m\u001b[0m_session\u001b[0m\u001b[0;34m.\u001b[0m\u001b[0m_session\u001b[0m\u001b[0;34m,\u001b[0m \u001b[0mself\u001b[0m\u001b[0;34m.\u001b[0m\u001b[0m_handle\u001b[0m\u001b[0;34m,\u001b[0m \u001b[0margs\u001b[0m\u001b[0;34m,\u001b[0m \u001b[0mstatus\u001b[0m\u001b[0;34m,\u001b[0m\u001b[0;34m\u001b[0m\u001b[0;34m\u001b[0m\u001b[0m\n\u001b[0;32m-> 1439\u001b[0;31m               run_metadata_ptr)\n\u001b[0m\u001b[1;32m   1440\u001b[0m         \u001b[0;32mif\u001b[0m \u001b[0mrun_metadata\u001b[0m\u001b[0;34m:\u001b[0m\u001b[0;34m\u001b[0m\u001b[0;34m\u001b[0m\u001b[0m\n\u001b[1;32m   1441\u001b[0m           \u001b[0mproto_data\u001b[0m \u001b[0;34m=\u001b[0m \u001b[0mtf_session\u001b[0m\u001b[0;34m.\u001b[0m\u001b[0mTF_GetBuffer\u001b[0m\u001b[0;34m(\u001b[0m\u001b[0mrun_metadata_ptr\u001b[0m\u001b[0;34m)\u001b[0m\u001b[0;34m\u001b[0m\u001b[0;34m\u001b[0m\u001b[0m\n",
            "\u001b[0;31mKeyboardInterrupt\u001b[0m: "
          ]
        }
      ]
    },
    {
      "metadata": {
        "id": "G3e5svRZnSdG",
        "colab_type": "code",
        "colab": {}
      },
      "cell_type": "code",
      "source": [
        "with open('model.json', 'w') as f:\n",
        "    json.dump(model.data, f)\n",
        "\n",
        "model = pd.DataFrame(model.data)\n",
        "model[['loss', 'val_loss']].plot()\n",
        "model[['acc', 'val_acc']].plot()"
      ],
      "execution_count": 0,
      "outputs": []
    },
    {
      "metadata": {
        "id": "V3X8UJl4A3sh",
        "colab_type": "code",
        "colab": {}
      },
      "cell_type": "code",
      "source": [
        "vgg16_model = keras.applications.vgg16.VGG16(weights='imagenet', include_top=False, input_shape=(224,224,3))"
      ],
      "execution_count": 0,
      "outputs": []
    },
    {
      "metadata": {
        "id": "rcgDjm1lt7Pp",
        "colab_type": "code",
        "colab": {}
      },
      "cell_type": "code",
      "source": [
        "model = Sequential()\n",
        "for layer in vgg16_model.layers:\n",
        "  model.add(layer)\n",
        "model.layers.pop()\n",
        "for layer in model.layers:\n",
        "  layer.trainable = False\n",
        "\n",
        "# Flatten model\n",
        "model.add(Flatten())\n",
        "\n",
        "# Add dense layer\n",
        "model.add(Dense(1, activation = 'softmax'))"
      ],
      "execution_count": 0,
      "outputs": []
    },
    {
      "metadata": {
        "id": "uogqT_hvuEtS",
        "colab_type": "code",
        "colab": {}
      },
      "cell_type": "code",
      "source": [
        "adam = keras.optimizers.Adam(lr = 0.001)"
      ],
      "execution_count": 0,
      "outputs": []
    },
    {
      "metadata": {
        "id": "s1lur_J2uBy6",
        "colab_type": "code",
        "outputId": "9900cc4e-02e0-47d1-e068-01e6d619b07e",
        "colab": {
          "base_uri": "https://localhost:8080/",
          "height": 391
        }
      },
      "cell_type": "code",
      "source": [
        "model.compile(loss= 'binary_crossentropy' , optimizer= adam , metrics=[ 'accuracy' ])\n",
        "model.fit(X_train, y, validation_split=0.2, epochs=50, batch_size=256, verbose=2)"
      ],
      "execution_count": 0,
      "outputs": [
        {
          "output_type": "stream",
          "text": [
            "Train on 14000 samples, validate on 3500 samples\n",
            "Epoch 1/50\n"
          ],
          "name": "stdout"
        },
        {
          "output_type": "error",
          "ename": "InternalError",
          "evalue": "ignored",
          "traceback": [
            "\u001b[0;31m---------------------------------------------------------------------------\u001b[0m",
            "\u001b[0;31mInternalError\u001b[0m                             Traceback (most recent call last)",
            "\u001b[0;32m<ipython-input-50-93f1e38c9d62>\u001b[0m in \u001b[0;36m<module>\u001b[0;34m()\u001b[0m\n\u001b[1;32m      1\u001b[0m \u001b[0mmodel\u001b[0m\u001b[0;34m.\u001b[0m\u001b[0mcompile\u001b[0m\u001b[0;34m(\u001b[0m\u001b[0mloss\u001b[0m\u001b[0;34m=\u001b[0m \u001b[0;34m'binary_crossentropy'\u001b[0m \u001b[0;34m,\u001b[0m \u001b[0moptimizer\u001b[0m\u001b[0;34m=\u001b[0m \u001b[0madam\u001b[0m \u001b[0;34m,\u001b[0m \u001b[0mmetrics\u001b[0m\u001b[0;34m=\u001b[0m\u001b[0;34m[\u001b[0m \u001b[0;34m'accuracy'\u001b[0m \u001b[0;34m]\u001b[0m\u001b[0;34m)\u001b[0m\u001b[0;34m\u001b[0m\u001b[0;34m\u001b[0m\u001b[0m\n\u001b[0;32m----> 2\u001b[0;31m \u001b[0mmodel\u001b[0m\u001b[0;34m.\u001b[0m\u001b[0mfit\u001b[0m\u001b[0;34m(\u001b[0m\u001b[0mX_train\u001b[0m\u001b[0;34m,\u001b[0m \u001b[0my\u001b[0m\u001b[0;34m,\u001b[0m \u001b[0mvalidation_split\u001b[0m\u001b[0;34m=\u001b[0m\u001b[0;36m0.2\u001b[0m\u001b[0;34m,\u001b[0m \u001b[0mepochs\u001b[0m\u001b[0;34m=\u001b[0m\u001b[0;36m50\u001b[0m\u001b[0;34m,\u001b[0m \u001b[0mbatch_size\u001b[0m\u001b[0;34m=\u001b[0m\u001b[0;36m256\u001b[0m\u001b[0;34m,\u001b[0m \u001b[0mverbose\u001b[0m\u001b[0;34m=\u001b[0m\u001b[0;36m2\u001b[0m\u001b[0;34m)\u001b[0m\u001b[0;34m\u001b[0m\u001b[0;34m\u001b[0m\u001b[0m\n\u001b[0m",
            "\u001b[0;32m/usr/local/lib/python3.6/dist-packages/keras/engine/training.py\u001b[0m in \u001b[0;36mfit\u001b[0;34m(self, x, y, batch_size, epochs, verbose, callbacks, validation_split, validation_data, shuffle, class_weight, sample_weight, initial_epoch, steps_per_epoch, validation_steps, **kwargs)\u001b[0m\n\u001b[1;32m   1037\u001b[0m                                         \u001b[0minitial_epoch\u001b[0m\u001b[0;34m=\u001b[0m\u001b[0minitial_epoch\u001b[0m\u001b[0;34m,\u001b[0m\u001b[0;34m\u001b[0m\u001b[0;34m\u001b[0m\u001b[0m\n\u001b[1;32m   1038\u001b[0m                                         \u001b[0msteps_per_epoch\u001b[0m\u001b[0;34m=\u001b[0m\u001b[0msteps_per_epoch\u001b[0m\u001b[0;34m,\u001b[0m\u001b[0;34m\u001b[0m\u001b[0;34m\u001b[0m\u001b[0m\n\u001b[0;32m-> 1039\u001b[0;31m                                         validation_steps=validation_steps)\n\u001b[0m\u001b[1;32m   1040\u001b[0m \u001b[0;34m\u001b[0m\u001b[0m\n\u001b[1;32m   1041\u001b[0m     def evaluate(self, x=None, y=None,\n",
            "\u001b[0;32m/usr/local/lib/python3.6/dist-packages/keras/engine/training_arrays.py\u001b[0m in \u001b[0;36mfit_loop\u001b[0;34m(model, f, ins, out_labels, batch_size, epochs, verbose, callbacks, val_f, val_ins, shuffle, callback_metrics, initial_epoch, steps_per_epoch, validation_steps)\u001b[0m\n\u001b[1;32m    197\u001b[0m                     \u001b[0mins_batch\u001b[0m\u001b[0;34m[\u001b[0m\u001b[0mi\u001b[0m\u001b[0;34m]\u001b[0m \u001b[0;34m=\u001b[0m \u001b[0mins_batch\u001b[0m\u001b[0;34m[\u001b[0m\u001b[0mi\u001b[0m\u001b[0;34m]\u001b[0m\u001b[0;34m.\u001b[0m\u001b[0mtoarray\u001b[0m\u001b[0;34m(\u001b[0m\u001b[0;34m)\u001b[0m\u001b[0;34m\u001b[0m\u001b[0;34m\u001b[0m\u001b[0m\n\u001b[1;32m    198\u001b[0m \u001b[0;34m\u001b[0m\u001b[0m\n\u001b[0;32m--> 199\u001b[0;31m                 \u001b[0mouts\u001b[0m \u001b[0;34m=\u001b[0m \u001b[0mf\u001b[0m\u001b[0;34m(\u001b[0m\u001b[0mins_batch\u001b[0m\u001b[0;34m)\u001b[0m\u001b[0;34m\u001b[0m\u001b[0;34m\u001b[0m\u001b[0m\n\u001b[0m\u001b[1;32m    200\u001b[0m                 \u001b[0mouts\u001b[0m \u001b[0;34m=\u001b[0m \u001b[0mto_list\u001b[0m\u001b[0;34m(\u001b[0m\u001b[0mouts\u001b[0m\u001b[0;34m)\u001b[0m\u001b[0;34m\u001b[0m\u001b[0;34m\u001b[0m\u001b[0m\n\u001b[1;32m    201\u001b[0m                 \u001b[0;32mfor\u001b[0m \u001b[0ml\u001b[0m\u001b[0;34m,\u001b[0m \u001b[0mo\u001b[0m \u001b[0;32min\u001b[0m \u001b[0mzip\u001b[0m\u001b[0;34m(\u001b[0m\u001b[0mout_labels\u001b[0m\u001b[0;34m,\u001b[0m \u001b[0mouts\u001b[0m\u001b[0;34m)\u001b[0m\u001b[0;34m:\u001b[0m\u001b[0;34m\u001b[0m\u001b[0;34m\u001b[0m\u001b[0m\n",
            "\u001b[0;32m/usr/local/lib/python3.6/dist-packages/keras/backend/tensorflow_backend.py\u001b[0m in \u001b[0;36m__call__\u001b[0;34m(self, inputs)\u001b[0m\n\u001b[1;32m   2713\u001b[0m                 \u001b[0;32mreturn\u001b[0m \u001b[0mself\u001b[0m\u001b[0;34m.\u001b[0m\u001b[0m_legacy_call\u001b[0m\u001b[0;34m(\u001b[0m\u001b[0minputs\u001b[0m\u001b[0;34m)\u001b[0m\u001b[0;34m\u001b[0m\u001b[0;34m\u001b[0m\u001b[0m\n\u001b[1;32m   2714\u001b[0m \u001b[0;34m\u001b[0m\u001b[0m\n\u001b[0;32m-> 2715\u001b[0;31m             \u001b[0;32mreturn\u001b[0m \u001b[0mself\u001b[0m\u001b[0;34m.\u001b[0m\u001b[0m_call\u001b[0m\u001b[0;34m(\u001b[0m\u001b[0minputs\u001b[0m\u001b[0;34m)\u001b[0m\u001b[0;34m\u001b[0m\u001b[0;34m\u001b[0m\u001b[0m\n\u001b[0m\u001b[1;32m   2716\u001b[0m         \u001b[0;32melse\u001b[0m\u001b[0;34m:\u001b[0m\u001b[0;34m\u001b[0m\u001b[0;34m\u001b[0m\u001b[0m\n\u001b[1;32m   2717\u001b[0m             \u001b[0;32mif\u001b[0m \u001b[0mpy_any\u001b[0m\u001b[0;34m(\u001b[0m\u001b[0mis_tensor\u001b[0m\u001b[0;34m(\u001b[0m\u001b[0mx\u001b[0m\u001b[0;34m)\u001b[0m \u001b[0;32mfor\u001b[0m \u001b[0mx\u001b[0m \u001b[0;32min\u001b[0m \u001b[0minputs\u001b[0m\u001b[0;34m)\u001b[0m\u001b[0;34m:\u001b[0m\u001b[0;34m\u001b[0m\u001b[0;34m\u001b[0m\u001b[0m\n",
            "\u001b[0;32m/usr/local/lib/python3.6/dist-packages/keras/backend/tensorflow_backend.py\u001b[0m in \u001b[0;36m_call\u001b[0;34m(self, inputs)\u001b[0m\n\u001b[1;32m   2673\u001b[0m             \u001b[0mfetched\u001b[0m \u001b[0;34m=\u001b[0m \u001b[0mself\u001b[0m\u001b[0;34m.\u001b[0m\u001b[0m_callable_fn\u001b[0m\u001b[0;34m(\u001b[0m\u001b[0;34m*\u001b[0m\u001b[0marray_vals\u001b[0m\u001b[0;34m,\u001b[0m \u001b[0mrun_metadata\u001b[0m\u001b[0;34m=\u001b[0m\u001b[0mself\u001b[0m\u001b[0;34m.\u001b[0m\u001b[0mrun_metadata\u001b[0m\u001b[0;34m)\u001b[0m\u001b[0;34m\u001b[0m\u001b[0;34m\u001b[0m\u001b[0m\n\u001b[1;32m   2674\u001b[0m         \u001b[0;32melse\u001b[0m\u001b[0;34m:\u001b[0m\u001b[0;34m\u001b[0m\u001b[0;34m\u001b[0m\u001b[0m\n\u001b[0;32m-> 2675\u001b[0;31m             \u001b[0mfetched\u001b[0m \u001b[0;34m=\u001b[0m \u001b[0mself\u001b[0m\u001b[0;34m.\u001b[0m\u001b[0m_callable_fn\u001b[0m\u001b[0;34m(\u001b[0m\u001b[0;34m*\u001b[0m\u001b[0marray_vals\u001b[0m\u001b[0;34m)\u001b[0m\u001b[0;34m\u001b[0m\u001b[0;34m\u001b[0m\u001b[0m\n\u001b[0m\u001b[1;32m   2676\u001b[0m         \u001b[0;32mreturn\u001b[0m \u001b[0mfetched\u001b[0m\u001b[0;34m[\u001b[0m\u001b[0;34m:\u001b[0m\u001b[0mlen\u001b[0m\u001b[0;34m(\u001b[0m\u001b[0mself\u001b[0m\u001b[0;34m.\u001b[0m\u001b[0moutputs\u001b[0m\u001b[0;34m)\u001b[0m\u001b[0;34m]\u001b[0m\u001b[0;34m\u001b[0m\u001b[0;34m\u001b[0m\u001b[0m\n\u001b[1;32m   2677\u001b[0m \u001b[0;34m\u001b[0m\u001b[0m\n",
            "\u001b[0;32m/usr/local/lib/python3.6/dist-packages/tensorflow/python/client/session.py\u001b[0m in \u001b[0;36m__call__\u001b[0;34m(self, *args, **kwargs)\u001b[0m\n\u001b[1;32m   1437\u001b[0m           ret = tf_session.TF_SessionRunCallable(\n\u001b[1;32m   1438\u001b[0m               \u001b[0mself\u001b[0m\u001b[0;34m.\u001b[0m\u001b[0m_session\u001b[0m\u001b[0;34m.\u001b[0m\u001b[0m_session\u001b[0m\u001b[0;34m,\u001b[0m \u001b[0mself\u001b[0m\u001b[0;34m.\u001b[0m\u001b[0m_handle\u001b[0m\u001b[0;34m,\u001b[0m \u001b[0margs\u001b[0m\u001b[0;34m,\u001b[0m \u001b[0mstatus\u001b[0m\u001b[0;34m,\u001b[0m\u001b[0;34m\u001b[0m\u001b[0;34m\u001b[0m\u001b[0m\n\u001b[0;32m-> 1439\u001b[0;31m               run_metadata_ptr)\n\u001b[0m\u001b[1;32m   1440\u001b[0m         \u001b[0;32mif\u001b[0m \u001b[0mrun_metadata\u001b[0m\u001b[0;34m:\u001b[0m\u001b[0;34m\u001b[0m\u001b[0;34m\u001b[0m\u001b[0m\n\u001b[1;32m   1441\u001b[0m           \u001b[0mproto_data\u001b[0m \u001b[0;34m=\u001b[0m \u001b[0mtf_session\u001b[0m\u001b[0;34m.\u001b[0m\u001b[0mTF_GetBuffer\u001b[0m\u001b[0;34m(\u001b[0m\u001b[0mrun_metadata_ptr\u001b[0m\u001b[0;34m)\u001b[0m\u001b[0;34m\u001b[0m\u001b[0;34m\u001b[0m\u001b[0m\n",
            "\u001b[0;32m/usr/local/lib/python3.6/dist-packages/tensorflow/python/framework/errors_impl.py\u001b[0m in \u001b[0;36m__exit__\u001b[0;34m(self, type_arg, value_arg, traceback_arg)\u001b[0m\n\u001b[1;32m    526\u001b[0m             \u001b[0;32mNone\u001b[0m\u001b[0;34m,\u001b[0m \u001b[0;32mNone\u001b[0m\u001b[0;34m,\u001b[0m\u001b[0;34m\u001b[0m\u001b[0;34m\u001b[0m\u001b[0m\n\u001b[1;32m    527\u001b[0m             \u001b[0mcompat\u001b[0m\u001b[0;34m.\u001b[0m\u001b[0mas_text\u001b[0m\u001b[0;34m(\u001b[0m\u001b[0mc_api\u001b[0m\u001b[0;34m.\u001b[0m\u001b[0mTF_Message\u001b[0m\u001b[0;34m(\u001b[0m\u001b[0mself\u001b[0m\u001b[0;34m.\u001b[0m\u001b[0mstatus\u001b[0m\u001b[0;34m.\u001b[0m\u001b[0mstatus\u001b[0m\u001b[0;34m)\u001b[0m\u001b[0;34m)\u001b[0m\u001b[0;34m,\u001b[0m\u001b[0;34m\u001b[0m\u001b[0;34m\u001b[0m\u001b[0m\n\u001b[0;32m--> 528\u001b[0;31m             c_api.TF_GetCode(self.status.status))\n\u001b[0m\u001b[1;32m    529\u001b[0m     \u001b[0;31m# Delete the underlying status object from memory otherwise it stays alive\u001b[0m\u001b[0;34m\u001b[0m\u001b[0;34m\u001b[0m\u001b[0;34m\u001b[0m\u001b[0m\n\u001b[1;32m    530\u001b[0m     \u001b[0;31m# as there is a reference to status from this from the traceback due to\u001b[0m\u001b[0;34m\u001b[0m\u001b[0;34m\u001b[0m\u001b[0;34m\u001b[0m\u001b[0m\n",
            "\u001b[0;31mInternalError\u001b[0m: Dst tensor is not initialized.\n\t [[{{node _arg_input_2_0_0}}]]\n\t [[{{node loss_12/mul}}]]"
          ]
        }
      ]
    },
    {
      "metadata": {
        "id": "uarF9jAauMdm",
        "colab_type": "code",
        "colab": {}
      },
      "cell_type": "code",
      "source": [
        ""
      ],
      "execution_count": 0,
      "outputs": []
    }
  ]
}