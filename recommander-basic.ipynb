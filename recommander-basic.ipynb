{
  "nbformat": 4,
  "nbformat_minor": 0,
  "metadata": {
    "colab": {
      "name": "Untitled27.ipynb",
      "version": "0.3.2",
      "provenance": [],
      "include_colab_link": true
    },
    "kernelspec": {
      "name": "python3",
      "display_name": "Python 3"
    }
  },
  "cells": [
    {
      "cell_type": "markdown",
      "metadata": {
        "id": "view-in-github",
        "colab_type": "text"
      },
      "source": [
        "<a href=\"https://colab.research.google.com/github/redman157/HocML/blob/master/recommander-basic.ipynb\" target=\"_parent\"><img src=\"https://colab.research.google.com/assets/colab-badge.svg\" alt=\"Open In Colab\"/></a>"
      ]
    },
    {
      "metadata": {
        "id": "JckfpiY9RVMK",
        "colab_type": "code",
        "colab": {
          "base_uri": "https://localhost:8080/",
          "height": 289
        },
        "outputId": "712bf526-8c65-4a8f-8760-87a1ca55127b"
      },
      "cell_type": "code",
      "source": [
        "!pip install lightfm"
      ],
      "execution_count": 11,
      "outputs": [
        {
          "output_type": "stream",
          "text": [
            "Requirement already satisfied: lightfm in /usr/local/lib/python3.6/dist-packages (1.15)\n",
            "Requirement already satisfied: requests in /usr/local/lib/python3.6/dist-packages (from lightfm) (2.18.4)\n",
            "Requirement already satisfied: scipy>=0.17.0 in /usr/local/lib/python3.6/dist-packages (from lightfm) (1.1.0)\n",
            "Requirement already satisfied: numpy in /usr/local/lib/python3.6/dist-packages (from lightfm) (1.14.6)\n",
            "Requirement already satisfied: chardet<3.1.0,>=3.0.2 in /usr/local/lib/python3.6/dist-packages (from requests->lightfm) (3.0.4)\n",
            "Requirement already satisfied: certifi>=2017.4.17 in /usr/local/lib/python3.6/dist-packages (from requests->lightfm) (2018.11.29)\n",
            "Requirement already satisfied: idna<2.7,>=2.5 in /usr/local/lib/python3.6/dist-packages (from requests->lightfm) (2.6)\n",
            "Requirement already satisfied: urllib3<1.23,>=1.21.1 in /usr/local/lib/python3.6/dist-packages (from requests->lightfm) (1.22)\n",
            "Requirement already satisfied: lightFM in /usr/local/lib/python3.6/dist-packages (1.15)\n",
            "Requirement already satisfied: scipy>=0.17.0 in /usr/local/lib/python3.6/dist-packages (from lightFM) (1.1.0)\n",
            "Requirement already satisfied: requests in /usr/local/lib/python3.6/dist-packages (from lightFM) (2.18.4)\n",
            "Requirement already satisfied: numpy in /usr/local/lib/python3.6/dist-packages (from lightFM) (1.14.6)\n",
            "Requirement already satisfied: chardet<3.1.0,>=3.0.2 in /usr/local/lib/python3.6/dist-packages (from requests->lightFM) (3.0.4)\n",
            "Requirement already satisfied: certifi>=2017.4.17 in /usr/local/lib/python3.6/dist-packages (from requests->lightFM) (2018.11.29)\n",
            "Requirement already satisfied: idna<2.7,>=2.5 in /usr/local/lib/python3.6/dist-packages (from requests->lightFM) (2.6)\n",
            "Requirement already satisfied: urllib3<1.23,>=1.21.1 in /usr/local/lib/python3.6/dist-packages (from requests->lightFM) (1.22)\n"
          ],
          "name": "stdout"
        }
      ]
    },
    {
      "metadata": {
        "id": "0UWmGpggRv4w",
        "colab_type": "code",
        "colab": {
          "base_uri": "https://localhost:8080/",
          "height": 578
        },
        "outputId": "2624ebb9-2057-4782-ec8d-3f3bc2f05d47"
      },
      "cell_type": "code",
      "source": [
        "import numpy as np\n",
        "import scipy\n",
        "from lightfm.datasets import fetch_movielens\n",
        "from lightfm import LightFM\n",
        "data = fetch_movielens(min_rating = 4.0)\n",
        "model = LightFM(loss = 'warp')\n",
        "model.fit(data['train'],\n",
        "          epochs=30,\n",
        "          num_threads = 2)\n",
        "def sample_recommendation(model,data,user_ids):\n",
        "  # lay so luong toan bo data\n",
        "  n_users, n_items = data['train'].shape\n",
        "  \n",
        "  for user_id in user_ids:\n",
        "    # tao ra recommendation cho moi user tham gia\n",
        "    known_positives = data['item_labels'][data['train'].tocsr()[user_id].indices]\n",
        "    # tra ve gia tri predict tuong ung voi so luong thich cua moi movie\n",
        "    scores = model.predict(user_id, np.arange(n_items))\n",
        "    # muc do danh gia xep hang thong qua luong thich\n",
        "    top_items = data['item_labels'][np.argsort(-scores)]\n",
        "    print(\"User %s\" % user_id)\n",
        "    print(\"     Known positives:\")\n",
        "\n",
        "    for x in known_positives[:3]:\n",
        "      print(\"        %s\" % x)\n",
        "      print(\"     Recommended:\")\n",
        "    for x in top_items[:3]:\n",
        "      print(\"        %s\" % x)\n",
        "\n",
        "sample_recommendation(model, data, [3, 25, 450])"
      ],
      "execution_count": 41,
      "outputs": [
        {
          "output_type": "stream",
          "text": [
            "User 3\n",
            "     Known positives:\n",
            "        Seven (Se7en) (1995)\n",
            "     Recommended:\n",
            "        Contact (1997)\n",
            "     Recommended:\n",
            "        Starship Troopers (1997)\n",
            "     Recommended:\n",
            "        Cop Land (1997)\n",
            "        Scream (1996)\n",
            "        Chasing Amy (1997)\n",
            "User 25\n",
            "     Known positives:\n",
            "        Dead Man Walking (1995)\n",
            "     Recommended:\n",
            "        Star Wars (1977)\n",
            "     Recommended:\n",
            "        Fargo (1996)\n",
            "     Recommended:\n",
            "        English Patient, The (1996)\n",
            "        Contact (1997)\n",
            "        Fargo (1996)\n",
            "User 450\n",
            "     Known positives:\n",
            "        Contact (1997)\n",
            "     Recommended:\n",
            "        George of the Jungle (1997)\n",
            "     Recommended:\n",
            "        Event Horizon (1997)\n",
            "     Recommended:\n",
            "        Kiss the Girls (1997)\n",
            "        I Know What You Did Last Summer (1997)\n",
            "        Scream (1996)\n"
          ],
          "name": "stdout"
        }
      ]
    },
    {
      "metadata": {
        "id": "nl_z8OVCRbA3",
        "colab_type": "code",
        "colab": {
          "base_uri": "https://localhost:8080/",
          "height": 163
        },
        "outputId": "04c80766-d0e2-477c-ffc9-3860c2c29c9d"
      },
      "cell_type": "code",
      "source": [
        "data['train']"
      ],
      "execution_count": 40,
      "outputs": [
        {
          "output_type": "error",
          "ename": "IndexError",
          "evalue": "ignored",
          "traceback": [
            "\u001b[0;31m---------------------------------------------------------------------------\u001b[0m",
            "\u001b[0;31mIndexError\u001b[0m                                Traceback (most recent call last)",
            "\u001b[0;32m<ipython-input-40-1c03361df79b>\u001b[0m in \u001b[0;36m<module>\u001b[0;34m()\u001b[0m\n\u001b[0;32m----> 1\u001b[0;31m \u001b[0mdata\u001b[0m\u001b[0;34m[\u001b[0m\u001b[0;34m'train'\u001b[0m\u001b[0;34m]\u001b[0m\u001b[0;34m\u001b[0m\u001b[0;34m\u001b[0m\u001b[0m\n\u001b[0m",
            "\u001b[0;31mIndexError\u001b[0m: only integers, slices (`:`), ellipsis (`...`), numpy.newaxis (`None`) and integer or boolean arrays are valid indices"
          ]
        }
      ]
    },
    {
      "metadata": {
        "id": "aYqV1ty6lf0o",
        "colab_type": "code",
        "colab": {}
      },
      "cell_type": "code",
      "source": [
        "from numpy import array\n",
        "from scipy.sparse import coo_matrix\n",
        "row  = array([0,0,1,3,1,0,0])\n",
        "col  = array([0,2,1,3,1,0,0])\n",
        "data = array([1,1,1,1,1,1,1])\n",
        "A = coo_matrix( (data,(row,col)), shape=(5,5)).tocsr()\n",
        "#known_positives = data['item_labels'][data['train'].tocsr()[user_id].indices]\n",
        " "
      ],
      "execution_count": 0,
      "outputs": []
    },
    {
      "metadata": {
        "id": "5N5mADh_yxcF",
        "colab_type": "code",
        "colab": {
          "base_uri": "https://localhost:8080/",
          "height": 136
        },
        "outputId": "ba0b261c-6652-499a-f2b1-d06095e86027"
      },
      "cell_type": "code",
      "source": [
        "print(row)\n",
        "print(col)\n",
        "print(data)\n",
        "print(A)"
      ],
      "execution_count": 34,
      "outputs": [
        {
          "output_type": "stream",
          "text": [
            "[0 0 1 3 1 0 0]\n",
            "[0 2 1 3 1 0 0]\n",
            "[1 1 1 1 1 1 1]\n",
            "  (0, 0)\t3\n",
            "  (0, 2)\t1\n",
            "  (1, 1)\t2\n",
            "  (3, 3)\t1\n"
          ],
          "name": "stdout"
        }
      ]
    },
    {
      "metadata": {
        "id": "JHhni_6Ry6lV",
        "colab_type": "code",
        "colab": {
          "base_uri": "https://localhost:8080/",
          "height": 68
        },
        "outputId": "2a2158d7-6d37-4305-9eea-1de4aa40aa36"
      },
      "cell_type": "code",
      "source": [
        "data['item_labels']\n"
      ],
      "execution_count": 44,
      "outputs": [
        {
          "output_type": "execute_result",
          "data": {
            "text/plain": [
              "array(['Toy Story (1995)', 'GoldenEye (1995)', 'Four Rooms (1995)', ...,\n",
              "       'Sliding Doors (1998)', 'You So Crazy (1994)',\n",
              "       'Scream of Stone (Schrei aus Stein) (1991)'], dtype=object)"
            ]
          },
          "metadata": {
            "tags": []
          },
          "execution_count": 44
        }
      ]
    },
    {
      "metadata": {
        "id": "40r-2khF5m7-",
        "colab_type": "code",
        "colab": {
          "base_uri": "https://localhost:8080/",
          "height": 51
        },
        "outputId": "732eaca6-f5a9-403a-e787-5d909dc68081"
      },
      "cell_type": "code",
      "source": [
        "data['train']"
      ],
      "execution_count": 45,
      "outputs": [
        {
          "output_type": "execute_result",
          "data": {
            "text/plain": [
              "<943x1682 sparse matrix of type '<class 'numpy.float32'>'\n",
              "\twith 49906 stored elements in COOrdinate format>"
            ]
          },
          "metadata": {
            "tags": []
          },
          "execution_count": 45
        }
      ]
    },
    {
      "metadata": {
        "id": "VJYiQr1y6KO1",
        "colab_type": "code",
        "colab": {}
      },
      "cell_type": "code",
      "source": [
        ""
      ],
      "execution_count": 0,
      "outputs": []
    }
  ]
}