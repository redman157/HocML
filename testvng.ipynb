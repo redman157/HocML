{
  "nbformat": 4,
  "nbformat_minor": 0,
  "metadata": {
    "colab": {
      "name": "Untitled19.ipynb",
      "version": "0.3.2",
      "provenance": [],
      "include_colab_link": true
    },
    "kernelspec": {
      "name": "python3",
      "display_name": "Python 3"
    }
  },
  "cells": [
    {
      "cell_type": "markdown",
      "metadata": {
        "id": "view-in-github",
        "colab_type": "text"
      },
      "source": [
        "<a href=\"https://colab.research.google.com/github/redman157/HocML/blob/master/testvng.ipynb\" target=\"_parent\"><img src=\"https://colab.research.google.com/assets/colab-badge.svg\" alt=\"Open In Colab\"/></a>"
      ]
    },
    {
      "metadata": {
        "id": "CWr6gX0ibwNN",
        "colab_type": "code",
        "outputId": "87c04b91-1be4-4c0a-fc65-0fdcdded371c",
        "colab": {
          "base_uri": "https://localhost:8080/",
          "height": 54
        }
      },
      "cell_type": "code",
      "source": [
        "import string\n",
        "import random\n",
        "array = []\n",
        "for i in range(10):\n",
        "  i = random.choice(string.ascii_lowercase[:])\n",
        "  array.pa"
      ],
      "execution_count": 0,
      "outputs": [
        {
          "output_type": "stream",
          "text": [
            "['x', 'n', 'u', 'n', 'h', 'm', 't', 'j', 'z', 'g', 'm', 'd', 'y', 'e', 'x', 'w', 't', 'w', 'l', 'e', 'z', 'p', 'q', 'x', 'j', 'q', 's', 'f', 'z', 'k', 'p', 'r', 'q', 't', 'o', 'h', 'd', 'r', 'h', 'u', 'f', 'b', 'x', 'x', 'n', 'z', 'u', 'y', 'v', 'i', 'p', 'r', 'y', 'l', 'l', 'v', 'z', 'j', 'x', 'h', 'b', 'g', 'k', 'u', 'r', 'k', 'n', 'h', 'v', 'l', 'e', 'u', 'f', 'r', 'j', 'r', 't', 't', 'n', 'r', 'l', 'd', 'a', 'r', 'k', 'j', 'u', 'l', 'g', 'u', 'p', 'c', 'r', 'u', 'r', 'j', 'n', 'g', 'd', 'r']\n"
          ],
          "name": "stdout"
        }
      ]
    },
    {
      "metadata": {
        "id": "cPHZX2SRb5hx",
        "colab_type": "code",
        "outputId": "0b32451b-385f-4f82-d89e-1be4011e75f1",
        "colab": {
          "base_uri": "https://localhost:8080/",
          "height": 102
        }
      },
      "cell_type": "code",
      "source": [
        "rocks = [set(input()) for _ in range(int(input()))]\n",
        "for i in range(int)\n",
        "gems = set.intersection(*rocks)\n",
        "print(len(gems))"
      ],
      "execution_count": 0,
      "outputs": [
        {
          "output_type": "stream",
          "text": [
            "3\n",
            "abcde\n",
            "abcdq\n",
            "abcdt\n",
            "4\n"
          ],
          "name": "stdout"
        }
      ]
    },
    {
      "metadata": {
        "id": "IVDw9YIemPts",
        "colab_type": "code",
        "outputId": "1331db13-d8d9-495d-b6c4-c82a78984738",
        "colab": {
          "base_uri": "https://localhost:8080/",
          "height": 34
        }
      },
      "cell_type": "code",
      "source": [
        "string.ascii_lowercase[:]"
      ],
      "execution_count": 0,
      "outputs": [
        {
          "output_type": "execute_result",
          "data": {
            "text/plain": [
              "'abcdefghijklmnopqrstuvwxyz'"
            ]
          },
          "metadata": {
            "tags": []
          },
          "execution_count": 31
        }
      ]
    },
    {
      "metadata": {
        "id": "9U2WQ6gahVNn",
        "colab_type": "code",
        "colab": {}
      },
      "cell_type": "code",
      "source": [
        "import os \n",
        "import string\n",
        "import random\n",
        "from random import randint\n",
        "import numpy as np\n",
        "array = ''\n",
        "n = randint(0,4)\n",
        "for i in range(10):\n",
        "  for j in range(i):\n",
        "    j = ''.join([(random.choice(string.ascii_lowercase[:])) for _ in range(3)])\n",
        "    print(j)\n",
        "    for k in j:\n",
        "      if not k in array:\n",
        "        array += k\n",
        "print(array)"
      ],
      "execution_count": 0,
      "outputs": []
    },
    {
      "metadata": {
        "id": "iSVLg6AQlYlZ",
        "colab_type": "code",
        "colab": {}
      },
      "cell_type": "code",
      "source": [
        "def gemstones(arr,n):\n",
        "    count = 0\n",
        "    array = ''\n",
        "    for i in range(0,n):\n",
        "      for j in arr[0]:\n",
        "        print(j)\n",
        "        if j in arr[i] and not j in array:\n",
        "          array += j\n",
        "          count = count+1      \n",
        "    return array, count\n",
        "num = 3\n",
        "array = ['abcdde', 'baccd', 'eeabg']\n",
        "print(gemstones(array,num))"
      ],
      "execution_count": 0,
      "outputs": []
    },
    {
      "metadata": {
        "id": "IfKZ7oSPjFF9",
        "colab_type": "code",
        "colab": {
          "base_uri": "https://localhost:8080/",
          "height": 85
        },
        "outputId": "b4a09329-0977-4462-9a63-486fa21762b8"
      },
      "cell_type": "code",
      "source": [
        "list_gems = ['abc','abrt','braw']\n",
        "result = []\n",
        "#def selec_gems(bag_gem,list_gems)\n",
        "#for bag_gem in list_gems:\n",
        "      \n",
        "      \n",
        "\n",
        "for gems in list_gems:\n",
        "  for gem in gems:\n",
        "# in ra cac gem giong nhau va khac nhau\n",
        "    if not gem in result: \n",
        "     if gem in list_gems is True:\n",
        "        bag_gem.append(gem)\n",
        "print(bag_gem)\n",
        "  \n",
        "  \n",
        "\n",
        "\n",
        "\n",
        "\n"
      ],
      "execution_count": 113,
      "outputs": [
        {
          "output_type": "stream",
          "text": [
            "abc\n",
            "abrt\n",
            "braw\n",
            "['a']\n"
          ],
          "name": "stdout"
        }
      ]
    },
    {
      "metadata": {
        "id": "C6XIxtoZ8KCa",
        "colab_type": "code",
        "colab": {
          "base_uri": "https://localhost:8080/",
          "height": 231
        },
        "outputId": "6e3e7e8a-fc5e-42ee-a17f-2433992d5aea"
      },
      "cell_type": "code",
      "source": [
        "n = 3\n",
        "gemElements = set(raw_input().strip())\n",
        "for _ in range(n-1):\n",
        "    gemString = set(raw_input().strip())\n",
        "    gemElements.intersection_update(gemString)\n",
        "\n",
        "print(len(gemElements))"
      ],
      "execution_count": 96,
      "outputs": [
        {
          "output_type": "error",
          "ename": "NameError",
          "evalue": "ignored",
          "traceback": [
            "\u001b[0;31m---------------------------------------------------------------------------\u001b[0m",
            "\u001b[0;31mNameError\u001b[0m                                 Traceback (most recent call last)",
            "\u001b[0;32m<ipython-input-96-6cfd2c0644a4>\u001b[0m in \u001b[0;36m<module>\u001b[0;34m()\u001b[0m\n\u001b[1;32m      1\u001b[0m \u001b[0mn\u001b[0m \u001b[0;34m=\u001b[0m \u001b[0;36m3\u001b[0m\u001b[0;34m\u001b[0m\u001b[0;34m\u001b[0m\u001b[0m\n\u001b[0;32m----> 2\u001b[0;31m \u001b[0mgemElements\u001b[0m \u001b[0;34m=\u001b[0m \u001b[0mset\u001b[0m\u001b[0;34m(\u001b[0m\u001b[0mraw_input\u001b[0m\u001b[0;34m(\u001b[0m\u001b[0;34m)\u001b[0m\u001b[0;34m.\u001b[0m\u001b[0mstrip\u001b[0m\u001b[0;34m(\u001b[0m\u001b[0;34m)\u001b[0m\u001b[0;34m)\u001b[0m\u001b[0;34m\u001b[0m\u001b[0;34m\u001b[0m\u001b[0m\n\u001b[0m\u001b[1;32m      3\u001b[0m \u001b[0;32mfor\u001b[0m \u001b[0m_\u001b[0m \u001b[0;32min\u001b[0m \u001b[0mrange\u001b[0m\u001b[0;34m(\u001b[0m\u001b[0mn\u001b[0m\u001b[0;34m-\u001b[0m\u001b[0;36m1\u001b[0m\u001b[0;34m)\u001b[0m\u001b[0;34m:\u001b[0m\u001b[0;34m\u001b[0m\u001b[0;34m\u001b[0m\u001b[0m\n\u001b[1;32m      4\u001b[0m     \u001b[0mgemString\u001b[0m \u001b[0;34m=\u001b[0m \u001b[0mset\u001b[0m\u001b[0;34m(\u001b[0m\u001b[0mraw_input\u001b[0m\u001b[0;34m(\u001b[0m\u001b[0;34m)\u001b[0m\u001b[0;34m.\u001b[0m\u001b[0mstrip\u001b[0m\u001b[0;34m(\u001b[0m\u001b[0;34m)\u001b[0m\u001b[0;34m)\u001b[0m\u001b[0;34m\u001b[0m\u001b[0;34m\u001b[0m\u001b[0m\n\u001b[1;32m      5\u001b[0m     \u001b[0mgemElements\u001b[0m\u001b[0;34m.\u001b[0m\u001b[0mintersection_update\u001b[0m\u001b[0;34m(\u001b[0m\u001b[0mgemString\u001b[0m\u001b[0;34m)\u001b[0m\u001b[0;34m\u001b[0m\u001b[0;34m\u001b[0m\u001b[0m\n",
            "\u001b[0;31mNameError\u001b[0m: name 'raw_input' is not defined"
          ]
        }
      ]
    },
    {
      "metadata": {
        "id": "fT9i42WymNNn",
        "colab_type": "code",
        "colab": {}
      },
      "cell_type": "code",
      "source": [
        "|"
      ],
      "execution_count": 0,
      "outputs": []
    }
  ]
}