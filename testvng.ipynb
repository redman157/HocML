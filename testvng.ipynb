{
  "nbformat": 4,
  "nbformat_minor": 0,
  "metadata": {
    "colab": {
      "name": "Untitled19.ipynb",
      "version": "0.3.2",
      "provenance": [],
      "include_colab_link": true
    },
    "kernelspec": {
      "name": "python3",
      "display_name": "Python 3"
    }
  },
  "cells": [
    {
      "cell_type": "markdown",
      "metadata": {
        "id": "view-in-github",
        "colab_type": "text"
      },
      "source": [
        "<a href=\"https://colab.research.google.com/github/redman157/HocML/blob/master/testvng.ipynb\" target=\"_parent\"><img src=\"https://colab.research.google.com/assets/colab-badge.svg\" alt=\"Open In Colab\"/></a>"
      ]
    },
    {
      "metadata": {
        "id": "CWr6gX0ibwNN",
        "colab_type": "code",
        "colab": {
          "base_uri": "https://localhost:8080/",
          "height": 54
        },
        "outputId": "87c04b91-1be4-4c0a-fc65-0fdcdded371c"
      },
      "cell_type": "code",
      "source": [
        "import string\n",
        "import random\n",
        "array = []\n",
        "for i in range(10):\n",
        "  i = random.choice(string.ascii_lowercase[:])\n",
        "  array.pa"
      ],
      "execution_count": 15,
      "outputs": [
        {
          "output_type": "stream",
          "text": [
            "['x', 'n', 'u', 'n', 'h', 'm', 't', 'j', 'z', 'g', 'm', 'd', 'y', 'e', 'x', 'w', 't', 'w', 'l', 'e', 'z', 'p', 'q', 'x', 'j', 'q', 's', 'f', 'z', 'k', 'p', 'r', 'q', 't', 'o', 'h', 'd', 'r', 'h', 'u', 'f', 'b', 'x', 'x', 'n', 'z', 'u', 'y', 'v', 'i', 'p', 'r', 'y', 'l', 'l', 'v', 'z', 'j', 'x', 'h', 'b', 'g', 'k', 'u', 'r', 'k', 'n', 'h', 'v', 'l', 'e', 'u', 'f', 'r', 'j', 'r', 't', 't', 'n', 'r', 'l', 'd', 'a', 'r', 'k', 'j', 'u', 'l', 'g', 'u', 'p', 'c', 'r', 'u', 'r', 'j', 'n', 'g', 'd', 'r']\n"
          ],
          "name": "stdout"
        }
      ]
    },
    {
      "metadata": {
        "id": "cPHZX2SRb5hx",
        "colab_type": "code",
        "colab": {
          "base_uri": "https://localhost:8080/",
          "height": 102
        },
        "outputId": "0b32451b-385f-4f82-d89e-1be4011e75f1"
      },
      "cell_type": "code",
      "source": [
        "rocks = [set(input()) for _ in range(int(input()))]\n",
        "for i in range(int)\n",
        "gems = set.intersection(*rocks)\n",
        "print(len(gems))"
      ],
      "execution_count": 22,
      "outputs": [
        {
          "output_type": "stream",
          "text": [
            "3\n",
            "abcde\n",
            "abcdq\n",
            "abcdt\n",
            "4\n"
          ],
          "name": "stdout"
        }
      ]
    },
    {
      "metadata": {
        "id": "IVDw9YIemPts",
        "colab_type": "code",
        "colab": {
          "base_uri": "https://localhost:8080/",
          "height": 34
        },
        "outputId": "1331db13-d8d9-495d-b6c4-c82a78984738"
      },
      "cell_type": "code",
      "source": [
        "string.ascii_lowercase[:]"
      ],
      "execution_count": 31,
      "outputs": [
        {
          "output_type": "execute_result",
          "data": {
            "text/plain": [
              "'abcdefghijklmnopqrstuvwxyz'"
            ]
          },
          "metadata": {
            "tags": []
          },
          "execution_count": 31
        }
      ]
    },
    {
      "metadata": {
        "id": "9U2WQ6gahVNn",
        "colab_type": "code",
        "colab": {
          "base_uri": "https://localhost:8080/",
          "height": 68
        },
        "outputId": "a718357e-d2d5-4dee-ca5d-a9eda899e7f9"
      },
      "cell_type": "code",
      "source": [
        "import os \n",
        "import string\n",
        "import random\n",
        "from random import randint\n",
        "import numpy as np\n",
        "array = []\n",
        "n = randint(0,4)\n",
        "for i in range(3):\n",
        "  for j in range(i):\n",
        "    j = ''.join([(random.choice(string.ascii_lowercase[:])) for _ in range(3)])\n",
        "    print(j)\n",
        "    for k in j:\n",
        "      if()"
      ],
      "execution_count": 61,
      "outputs": [
        {
          "output_type": "stream",
          "text": [
            "bpk\n",
            "zvd\n",
            "xqy\n"
          ],
          "name": "stdout"
        }
      ]
    },
    {
      "metadata": {
        "id": "iSVLg6AQlYlZ",
        "colab_type": "code",
        "colab": {}
      },
      "cell_type": "code",
      "source": [
        ""
      ],
      "execution_count": 0,
      "outputs": []
    }
  ]
}