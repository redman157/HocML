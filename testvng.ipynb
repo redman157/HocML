{
  "nbformat": 4,
  "nbformat_minor": 0,
  "metadata": {
    "colab": {
      "name": "Untitled19.ipynb",
      "version": "0.3.2",
      "provenance": [],
      "include_colab_link": true
    },
    "kernelspec": {
      "name": "python3",
      "display_name": "Python 3"
    }
  },
  "cells": [
    {
      "cell_type": "markdown",
      "metadata": {
        "id": "view-in-github",
        "colab_type": "text"
      },
      "source": [
        "<a href=\"https://colab.research.google.com/github/redman157/HocML/blob/master/testvng.ipynb\" target=\"_parent\"><img src=\"https://colab.research.google.com/assets/colab-badge.svg\" alt=\"Open In Colab\"/></a>"
      ]
    },
    {
      "metadata": {
        "id": "CWr6gX0ibwNN",
        "colab_type": "code",
        "outputId": "87c04b91-1be4-4c0a-fc65-0fdcdded371c",
        "colab": {
          "base_uri": "https://localhost:8080/",
          "height": 54
        }
      },
      "cell_type": "code",
      "source": [
        "#funny string \n",
        "import string\n",
        "s = 'bcxz'\n",
        "#print(len(s))\n",
        "r = reversed(s)\n",
        "arr = string.ascii_lowercase[:]\n",
        "array = []\n",
        "left = 0\n",
        "right = 0\n",
        "for index,inputs in enumerate(arr):  \n",
        "  if(inputs in s):\n",
        "    array.append(index)\n",
        "a = int(len(array)/2)\n",
        "for i in range(0,a):\n",
        "  left += (array[i])\n",
        "for i in range(a,len(array)):\n",
        "   right+= (25 - array[i])\n",
        "\n",
        "if right == left:\n",
        "  print('funny')\n",
        "else:\n",
        "  print('notfunny')"
      ],
      "execution_count": 0,
      "outputs": [
        {
          "output_type": "stream",
          "text": [
            "['x', 'n', 'u', 'n', 'h', 'm', 't', 'j', 'z', 'g', 'm', 'd', 'y', 'e', 'x', 'w', 't', 'w', 'l', 'e', 'z', 'p', 'q', 'x', 'j', 'q', 's', 'f', 'z', 'k', 'p', 'r', 'q', 't', 'o', 'h', 'd', 'r', 'h', 'u', 'f', 'b', 'x', 'x', 'n', 'z', 'u', 'y', 'v', 'i', 'p', 'r', 'y', 'l', 'l', 'v', 'z', 'j', 'x', 'h', 'b', 'g', 'k', 'u', 'r', 'k', 'n', 'h', 'v', 'l', 'e', 'u', 'f', 'r', 'j', 'r', 't', 't', 'n', 'r', 'l', 'd', 'a', 'r', 'k', 'j', 'u', 'l', 'g', 'u', 'p', 'c', 'r', 'u', 'r', 'j', 'n', 'g', 'd', 'r']\n"
          ],
          "name": "stdout"
        }
      ]
    },
    {
      "metadata": {
        "id": "IfKZ7oSPjFF9",
        "colab_type": "code",
        "outputId": "8af292ff-1879-4c5b-a955-ee798e23fd4c",
        "colab": {
          "base_uri": "https://localhost:8080/",
          "height": 34
        }
      },
      "cell_type": "code",
      "source": [
        "#gem stone\n",
        "list_gems = ['abcdde','baccdf','eeabgf']\n",
        "result = set(list_gems[0])\n",
        "\n",
        "#def selec_gems(bag_gem,list_gems)\n",
        "#for bag_gem in list_gems:\n",
        "for gem in list_gems[1:]:\n",
        "    result = result & set(gem)\n",
        "print(result)\n"
      ],
      "execution_count": 0,
      "outputs": [
        {
          "output_type": "stream",
          "text": [
            "{'a', 'b'}\n"
          ],
          "name": "stdout"
        }
      ]
    },
    {
      "metadata": {
        "id": "C6XIxtoZ8KCa",
        "colab_type": "code",
        "outputId": "3c9da425-7cdc-4ef5-a2cd-7ee806b78991",
        "colab": {
          "base_uri": "https://localhost:8080/",
          "height": 68
        }
      },
      "cell_type": "code",
      "source": [
        "#ice cream\n",
        "for index_0, val_0 in enumerate(arr):\n",
        "  # danh dau gia tri value trong arr la 0 > n tuong ung voi val\n",
        "  for index_1, val_1 in enumerate(arr):\n",
        "    if index_0 == index_1:\n",
        "      continue\n",
        "    elif(val_0 + val_1) == m:\n",
        "      return [index_0 + 1, index_1 + 1]\n",
        "else:\n",
        "  return None"
      ],
      "execution_count": 0,
      "outputs": [
        {
          "output_type": "stream",
          "text": [
            "1 3\n",
            "\n",
            "\n"
          ],
          "name": "stdout"
        }
      ]
    },
    {
      "metadata": {
        "id": "fT9i42WymNNn",
        "colab_type": "code",
        "outputId": "49d69eab-24a1-4afa-b0fa-b6a670436812",
        "colab": {
          "base_uri": "https://localhost:8080/",
          "height": 34
        }
      },
      "cell_type": "code",
      "source": [
        "list_gems = ['abcdde','baccd','eeabg']\n",
        "result = list_gems[0]\n",
        "for gem in list_gems[1:]:\n",
        "  result = set(result).intersection(gem)\n",
        "print(result)"
      ],
      "execution_count": 0,
      "outputs": [
        {
          "output_type": "stream",
          "text": [
            "{'a', 'b'}\n"
          ],
          "name": "stdout"
        }
      ]
    },
    {
      "metadata": {
        "id": "zKX09BRA-Iby",
        "colab_type": "code",
        "outputId": "d0b9e0c5-a332-438b-bd52-85923632e7fe",
        "colab": {
          "base_uri": "https://localhost:8080/",
          "height": 136
        }
      },
      "cell_type": "code",
      "source": [
        "arr = [1,4,5,3,2]\n",
        "m = 4\n",
        "for index0, val0 in enumerate(arr):\n",
        "  for index1, val1 in enumerate(arr):\n",
        "      if(index0 == index1):\n",
        "        print(index0,index1)\n",
        "        continue\n",
        "      if(val0 + val1) == m:\n",
        "        print([index0 +1, index1+1])\n",
        "         \n"
      ],
      "execution_count": 0,
      "outputs": [
        {
          "output_type": "stream",
          "text": [
            "0 0\n",
            "[1, 4]\n",
            "1 1\n",
            "2 2\n",
            "[4, 1]\n",
            "3 3\n",
            "4 4\n"
          ],
          "name": "stdout"
        }
      ]
    },
    {
      "metadata": {
        "id": "vtD9Aymn_6sJ",
        "colab_type": "code",
        "colab": {}
      },
      "cell_type": "code",
      "source": [
        "#Caesar Cipher\n",
        "arr = 'abcdefghijklmnopqrstuvwxyz'\n",
        "text = '' \n",
        "num = []\n",
        "st = 'middle-Outz'\n",
        "k = 2\n",
        "lowers = [chr(i) for i in range(ord('a'),ord('z')+1)]\n",
        "upers = [chr(i) for i in range(ord('A'),ord('Z')+1)]\n",
        "\n",
        "for char in st:\n",
        "  if char in lowers:\n",
        "    text += lowers[(lowers.index(char)+k)%26]\n",
        "  elif char in upers:\n",
        "    text += upers[(upers.index(char)+k)%26]\n",
        "  else:\n",
        "    text += char\n",
        "print(text)"
      ],
      "execution_count": 0,
      "outputs": []
    },
    {
      "metadata": {
        "id": "Nh0UuZBQ3nuC",
        "colab_type": "code",
        "colab": {}
      },
      "cell_type": "code",
      "source": [
        "#Quick Sort\n",
        "pivot = 4\n",
        "left = []\n",
        "right = []\n",
        "equal = []\n",
        "arr = [5,7,4,3,8]\n",
        "div = int(len(arr) / 2)\n",
        "\n",
        "# for lef in range(0,div):\n",
        "#   left.append(arr[lef])\n",
        "\n",
        "# for rig in range(div,len(arr)):\n",
        "#   right.append(arr[rig])\n",
        "\n",
        "for index,val in enumerate(arr): \n",
        "  print(index,val)\n",
        "  if(val < pivot):\n",
        "    left.append(index)\n",
        "print(left)"
      ],
      "execution_count": 0,
      "outputs": []
    },
    {
      "metadata": {
        "id": "6TV0_awv3rc4",
        "colab_type": "code",
        "colab": {}
      },
      "cell_type": "code",
      "source": [
        "# big sort\n",
        "\n",
        "#arr = [8,1,2,100,12303479849857341718340192371,3084193741082937,3084193741082938,111,200]\n",
        "\n",
        "arr = [1,4,6,2,3,9]\n",
        "sort = []\n",
        "arr0 = (arr[0])\n",
        "for index,val0 in enumerate(arr):\n",
        "  pass\n",
        "for i in range(1,index+1):\n",
        "  curr = arr[i]\n",
        "  # arr[0] = 1\n",
        "  j = i - 1\n",
        "  while j>= 0 and curr < arr[j]:\n",
        "    arr[j+1] = arr[j]\n",
        "    j -= 1\n",
        "  arr[j+1] = curr\n",
        "print(arr)"
      ],
      "execution_count": 0,
      "outputs": []
    },
    {
      "metadata": {
        "id": "BrcK97YL3wCq",
        "colab_type": "code",
        "colab": {}
      },
      "cell_type": "code",
      "source": [
        "arr = [1,4,6,2,3,9]\n",
        "sort = []\n",
        "arr0 = (arr[0])\n",
        "def swap(a,b):\n",
        "  temp = 0\n",
        "  temp = a\n",
        "  a = b\n",
        "  b = temp\n",
        "  return a,b\n",
        "for index,val0 in enumerate(arr):\n",
        "  pass\n",
        "for i in range(1,index+1):\n",
        "  curr = arr[i]\n",
        "  # i = 1>>> arr[1] = 4\n",
        "  # curr = 4 \n",
        "  for j in range(0,index):\n",
        "    if(curr > arr[j]):\n",
        "      swap(curr,arr[j])\n",
        "    arr[j+1] = curr\n",
        "print(arr)"
      ],
      "execution_count": 0,
      "outputs": []
    }
  ]
}