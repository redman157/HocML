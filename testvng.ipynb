{
  "nbformat": 4,
  "nbformat_minor": 0,
  "metadata": {
    "colab": {
      "name": "Untitled19.ipynb",
      "version": "0.3.2",
      "provenance": [],
      "include_colab_link": true
    },
    "kernelspec": {
      "name": "python3",
      "display_name": "Python 3"
    }
  },
  "cells": [
    {
      "cell_type": "markdown",
      "metadata": {
        "id": "view-in-github",
        "colab_type": "text"
      },
      "source": [
        "<a href=\"https://colab.research.google.com/github/redman157/HocML/blob/master/testvng.ipynb\" target=\"_parent\"><img src=\"https://colab.research.google.com/assets/colab-badge.svg\" alt=\"Open In Colab\"/></a>"
      ]
    },
    {
      "metadata": {
        "id": "CWr6gX0ibwNN",
        "colab_type": "code",
        "outputId": "87c04b91-1be4-4c0a-fc65-0fdcdded371c",
        "colab": {
          "base_uri": "https://localhost:8080/",
          "height": 54
        }
      },
      "cell_type": "code",
      "source": [
        "import string\n",
        "import random\n",
        "array = []\n",
        "for i in range(10):\n",
        "  i = random.choice(string.ascii_lowercase[:])\n",
        "  array.pa"
      ],
      "execution_count": 0,
      "outputs": [
        {
          "output_type": "stream",
          "text": [
            "['x', 'n', 'u', 'n', 'h', 'm', 't', 'j', 'z', 'g', 'm', 'd', 'y', 'e', 'x', 'w', 't', 'w', 'l', 'e', 'z', 'p', 'q', 'x', 'j', 'q', 's', 'f', 'z', 'k', 'p', 'r', 'q', 't', 'o', 'h', 'd', 'r', 'h', 'u', 'f', 'b', 'x', 'x', 'n', 'z', 'u', 'y', 'v', 'i', 'p', 'r', 'y', 'l', 'l', 'v', 'z', 'j', 'x', 'h', 'b', 'g', 'k', 'u', 'r', 'k', 'n', 'h', 'v', 'l', 'e', 'u', 'f', 'r', 'j', 'r', 't', 't', 'n', 'r', 'l', 'd', 'a', 'r', 'k', 'j', 'u', 'l', 'g', 'u', 'p', 'c', 'r', 'u', 'r', 'j', 'n', 'g', 'd', 'r']\n"
          ],
          "name": "stdout"
        }
      ]
    },
    {
      "metadata": {
        "id": "cPHZX2SRb5hx",
        "colab_type": "code",
        "outputId": "0b32451b-385f-4f82-d89e-1be4011e75f1",
        "colab": {
          "base_uri": "https://localhost:8080/",
          "height": 102
        }
      },
      "cell_type": "code",
      "source": [
        "rocks = [set(input()) for _ in range(int(input()))]\n",
        "for i in range(int)\n",
        "gems = set.intersection(*rocks)\n",
        "print(len(gems))"
      ],
      "execution_count": 0,
      "outputs": [
        {
          "output_type": "stream",
          "text": [
            "3\n",
            "abcde\n",
            "abcdq\n",
            "abcdt\n",
            "4\n"
          ],
          "name": "stdout"
        }
      ]
    },
    {
      "metadata": {
        "id": "IVDw9YIemPts",
        "colab_type": "code",
        "outputId": "1331db13-d8d9-495d-b6c4-c82a78984738",
        "colab": {
          "base_uri": "https://localhost:8080/",
          "height": 34
        }
      },
      "cell_type": "code",
      "source": [
        "string.ascii_lowercase[:]"
      ],
      "execution_count": 0,
      "outputs": [
        {
          "output_type": "execute_result",
          "data": {
            "text/plain": [
              "'abcdefghijklmnopqrstuvwxyz'"
            ]
          },
          "metadata": {
            "tags": []
          },
          "execution_count": 31
        }
      ]
    },
    {
      "metadata": {
        "id": "9U2WQ6gahVNn",
        "colab_type": "code",
        "colab": {}
      },
      "cell_type": "code",
      "source": [
        "import os \n",
        "import string\n",
        "import random\n",
        "from random import randint\n",
        "import numpy as np\n",
        "array = ''\n",
        "n = randint(0,4)\n",
        "for i in range(10):\n",
        "  for j in range(i):\n",
        "    j = ''.join([(random.choice(string.ascii_lowercase[:])) for _ in range(3)])\n",
        "    print(j)\n",
        "    for k in j:\n",
        "      if not k in array:\n",
        "        array += k\n",
        "print(array)"
      ],
      "execution_count": 0,
      "outputs": []
    },
    {
      "metadata": {
        "id": "iSVLg6AQlYlZ",
        "colab_type": "code",
        "colab": {}
      },
      "cell_type": "code",
      "source": [
        "def gemstones(arr,n):\n",
        "    count = 0\n",
        "    array = ''\n",
        "    for i in range(0,n):\n",
        "      for j in arr[0]:\n",
        "        print(j)\n",
        "        if j in arr[i] and not j in array:\n",
        "          array += j\n",
        "          count = count+1      \n",
        "    return array, count\n",
        "num = 3\n",
        "array = ['abcdde', 'baccd', 'eeabg']\n",
        "print(gemstones(array,num))"
      ],
      "execution_count": 0,
      "outputs": []
    },
    {
      "metadata": {
        "id": "IfKZ7oSPjFF9",
        "colab_type": "code",
        "outputId": "8af292ff-1879-4c5b-a955-ee798e23fd4c",
        "colab": {
          "base_uri": "https://localhost:8080/",
          "height": 34
        }
      },
      "cell_type": "code",
      "source": [
        "list_gems = ['abcdde','baccdf','eeabgf']\n",
        "result = set(list_gems[0])\n",
        "\n",
        "#def selec_gems(bag_gem,list_gems)\n",
        "#for bag_gem in list_gems:\n",
        "for gem in list_gems[1:]:\n",
        "    result = result & set(gem)\n",
        "print(result)\n"
      ],
      "execution_count": 4,
      "outputs": [
        {
          "output_type": "stream",
          "text": [
            "{'a', 'b'}\n"
          ],
          "name": "stdout"
        }
      ]
    },
    {
      "metadata": {
        "id": "C6XIxtoZ8KCa",
        "colab_type": "code",
        "outputId": "3c9da425-7cdc-4ef5-a2cd-7ee806b78991",
        "colab": {
          "base_uri": "https://localhost:8080/",
          "height": 68
        }
      },
      "cell_type": "code",
      "source": [
        "for index_0, val_0 in enumerate(arr):\n",
        "  # danh dau gia tri value trong arr la 0 > n tuong ung voi val\n",
        "  for index_1, val_1 in enumerate(arr):\n",
        "    if index_0 == index_1:\n",
        "      continue\n",
        "    elif(val_0 + val_1) == m:\n",
        "      return [index_0 + 1, index_1 + 1]\n",
        "else:\n",
        "  return None"
      ],
      "execution_count": 12,
      "outputs": [
        {
          "output_type": "stream",
          "text": [
            "1 3\n",
            "\n",
            "\n"
          ],
          "name": "stdout"
        }
      ]
    },
    {
      "metadata": {
        "id": "Zw4gM46rV_kI",
        "colab_type": "code",
        "colab": {
          "base_uri": "https://localhost:8080/",
          "height": 34
        },
        "outputId": "7f8d105b-6f94-46c0-a55e-4591f107b9b1"
      },
      "cell_type": "code",
      "source": [
        "' '.join(map(str, [1, 2]))"
      ],
      "execution_count": 11,
      "outputs": [
        {
          "output_type": "execute_result",
          "data": {
            "text/plain": [
              "'1 2'"
            ]
          },
          "metadata": {
            "tags": []
          },
          "execution_count": 11
        }
      ]
    },
    {
      "metadata": {
        "id": "fT9i42WymNNn",
        "colab_type": "code",
        "colab": {}
      },
      "cell_type": "code",
      "source": [
        "|"
      ],
      "execution_count": 0,
      "outputs": []
    }
  ]
}