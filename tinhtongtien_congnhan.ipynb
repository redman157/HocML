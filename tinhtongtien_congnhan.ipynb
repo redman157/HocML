{
  "nbformat": 4,
  "nbformat_minor": 0,
  "metadata": {
    "colab": {
      "name": "Welcome To Colaboratory",
      "version": "0.3.2",
      "provenance": [],
      "collapsed_sections": [],
      "include_colab_link": true
    },
    "kernelspec": {
      "display_name": "Python 3",
      "name": "python3"
    }
  },
  "cells": [
    {
      "cell_type": "markdown",
      "metadata": {
        "id": "view-in-github",
        "colab_type": "text"
      },
      "source": [
        "<a href=\"https://colab.research.google.com/github/redman157/HocML/blob/master/tinhtongtien_congnhan.ipynb\" target=\"_parent\"><img src=\"https://colab.research.google.com/assets/colab-badge.svg\" alt=\"Open In Colab\"/></a>"
      ]
    },
    {
      "cell_type": "markdown",
      "metadata": {
        "colab_type": "text",
        "id": "5fCEDCU_qrC0"
      },
      "source": [
        "<p><img alt=\"Colaboratory logo\" height=\"45px\" src=\"https://colab.research.google.com/img/colab_favicon.ico\" align=\"left\" hspace=\"10px\" vspace=\"0px\"></p>\n",
        "\n",
        "<h1>Welcome to Colaboratory!</h1>\n",
        "\n",
        "\n",
        "Colaboratory is a free Jupyter notebook environment that requires no setup and runs entirely in the cloud.\n",
        "\n",
        "With Colaboratory you can write and execute code, save and share your analyses, and access powerful computing resources, all for free from your browser."
      ]
    },
    {
      "cell_type": "code",
      "metadata": {
        "cellView": "form",
        "colab_type": "code",
        "id": "xitplqMNk_Hc",
        "outputId": "ed4f60d2-878d-4056-c438-352dac39a112",
        "colab": {
          "height": 420
        }
      },
      "source": [
        "#@title Introducing Colaboratory\n",
        "#@markdown This 3-minute video gives an overview of the key features of Colaboratory:\n",
        "from IPython.display import YouTubeVideo\n",
        "YouTubeVideo('inN8seMm7UI', width=600, height=400)"
      ],
      "execution_count": 0,
      "outputs": [
        {
          "output_type": "execute_result",
          "data": {
            "text/html": [
              "\n",
              "        <iframe\n",
              "            width=\"600\"\n",
              "            height=\"400\"\n",
              "            src=\"https://www.youtube.com/embed/inN8seMm7UI\"\n",
              "            frameborder=\"0\"\n",
              "            allowfullscreen\n",
              "        ></iframe>\n",
              "        "
            ],
            "text/plain": [
              "<IPython.lib.display.YouTubeVideo at 0x7f956e9dda50>"
            ]
          },
          "metadata": {
            "tags": []
          },
          "execution_count": 0
        }
      ]
    },
    {
      "cell_type": "markdown",
      "metadata": {
        "colab_type": "text",
        "id": "GJBs_flRovLc"
      },
      "source": [
        "## Getting Started\n",
        "\n",
        "The document you are reading is a  [Jupyter notebook](https://jupyter.org/), hosted in Colaboratory. It is not a static page, but an interactive environment that lets you write and execute code in Python and other languages.\n",
        "\n",
        "For example, here is a **code cell** with a short Python script that computes a value, stores it in a variable, and prints the result:"
      ]
    },
    {
      "cell_type": "code",
      "metadata": {
        "colab_type": "code",
        "id": "gJr_9dXGpJ05",
        "outputId": "5626194c-e802-4293-942d-2908885c3c1f",
        "colab": {
          "height": 35
        }
      },
      "source": [
        "seconds_in_a_day = 24 * 60 * 60\n",
        "seconds_in_a_day"
      ],
      "execution_count": 0,
      "outputs": [
        {
          "output_type": "execute_result",
          "data": {
            "text/plain": [
              "86400"
            ]
          },
          "metadata": {
            "tags": []
          },
          "execution_count": 0
        }
      ]
    },
    {
      "cell_type": "markdown",
      "metadata": {
        "colab_type": "text",
        "id": "2fhs6GZ4qFMx"
      },
      "source": [
        "To execute the code in the above cell, select it with a click and then either press the ▷ button to the left of the code, or use the keyboard shortcut \"⌘/Ctrl+Enter\".\n",
        "\n",
        "All cells modify the same global state, so variables that you define by executing a cell can be used in other cells:"
      ]
    },
    {
      "cell_type": "code",
      "metadata": {
        "colab_type": "code",
        "id": "-gE-Ez1qtyIA",
        "outputId": "8d2e4259-4682-4e19-b683-7b9087f28820",
        "colab": {
          "height": 35
        }
      },
      "source": [
        "seconds_in_a_week = 7 * seconds_in_a_day\n",
        "seconds_in_a_week"
      ],
      "execution_count": 0,
      "outputs": [
        {
          "output_type": "execute_result",
          "data": {
            "text/plain": [
              "604800"
            ]
          },
          "metadata": {
            "tags": []
          },
          "execution_count": 0
        }
      ]
    },
    {
      "cell_type": "markdown",
      "metadata": {
        "colab_type": "text",
        "id": "lSrWNr3MuFUS"
      },
      "source": [
        "For more information about working with Colaboratory notebooks, see [Overview of Colaboratory](/notebooks/basic_features_overview.ipynb).\n"
      ]
    },
    {
      "cell_type": "markdown",
      "metadata": {
        "colab_type": "text",
        "id": "-Rh3-Vt9Nev9"
      },
      "source": [
        "## More Resources\n",
        "\n",
        "Learn how to make the most of Python, Jupyter, Colaboratory, and related tools with these resources:\n",
        "\n",
        "### Working with Notebooks in Colaboratory\n",
        "- [Overview of Colaboratory](/notebooks/basic_features_overview.ipynb)\n",
        "- [Guide to Markdown](/notebooks/markdown_guide.ipynb)\n",
        "- [Importing libraries and installing dependencies](/notebooks/snippets/importing_libraries.ipynb)\n",
        "- [Saving and loading notebooks in GitHub](https://colab.research.google.com/github/googlecolab/colabtools/blob/master/notebooks/colab-github-demo.ipynb)\n",
        "- [Interactive forms](/notebooks/forms.ipynb)\n",
        "- [Interactive widgets](/notebooks/widgets.ipynb)\n",
        "\n",
        "### Working with Data\n",
        "- [Loading data: Drive, Sheets, and Google Cloud Storage](/notebooks/io.ipynb) \n",
        "- [Charts: visualizing data](/notebooks/charts.ipynb)\n",
        "- [Getting started with BigQuery](/notebooks/bigquery.ipynb)\n",
        "\n",
        "### Machine Learning Crash Course\n",
        "These are a few of the notebooks from Google's online Machine Learning course. See the [full course website](https://developers.google.com/machine-learning/crash-course/) for more.\n",
        "- [Intro to Pandas](/notebooks/mlcc/intro_to_pandas.ipynb)\n",
        "- [Tensorflow concepts](/notebooks/mlcc/tensorflow_programming_concepts.ipynb)\n",
        "- [First steps with TensorFlow](/notebooks/mlcc/first_steps_with_tensor_flow.ipynb)\n",
        "- [Intro to neural nets](/notebooks/mlcc/intro_to_neural_nets.ipynb)\n",
        "- [Intro to sparse data and embeddings](/notebooks/mlcc/intro_to_sparse_data_and_embeddings.ipynb)\n",
        "\n",
        "### Using Accelerated Hardware\n",
        "- [TensorFlow with GPUs](/notebooks/gpu.ipynb)\n",
        "- [TensorFlow with TPUs](/notebooks/tpu.ipynb)"
      ]
    },
    {
      "cell_type": "markdown",
      "metadata": {
        "colab_type": "text",
        "id": "P-H6Lw1vyNNd"
      },
      "source": [
        "## Machine Learning Examples: Seedbank\n",
        "\n",
        "To see end-to-end examples of the interactive machine learning analyses that Colaboratory makes possible, check out the [Seedbank](https://research.google.com/seedbank/) project.\n",
        "\n",
        "A few featured examples:\n",
        "\n",
        "- [Neural Style Transfer](https://research.google.com/seedbank/seed/neural_style_transfer_with_tfkeras): Use deep learning to transfer style between images.\n",
        "- [EZ NSynth](https://research.google.com/seedbank/seed/ez_nsynth): Synthesize audio with WaveNet auto-encoders.\n",
        "- [Fashion MNIST with Keras and TPUs](https://research.google.com/seedbank/seed/fashion_mnist_with_keras_and_tpus): Classify fashion-related images with deep learning.\n",
        "- [DeepDream](https://research.google.com/seedbank/seed/deepdream): Produce DeepDream images from your own photos.\n",
        "- [Convolutional VAE](https://research.google.com/seedbank/seed/convolutional_vae): Create a generative model of handwritten digits."
      ]
    },
    {
      "cell_type": "code",
      "metadata": {
        "id": "1z4CSCbIftWL",
        "colab_type": "code",
        "colab": {}
      },
      "source": [
        "sử dụng danh sach lien kết để giait quyết bài toán sau:\n",
        "  hiển thị menu gồm các chức năng sau, chương trình chỉ thoát khi ta chọn thoát\n",
        "  a) nhập vào số lượng công nhân\n",
        "  b) nhập vào thông tin của n công nhân đẫ nhận ở menu a\n",
        "      mã công nhân : phải duy nhất, nếu trùng thì báo lỗi và nhập lại\n",
        "      tên công nhân\n",
        "      giờ vào : giờ vào < giờ ra người làm báo lỗi và yêu cầu nhập lại\n",
        "      giờ ra : giờ vào < 0 hoặc giờ ra > 24h thì báo lỗi và yêu cầu nhập lại\n",
        "        \n",
        " c) tính tiền lương của công nhân theo công thúc sau\n",
        "từ 5h > 8h mỗi giờ 30.000\n",
        "từ 7h > 1h mỗi giờ 15.000\n",
        "từ 11h > 14h mỗi giờ 30.000\n",
        "từ 14h > 17h mỗi giờ 22.000\n",
        "thời gian khác : mỗi giờ 4000"
      ],
      "execution_count": 0,
      "outputs": []
    },
    {
      "cell_type": "code",
      "metadata": {
        "id": "1G6GjhmfhFKu",
        "colab_type": "code",
        "colab": {}
      },
      "source": [
        "import sys\n",
        "import os\n",
        "class Record:\n",
        "    def __init__(self, id, name, rate, timesaving, sumup):\n",
        "        self.id = id\n",
        "        self.name = name \n",
        "        self.timego = timego\n",
        "        self.timeout = timeout\n",
        "        \n",
        "\n",
        "class Node:\n",
        "    def __init__(self, data):\n",
        "        self.data = data\n",
        "        self.next = None\n",
        "\n",
        "class LinkedList:\n",
        "    def __init__(self):\n",
        "        self._head = None\n",
        "        self._tail = None\n",
        "\n",
        "    def push(self, record):\n",
        "        node = Node(record)\n",
        "        node.next = None\n",
        "\n",
        "        if self._tail is None:\n",
        "            self._tail = node\n",
        "        else:\n",
        "            self._tail.next = node\n",
        "        if self._head is None:\n",
        "            self._head = node\n",
        "\n",
        "    def show(self):\n",
        "        curr = self._head\n",
        "        while curr != None:\n",
        "            print(curr, curr.next)\n",
        "            curr = curr.next\n",
        "\n",
        "    @property\n",
        "    def head(self):\n",
        "        return self._head\n",
        "\n",
        "    @property\n",
        "    def tail(self):\n",
        "        return self._tail\n",
        "    \n",
        "    def get(self, index):\n",
        "        curr = self._head\n",
        "\n",
        "        for _ in range(0, index):\n",
        "            if curr is None:\n",
        "                return None\n",
        "            else:\n",
        "                curr = curr.next\n",
        "        else:\n",
        "            return curr.data\n",
        "          \n",
        "          \n",
        "def menu(): \n",
        "    print(\"Menu:\")\n",
        "\n",
        "    while True:\n",
        "        print(\"a/ Nhập vào số lượng công nhân\")\n",
        "        print(\"b/ Nhập vào thông tin theo số lượng công nhân\")\n",
        "        print(\"c/ Tính Tiền\")\n",
        "        print(\"d/ Thoát\")\n",
        "        print(\"\")\n",
        "\n",
        "        result = input(\"Nhập lệnh thực thi:\")\n",
        "        if result == \"a\":\n",
        "            return 1\n",
        "        elif result == \"b\":\n",
        "            return 2\n",
        "        elif result == \"c\":\n",
        "            return 3\n",
        "        elif result == \"d\":\n",
        "            return 4\n",
        "        else:\n",
        "            print(\"Làm ơn kiểm tra lại mã lệnh và nhập lại theo hướng dẫn sau\")\n",
        "def timelinego(y):\n",
        "  x = int(input(\"Vui Lòng Nhập Giờ Vào: \"))\n",
        "  while True:\n",
        "    if (x < y):\n",
        "      print(\"Vui Lòng Nhập Lại\")\n",
        "      x = int(input(\"Vui Lòng Nhập Lại Giờ Vào: \"))  \n",
        "    else:\n",
        "      break\n",
        "  return x\n",
        "\n",
        "\n",
        "def timelineout():\n",
        "  x = int(input(\"Vui Lòng Nhập Giờ Ra: \"))\n",
        "  while True:\n",
        "    if(x <0 or x > 24):\n",
        "      print(\"Vui Lòng Nhập Lại\")\n",
        "      x = int(input(\"Vui Lòng Nhập Lại Giờ Ra: \"))\n",
        "    else:\n",
        "      break\n",
        "  return x\n",
        "\n",
        "def timeToInt(t):\n",
        "  (h, m) = t.split(':')\n",
        "  result = int(h) * 3600 + int(m) * 60\n",
        "  return result\n",
        "\n",
        "def ipTime(x):\n",
        "  \n",
        "\n",
        "def sumMoney(x)\n",
        "\n",
        "def main():\n",
        "    llist = LinkedList()\n",
        "\n",
        "    while True:\n",
        "        cmd = menu()\n",
        "\n",
        "        if cmd == 4:\n",
        "            print(\"Cám ơn đã sử dụng dịch vụ của chúng tôi, tạm biệt\")\n",
        "            sys.exit(0)\n",
        "        elif cmd == 3:\n",
        "          \n",
        "        elif cmd == 2:\n",
        "            curr = llist.head\n",
        "\n",
        "            print(\"ID\\tTên\\t\\tGiờ Vào\\tGiờ Ra\\tTiền sẽ nhận \")\n",
        "            while curr != None:\n",
        "                rec = curr.data\n",
        "                print(\"%s\\t%s\\t%f\\t%d\\t%f\" % (rec.id, rec.name, rec.timego, rec.timeout))\n",
        "                curr = curr.next\n",
        "        else:\n",
        "            n = int(input(\"Nhập số lượng khách hàng: \"))\n",
        "            for i in range(n):\n",
        "                print(\"Nhập thông tin khách hàng thứ %d:\" % i)\n",
        "                try:\n",
        "                  id = input(\"\\tNhập Mã Số Công Nhân: \")\n",
        "                  name = input(\"\\tNhập Tên Công Nhân: \")\n",
        "                  timego = int(input(\"\\tNhập Giờ Vào: \"))\n",
        "                  timeout = int(input(\"\\tNhập Giờ Ra: \"))\n",
        "                except:\n",
        "                  if (os.path.exists(id)):\n",
        "                    ValueError: print(\"Vui Lòng Nhập Lại\")\n",
        "                    id = input(\"\\tNhập Mã Số Công Nhân: \")\n",
        "                  elif timego < timeout:\n",
        "                    ValueError: print(\"Vui Lòng Nhập Lại\")\n",
        "                    timego = int(input(\"\\tNhập Giờ Vào: \"))\n",
        "                  elif (timego < 0 or timeout > 24):\n",
        "                    \n",
        "                timego = str(input(\"\\tNhập lãi suất: \"))\n",
        "                timesaving = int(input(\"\\tNkhập số tháng gửi: \"))\n",
        "                sumup = (timesaving*rate + 1.0)*float(input(\"\\tNhập sỗ tiền gửi ban đầu: \"))\n",
        "\n",
        "                llist.push(Record(id, name, rate, timesaving, sumup))\n",
        "\n",
        "                \n",
        "if __name__ == '__main__':\n",
        "    main()"
      ],
      "execution_count": 0,
      "outputs": []
    },
    {
      "cell_type": "code",
      "metadata": {
        "id": "McI9eI1piSsS",
        "colab_type": "code",
        "colab": {
          "base_uri": "https://localhost:8080/",
          "height": 54
        },
        "outputId": "8ec23170-45ef-44ea-e78a-8d76a7f0c827"
      },
      "source": [
        "if (os.path.exists(id)):\n",
        "  ValueError: print('Vui Lòng Nhập Lại')                                                        \n",
        "                "
      ],
      "execution_count": 5,
      "outputs": [
        {
          "output_type": "stream",
          "text": [
            "specify time in HHMM format: 800\n",
            "0800\n"
          ],
          "name": "stdout"
        }
      ]
    },
    {
      "cell_type": "code",
      "metadata": {
        "id": "KX8UaUHeiTM4",
        "colab_type": "code",
        "colab": {
          "base_uri": "https://localhost:8080/",
          "height": 35
        },
        "outputId": "425284eb-8640-48f7-c7bd-24c791233c43"
      },
      "source": [
        "y = 5\n",
        "x = int(input(\"Vui Lòng Nhập Giờ Vào: \"))\n",
        "while True:\n",
        "  if (x < y):\n",
        "    print(\"Vui Lòng Nhập Lại\")\n",
        "    x = int(input(\"Vui Lòng Nhập Giờ Vào: \"))  \n",
        "  else:\n",
        "    break"
      ],
      "execution_count": 9,
      "outputs": [
        {
          "output_type": "stream",
          "text": [
            "Vui Lòng Nhập Giờ Vào: 5\n"
          ],
          "name": "stdout"
        }
      ]
    },
    {
      "cell_type": "code",
      "metadata": {
        "id": "-djgOmmMowW7",
        "colab_type": "code",
        "colab": {}
      },
      "source": [
        "def timelinego(y):\n",
        "  x = int(input(\"Vui Lòng Nhập Giờ Vào: \"))\n",
        "  while True:\n",
        "    if (x < y):\n",
        "      print(\"Vui Lòng Nhập Lại\")\n",
        "      x = int(input(\"Vui Lòng Nhập Giờ Vào: \"))  \n",
        "    else:\n",
        "      break\n",
        "  return x"
      ],
      "execution_count": 0,
      "outputs": []
    },
    {
      "cell_type": "code",
      "metadata": {
        "id": "Aur7GjdCpa2V",
        "colab_type": "code",
        "colab": {
          "base_uri": "https://localhost:8080/",
          "height": 164
        },
        "outputId": "1dabc85c-25b0-4a2b-aac1-7ac35474af16"
      },
      "source": [
        "timelinego(5)"
      ],
      "execution_count": 11,
      "outputs": [
        {
          "output_type": "stream",
          "text": [
            "Vui Lòng Nhập Giờ Vào: 2\n",
            "Vui Lòng Nhập Lại\n",
            "Vui Lòng Nhập Giờ Vào: 3\n",
            "Vui Lòng Nhập Lại\n",
            "Vui Lòng Nhập Giờ Vào: 4\n",
            "Vui Lòng Nhập Lại\n",
            "Vui Lòng Nhập Giờ Vào: 5\n"
          ],
          "name": "stdout"
        },
        {
          "output_type": "execute_result",
          "data": {
            "text/plain": [
              "5"
            ]
          },
          "metadata": {
            "tags": []
          },
          "execution_count": 11
        }
      ]
    },
    {
      "cell_type": "code",
      "metadata": {
        "id": "3EWmHfv2pcS4",
        "colab_type": "code",
        "colab": {}
      },
      "source": [
        "\n",
        "t = \"1:30\"\n",
        "(h, m) = t.split(':')\n",
        "result = int(h) * 3600 + int(m) * 60\n",
        "def timeToInt(t):\n",
        "  (h, m, s) = t.split(':')\n",
        "  result = int(h) * 3600 + int(m) * 60 + int(s)\n",
        "  return result"
      ],
      "execution_count": 0,
      "outputs": []
    },
    {
      "cell_type": "code",
      "metadata": {
        "id": "GjnoXdUjqe9V",
        "colab_type": "code",
        "colab": {
          "base_uri": "https://localhost:8080/",
          "height": 35
        },
        "outputId": "d217e4b7-7fd8-4aa6-fca1-0682a5efdab7"
      },
      "source": [
        "result"
      ],
      "execution_count": 19,
      "outputs": [
        {
          "output_type": "execute_result",
          "data": {
            "text/plain": [
              "5400"
            ]
          },
          "metadata": {
            "tags": []
          },
          "execution_count": 19
        }
      ]
    },
    {
      "cell_type": "code",
      "metadata": {
        "id": "180BpqVe5lvW",
        "colab_type": "code",
        "colab": {
          "base_uri": "https://localhost:8080/",
          "height": 760
        },
        "outputId": "8ef3f005-83d4-4675-8dfb-7baa1e56dd84"
      },
      "source": [
        "import sys\n",
        "\n",
        "class Record:\n",
        "    def __init__(self, id, name, enter, exit, salary):\n",
        "        self.id = id\n",
        "        self.name = name \n",
        "        self.enter = enter\n",
        "        self.exit = exit\n",
        "        self.salary = salary\n",
        "\n",
        "class Node:\n",
        "    def __init__(self, data):\n",
        "        self.data = data\n",
        "        self.next = None\n",
        "\n",
        "class LinkedList:\n",
        "    def __init__(self):\n",
        "        self._head = None\n",
        "        self._tail = None\n",
        "\n",
        "    def push(self, record):\n",
        "        node = Node(record)\n",
        "        node.next = None\n",
        "\n",
        "        if self._tail is None:\n",
        "            self._tail = node\n",
        "        else:\n",
        "            self._tail.next = node\n",
        "        if self._head is None:\n",
        "            self._head = node\n",
        "\n",
        "    def check(self, callback):\n",
        "        curr = self._head\n",
        "\n",
        "        while curr != None:\n",
        "            if callback(curr.data) is True:\n",
        "                return False\n",
        "\n",
        "            curr = curr.next\n",
        "        else:\n",
        "            return True\n",
        "\n",
        "    @property\n",
        "    def head(self):\n",
        "        return self._head\n",
        "\n",
        "    @property\n",
        "    def tail(self):\n",
        "        return self._tail\n",
        "    \n",
        "    def get(self, index):\n",
        "        curr = self._head\n",
        "\n",
        "        for _ in range(0, index):\n",
        "            if curr is None:\n",
        "                return None\n",
        "            else:\n",
        "                curr = curr.next\n",
        "        else:\n",
        "            return curr.data\n",
        "\n",
        "def convert(gmtime):\n",
        "    hour, minute = gmtime.split(':')\n",
        "    return int(hour) + float(minute)/60.0\n",
        "\n",
        "def time_by_step(enter, exit, barrier):\n",
        "    if enter > exit:\n",
        "        raise AssertionError(\"enter({}) <= exit({}) but not\".format(enter, exit))\n",
        "\n",
        "    return exit - enter if exit - enter < barrier - enter else barrier - enter\n",
        "\n",
        "def is_time(time):\n",
        "    return 0 <= time and time <= 24\n",
        "\n",
        "def is_id_existed(list, id):\n",
        "    def callback(data):\n",
        "        return data.id == id\n",
        "\n",
        "    return not list.check(callback)\n",
        "\n",
        "def menu(): \n",
        "    print(\"Menu:\")\n",
        "\n",
        "    while True:\n",
        "        print(\"a/ Thêm công nhân mới\")\n",
        "        print(\"b/ Hiển thị danh sách khách hàng\")\n",
        "        print(\"c/ Kết thúc\")\n",
        "        print(\"\")\n",
        "\n",
        "        result = input(\"Nhập lệnh thực thi:\")\n",
        "        if result == \"a\":\n",
        "            return 1\n",
        "        elif result == \"b\":\n",
        "            return 2\n",
        "        elif result == \"c\":\n",
        "            return 3\n",
        "        else:\n",
        "            print(\"Làm ơn kiểm tra lại mã lệnh và nhập lại theo hướng dẫn sau\")\n",
        "\n",
        "def main():\n",
        "    llist = LinkedList()\n",
        "\n",
        "    while True:\n",
        "        cmd = menu()\n",
        "\n",
        "        if cmd == 3:\n",
        "            print(\"Cám ơn đã sử dụng dịch vụ của chúng tôi, tạm biệt\")\n",
        "            sys.exit(0)\n",
        "        elif cmd == 2:\n",
        "            curr = llist.head\n",
        "\n",
        "            print(\"ID\\tTên\\tGiờ vào\\tGiờ ra\\tTiền lương\")\n",
        "            while curr != None:\n",
        "                rec = curr.data\n",
        "                print(\"%s\\t%s\\t%d\\t%d\\t%d\" % (rec.id, rec.name, rec.enter, rec.exit, rec.salary))\n",
        "                curr = curr.next\n",
        "        else:\n",
        "            retry = \"\"\n",
        "\n",
        "            n = int(input(\"Nhập số lượng công nhân: \"))\n",
        "            for i in range(n):\n",
        "                print(\"Nhập thông tin công nhân thứ %d:\" % i)\n",
        "\n",
        "                while True:\n",
        "                  id = input(\"\\tNhập %smã công nhân: \" % retry)\n",
        "\n",
        "                  if is_id_existed(llist, id) is False:\n",
        "                    break\n",
        "                  else:\n",
        "                    retry = \"lại \"\n",
        "                else:\n",
        "                    retry = \"\"\n",
        "\n",
        "                name = input(\"\\tNhập tên công nhân: \")\n",
        "\n",
        "                while True:\n",
        "                    while True:\n",
        "                        try:\n",
        "                            enter = convert(input(\"\\tNhập %sgiờ vào: \" % retry))\n",
        "\n",
        "                            if is_time(enter) is True:\n",
        "                                break\n",
        "                            else:\n",
        "                                retry = \"lại \"\n",
        "                        except ValueError:\n",
        "                            retry = \"lại \"\n",
        "                    retry = \"\"\n",
        "\n",
        "                    while True:\n",
        "                        try:\n",
        "                            exit = convert(input(\"\\tNhập %sgiờ ra: \" % retry))\n",
        "\n",
        "                            if is_time(exit) is True:\n",
        "                                break\n",
        "                            else:\n",
        "                                retry = \"lại \"\n",
        "                        except ValueError:\n",
        "                            retry = \"lại \"\n",
        "\n",
        "                    if enter < exit:\n",
        "                        break\n",
        "\n",
        "                try:\n",
        "                    salary = 0.0\n",
        "                    step = enter\n",
        "                    # @NOTE: 0 - 5\n",
        "                    if 0 <= step and step < 5:\n",
        "                        salary += 40000*time_by_step(step, exit, 5)\n",
        "                        step = 5\n",
        "\n",
        "                    # @NOTE: 5 - 8\n",
        "                    if 5 <= step and step < 8:\n",
        "                        salary += 30000*time_by_step(step, exit, 8)\n",
        "                        step = 8\n",
        "\n",
        "                    # @NOTE: 8 - 11\n",
        "                    if 8 <= step and step < 11:\n",
        "                        salary += 15000*time_by_step(step, exit, 11)\n",
        "                        step = 11\n",
        "\n",
        "                    # @NOTE: 11 - 14\n",
        "                    if 11 <= step and step < 14:\n",
        "                        salary += 30000*time_by_step(step, exit, 14)\n",
        "                        step = 11\n",
        "\n",
        "                    # @NOTE: 14 - 17\n",
        "                    if 14 <= step and step < 17:\n",
        "                        salary += 22000*time_by_step(step, exit, 17)\n",
        "                        step = 14\n",
        "\n",
        "                    # @NOTE: 17 - 24\n",
        "                    if 17 <= step and step < 24:\n",
        "                        salary += 40000*time_by_step(step, exit, 24)\n",
        "                        step = 24\n",
        "                except AssertionError:\n",
        "                    pass\n",
        "\n",
        "                llist.push(Record(id, name, enter, exit, salary))\n",
        "\n",
        "if __name__ == '__main__':\n",
        "    main()"
      ],
      "execution_count": 31,
      "outputs": [
        {
          "output_type": "stream",
          "text": [
            "Menu:\n",
            "a/ Thêm công nhân mới\n",
            "b/ Hiển thị danh sách khách hàng\n",
            "c/ Kết thúc\n",
            "\n",
            "Nhập lệnh thực thi:a\n",
            "Nhập số lượng công nhân: 2\n",
            "Nhập thông tin công nhân thứ 0:\n",
            "\tNhập mã công nhân: 1\n",
            "\tNhập tên công nhân: pham\n",
            "\tNhập giờ vào: 1:00\n",
            "\tNhập giờ ra: 11:00\n",
            "Nhập thông tin công nhân thứ 1:\n",
            "\tNhập mã công nhân: 2\n",
            "\tNhập tên công nhân: phamsa\n",
            "\tNhập giờ vào: 5:00\n",
            "\tNhập giờ ra: 11:30\n",
            "Menu:\n",
            "a/ Thêm công nhân mới\n",
            "b/ Hiển thị danh sách khách hàng\n",
            "c/ Kết thúc\n",
            "\n",
            "Nhập lệnh thực thi:b\n",
            "ID\tTên\tGiờ vào\tGiờ ra\tTiền lương\n",
            "1\tpham\t1\t11\t295000\n",
            "2\tphamsa\t5\t11\t150000\n",
            "Menu:\n",
            "a/ Thêm công nhân mới\n",
            "b/ Hiển thị danh sách khách hàng\n",
            "c/ Kết thúc\n",
            "\n",
            "Nhập lệnh thực thi:c\n",
            "Cám ơn đã sử dụng dịch vụ của chúng tôi, tạm biệt\n"
          ],
          "name": "stdout"
        },
        {
          "output_type": "error",
          "ename": "SystemExit",
          "evalue": "ignored",
          "traceback": [
            "An exception has occurred, use %tb to see the full traceback.\n",
            "\u001b[0;31mSystemExit\u001b[0m\u001b[0;31m:\u001b[0m 0\n"
          ]
        },
        {
          "output_type": "stream",
          "text": [
            "/usr/local/lib/python3.6/dist-packages/IPython/core/interactiveshell.py:2890: UserWarning: To exit: use 'exit', 'quit', or Ctrl-D.\n",
            "  warn(\"To exit: use 'exit', 'quit', or Ctrl-D.\", stacklevel=1)\n"
          ],
          "name": "stderr"
        }
      ]
    },
    {
      "cell_type": "code",
      "metadata": {
        "id": "GWyyItT36Z8z",
        "colab_type": "code",
        "colab": {}
      },
      "source": [
        ""
      ],
      "execution_count": 0,
      "outputs": []
    }
  ]
}